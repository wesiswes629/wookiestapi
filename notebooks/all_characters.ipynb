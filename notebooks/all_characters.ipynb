{
 "cells": [
  {
   "cell_type": "code",
   "execution_count": 51,
   "metadata": {},
   "outputs": [],
   "source": [
    "import pandas as pd\n",
    "import pyarrow\n",
    "import matplotlib.pyplot as plt\n",
    "import numpy as np\n",
    "import seaborn as sns"
   ]
  },
  {
   "attachments": {},
   "cell_type": "markdown",
   "metadata": {},
   "source": [
    "We will start comparing characters from both universes with this notebook."
   ]
  },
  {
   "cell_type": "code",
   "execution_count": 2,
   "metadata": {},
   "outputs": [],
   "source": [
    "# Read in the characters from Star Trek\n",
    "\n",
    "stc = pd.read_parquet('../WPscraped/StarTrek_Characters.parquet')\n",
    "\n",
    "# Read in the characters from Star Wars\n",
    "\n",
    "swc = pd.read_parquet('../WPscraped/StarWars_Characters.parquet')"
   ]
  },
  {
   "cell_type": "code",
   "execution_count": 3,
   "metadata": {},
   "outputs": [
    {
     "data": {
      "text/html": [
       "<div>\n",
       "<style scoped>\n",
       "    .dataframe tbody tr th:only-of-type {\n",
       "        vertical-align: middle;\n",
       "    }\n",
       "\n",
       "    .dataframe tbody tr th {\n",
       "        vertical-align: top;\n",
       "    }\n",
       "\n",
       "    .dataframe thead th {\n",
       "        text-align: right;\n",
       "    }\n",
       "</style>\n",
       "<table border=\"1\" class=\"dataframe\">\n",
       "  <thead>\n",
       "    <tr style=\"text-align: right;\">\n",
       "      <th></th>\n",
       "      <th>name</th>\n",
       "      <th>gender</th>\n",
       "      <th>height</th>\n",
       "      <th>weight</th>\n",
       "      <th>bloodType</th>\n",
       "      <th>maritalStatus</th>\n",
       "    </tr>\n",
       "  </thead>\n",
       "  <tbody>\n",
       "    <tr>\n",
       "      <th>0</th>\n",
       "      <td>0413 Theta</td>\n",
       "      <td>None</td>\n",
       "      <td>NaN</td>\n",
       "      <td>NaN</td>\n",
       "      <td>None</td>\n",
       "      <td>None</td>\n",
       "    </tr>\n",
       "    <tr>\n",
       "      <th>1</th>\n",
       "      <td>0718</td>\n",
       "      <td>M</td>\n",
       "      <td>NaN</td>\n",
       "      <td>NaN</td>\n",
       "      <td>None</td>\n",
       "      <td>None</td>\n",
       "    </tr>\n",
       "    <tr>\n",
       "      <th>2</th>\n",
       "      <td>10111</td>\n",
       "      <td>None</td>\n",
       "      <td>NaN</td>\n",
       "      <td>NaN</td>\n",
       "      <td>None</td>\n",
       "      <td>None</td>\n",
       "    </tr>\n",
       "    <tr>\n",
       "      <th>3</th>\n",
       "      <td>335</td>\n",
       "      <td>None</td>\n",
       "      <td>NaN</td>\n",
       "      <td>NaN</td>\n",
       "      <td>None</td>\n",
       "      <td>None</td>\n",
       "    </tr>\n",
       "    <tr>\n",
       "      <th>4</th>\n",
       "      <td>355</td>\n",
       "      <td>None</td>\n",
       "      <td>NaN</td>\n",
       "      <td>NaN</td>\n",
       "      <td>None</td>\n",
       "      <td>None</td>\n",
       "    </tr>\n",
       "  </tbody>\n",
       "</table>\n",
       "</div>"
      ],
      "text/plain": [
       "         name gender  height  weight bloodType maritalStatus\n",
       "0  0413 Theta   None     NaN     NaN      None          None\n",
       "1        0718      M     NaN     NaN      None          None\n",
       "2       10111   None     NaN     NaN      None          None\n",
       "3         335   None     NaN     NaN      None          None\n",
       "4         355   None     NaN     NaN      None          None"
      ]
     },
     "execution_count": 3,
     "metadata": {},
     "output_type": "execute_result"
    }
   ],
   "source": [
    "# view stc\n",
    "stc.head()"
   ]
  },
  {
   "cell_type": "code",
   "execution_count": 5,
   "metadata": {},
   "outputs": [
    {
     "name": "stdout",
     "output_type": "stream",
     "text": [
      "<class 'pandas.core.frame.DataFrame'>\n",
      "RangeIndex: 7571 entries, 0 to 7570\n",
      "Data columns (total 6 columns):\n",
      " #   Column         Non-Null Count  Dtype  \n",
      "---  ------         --------------  -----  \n",
      " 0   name           7571 non-null   object \n",
      " 1   gender         1146 non-null   object \n",
      " 2   height         66 non-null     float64\n",
      " 3   weight         49 non-null     float64\n",
      " 4   bloodType      9 non-null      object \n",
      " 5   maritalStatus  366 non-null    object \n",
      "dtypes: float64(2), object(4)\n",
      "memory usage: 355.0+ KB\n"
     ]
    }
   ],
   "source": [
    "# view stc info\n",
    "stc.info()"
   ]
  },
  {
   "cell_type": "code",
   "execution_count": 4,
   "metadata": {},
   "outputs": [
    {
     "data": {
      "text/html": [
       "<div>\n",
       "<style scoped>\n",
       "    .dataframe tbody tr th:only-of-type {\n",
       "        vertical-align: middle;\n",
       "    }\n",
       "\n",
       "    .dataframe tbody tr th {\n",
       "        vertical-align: top;\n",
       "    }\n",
       "\n",
       "    .dataframe thead th {\n",
       "        text-align: right;\n",
       "    }\n",
       "</style>\n",
       "<table border=\"1\" class=\"dataframe\">\n",
       "  <thead>\n",
       "    <tr style=\"text-align: right;\">\n",
       "      <th></th>\n",
       "      <th>name</th>\n",
       "      <th>key</th>\n",
       "      <th>url</th>\n",
       "      <th>description</th>\n",
       "      <th>species_2nd</th>\n",
       "      <th>species_3rd</th>\n",
       "      <th>species</th>\n",
       "      <th>home_world</th>\n",
       "      <th>gender</th>\n",
       "      <th>height</th>\n",
       "      <th>eye_color</th>\n",
       "      <th>skin_color</th>\n",
       "      <th>hair_color</th>\n",
       "      <th>weight</th>\n",
       "    </tr>\n",
       "  </thead>\n",
       "  <tbody>\n",
       "    <tr>\n",
       "      <th>0</th>\n",
       "      <td>\\n\\t\\t\\t\\t\\t\"Muse\"\\t\\t\\t\\t</td>\n",
       "      <td>Muse</td>\n",
       "      <td>https://starwars.fandom.com/wiki/%22Muse%22</td>\n",
       "      <td>\"Muse\" was the callsign of a human pilot who f...</td>\n",
       "      <td>None</td>\n",
       "      <td>None</td>\n",
       "      <td>Human</td>\n",
       "      <td>None</td>\n",
       "      <td>None</td>\n",
       "      <td>NaN</td>\n",
       "      <td>None</td>\n",
       "      <td>None</td>\n",
       "      <td>None</td>\n",
       "      <td>None</td>\n",
       "    </tr>\n",
       "    <tr>\n",
       "      <th>1</th>\n",
       "      <td>\\n\\t\\t\\t\\t\\t1138  (First Order)</td>\n",
       "      <td>1138_(First_Order)</td>\n",
       "      <td>https://starwars.fandom.com/wiki/1138_(First_O...</td>\n",
       "      <td>1138 was a human stormtrooper who served in th...</td>\n",
       "      <td>None</td>\n",
       "      <td>None</td>\n",
       "      <td>Human</td>\n",
       "      <td>None</td>\n",
       "      <td>None</td>\n",
       "      <td>NaN</td>\n",
       "      <td>None</td>\n",
       "      <td>None</td>\n",
       "      <td>None</td>\n",
       "      <td>None</td>\n",
       "    </tr>\n",
       "    <tr>\n",
       "      <th>2</th>\n",
       "      <td>\\n\\t\\t\\t\\t\\t1151\\t\\t\\t\\t</td>\n",
       "      <td>1151</td>\n",
       "      <td>https://starwars.fandom.com/wiki/1151</td>\n",
       "      <td>1151 was a clone cadet who was a part of the C...</td>\n",
       "      <td>None</td>\n",
       "      <td>None</td>\n",
       "      <td>Human</td>\n",
       "      <td>Kamino</td>\n",
       "      <td>Male</td>\n",
       "      <td>NaN</td>\n",
       "      <td>Brown</td>\n",
       "      <td>Tan</td>\n",
       "      <td>Black</td>\n",
       "      <td>None</td>\n",
       "    </tr>\n",
       "    <tr>\n",
       "      <th>3</th>\n",
       "      <td>\\n\\t\\t\\t\\t\\t1174\\t\\t\\t\\t</td>\n",
       "      <td>1174</td>\n",
       "      <td>https://starwars.fandom.com/wiki/1174</td>\n",
       "      <td>1174, nicknamed \"Whiplash,\" was a clone troope...</td>\n",
       "      <td>None</td>\n",
       "      <td>None</td>\n",
       "      <td>Human</td>\n",
       "      <td>Kamino</td>\n",
       "      <td>Male</td>\n",
       "      <td>NaN</td>\n",
       "      <td>Brown</td>\n",
       "      <td>Tan</td>\n",
       "      <td>Black</td>\n",
       "      <td>None</td>\n",
       "    </tr>\n",
       "    <tr>\n",
       "      <th>4</th>\n",
       "      <td>\\n\\t\\t\\t\\t\\t224  (Coruscant Security Force)</td>\n",
       "      <td>224_(Coruscant_Security_Force)</td>\n",
       "      <td>https://starwars.fandom.com/wiki/224_(Coruscan...</td>\n",
       "      <td>\\n\\n\\n\\n\\n\\n\\n224\\n\\n\\nBiographical informatio...</td>\n",
       "      <td>None</td>\n",
       "      <td>None</td>\n",
       "      <td>Human</td>\n",
       "      <td>None</td>\n",
       "      <td>Male</td>\n",
       "      <td>NaN</td>\n",
       "      <td>None</td>\n",
       "      <td>Light</td>\n",
       "      <td>None</td>\n",
       "      <td>None</td>\n",
       "    </tr>\n",
       "  </tbody>\n",
       "</table>\n",
       "</div>"
      ],
      "text/plain": [
       "                                           name  \\\n",
       "0                    \\n\\t\\t\\t\\t\\t\"Muse\"\\t\\t\\t\\t   \n",
       "1              \\n\\t\\t\\t\\t\\t1138  (First Order)    \n",
       "2                      \\n\\t\\t\\t\\t\\t1151\\t\\t\\t\\t   \n",
       "3                      \\n\\t\\t\\t\\t\\t1174\\t\\t\\t\\t   \n",
       "4  \\n\\t\\t\\t\\t\\t224  (Coruscant Security Force)    \n",
       "\n",
       "                              key  \\\n",
       "0                            Muse   \n",
       "1              1138_(First_Order)   \n",
       "2                            1151   \n",
       "3                            1174   \n",
       "4  224_(Coruscant_Security_Force)   \n",
       "\n",
       "                                                 url  \\\n",
       "0        https://starwars.fandom.com/wiki/%22Muse%22   \n",
       "1  https://starwars.fandom.com/wiki/1138_(First_O...   \n",
       "2              https://starwars.fandom.com/wiki/1151   \n",
       "3              https://starwars.fandom.com/wiki/1174   \n",
       "4  https://starwars.fandom.com/wiki/224_(Coruscan...   \n",
       "\n",
       "                                         description species_2nd species_3rd  \\\n",
       "0  \"Muse\" was the callsign of a human pilot who f...        None        None   \n",
       "1  1138 was a human stormtrooper who served in th...        None        None   \n",
       "2  1151 was a clone cadet who was a part of the C...        None        None   \n",
       "3  1174, nicknamed \"Whiplash,\" was a clone troope...        None        None   \n",
       "4  \\n\\n\\n\\n\\n\\n\\n224\\n\\n\\nBiographical informatio...        None        None   \n",
       "\n",
       "  species home_world gender  height eye_color skin_color hair_color weight  \n",
       "0   Human       None   None     NaN      None       None       None   None  \n",
       "1   Human       None   None     NaN      None       None       None   None  \n",
       "2   Human     Kamino   Male     NaN     Brown        Tan      Black   None  \n",
       "3   Human     Kamino   Male     NaN     Brown        Tan      Black   None  \n",
       "4   Human       None   Male     NaN      None      Light       None   None  "
      ]
     },
     "execution_count": 4,
     "metadata": {},
     "output_type": "execute_result"
    }
   ],
   "source": [
    "# view swc\n",
    "swc.head()"
   ]
  },
  {
   "cell_type": "code",
   "execution_count": 6,
   "metadata": {},
   "outputs": [
    {
     "name": "stdout",
     "output_type": "stream",
     "text": [
      "<class 'pandas.core.frame.DataFrame'>\n",
      "RangeIndex: 7258 entries, 0 to 7257\n",
      "Data columns (total 14 columns):\n",
      " #   Column       Non-Null Count  Dtype  \n",
      "---  ------       --------------  -----  \n",
      " 0   name         7258 non-null   object \n",
      " 1   key          7258 non-null   object \n",
      " 2   url          7258 non-null   object \n",
      " 3   description  7258 non-null   object \n",
      " 4   species_2nd  18 non-null     object \n",
      " 5   species_3rd  6 non-null      object \n",
      " 6   species      7258 non-null   object \n",
      " 7   home_world   2066 non-null   object \n",
      " 8   gender       7258 non-null   object \n",
      " 9   height       505 non-null    float64\n",
      " 10  eye_color    3086 non-null   object \n",
      " 11  skin_color   3960 non-null   object \n",
      " 12  hair_color   2614 non-null   object \n",
      " 13  weight       80 non-null     object \n",
      "dtypes: float64(1), object(13)\n",
      "memory usage: 794.0+ KB\n"
     ]
    }
   ],
   "source": [
    "# view swc info\n",
    "swc.info()"
   ]
  },
  {
   "attachments": {},
   "cell_type": "markdown",
   "metadata": {},
   "source": [
    "The first thing to notice is there is more information available on Wookieepedia than STAPI.  However, there is more useful and complete information on STAPI.  We will clean up the Character dataframes for both to be: Name, Gender, Height, and Weight. We may still keep the some of the other information not found in both for information purposes."
   ]
  },
  {
   "cell_type": "code",
   "execution_count": 7,
   "metadata": {},
   "outputs": [
    {
     "name": "stdout",
     "output_type": "stream",
     "text": [
      "<class 'pandas.core.frame.DataFrame'>\n",
      "RangeIndex: 7258 entries, 0 to 7257\n",
      "Data columns (total 4 columns):\n",
      " #   Column  Non-Null Count  Dtype  \n",
      "---  ------  --------------  -----  \n",
      " 0   name    7258 non-null   object \n",
      " 1   gender  7258 non-null   object \n",
      " 2   height  505 non-null    float64\n",
      " 3   weight  80 non-null     object \n",
      "dtypes: float64(1), object(3)\n",
      "memory usage: 226.9+ KB\n"
     ]
    }
   ],
   "source": [
    "# Update swc dataframe to have Name, Gender, Height, and Weight\n",
    "swc_updated = swc[['name', 'gender', 'height', 'weight']]\n",
    "\n",
    "# Test swc_updated\n",
    "swc_updated.info()"
   ]
  },
  {
   "cell_type": "code",
   "execution_count": 8,
   "metadata": {},
   "outputs": [
    {
     "name": "stdout",
     "output_type": "stream",
     "text": [
      "<class 'pandas.core.frame.DataFrame'>\n",
      "RangeIndex: 7571 entries, 0 to 7570\n",
      "Data columns (total 4 columns):\n",
      " #   Column  Non-Null Count  Dtype  \n",
      "---  ------  --------------  -----  \n",
      " 0   name    7571 non-null   object \n",
      " 1   gender  1146 non-null   object \n",
      " 2   height  66 non-null     float64\n",
      " 3   weight  49 non-null     float64\n",
      "dtypes: float64(2), object(2)\n",
      "memory usage: 236.7+ KB\n"
     ]
    }
   ],
   "source": [
    "# Update stc dataframe to have Name, Gender, Height, and Weight\n",
    "stc_updated = stc[['name', 'gender', 'height', 'weight']]\n",
    "\n",
    "# Test stc_updated\n",
    "stc_updated.info()"
   ]
  },
  {
   "attachments": {},
   "cell_type": "markdown",
   "metadata": {},
   "source": [
    "At first glance, we can see there are 7258 Star Wars Characters and 7571 Star Trek Characters.  \n",
    "\n",
    "It appears Star Wars has the gender for all characters, but we will check to verify because they may contain \"None\" or \"Null\" values. Star Trek has 1146 of its characters' genders, but we will look into them as well.\n",
    "\n",
    "Star Wars has the height listed for 505 of its characters compared to only 66 for Star Trek.\n",
    "\n",
    "Star Wars has the weight listed for 80 of its characters compared to only 49 for Star Trek.\n",
    "\n",
    "Let's delve into this more to see what we come up with."
   ]
  },
  {
   "cell_type": "code",
   "execution_count": 9,
   "metadata": {},
   "outputs": [
    {
     "data": {
      "text/plain": [
       "Male          4057\n",
       "Female        1752\n",
       "None          1432\n",
       "Non-binary      17\n",
       "Name: gender, dtype: int64"
      ]
     },
     "execution_count": 9,
     "metadata": {},
     "output_type": "execute_result"
    }
   ],
   "source": [
    "# View the count of genders in Star Wars\n",
    "sw_genders = swc_updated['gender'].value_counts()\n",
    "\n",
    "sw_genders"
   ]
  },
  {
   "cell_type": "code",
   "execution_count": 25,
   "metadata": {},
   "outputs": [
    {
     "data": {
      "text/plain": [
       "None    6425\n",
       "M        786\n",
       "F        360\n",
       "Name: gender, dtype: int64"
      ]
     },
     "execution_count": 25,
     "metadata": {},
     "output_type": "execute_result"
    }
   ],
   "source": [
    "# View the count of genders in Star Trek\n",
    "st_genders = stc_updated['gender'].value_counts(dropna=False)\n",
    "\n",
    "st_genders"
   ]
  },
  {
   "cell_type": "code",
   "execution_count": 11,
   "metadata": {},
   "outputs": [
    {
     "data": {
      "image/png": "[encoded data removed]",
      "text/plain": [
       "<Figure size 640x480 with 1 Axes>"
      ]
     },
     "metadata": {},
     "output_type": "display_data"
    }
   ],
   "source": [
    "# create a graph showing count of character genders for Star Wars\n",
    "\n",
    "sw_genders.plot(kind='bar')\n",
    "plt.xlabel('Gender')\n",
    "plt.ylabel('Character Count')\n",
    "plt.title('Star Wars Character Gender Count')\n",
    "plt.show()\n",
    "\n"
   ]
  },
  {
   "cell_type": "code",
   "execution_count": 26,
   "metadata": {},
   "outputs": [
    {
     "data": {
      "image/png": "[encoded data removed]",
      "text/plain": [
       "<Figure size 640x480 with 1 Axes>"
      ]
     },
     "metadata": {},
     "output_type": "display_data"
    }
   ],
   "source": [
    "# create a graph showing count of character genders for Star Trek\n",
    "\n",
    "st_genders.plot(kind='bar')\n",
    "plt.xlabel('Gender')\n",
    "plt.ylabel('Character Count')\n",
    "plt.title('Star Trek Character Gender Count')\n",
    "plt.show()"
   ]
  },
  {
   "cell_type": "code",
   "execution_count": 18,
   "metadata": {},
   "outputs": [
    {
     "name": "stdout",
     "output_type": "stream",
     "text": [
      "Male: 55.9%\n",
      "Female: 24.1%\n",
      "Non-binary: 0.2%\n",
      "Unclassified:  19.7%\n"
     ]
    }
   ],
   "source": [
    "# Calculate percentages of genders for Star Wars\n",
    "\n",
    "# Male Star Wars Characters\n",
    "sw_male = sw_genders['Male']/ sum(sw_genders) * 100\n",
    "\n",
    "# Female Star Wars Characters\n",
    "sw_female = sw_genders['Female']/ sum(sw_genders) * 100\n",
    "\n",
    "# Non-Binary Star Wars Characters\n",
    "sw_nb = sw_genders['Non-binary']/ sum(sw_genders) * 100\n",
    "\n",
    "# Unclassified Star Wars Characters\n",
    "sw_un = sw_genders['None']/ sum(sw_genders) * 100\n",
    "\n",
    "\n",
    "print(f'Male: {sw_male:.1f}%')\n",
    "print(f'Female: {sw_female:.1f}%')\n",
    "print(f'Non-binary: {sw_nb:.1f}%')\n",
    "print(f'Unclassified: {sw_un: .1f}%')\n"
   ]
  },
  {
   "cell_type": "code",
   "execution_count": 37,
   "metadata": {},
   "outputs": [
    {
     "name": "stdout",
     "output_type": "stream",
     "text": [
      "Male: 10.4%\n",
      "Female: 4.8%\n",
      "Unclassified:  84.9%\n"
     ]
    }
   ],
   "source": [
    "# Calculate percentages of genders for Star Trek\n",
    "\n",
    "# Male Star Wars Characters\n",
    "st_male = st_genders['M']/ sum(st_genders) * 100\n",
    "\n",
    "# Female Star Wars Characters\n",
    "st_female = st_genders['F']/ sum(st_genders) * 100\n",
    "\n",
    "# Unclassified Star Wars Characters\n",
    "st_null = stc_updated['gender'].isnull().sum()\n",
    "st_un = st_null / sum(st_genders) * 100\n",
    "\n",
    "\n",
    "print(f'Male: {st_male:.1f}%')\n",
    "print(f'Female: {st_female:.1f}%')\n",
    "print(f'Unclassified: {st_un: .1f}%')"
   ]
  },
  {
   "cell_type": "code",
   "execution_count": 38,
   "metadata": {},
   "outputs": [
    {
     "data": {
      "image/png": "[encoded data removed]",
      "text/plain": [
       "<Figure size 640x480 with 1 Axes>"
      ]
     },
     "metadata": {},
     "output_type": "display_data"
    }
   ],
   "source": [
    "# create a pie chart showing percentages\n",
    "st_percent = st_genders / sum(st_genders) * 100\n",
    "\n",
    "fig, ax = plt.subplots()\n",
    "ax.pie(st_percent, labels=st_percent.index, autopct='%1.1f%%')\n",
    "plt.title('Percentages of Character Genders in Star Trek')\n",
    "# Show the plot\n",
    "plt.show()\n"
   ]
  },
  {
   "attachments": {},
   "cell_type": "markdown",
   "metadata": {},
   "source": [
    "On first look for genders for characters, Star Wars has more female characters than Star Trek, accounting for 24% of the Star Wars character population.  Star Trek only has 4.75% female population for its characters.  However, Star Wars male characters make up 55.9% of it's population while Star Trek males only make up 10% or their characters. It is interesting to note that Star Wars has stated non-binary characters (0.23%) of their population, while Star Trek has no listed non-binary characters.   For characters that do not have genders listed, 20% are not listed for Star Wars, but 84.8% of Star Trek characters are unclassified."
   ]
  },
  {
   "attachments": {},
   "cell_type": "markdown",
   "metadata": {},
   "source": [
    "Now that we've looked at gender, we will look at the physical attributes of characters listed and determine averages for height and weight."
   ]
  },
  {
   "cell_type": "code",
   "execution_count": 42,
   "metadata": {},
   "outputs": [
    {
     "name": "stdout",
     "output_type": "stream",
     "text": [
      "<class 'pandas.core.frame.DataFrame'>\n",
      "RangeIndex: 7258 entries, 0 to 7257\n",
      "Data columns (total 4 columns):\n",
      " #   Column  Non-Null Count  Dtype  \n",
      "---  ------  --------------  -----  \n",
      " 0   name    7258 non-null   object \n",
      " 1   gender  7258 non-null   object \n",
      " 2   height  505 non-null    float64\n",
      " 3   weight  80 non-null     object \n",
      "dtypes: float64(1), object(3)\n",
      "memory usage: 226.9+ KB\n"
     ]
    }
   ],
   "source": [
    "swc_updated.info()"
   ]
  },
  {
   "cell_type": "code",
   "execution_count": 46,
   "metadata": {},
   "outputs": [
    {
     "name": "stdout",
     "output_type": "stream",
     "text": [
      "1.8099881188118814\n"
     ]
    }
   ],
   "source": [
    "# Create listing for height and weight for Star Wars Characters\n",
    "\n",
    "# Average height in meters for Star Wars Characters\n",
    "sw_height = swc_updated['height'].mean()\n",
    "print(sw_height)"
   ]
  },
  {
   "cell_type": "code",
   "execution_count": 47,
   "metadata": {},
   "outputs": [
    {
     "name": "stdout",
     "output_type": "stream",
     "text": [
      "gender\n",
      "Female        1.784167\n",
      "Male          1.817906\n",
      "Non-binary         NaN\n",
      "None          1.763793\n",
      "Name: height, dtype: float64\n"
     ]
    }
   ],
   "source": [
    "# Average height listed by gender\n",
    "sw_gender_height = swc_updated.groupby('gender')['height'].mean()\n",
    "print(sw_gender_height)"
   ]
  },
  {
   "cell_type": "code",
   "execution_count": 58,
   "metadata": {},
   "outputs": [
    {
     "data": {
      "image/png": "[encoded data removed]",
      "text/plain": [
       "<Figure size 640x480 with 1 Axes>"
      ]
     },
     "metadata": {},
     "output_type": "display_data"
    }
   ],
   "source": [
    "# Filter the data to only include Male and Female\n",
    "mask = swc_updated['gender'].isin(['Male', 'Female'])\n",
    "\n",
    "filtered_sw_height = swc_updated[mask]\n",
    "\n",
    "# Create height distribution by gender using a box plot\n",
    "sns.boxplot(x='gender', y = 'height', data=filtered_sw_height)\n",
    "\n",
    "# Move the x and y axis labels\n",
    "ax.set_xlabel('Gender', labelpad=10)\n",
    "ax.set_ylabel('Height', labelpad=10)\n",
    "\n",
    "# Show the plot\n",
    "sns.despine()"
   ]
  },
  {
   "cell_type": "code",
   "execution_count": 63,
   "metadata": {},
   "outputs": [
    {
     "name": "stdout",
     "output_type": "stream",
     "text": [
      "                         name  gender  height weight\n",
      "548  \\n\\t\\t\\t\\t\\tBoga\\t\\t\\t\\t  Female    4.00   None\n",
      "256  \\n\\t\\t\\t\\t\\tArok\\t\\t\\t\\t    Male    2.09   None\n",
      "                             name  gender  height        weight\n",
      "208  \\n\\t\\t\\t\\t\\tApailana\\t\\t\\t\\t  Female    1.57          None\n",
      "541   \\n\\t\\t\\t\\t\\tBobbajo\\t\\t\\t\\t    Male    1.14  40 kilograms\n"
     ]
    }
   ],
   "source": [
    "# Identify Tallest and Shortest Male and Female in Star Wars\n",
    "swh_tallest = filtered_sw_height.groupby('gender')['height'].idxmax()\n",
    "swtallest = filtered_sw_height.loc[swh_tallest]\n",
    "\n",
    "swh_shortest = filtered_sw_height.groupby('gender')['height'].idxmin()\n",
    "swshortest = filtered_sw_height.loc[swh_shortest]\n",
    "\n",
    "# The tallest and shortest male and female\n",
    "print(swtallest)\n",
    "print(swshortest)"
   ]
  },
  {
   "cell_type": "code",
   "execution_count": null,
   "metadata": {},
   "outputs": [],
   "source": []
  }
 ],
 "metadata": {
  "kernelspec": {
   "display_name": "base",
   "language": "python",
   "name": "python3"
  },
  "language_info": {
   "codemirror_mode": {
    "name": "ipython",
    "version": 3
   },
   "file_extension": ".py",
   "mimetype": "text/x-python",
   "name": "python",
   "nbconvert_exporter": "python",
   "pygments_lexer": "ipython3",
   "version": "3.10.9"
  },
  "orig_nbformat": 4
 },
 "nbformat": 4,
 "nbformat_minor": 2
}
