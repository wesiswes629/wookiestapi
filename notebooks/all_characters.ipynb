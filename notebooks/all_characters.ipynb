{
 "cells": [
  {
   "cell_type": "code",
   "execution_count": 1,
   "metadata": {},
   "outputs": [],
   "source": [
    "import pandas as pd\n",
    "import pyarrow\n",
    "import matplotlib.pyplot as plt\n",
    "import numpy as np\n",
    "import seaborn as sns"
   ]
  },
  {
   "attachments": {},
   "cell_type": "markdown",
   "metadata": {},
   "source": [
    "We will start comparing characters from both universes with this notebook."
   ]
  },
  {
   "cell_type": "code",
   "execution_count": 2,
   "metadata": {},
   "outputs": [],
   "source": [
    "# Read in the characters from Star Trek\n",
    "\n",
    "stc = pd.read_parquet('../WPscraped/StarTrek_Characters.parquet')\n",
    "\n",
    "# Read in the characters from Star Wars\n",
    "\n",
    "swc = pd.read_parquet('../WPscraped/StarWars_Characters.parquet')"
   ]
  },
  {
   "cell_type": "code",
   "execution_count": 3,
   "metadata": {},
   "outputs": [
    {
     "data": {
      "text/html": [
       "<div>\n",
       "<style scoped>\n",
       "    .dataframe tbody tr th:only-of-type {\n",
       "        vertical-align: middle;\n",
       "    }\n",
       "\n",
       "    .dataframe tbody tr th {\n",
       "        vertical-align: top;\n",
       "    }\n",
       "\n",
       "    .dataframe thead th {\n",
       "        text-align: right;\n",
       "    }\n",
       "</style>\n",
       "<table border=\"1\" class=\"dataframe\">\n",
       "  <thead>\n",
       "    <tr style=\"text-align: right;\">\n",
       "      <th></th>\n",
       "      <th>name</th>\n",
       "      <th>gender</th>\n",
       "      <th>height</th>\n",
       "      <th>weight</th>\n",
       "      <th>bloodType</th>\n",
       "      <th>maritalStatus</th>\n",
       "    </tr>\n",
       "  </thead>\n",
       "  <tbody>\n",
       "    <tr>\n",
       "      <th>0</th>\n",
       "      <td>0413 Theta</td>\n",
       "      <td>None</td>\n",
       "      <td>NaN</td>\n",
       "      <td>NaN</td>\n",
       "      <td>None</td>\n",
       "      <td>None</td>\n",
       "    </tr>\n",
       "    <tr>\n",
       "      <th>1</th>\n",
       "      <td>0718</td>\n",
       "      <td>M</td>\n",
       "      <td>NaN</td>\n",
       "      <td>NaN</td>\n",
       "      <td>None</td>\n",
       "      <td>None</td>\n",
       "    </tr>\n",
       "    <tr>\n",
       "      <th>2</th>\n",
       "      <td>10111</td>\n",
       "      <td>None</td>\n",
       "      <td>NaN</td>\n",
       "      <td>NaN</td>\n",
       "      <td>None</td>\n",
       "      <td>None</td>\n",
       "    </tr>\n",
       "    <tr>\n",
       "      <th>3</th>\n",
       "      <td>335</td>\n",
       "      <td>None</td>\n",
       "      <td>NaN</td>\n",
       "      <td>NaN</td>\n",
       "      <td>None</td>\n",
       "      <td>None</td>\n",
       "    </tr>\n",
       "    <tr>\n",
       "      <th>4</th>\n",
       "      <td>355</td>\n",
       "      <td>None</td>\n",
       "      <td>NaN</td>\n",
       "      <td>NaN</td>\n",
       "      <td>None</td>\n",
       "      <td>None</td>\n",
       "    </tr>\n",
       "  </tbody>\n",
       "</table>\n",
       "</div>"
      ],
      "text/plain": [
       "         name gender  height  weight bloodType maritalStatus\n",
       "0  0413 Theta   None     NaN     NaN      None          None\n",
       "1        0718      M     NaN     NaN      None          None\n",
       "2       10111   None     NaN     NaN      None          None\n",
       "3         335   None     NaN     NaN      None          None\n",
       "4         355   None     NaN     NaN      None          None"
      ]
     },
     "execution_count": 3,
     "metadata": {},
     "output_type": "execute_result"
    }
   ],
   "source": [
    "# view stc\n",
    "stc.head()"
   ]
  },
  {
   "cell_type": "code",
   "execution_count": 4,
   "metadata": {},
   "outputs": [
    {
     "name": "stdout",
     "output_type": "stream",
     "text": [
      "<class 'pandas.core.frame.DataFrame'>\n",
      "RangeIndex: 7571 entries, 0 to 7570\n",
      "Data columns (total 6 columns):\n",
      " #   Column         Non-Null Count  Dtype  \n",
      "---  ------         --------------  -----  \n",
      " 0   name           7571 non-null   object \n",
      " 1   gender         1146 non-null   object \n",
      " 2   height         66 non-null     float64\n",
      " 3   weight         49 non-null     float64\n",
      " 4   bloodType      9 non-null      object \n",
      " 5   maritalStatus  366 non-null    object \n",
      "dtypes: float64(2), object(4)\n",
      "memory usage: 355.0+ KB\n"
     ]
    }
   ],
   "source": [
    "# view stc info\n",
    "stc.info()"
   ]
  },
  {
   "cell_type": "code",
   "execution_count": 5,
   "metadata": {},
   "outputs": [
    {
     "data": {
      "text/html": [
       "<div>\n",
       "<style scoped>\n",
       "    .dataframe tbody tr th:only-of-type {\n",
       "        vertical-align: middle;\n",
       "    }\n",
       "\n",
       "    .dataframe tbody tr th {\n",
       "        vertical-align: top;\n",
       "    }\n",
       "\n",
       "    .dataframe thead th {\n",
       "        text-align: right;\n",
       "    }\n",
       "</style>\n",
       "<table border=\"1\" class=\"dataframe\">\n",
       "  <thead>\n",
       "    <tr style=\"text-align: right;\">\n",
       "      <th></th>\n",
       "      <th>name</th>\n",
       "      <th>key</th>\n",
       "      <th>url</th>\n",
       "      <th>description</th>\n",
       "      <th>species_2nd</th>\n",
       "      <th>species_3rd</th>\n",
       "      <th>species</th>\n",
       "      <th>home_world</th>\n",
       "      <th>gender</th>\n",
       "      <th>height</th>\n",
       "      <th>eye_color</th>\n",
       "      <th>skin_color</th>\n",
       "      <th>hair_color</th>\n",
       "      <th>weight</th>\n",
       "    </tr>\n",
       "  </thead>\n",
       "  <tbody>\n",
       "    <tr>\n",
       "      <th>0</th>\n",
       "      <td>\\n\\t\\t\\t\\t\\t\"Muse\"\\t\\t\\t\\t</td>\n",
       "      <td>Muse</td>\n",
       "      <td>https://starwars.fandom.com/wiki/%22Muse%22</td>\n",
       "      <td>\"Muse\" was the callsign of a human pilot who f...</td>\n",
       "      <td>None</td>\n",
       "      <td>None</td>\n",
       "      <td>Human</td>\n",
       "      <td>None</td>\n",
       "      <td>None</td>\n",
       "      <td>NaN</td>\n",
       "      <td>None</td>\n",
       "      <td>None</td>\n",
       "      <td>None</td>\n",
       "      <td>None</td>\n",
       "    </tr>\n",
       "    <tr>\n",
       "      <th>1</th>\n",
       "      <td>\\n\\t\\t\\t\\t\\t1138  (First Order)</td>\n",
       "      <td>1138_(First_Order)</td>\n",
       "      <td>https://starwars.fandom.com/wiki/1138_(First_O...</td>\n",
       "      <td>1138 was a human stormtrooper who served in th...</td>\n",
       "      <td>None</td>\n",
       "      <td>None</td>\n",
       "      <td>Human</td>\n",
       "      <td>None</td>\n",
       "      <td>None</td>\n",
       "      <td>NaN</td>\n",
       "      <td>None</td>\n",
       "      <td>None</td>\n",
       "      <td>None</td>\n",
       "      <td>None</td>\n",
       "    </tr>\n",
       "    <tr>\n",
       "      <th>2</th>\n",
       "      <td>\\n\\t\\t\\t\\t\\t1151\\t\\t\\t\\t</td>\n",
       "      <td>1151</td>\n",
       "      <td>https://starwars.fandom.com/wiki/1151</td>\n",
       "      <td>1151 was a clone cadet who was a part of the C...</td>\n",
       "      <td>None</td>\n",
       "      <td>None</td>\n",
       "      <td>Human</td>\n",
       "      <td>Kamino</td>\n",
       "      <td>Male</td>\n",
       "      <td>NaN</td>\n",
       "      <td>Brown</td>\n",
       "      <td>Tan</td>\n",
       "      <td>Black</td>\n",
       "      <td>None</td>\n",
       "    </tr>\n",
       "    <tr>\n",
       "      <th>3</th>\n",
       "      <td>\\n\\t\\t\\t\\t\\t1174\\t\\t\\t\\t</td>\n",
       "      <td>1174</td>\n",
       "      <td>https://starwars.fandom.com/wiki/1174</td>\n",
       "      <td>1174, nicknamed \"Whiplash,\" was a clone troope...</td>\n",
       "      <td>None</td>\n",
       "      <td>None</td>\n",
       "      <td>Human</td>\n",
       "      <td>Kamino</td>\n",
       "      <td>Male</td>\n",
       "      <td>NaN</td>\n",
       "      <td>Brown</td>\n",
       "      <td>Tan</td>\n",
       "      <td>Black</td>\n",
       "      <td>None</td>\n",
       "    </tr>\n",
       "    <tr>\n",
       "      <th>4</th>\n",
       "      <td>\\n\\t\\t\\t\\t\\t224  (Coruscant Security Force)</td>\n",
       "      <td>224_(Coruscant_Security_Force)</td>\n",
       "      <td>https://starwars.fandom.com/wiki/224_(Coruscan...</td>\n",
       "      <td>\\n\\n\\n\\n\\n\\n\\n224\\n\\n\\nBiographical informatio...</td>\n",
       "      <td>None</td>\n",
       "      <td>None</td>\n",
       "      <td>Human</td>\n",
       "      <td>None</td>\n",
       "      <td>Male</td>\n",
       "      <td>NaN</td>\n",
       "      <td>None</td>\n",
       "      <td>Light</td>\n",
       "      <td>None</td>\n",
       "      <td>None</td>\n",
       "    </tr>\n",
       "  </tbody>\n",
       "</table>\n",
       "</div>"
      ],
      "text/plain": [
       "                                           name  \\\n",
       "0                    \\n\\t\\t\\t\\t\\t\"Muse\"\\t\\t\\t\\t   \n",
       "1              \\n\\t\\t\\t\\t\\t1138  (First Order)    \n",
       "2                      \\n\\t\\t\\t\\t\\t1151\\t\\t\\t\\t   \n",
       "3                      \\n\\t\\t\\t\\t\\t1174\\t\\t\\t\\t   \n",
       "4  \\n\\t\\t\\t\\t\\t224  (Coruscant Security Force)    \n",
       "\n",
       "                              key  \\\n",
       "0                            Muse   \n",
       "1              1138_(First_Order)   \n",
       "2                            1151   \n",
       "3                            1174   \n",
       "4  224_(Coruscant_Security_Force)   \n",
       "\n",
       "                                                 url  \\\n",
       "0        https://starwars.fandom.com/wiki/%22Muse%22   \n",
       "1  https://starwars.fandom.com/wiki/1138_(First_O...   \n",
       "2              https://starwars.fandom.com/wiki/1151   \n",
       "3              https://starwars.fandom.com/wiki/1174   \n",
       "4  https://starwars.fandom.com/wiki/224_(Coruscan...   \n",
       "\n",
       "                                         description species_2nd species_3rd  \\\n",
       "0  \"Muse\" was the callsign of a human pilot who f...        None        None   \n",
       "1  1138 was a human stormtrooper who served in th...        None        None   \n",
       "2  1151 was a clone cadet who was a part of the C...        None        None   \n",
       "3  1174, nicknamed \"Whiplash,\" was a clone troope...        None        None   \n",
       "4  \\n\\n\\n\\n\\n\\n\\n224\\n\\n\\nBiographical informatio...        None        None   \n",
       "\n",
       "  species home_world gender  height eye_color skin_color hair_color weight  \n",
       "0   Human       None   None     NaN      None       None       None   None  \n",
       "1   Human       None   None     NaN      None       None       None   None  \n",
       "2   Human     Kamino   Male     NaN     Brown        Tan      Black   None  \n",
       "3   Human     Kamino   Male     NaN     Brown        Tan      Black   None  \n",
       "4   Human       None   Male     NaN      None      Light       None   None  "
      ]
     },
     "execution_count": 5,
     "metadata": {},
     "output_type": "execute_result"
    }
   ],
   "source": [
    "# view swc\n",
    "swc.head()"
   ]
  },
  {
   "cell_type": "code",
   "execution_count": 6,
   "metadata": {},
   "outputs": [
    {
     "name": "stdout",
     "output_type": "stream",
     "text": [
      "<class 'pandas.core.frame.DataFrame'>\n",
      "RangeIndex: 7258 entries, 0 to 7257\n",
      "Data columns (total 14 columns):\n",
      " #   Column       Non-Null Count  Dtype  \n",
      "---  ------       --------------  -----  \n",
      " 0   name         7258 non-null   object \n",
      " 1   key          7258 non-null   object \n",
      " 2   url          7258 non-null   object \n",
      " 3   description  7258 non-null   object \n",
      " 4   species_2nd  18 non-null     object \n",
      " 5   species_3rd  6 non-null      object \n",
      " 6   species      7258 non-null   object \n",
      " 7   home_world   2066 non-null   object \n",
      " 8   gender       7258 non-null   object \n",
      " 9   height       505 non-null    float64\n",
      " 10  eye_color    3086 non-null   object \n",
      " 11  skin_color   3960 non-null   object \n",
      " 12  hair_color   2614 non-null   object \n",
      " 13  weight       80 non-null     object \n",
      "dtypes: float64(1), object(13)\n",
      "memory usage: 794.0+ KB\n"
     ]
    }
   ],
   "source": [
    "# view swc info\n",
    "swc.info()"
   ]
  },
  {
   "attachments": {},
   "cell_type": "markdown",
   "metadata": {},
   "source": [
    "The first thing to notice is there is more information available on Wookieepedia than STAPI.  However, there is more useful and complete information on STAPI.  We will clean up the Character dataframes for both to be: Name, Gender, Height, and Weight. We may still keep the some of the other information not found in both for information purposes."
   ]
  },
  {
   "cell_type": "code",
   "execution_count": 7,
   "metadata": {},
   "outputs": [
    {
     "name": "stdout",
     "output_type": "stream",
     "text": [
      "<class 'pandas.core.frame.DataFrame'>\n",
      "RangeIndex: 7258 entries, 0 to 7257\n",
      "Data columns (total 4 columns):\n",
      " #   Column  Non-Null Count  Dtype  \n",
      "---  ------  --------------  -----  \n",
      " 0   name    7258 non-null   object \n",
      " 1   gender  7258 non-null   object \n",
      " 2   height  505 non-null    float64\n",
      " 3   weight  80 non-null     object \n",
      "dtypes: float64(1), object(3)\n",
      "memory usage: 226.9+ KB\n"
     ]
    }
   ],
   "source": [
    "# Update swc dataframe to have Name, Gender, Height, and Weight\n",
    "swc_updated = swc[['name', 'gender', 'height', 'weight']]\n",
    "\n",
    "# Test swc_updated\n",
    "swc_updated.info()"
   ]
  },
  {
   "cell_type": "code",
   "execution_count": 8,
   "metadata": {},
   "outputs": [
    {
     "name": "stdout",
     "output_type": "stream",
     "text": [
      "<class 'pandas.core.frame.DataFrame'>\n",
      "RangeIndex: 7571 entries, 0 to 7570\n",
      "Data columns (total 4 columns):\n",
      " #   Column  Non-Null Count  Dtype  \n",
      "---  ------  --------------  -----  \n",
      " 0   name    7571 non-null   object \n",
      " 1   gender  1146 non-null   object \n",
      " 2   height  66 non-null     float64\n",
      " 3   weight  49 non-null     float64\n",
      "dtypes: float64(2), object(2)\n",
      "memory usage: 236.7+ KB\n"
     ]
    }
   ],
   "source": [
    "# Update stc dataframe to have Name, Gender, Height, and Weight\n",
    "stc_updated = stc[['name', 'gender', 'height', 'weight']]\n",
    "\n",
    "# Test stc_updated\n",
    "stc_updated.info()"
   ]
  },
  {
   "attachments": {},
   "cell_type": "markdown",
   "metadata": {},
   "source": [
    "At first glance, we can see there are 7258 Star Wars Characters and 7571 Star Trek Characters.  \n",
    "\n",
    "It appears Star Wars has the gender for all characters, but we will check to verify because they may contain \"None\" or \"Null\" values. Star Trek has 1146 of its characters' genders, but we will look into them as well.\n",
    "\n",
    "Star Wars has the height listed for 505 of its characters compared to only 66 for Star Trek.\n",
    "\n",
    "Star Wars has the weight listed for 80 of its characters compared to only 49 for Star Trek.\n",
    "\n",
    "Let's delve into this more to see what we come up with."
   ]
  },
  {
   "cell_type": "code",
   "execution_count": 9,
   "metadata": {},
   "outputs": [
    {
     "data": {
      "text/plain": [
       "Male          4057\n",
       "Female        1752\n",
       "None          1432\n",
       "Non-binary      17\n",
       "Name: gender, dtype: int64"
      ]
     },
     "execution_count": 9,
     "metadata": {},
     "output_type": "execute_result"
    }
   ],
   "source": [
    "# View the count of genders in Star Wars\n",
    "sw_genders = swc_updated['gender'].value_counts()\n",
    "\n",
    "sw_genders"
   ]
  },
  {
   "cell_type": "code",
   "execution_count": 10,
   "metadata": {},
   "outputs": [
    {
     "name": "stderr",
     "output_type": "stream",
     "text": [
      "C:\\Users\\musta\\AppData\\Local\\Temp\\ipykernel_4252\\2307066540.py:2: SettingWithCopyWarning: \n",
      "A value is trying to be set on a copy of a slice from a DataFrame.\n",
      "Try using .loc[row_indexer,col_indexer] = value instead\n",
      "\n",
      "See the caveats in the documentation: https://pandas.pydata.org/pandas-docs/stable/user_guide/indexing.html#returning-a-view-versus-a-copy\n",
      "  stc_updated['gender'] = stc_updated['gender'].replace(['M', 'F'], ['Male', 'Female'])\n"
     ]
    }
   ],
   "source": [
    "# Update the gender classifications to make it consistent between datasets\n",
    "stc_updated['gender'] = stc_updated['gender'].replace(['M', 'F'], ['Male', 'Female'])"
   ]
  },
  {
   "cell_type": "code",
   "execution_count": 11,
   "metadata": {},
   "outputs": [
    {
     "data": {
      "text/plain": [
       "None      6425\n",
       "Male       786\n",
       "Female     360\n",
       "Name: gender, dtype: int64"
      ]
     },
     "execution_count": 11,
     "metadata": {},
     "output_type": "execute_result"
    }
   ],
   "source": [
    "# View the count of genders in Star Trek\n",
    "st_genders = stc_updated['gender'].value_counts(dropna=False)\n",
    "\n",
    "st_genders"
   ]
  },
  {
   "cell_type": "code",
   "execution_count": 12,
   "metadata": {},
   "outputs": [
    {
     "data": {
      "image/png": "[encoded data removed]",
      "text/plain": [
       "<Figure size 640x480 with 1 Axes>"
      ]
     },
     "metadata": {},
     "output_type": "display_data"
    }
   ],
   "source": [
    "# create a graph showing count of character genders for Star Wars\n",
    "\n",
    "sw_genders.plot(kind='bar')\n",
    "plt.xlabel('Gender')\n",
    "plt.ylabel('Character Count')\n",
    "plt.title('Star Wars Character Gender Count')\n",
    "plt.show()\n",
    "\n"
   ]
  },
  {
   "cell_type": "code",
   "execution_count": 13,
   "metadata": {},
   "outputs": [
    {
     "data": {
      "image/png": "[encoded data removed]",
      "text/plain": [
       "<Figure size 640x480 with 1 Axes>"
      ]
     },
     "metadata": {},
     "output_type": "display_data"
    }
   ],
   "source": [
    "# create a graph showing count of character genders for Star Trek\n",
    "\n",
    "st_genders.plot(kind='bar')\n",
    "plt.xlabel('Gender')\n",
    "plt.ylabel('Character Count')\n",
    "plt.title('Star Trek Character Gender Count')\n",
    "plt.show()"
   ]
  },
  {
   "cell_type": "code",
   "execution_count": 14,
   "metadata": {},
   "outputs": [
    {
     "name": "stdout",
     "output_type": "stream",
     "text": [
      "Male: 55.9%\n",
      "Female: 24.1%\n",
      "Non-binary: 0.2%\n",
      "Unclassified:  19.7%\n"
     ]
    }
   ],
   "source": [
    "# Calculate percentages of genders for Star Wars\n",
    "\n",
    "# Male Star Wars Characters\n",
    "sw_male = sw_genders['Male']/ sum(sw_genders) * 100\n",
    "\n",
    "# Female Star Wars Characters\n",
    "sw_female = sw_genders['Female']/ sum(sw_genders) * 100\n",
    "\n",
    "# Non-Binary Star Wars Characters\n",
    "sw_nb = sw_genders['Non-binary']/ sum(sw_genders) * 100\n",
    "\n",
    "# Unclassified Star Wars Characters\n",
    "sw_un = sw_genders['None']/ sum(sw_genders) * 100\n",
    "\n",
    "\n",
    "print(f'Male: {sw_male:.1f}%')\n",
    "print(f'Female: {sw_female:.1f}%')\n",
    "print(f'Non-binary: {sw_nb:.1f}%')\n",
    "print(f'Unclassified: {sw_un: .1f}%')\n"
   ]
  },
  {
   "cell_type": "code",
   "execution_count": 15,
   "metadata": {},
   "outputs": [
    {
     "data": {
      "image/png": "[encoded data removed]",
      "text/plain": [
       "<Figure size 640x480 with 1 Axes>"
      ]
     },
     "metadata": {},
     "output_type": "display_data"
    }
   ],
   "source": [
    "# create a pie chart showing percentages in Star Wars\n",
    "sw_percent = sw_genders / sum(sw_genders) * 100\n",
    "\n",
    "fig, ax = plt.subplots()\n",
    "ax.pie(sw_percent, labels=sw_percent.index, autopct='%1.1f%%')\n",
    "plt.title('Percentages of Character Genders in Star Wars')\n",
    "# Show the plot\n",
    "plt.show()"
   ]
  },
  {
   "cell_type": "code",
   "execution_count": 16,
   "metadata": {},
   "outputs": [
    {
     "name": "stdout",
     "output_type": "stream",
     "text": [
      "Male: 10.4%\n",
      "Female: 4.8%\n",
      "Unclassified:  84.9%\n"
     ]
    }
   ],
   "source": [
    "# Calculate percentages of genders for Star Trek\n",
    "\n",
    "# Male Star Wars Characters\n",
    "st_male = st_genders['Male']/ sum(st_genders) * 100\n",
    "\n",
    "# Female Star Wars Characters\n",
    "st_female = st_genders['Female']/ sum(st_genders) * 100\n",
    "\n",
    "# Unclassified Star Wars Characters\n",
    "st_null = stc_updated['gender'].isnull().sum()\n",
    "st_un = st_null / sum(st_genders) * 100\n",
    "\n",
    "\n",
    "print(f'Male: {st_male:.1f}%')\n",
    "print(f'Female: {st_female:.1f}%')\n",
    "print(f'Unclassified: {st_un: .1f}%')"
   ]
  },
  {
   "cell_type": "code",
   "execution_count": 17,
   "metadata": {},
   "outputs": [
    {
     "data": {
      "image/png": "[encoded data removed]",
      "text/plain": [
       "<Figure size 640x480 with 1 Axes>"
      ]
     },
     "metadata": {},
     "output_type": "display_data"
    }
   ],
   "source": [
    "# create a pie chart showing percentages in Star Trek\n",
    "st_percent = st_genders / sum(st_genders) * 100\n",
    "\n",
    "fig, ax = plt.subplots()\n",
    "ax.pie(st_percent, labels=st_percent.index, autopct='%1.1f%%')\n",
    "plt.title('Percentages of Character Genders in Star Trek')\n",
    "# Show the plot\n",
    "plt.show()\n"
   ]
  },
  {
   "attachments": {},
   "cell_type": "markdown",
   "metadata": {},
   "source": [
    "On first look for genders for characters, Star Wars has more female characters than Star Trek, accounting for 24% of the Star Wars character population.  Star Trek only has 4.75% female population for its characters.  However, Star Wars male characters make up 55.9% of it's population while Star Trek males only make up 10% or their characters. It is interesting to note that Star Wars has stated non-binary characters (0.23%) of their population, while Star Trek has no listed non-binary characters.   For characters that do not have genders listed, 20% are not listed for Star Wars, but 84.8% of Star Trek characters are unclassified."
   ]
  },
  {
   "attachments": {},
   "cell_type": "markdown",
   "metadata": {},
   "source": [
    "Now that we've looked at gender, we will look at the physical attributes of characters listed and determine averages for height and weight."
   ]
  },
  {
   "cell_type": "code",
   "execution_count": 18,
   "metadata": {},
   "outputs": [
    {
     "name": "stdout",
     "output_type": "stream",
     "text": [
      "1.8099881188118814\n"
     ]
    }
   ],
   "source": [
    "# Create listing for height and weight for Star Wars Characters\n",
    "\n",
    "# Average height in meters for Star Wars Characters\n",
    "sw_height = swc_updated['height'].mean()\n",
    "print(sw_height)"
   ]
  },
  {
   "cell_type": "code",
   "execution_count": 19,
   "metadata": {},
   "outputs": [
    {
     "name": "stdout",
     "output_type": "stream",
     "text": [
      "191.4090909090909\n"
     ]
    }
   ],
   "source": [
    "# Create listing for height and weight for Star Trek Characters\n",
    "\n",
    "# Average height in centimeters for Star Trek Characters\n",
    "st_height = stc_updated['height'].mean()\n",
    "print(st_height)"
   ]
  },
  {
   "cell_type": "code",
   "execution_count": 20,
   "metadata": {},
   "outputs": [
    {
     "name": "stdout",
     "output_type": "stream",
     "text": [
      "1.914090909090909\n"
     ]
    },
    {
     "name": "stderr",
     "output_type": "stream",
     "text": [
      "C:\\Users\\musta\\AppData\\Local\\Temp\\ipykernel_4252\\2563192995.py:2: SettingWithCopyWarning: \n",
      "A value is trying to be set on a copy of a slice from a DataFrame.\n",
      "Try using .loc[row_indexer,col_indexer] = value instead\n",
      "\n",
      "See the caveats in the documentation: https://pandas.pydata.org/pandas-docs/stable/user_guide/indexing.html#returning-a-view-versus-a-copy\n",
      "  stc_updated['height'] = stc_updated['height'] / 100\n"
     ]
    }
   ],
   "source": [
    "# Convert average height to meters to be consistent\n",
    "stc_updated['height'] = stc_updated['height'] / 100\n",
    "st_height = stc_updated['height'].mean()\n",
    "print(st_height)"
   ]
  },
  {
   "cell_type": "code",
   "execution_count": 21,
   "metadata": {},
   "outputs": [
    {
     "name": "stdout",
     "output_type": "stream",
     "text": [
      "gender\n",
      "Female        1.784167\n",
      "Male          1.817906\n",
      "Non-binary         NaN\n",
      "None          1.763793\n",
      "Name: height, dtype: float64\n"
     ]
    }
   ],
   "source": [
    "# Average Star Wars height listed by gender\n",
    "sw_gender_height = swc_updated.groupby('gender')['height'].mean()\n",
    "print(sw_gender_height)"
   ]
  },
  {
   "cell_type": "code",
   "execution_count": 22,
   "metadata": {},
   "outputs": [
    {
     "name": "stdout",
     "output_type": "stream",
     "text": [
      "gender\n",
      "Female    1.596957\n",
      "Male      2.169189\n",
      "Name: height, dtype: float64\n"
     ]
    }
   ],
   "source": [
    "# Average Star Trek height listed by gender\n",
    "st_gender_height = stc_updated.groupby('gender')['height'].mean()\n",
    "print(st_gender_height)"
   ]
  },
  {
   "cell_type": "code",
   "execution_count": 23,
   "metadata": {},
   "outputs": [
    {
     "data": {
      "image/png": "[encoded data removed]",
      "text/plain": [
       "<Figure size 640x480 with 1 Axes>"
      ]
     },
     "metadata": {},
     "output_type": "display_data"
    }
   ],
   "source": [
    "# Filter the data to only include Male and Female\n",
    "swmask = swc_updated['gender'].isin(['Male', 'Female'])\n",
    "\n",
    "filtered_sw_height = swc_updated[swmask]\n",
    "\n",
    "# Create Star Wars height distribution by gender using a box plot\n",
    "ax = sns.boxplot(x='gender', y = 'height', data=filtered_sw_height)\n",
    "\n",
    "# Move the x and y axis labels\n",
    "ax.set_xlabel('Gender', labelpad=10)\n",
    "ax.set_ylabel('Height in Meters', labelpad=10)\n",
    "\n",
    "# Add title to the plot\n",
    "ax.set_title('Star Wars Height Distribution by Gender')\n",
    "\n",
    "# Show the plot\n",
    "sns.despine()"
   ]
  },
  {
   "cell_type": "code",
   "execution_count": 24,
   "metadata": {},
   "outputs": [
    {
     "data": {
      "image/png": "[encoded data removed]",
      "text/plain": [
       "<Figure size 640x480 with 1 Axes>"
      ]
     },
     "metadata": {},
     "output_type": "display_data"
    }
   ],
   "source": [
    "# Create Star Trek height distribution by gender using a box plot\n",
    "ax = sns.boxplot(x='gender', y = 'height', data=stc_updated)\n",
    "\n",
    "# Move the x and y axis labels\n",
    "ax.set_xlabel('Gender', labelpad=10)\n",
    "ax.set_ylabel('Height in Meters', labelpad=10)\n",
    "\n",
    "# Add title to the plot\n",
    "ax.set_title('Star Trek Height Distribution by Gender')\n",
    "\n",
    "# Show the plot\n",
    "sns.despine()"
   ]
  },
  {
   "cell_type": "code",
   "execution_count": 25,
   "metadata": {},
   "outputs": [
    {
     "name": "stdout",
     "output_type": "stream",
     "text": [
      "                         name  gender  height weight\n",
      "548  \\n\\t\\t\\t\\t\\tBoga\\t\\t\\t\\t  Female    4.00   None\n",
      "256  \\n\\t\\t\\t\\t\\tArok\\t\\t\\t\\t    Male    2.09   None\n",
      "                             name  gender  height        weight\n",
      "208  \\n\\t\\t\\t\\t\\tApailana\\t\\t\\t\\t  Female    1.57          None\n",
      "541   \\n\\t\\t\\t\\t\\tBobbajo\\t\\t\\t\\t    Male    1.14  40 kilograms\n"
     ]
    }
   ],
   "source": [
    "# Identify Tallest and Shortest Male and Female in Star Wars\n",
    "swh_tallest = filtered_sw_height.groupby('gender')['height'].idxmax()\n",
    "swtallest = filtered_sw_height.loc[swh_tallest]\n",
    "\n",
    "swh_shortest = filtered_sw_height.groupby('gender')['height'].idxmin()\n",
    "swshortest = filtered_sw_height.loc[swh_shortest]\n",
    "\n",
    "# The tallest and shortest male and female\n",
    "print(swtallest)\n",
    "print(swshortest)"
   ]
  },
  {
   "cell_type": "code",
   "execution_count": 26,
   "metadata": {},
   "outputs": [
    {
     "name": "stdout",
     "output_type": "stream",
     "text": [
      "                    name  gender  height  weight\n",
      "4244              M'Ress  Female    1.83    73.0\n",
      "6402  Stavos Keniclius 5    Male   15.24     NaN\n",
      "               name  gender  height  weight\n",
      "4960  Nancy Hedford  Female    0.13    52.0\n",
      "3009           Jahn    Male    1.68     NaN\n"
     ]
    }
   ],
   "source": [
    "# Identify Tallest and Shortest Male and Female in Star Trek\n",
    "sth_tallest = stc_updated.groupby('gender')['height'].idxmax()\n",
    "sttallest = stc_updated.loc[sth_tallest]\n",
    "\n",
    "sth_shortest = stc_updated.groupby('gender')['height'].idxmin()\n",
    "stshortest = stc_updated.loc[sth_shortest]\n",
    "\n",
    "# The tallest and shortest male and female\n",
    "print(sttallest)\n",
    "print(stshortest)"
   ]
  },
  {
   "attachments": {},
   "cell_type": "markdown",
   "metadata": {},
   "source": [
    "Because the shortest female and tallest male seem to be off, we will check for the second shortest female and second tallest male."
   ]
  },
  {
   "cell_type": "code",
   "execution_count": 28,
   "metadata": {},
   "outputs": [
    {
     "name": "stdout",
     "output_type": "stream",
     "text": [
      "name      Christine Chapel\n",
      "gender              Female\n",
      "height                1.52\n",
      "weight                61.0\n",
      "Name: 1143, dtype: object\n",
      "name       Arex\n",
      "gender     Male\n",
      "height     2.21\n",
      "weight    102.0\n",
      "Name: 402, dtype: object\n"
     ]
    }
   ],
   "source": [
    "# Sort for height\n",
    "sorted_st = stc_updated.sort_values(by='height')\n",
    "\n",
    "# Select the second shortest female\n",
    "sec_short_f = sorted_st[sorted_st['gender'] == 'Female'].iloc[1]\n",
    "\n",
    "# Select the second tallest male\n",
    "stmask = (stc_updated['gender'] == 'Male') & stc_updated['height'].notnull()\n",
    "filteredsth = stc_updated[stmask]\n",
    "tall_m = filteredsth.sort_values(by='height', ascending=False)\n",
    "sec_tall_m = tall_m.iloc[1]\n",
    "\n",
    "# View results\n",
    "print(sec_short_f)\n",
    "print(sec_tall_m)"
   ]
  },
  {
   "cell_type": "code",
   "execution_count": 34,
   "metadata": {},
   "outputs": [
    {
     "name": "stdout",
     "output_type": "stream",
     "text": [
      "[2.1691891891891895, 1.8179059405940594]\n",
      "[1.5969565217391304, 1.7841666666666667]\n"
     ]
    }
   ],
   "source": [
    "# Combine Male heights and Combine Female heights\n",
    "\n",
    "male_heights = [st_gender_height['Male'], sw_gender_height['Male']]\n",
    "female_heights = [st_gender_height['Female'], sw_gender_height['Female']]\n",
    "\n",
    "# Print variables to verify they are correct\n",
    "print(male_heights)\n",
    "print(female_heights)"
   ]
  },
  {
   "cell_type": "code",
   "execution_count": 38,
   "metadata": {},
   "outputs": [
    {
     "data": {
      "image/png": "[encoded data removed]",
      "text/plain": [
       "<Figure size 640x480 with 1 Axes>"
      ]
     },
     "metadata": {},
     "output_type": "display_data"
    }
   ],
   "source": [
    "# Begin creating chart comparing heights.\n",
    "bar_width = 0.4\n",
    "x = np.arange(2)\n",
    "\n",
    "# Create the bar chart\n",
    "fig, ax = plt.subplots()\n",
    "rects1 = ax.bar(x - bar_width/2, male_heights, bar_width, label='Male')\n",
    "rects2 = ax.bar(x + bar_width/2, female_heights, bar_width, label='Female')\n",
    "\n",
    "\n",
    "# Add labels and title\n",
    "ax.set_xticks(x)\n",
    "ax.set_xticklabels(['Star Trek', 'Star Wars'])\n",
    "ax.set_ylabel('Average Height')\n",
    "ax.set_title('Average Height Comparison')\n",
    "ax.legend()\n",
    "\n",
    "# Show the chart\n",
    "plt.show()"
   ]
  },
  {
   "cell_type": "code",
   "execution_count": null,
   "metadata": {},
   "outputs": [],
   "source": []
  }
 ],
 "metadata": {
  "kernelspec": {
   "display_name": "base",
   "language": "python",
   "name": "python3"
  },
  "language_info": {
   "codemirror_mode": {
    "name": "ipython",
    "version": 3
   },
   "file_extension": ".py",
   "mimetype": "text/x-python",
   "name": "python",
   "nbconvert_exporter": "python",
   "pygments_lexer": "ipython3",
   "version": "3.10.9"
  },
  "orig_nbformat": 4
 },
 "nbformat": 4,
 "nbformat_minor": 2
}
