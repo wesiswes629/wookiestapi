{
 "cells": [
  {
   "cell_type": "code",
   "execution_count": 9,
   "metadata": {},
   "outputs": [],
   "source": [
    "import requests\n",
    "from bs4 import BeautifulSoup as BS\n",
    "import pandas as pd\n",
    "import pickle\n",
    "import re\n",
    "from tqdm import tqdm\n",
    "from pathlib import Path\n",
    "import urllib\n",
    "import pyarrow"
   ]
  },
  {
   "attachments": {},
   "cell_type": "markdown",
   "metadata": {},
   "source": [
    "We will import the pickled data to pull just the Star Wars characters."
   ]
  },
  {
   "cell_type": "code",
   "execution_count": 2,
   "metadata": {},
   "outputs": [
    {
     "data": {
      "text/plain": [
       "[WindowsPath('../WPscraped/starwars_all_canon_data_1.pickle'),\n",
       " WindowsPath('../WPscraped/starwars_all_canon_data_2.pickle'),\n",
       " WindowsPath('../WPscraped/starwars_all_canon_data_3.pickle'),\n",
       " WindowsPath('../WPscraped/starwars_all_canon_data_4.pickle'),\n",
       " WindowsPath('../WPscraped/starwars_all_canon_data_5.pickle'),\n",
       " WindowsPath('../WPscraped/starwars_all_canon_data_6.pickle'),\n",
       " WindowsPath('../WPscraped/starwars_all_canon_data_7.pickle'),\n",
       " WindowsPath('../WPscraped/starwars_all_canon_data_8.pickle')]"
      ]
     },
     "execution_count": 2,
     "metadata": {},
     "output_type": "execute_result"
    }
   ],
   "source": [
    "files = sorted(Path('../WPscraped').glob('*.pickle'))\n",
    "files"
   ]
  },
  {
   "cell_type": "code",
   "execution_count": 3,
   "metadata": {},
   "outputs": [
    {
     "data": {
      "text/plain": [
       "39460"
      ]
     },
     "execution_count": 3,
     "metadata": {},
     "output_type": "execute_result"
    }
   ],
   "source": [
    "#create the dictionary to run\n",
    "data = {}\n",
    "for fn in files:\n",
    "    with open(fn, 'rb') as f:\n",
    "        part = pickle.load(f)\n",
    "    data.update(part)\n",
    "\n",
    "# The code is to open the data and to count to make sure all files in the .pickles are carried over\n",
    "len(data)"
   ]
  },
  {
   "cell_type": "code",
   "execution_count": 4,
   "metadata": {},
   "outputs": [],
   "source": [
    "#remove extra url info that is not required\n",
    "def remove_url_stuff(text):\n",
    "    return urllib.parse.unquote(text).replace('\"', '').replace(\"'\", '')"
   ]
  },
  {
   "cell_type": "code",
   "execution_count": 5,
   "metadata": {},
   "outputs": [
    {
     "name": "stderr",
     "output_type": "stream",
     "text": [
      "100%|██████████| 39460/39460 [00:00<00:00, 45228.90it/s]\n"
     ]
    }
   ],
   "source": [
    "cleaned = {}\n",
    "for key, value in tqdm(data.items()):\n",
    "    new_key = remove_url_stuff(key)\n",
    "    cleaned[new_key] = value\n",
    "    cleaned[new_key]['crosslinks'] = [remove_url_stuff(crosslink) for crosslink in value['crosslinks']]\n",
    "data = cleaned"
   ]
  },
  {
   "cell_type": "code",
   "execution_count": 6,
   "metadata": {},
   "outputs": [],
   "source": [
    "#find the key in the dictionary\n",
    "def find_key(key_name, data):\n",
    "    for key, value in data.items():\n",
    "        if key_name == key:\n",
    "            return value\n",
    "        if isinstance(value, dict):\n",
    "            value = find_key(key_name, value)\n",
    "            if value is not None:\n",
    "                return value\n",
    "    return None\n",
    "\n",
    "def get_first(key_name, data):\n",
    "    result = find_key(key_name, data)\n",
    "    if isinstance(result, list):\n",
    "        result = result[0]\n",
    "    return result"
   ]
  },
  {
   "cell_type": "code",
   "execution_count": 7,
   "metadata": {},
   "outputs": [
    {
     "name": "stdout",
     "output_type": "stream",
     "text": [
      "['Humans', 'Mythrol', 'Latero', 'Gungans', 'Devaronians', 'Ardennians']\n",
      "['Human', 'Alderaanian', 'Chandrilan', 'Corellian', 'Naboo']\n",
      "['Human', 'Alderaanian', 'Chandrilan', 'Corellian']\n",
      "At least two meters\n"
     ]
    }
   ],
   "source": [
    "#create the list for keys\n",
    "result = []\n",
    "for key, part in data.items():\n",
    "    if not part['is_character']: continue\n",
    "    row = {\n",
    "        'name': part['title'],\n",
    "        'key': key,\n",
    "        'url': part['url'],\n",
    "        'description': part['paragraph']\n",
    "    }\n",
    "    \n",
    "    species  = find_key('Species', part['side_bar'])\n",
    "    row['species_2nd'] = None\n",
    "    row['species_3rd'] = None\n",
    "    if isinstance(species, list):\n",
    "        row['species'] = species[0]\n",
    "        if len(species) > 1:\n",
    "            row['species_2nd'] = species[1]\n",
    "        if len(species) > 2:\n",
    "            row['species_3rd'] = species[2]\n",
    "        if len(species) > 3:\n",
    "            print(species)\n",
    "    else:\n",
    "        row['species'] = species.strip()\n",
    "    row['home_world'] = get_first('Homeworld', part['side_bar'])\n",
    "    row['gender'] = get_first('Gender', part['side_bar'])\n",
    "\n",
    "    row['height'] = get_first('Height', part['side_bar'])\n",
    "    row['eye_color'] = get_first('Eye color', part['side_bar'])\n",
    "    row['skin_color'] = get_first('Skin color', part['side_bar'])\n",
    "    row['hair_color'] = get_first('Hair color', part['side_bar'])\n",
    "    row['weight'] = get_first('Mass', part['side_bar'])\n",
    "\n",
    "    result.append(row)\n",
    "df = pd.DataFrame(result)\n",
    "\n",
    "# fix gender some errors\n",
    "gender_map = {\n",
    "    'Male': 'Male',\n",
    "    'Female': 'Female',\n",
    "    'Mal': 'Male',\n",
    "    'Femal': 'Female',\n",
    "    'Non-binary': 'Non-binary',\n",
    "    'male': 'Male',\n",
    "    'Males': 'Male',\n",
    "    'female': 'Female',\n",
    "    'Femle': 'Female',\n",
    "}\n",
    "df.loc[:, 'gender'] = df.gender.map(gender_map)\n",
    "df['gender'] = df['gender'].fillna('None')\n",
    "\n",
    "# normalize height\n",
    "translate = {None: None}\n",
    "for m in df.height.unique().tolist()[1:]:\n",
    "    if 'meter' in m:\n",
    "        try:\n",
    "            split = m.split()\n",
    "            if len(split) == 2:\n",
    "                if '/' in split[0]:\n",
    "                    split[0] = split[0].split('/')[0]\n",
    "                translate[m] = float(split[0])\n",
    "            elif split[0] == 'Around' or split[0] == 'Over':\n",
    "                translate[m] = float(split[1])\n",
    "            elif split[0] == 'At':\n",
    "                translate[m] = float(split[2])\n",
    "            elif split[-1] == 'shoulder':\n",
    "                translate[m] = float(split[0])\n",
    "            elif split[-1] == 'meters':\n",
    "                translate[m] = float(split[-2])\n",
    "            elif split[1] == 'millimeters':\n",
    "                translate[m] = 1.7015\n",
    "            elif split[1] == 'meters':\n",
    "                translate[m] = float(split[0])\n",
    "            else:\n",
    "                print(split)\n",
    "                break\n",
    "        except:\n",
    "            print(m)\n",
    "            break\n",
    "    elif 'feet' in m or 'ft' in m:\n",
    "        try:\n",
    "            split = m.split()\n",
    "            if split[0] == 'Around' or split[0] == 'Almost':\n",
    "                translate[m] = 0.3 * int(split[1])\n",
    "            elif len(split) == 4:\n",
    "                translate[m] = 0.3 * int(split[0]) + 0.0254 * int(split[2])\n",
    "            elif len(split) == 2:\n",
    "                translate[m] = 0.3 * int(split[0])\n",
    "            else:\n",
    "                print(split)\n",
    "                break\n",
    "        except:\n",
    "            print(m)\n",
    "            break     \n",
    "    elif m[-1] == 'c':\n",
    "        translate[m] = float(m[:-1]) / 100\n",
    "    elif m == '5:1':\n",
    "        translate[m] = None\n",
    "    else:\n",
    "        try:\n",
    "            translate[m] = float(m)\n",
    "        except:\n",
    "            print(m)\n",
    "            break     \n",
    "df['height'] = df.height.map(translate)"
   ]
  },
  {
   "cell_type": "code",
   "execution_count": 10,
   "metadata": {},
   "outputs": [],
   "source": [
    "# Save characters to parquet\n",
    "df.to_parquet('../WPscraped/StarWars_Characters.parquet', index=False)"
   ]
  },
  {
   "cell_type": "code",
   "execution_count": 12,
   "metadata": {},
   "outputs": [],
   "source": [
    "# Let's read the parquet\n",
    "sw = pd.read_parquet('../WPscraped/StarWars_Characters.parquet')\n"
   ]
  },
  {
   "cell_type": "code",
   "execution_count": 13,
   "metadata": {},
   "outputs": [
    {
     "name": "stdout",
     "output_type": "stream",
     "text": [
      "<class 'pandas.core.frame.DataFrame'>\n",
      "RangeIndex: 7258 entries, 0 to 7257\n",
      "Data columns (total 14 columns):\n",
      " #   Column       Non-Null Count  Dtype  \n",
      "---  ------       --------------  -----  \n",
      " 0   name         7258 non-null   object \n",
      " 1   key          7258 non-null   object \n",
      " 2   url          7258 non-null   object \n",
      " 3   description  7258 non-null   object \n",
      " 4   species_2nd  18 non-null     object \n",
      " 5   species_3rd  6 non-null      object \n",
      " 6   species      7258 non-null   object \n",
      " 7   home_world   2066 non-null   object \n",
      " 8   gender       7258 non-null   object \n",
      " 9   height       505 non-null    float64\n",
      " 10  eye_color    3086 non-null   object \n",
      " 11  skin_color   3960 non-null   object \n",
      " 12  hair_color   2614 non-null   object \n",
      " 13  weight       80 non-null     object \n",
      "dtypes: float64(1), object(13)\n",
      "memory usage: 794.0+ KB\n"
     ]
    }
   ],
   "source": [
    "sw.info()"
   ]
  },
  {
   "cell_type": "code",
   "execution_count": null,
   "metadata": {},
   "outputs": [],
   "source": []
  }
 ],
 "metadata": {
  "kernelspec": {
   "display_name": "base",
   "language": "python",
   "name": "python3"
  },
  "language_info": {
   "codemirror_mode": {
    "name": "ipython",
    "version": 3
   },
   "file_extension": ".py",
   "mimetype": "text/x-python",
   "name": "python",
   "nbconvert_exporter": "python",
   "pygments_lexer": "ipython3",
   "version": "3.10.9"
  },
  "orig_nbformat": 4
 },
 "nbformat": 4,
 "nbformat_minor": 2
}
