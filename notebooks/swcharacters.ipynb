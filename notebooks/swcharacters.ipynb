{
 "cells": [
  {
   "cell_type": "code",
   "execution_count": null,
   "metadata": {},
   "outputs": [],
   "source": [
    "import requests\n",
    "from bs4 import BeautifulSoup as BS\n",
    "import pandas as pd\n",
    "import pickle\n",
    "import re\n",
    "from tqdm import tqdm\n",
    "from pathlib import Path\n",
    "import urllib"
   ]
  },
  {
   "attachments": {},
   "cell_type": "markdown",
   "metadata": {},
   "source": [
    "We will import the pickled data to pull just the Star Wars characters."
   ]
  },
  {
   "cell_type": "code",
   "execution_count": null,
   "metadata": {},
   "outputs": [],
   "source": [
    "files = sorted(Path('../WPscraped').glob('*.pickle'))\n",
    "files"
   ]
  },
  {
   "cell_type": "code",
   "execution_count": null,
   "metadata": {},
   "outputs": [],
   "source": [
    "data = {}\n",
    "for fn in files:\n",
    "    with open(fn, 'rb') as f:\n",
    "        part = pickle.load(f)\n",
    "    data.update(part)\n",
    "\n",
    "len(data)"
   ]
  },
  {
   "cell_type": "code",
   "execution_count": null,
   "metadata": {},
   "outputs": [],
   "source": [
    "def remove_url_shizzle(text):\n",
    "    return urllib.parse.unquote(text).replace('\"', '').replace(\"'\", '')"
   ]
  },
  {
   "cell_type": "code",
   "execution_count": null,
   "metadata": {},
   "outputs": [],
   "source": [
    "cleaned = {}\n",
    "for key, value in tqdm(data.items()):\n",
    "    new_key = remove_url_shizzle(key)\n",
    "    cleaned[new_key] = value\n",
    "    cleaned[new_key]['crosslinks'] = [remove_url_shizzle(crosslink) for crosslink in value['crosslinks']]\n",
    "data = cleaned"
   ]
  },
  {
   "cell_type": "code",
   "execution_count": null,
   "metadata": {},
   "outputs": [],
   "source": [
    "def find_key(key_name, data):\n",
    "    for key, value in data.items():\n",
    "        if key_name == key:\n",
    "            return value\n",
    "        if isinstance(value, dict):\n",
    "            value = find_key(key_name, value)\n",
    "            if value is not None:\n",
    "                return value\n",
    "    return None\n",
    "\n",
    "def get_first(key_name, data):\n",
    "    result = find_key(key_name, data)\n",
    "    if isinstance(result, list):\n",
    "        result = result[0]\n",
    "    return result"
   ]
  },
  {
   "cell_type": "code",
   "execution_count": null,
   "metadata": {},
   "outputs": [],
   "source": [
    "result = []\n",
    "for key, part in data.items():\n",
    "    if not part['is_character']: continue\n",
    "    row = {\n",
    "        'name': part['title'],\n",
    "        'key': key,\n",
    "        'url': part['url'],\n",
    "        'description': part['paragraph']\n",
    "    }\n",
    "    \n",
    "    species  = find_key('Species', part['side_bar'])\n",
    "    row['species_2nd'] = None\n",
    "    row['species_3rd'] = None\n",
    "    if isinstance(species, list):\n",
    "        row['species'] = species[0]\n",
    "        if len(species) > 1:\n",
    "            row['species_2nd'] = species[1]\n",
    "        if len(species) > 2:\n",
    "            row['species_3rd'] = species[2]\n",
    "        if len(species) > 3:\n",
    "            print(species)\n",
    "    else:\n",
    "        row['species'] = species.strip()\n",
    "    row['home_world'] = get_first('Homeworld', part['side_bar'])\n",
    "    row['gender'] = get_first('Gender', part['side_bar'])\n",
    "\n",
    "    row['height'] = get_first('Height', part['side_bar'])\n",
    "    row['eye_color'] = get_first('Eye color', part['side_bar'])\n",
    "    row['skin_color'] = get_first('Skin color', part['side_bar'])\n",
    "    row['hair_color'] = get_first('Hair color', part['side_bar'])\n",
    "    row['weight'] = get_first('Mass', part['side_bar'])\n",
    "\n",
    "    result.append(row)\n",
    "df = pd.DataFrame(result)\n",
    "\n",
    "# fix gender some errors\n",
    "gender_map = {\n",
    "    'Male': 'Male',\n",
    "    'Female': 'Female',\n",
    "    'Mal': 'Male',\n",
    "    'Femal': 'Female',\n",
    "    'Non-binary': 'Non-binary',\n",
    "    'male': 'Male',\n",
    "    'Males': 'Male',\n",
    "    'female': 'Female',\n",
    "    'Femle': 'Female',\n",
    "}\n",
    "df.loc[:, 'gender'] = df.gender.map(gender_map)\n",
    "df['gender'] = df['gender'].fillna('None')\n",
    "\n",
    "# normalize height\n",
    "translate = {None: None}\n",
    "for m in df.height.unique().tolist()[1:]:\n",
    "    if 'meter' in m:\n",
    "        try:\n",
    "            split = m.split()\n",
    "            if len(split) == 2:\n",
    "                if '/' in split[0]:\n",
    "                    split[0] = split[0].split('/')[0]\n",
    "                translate[m] = float(split[0])\n",
    "            elif split[0] == 'Around' or split[0] == 'Over':\n",
    "                translate[m] = float(split[1])\n",
    "            elif split[0] == 'At':\n",
    "                translate[m] = float(split[2])\n",
    "            elif split[-1] == 'shoulder':\n",
    "                translate[m] = float(split[0])\n",
    "            elif split[-1] == 'meters':\n",
    "                translate[m] = float(split[-2])\n",
    "            elif split[1] == 'millimeters':\n",
    "                translate[m] = 1.7015\n",
    "            elif split[1] == 'meters':\n",
    "                translate[m] = float(split[0])\n",
    "            else:\n",
    "                print(split)\n",
    "                break\n",
    "        except:\n",
    "            print(m)\n",
    "            break\n",
    "    elif 'feet' in m or 'ft' in m:\n",
    "        try:\n",
    "            split = m.split()\n",
    "            if split[0] == 'Around' or split[0] == 'Almost':\n",
    "                translate[m] = 0.3 * int(split[1])\n",
    "            elif len(split) == 4:\n",
    "                translate[m] = 0.3 * int(split[0]) + 0.0254 * int(split[2])\n",
    "            elif len(split) == 2:\n",
    "                translate[m] = 0.3 * int(split[0])\n",
    "            else:\n",
    "                print(split)\n",
    "                break\n",
    "        except:\n",
    "            print(m)\n",
    "            break     \n",
    "    elif m[-1] == 'c':\n",
    "        translate[m] = float(m[:-1]) / 100\n",
    "    elif m == '5:1':\n",
    "        translate[m] = None\n",
    "    else:\n",
    "        try:\n",
    "            translate[m] = float(m)\n",
    "        except:\n",
    "            print(m)\n",
    "            break     \n",
    "df['height'] = df.height.map(translate)"
   ]
  },
  {
   "cell_type": "code",
   "execution_count": null,
   "metadata": {},
   "outputs": [],
   "source": [
    "df.to_parquet('../WPscraped/StarWars_Characters.parquet', index=False)"
   ]
  },
  {
   "cell_type": "code",
   "execution_count": null,
   "metadata": {},
   "outputs": [],
   "source": []
  }
 ],
 "metadata": {
  "language_info": {
   "name": "python"
  },
  "orig_nbformat": 4
 },
 "nbformat": 4,
 "nbformat_minor": 2
}
