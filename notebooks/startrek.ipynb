{
 "cells": [
  {
   "cell_type": "code",
   "execution_count": 1,
   "metadata": {},
   "outputs": [],
   "source": [
    "import stapi\n",
    "import requests\n",
    "from bs4 import BeautifulSoup as BS\n",
    "import pandas as pd\n",
    "import pickle\n",
    "import re\n",
    "from tqdm import tqdm\n",
    "from pathlib import Path\n",
    "import urllib\n",
    "import pyarrow"
   ]
  },
  {
   "cell_type": "code",
   "execution_count": 2,
   "metadata": {},
   "outputs": [
    {
     "name": "stdout",
     "output_type": "stream",
     "text": [
      "{'page': {'pageNumber': 0, 'pageSize': 50, 'numberOfElements': 50, 'totalElements': 63, 'totalPages': 2, 'firstPage': True, 'lastPage': False}, 'sort': {'clauses': []}, 'animals': [{'uid': 'ANMA0000028273', 'name': 'Arbazan vulture', 'earthAnimal': False, 'earthInsect': False, 'avian': True, 'canine': False, 'feline': False}, {'uid': 'ANMA0000022561', 'name': 'Arcturian dog bird', 'earthAnimal': False, 'earthInsect': False, 'avian': True, 'canine': False, 'feline': False}, {'uid': 'ANMA0000039166', 'name': 'Arkarian horn fowl', 'earthAnimal': False, 'earthInsect': False, 'avian': True, 'canine': False, 'feline': False}, {'uid': 'ANMA0000000111', 'name': 'Aurelian', 'earthAnimal': False, 'earthInsect': False, 'avian': True, 'canine': False, 'feline': False}, {'uid': 'ANMA0000086683', 'name': 'Baneriam hawk', 'earthAnimal': False, 'earthInsect': False, 'avian': True, 'canine': False, 'feline': False}, {'uid': 'ANMA0000231825', 'name': 'Betelgeusian', 'earthAnimal': False, 'earthInsect': False, 'avian': True, 'canine': False, 'feline': False}, {'uid': 'ANMA0000044752', 'name': 'Blackbird', 'earthAnimal': True, 'earthInsect': False, 'avian': True, 'canine': False, 'feline': False}, {'uid': 'ANMA0000222207', 'name': 'Borogove', 'earthAnimal': False, 'earthInsect': False, 'avian': True, 'canine': False, 'feline': False}, {'uid': 'ANMA0000229045', 'name': 'Buzzard', 'earthAnimal': True, 'earthInsect': False, 'avian': True, 'canine': False, 'feline': False}, {'uid': 'ANMA0000083765', 'name': 'Canary', 'earthAnimal': True, 'earthInsect': False, 'avian': True, 'canine': False, 'feline': False}, {'uid': 'ANMA0000030561', 'name': 'Chicken', 'earthAnimal': True, 'earthInsect': False, 'avian': True, 'canine': False, 'feline': False}, {'uid': 'ANMA0000101498', 'name': 'Cockatoo', 'earthAnimal': True, 'earthInsect': False, 'avian': True, 'canine': False, 'feline': False}, {'uid': 'ANMA0000206790', 'name': 'Corvidae', 'earthAnimal': False, 'earthInsect': False, 'avian': True, 'canine': False, 'feline': False}, {'uid': 'ANMA0000051211', 'name': 'Crow', 'earthAnimal': True, 'earthInsect': False, 'avian': True, 'canine': False, 'feline': False}, {'uid': 'ANMA0000200109', 'name': 'Cuckoo', 'earthAnimal': True, 'earthInsect': False, 'avian': True, 'canine': False, 'feline': False}, {'uid': 'ANMA0000240595', 'name': 'Cyclops owl', 'earthAnimal': False, 'earthInsect': False, 'avian': True, 'canine': False, 'feline': False}, {'uid': 'ANMA0000254535', 'name': 'Dove', 'earthAnimal': True, 'earthInsect': False, 'avian': True, 'canine': False, 'feline': False}, {'uid': 'ANMA0000031999', 'name': 'Duck', 'earthAnimal': True, 'earthInsect': False, 'avian': True, 'canine': False, 'feline': False}, {'uid': 'ANMA0000079699', 'name': 'Dunghill bird', 'earthAnimal': False, 'earthInsect': False, 'avian': True, 'canine': False, 'feline': False}, {'uid': 'ANMA0000116671', 'name': 'Eagle', 'earthAnimal': True, 'earthInsect': False, 'avian': True, 'canine': False, 'feline': False}, {'uid': 'ANMA0000016802', 'name': 'Eel-bird', 'earthAnimal': False, 'earthInsect': False, 'avian': True, 'canine': False, 'feline': False}, {'uid': 'ANMA0000165880', 'name': 'Finch', 'earthAnimal': True, 'earthInsect': False, 'avian': True, 'canine': False, 'feline': False}, {'uid': 'ANMA0000028278', 'name': 'Flitterbird', 'earthAnimal': False, 'earthInsect': False, 'avian': True, 'canine': False, 'feline': False}, {'uid': 'ANMA0000240950', 'name': 'Fowl', 'earthAnimal': False, 'earthInsect': False, 'avian': True, 'canine': False, 'feline': False}, {'uid': 'ANMA0000028292', 'name': 'Goose', 'earthAnimal': True, 'earthInsect': False, 'avian': True, 'canine': False, 'feline': False}, {'uid': 'ANMA0000109389', 'name': 'Great Egret', 'earthAnimal': True, 'earthInsect': False, 'avian': True, 'canine': False, 'feline': False}, {'uid': 'ANMA0000089288', 'name': 'Great Horned Owl', 'earthAnimal': True, 'earthInsect': False, 'avian': True, 'canine': False, 'feline': False}, {'uid': 'ANMA0000031960', 'name': 'Gunji jackdaw', 'earthAnimal': False, 'earthInsect': False, 'avian': True, 'canine': False, 'feline': False}, {'uid': 'ANMA0000031955', 'name': 'Hawk', 'earthAnimal': True, 'earthInsect': False, 'avian': True, 'canine': False, 'feline': False}, {'uid': 'ANMA0000012913', 'name': 'Humanoid bird', 'earthAnimal': False, 'earthInsect': False, 'avian': True, 'canine': False, 'feline': False}, {'uid': 'ANMA0000075740', 'name': 'Joranian ostrich', 'earthAnimal': False, 'earthInsect': False, 'avian': True, 'canine': False, 'feline': False}, {'uid': 'ANMA0000083768', 'name': 'Loon', 'earthAnimal': True, 'earthInsect': False, 'avian': True, 'canine': False, 'feline': False}, {'uid': 'ANMA0000243933', 'name': 'Lovebirds', 'earthAnimal': False, 'earthInsect': False, 'avian': True, 'canine': False, 'feline': False}, {'uid': 'ANMA0000082695', 'name': 'Luhvian quail', 'earthAnimal': False, 'earthInsect': False, 'avian': True, 'canine': False, 'feline': False}, {'uid': 'ANMA0000044245', 'name': 'Macaw', 'earthAnimal': True, 'earthInsect': False, 'avian': True, 'canine': False, 'feline': False}, {'uid': 'ANMA0000012895', 'name': 'Norpin falcon', 'earthAnimal': False, 'earthInsect': False, 'avian': True, 'canine': False, 'feline': False}, {'uid': 'ANMA0000078336', 'name': 'Parrot', 'earthAnimal': True, 'earthInsect': False, 'avian': True, 'canine': False, 'feline': False}, {'uid': 'ANMA0000041332', 'name': 'Passenger pigeon', 'earthAnimal': True, 'earthInsect': False, 'avian': True, 'canine': False, 'feline': False}, {'uid': 'ANMA0000101497', 'name': 'Peacock', 'earthAnimal': True, 'earthInsect': False, 'avian': True, 'canine': False, 'feline': False}, {'uid': 'ANMA0000080768', 'name': 'Pigeon', 'earthAnimal': True, 'earthInsect': False, 'avian': True, 'canine': False, 'feline': False}, {'uid': 'ANMA0000031953', 'name': 'Pyrithian moon hawk', 'earthAnimal': False, 'earthInsect': False, 'avian': True, 'canine': False, 'feline': False}, {'uid': 'ANMA0000053355', 'name': 'Quail', 'earthAnimal': True, 'earthInsect': False, 'avian': True, 'canine': False, 'feline': False}, {'uid': 'ANMA0000068707', 'name': 'Raptor', 'earthAnimal': False, 'earthInsect': False, 'avian': True, 'canine': False, 'feline': False}, {'uid': 'ANMA0000031942', 'name': 'Raven', 'earthAnimal': True, 'earthInsect': False, 'avian': True, 'canine': False, 'feline': False}, {'uid': 'ANMA0000042248', 'name': 'Rectilian vulture', 'earthAnimal': False, 'earthInsect': False, 'avian': True, 'canine': False, 'feline': False}, {'uid': 'ANMA0000031951', 'name': 'Reeta-hawk', 'earthAnimal': False, 'earthInsect': False, 'avian': True, 'canine': False, 'feline': False}, {'uid': 'ANMA0000037173', 'name': 'Risian bird', 'earthAnimal': False, 'earthInsect': False, 'avian': True, 'canine': False, 'feline': False}, {'uid': 'ANMA0000036227', 'name': 'Seagull', 'earthAnimal': True, 'earthInsect': False, 'avian': True, 'canine': False, 'feline': False}, {'uid': 'ANMA0000287781', 'name': 'Shrike', 'earthAnimal': True, 'earthInsect': False, 'avian': True, 'canine': False, 'feline': False}, {'uid': 'ANMA0000028706', 'name': 'Skorr', 'earthAnimal': False, 'earthInsect': False, 'avian': True, 'canine': False, 'feline': False}]}\n"
     ]
    }
   ],
   "source": [
    "# these are tests for the stapi.search\n",
    "criteria = stapi.search_criteria.AnimalSearchCriteria(0, 50, \"\", avian=True)\n",
    "response = stapi.RestClient().animal.search(criteria)\n",
    "# response now contains results from the API, in this case the first fifty animals which are avians\n",
    "print(response)"
   ]
  },
  {
   "cell_type": "code",
   "execution_count": 3,
   "metadata": {},
   "outputs": [
    {
     "data": {
      "text/plain": [
       "3"
      ]
     },
     "execution_count": 3,
     "metadata": {},
     "output_type": "execute_result"
    }
   ],
   "source": [
    "# test with larger file read\n",
    "criteria = stapi.search_criteria.AnimalSearchCriteria(0, 100, \"\", avian=True)\n",
    "response = stapi.RestClient().animal.search(criteria)\n",
    "len(response)"
   ]
  },
  {
   "cell_type": "code",
   "execution_count": 4,
   "metadata": {},
   "outputs": [
    {
     "data": {
      "text/plain": [
       "'PLANET'"
      ]
     },
     "execution_count": 4,
     "metadata": {},
     "output_type": "execute_result"
    }
   ],
   "source": [
    "rest_client = stapi.RestClient()\n",
    "loracus = rest_client.astronomicalObject.get(\"ASMA0000012319\")\n",
    "loracus.astronomicalObjectType"
   ]
  },
  {
   "cell_type": "code",
   "execution_count": 5,
   "metadata": {},
   "outputs": [
    {
     "name": "stdout",
     "output_type": "stream",
     "text": [
      "<stapi.full.AstronomicalObjectFull object at 0x000001BCD474F130>\n",
      "['__class__', '__delattr__', '__dict__', '__dir__', '__doc__', '__eq__', '__format__', '__ge__', '__getattribute__', '__gt__', '__hash__', '__init__', '__init_subclass__', '__le__', '__lt__', '__module__', '__ne__', '__new__', '__reduce__', '__reduce_ex__', '__repr__', '__setattr__', '__sizeof__', '__str__', '__subclasshook__', '__weakref__', 'astronomicalObjectType', 'astronomicalObjects', 'location', 'name', 'uid']\n",
      "Loracus Prime\n"
     ]
    }
   ],
   "source": [
    "rc = stapi.RestClient()\n",
    "loracus = rc.astronomicalObject.get(\"ASMA0000012319\")\n",
    "print(loracus)\n",
    "print(dir(loracus))\n",
    "print(loracus.name)"
   ]
  },
  {
   "attachments": {},
   "cell_type": "markdown",
   "metadata": {},
   "source": [
    "We see Stapi is working, so let's try running Characters, Planets/Places, Species, Vehicles/Starships"
   ]
  },
  {
   "cell_type": "code",
   "execution_count": 6,
   "metadata": {},
   "outputs": [
    {
     "name": "stdout",
     "output_type": "stream",
     "text": [
      "{'page': {'pageNumber': 0, 'pageSize': 50, 'numberOfElements': 50, 'totalElements': 7571, 'totalPages': 152, 'firstPage': True, 'lastPage': False}, 'sort': {'clauses': []}, 'characters': [{'uid': 'CHMA0000215045', 'name': '0413 Theta', 'gender': None, 'yearOfBirth': None, 'monthOfBirth': None, 'dayOfBirth': None, 'placeOfBirth': None, 'yearOfDeath': None, 'monthOfDeath': None, 'dayOfDeath': None, 'placeOfDeath': None, 'height': None, 'weight': None, 'deceased': None, 'bloodType': None, 'maritalStatus': None, 'serialNumber': None, 'hologramActivationDate': None, 'hologramStatus': None, 'hologramDateStatus': None, 'hologram': False, 'fictionalCharacter': False, 'mirror': True, 'alternateReality': False}, {'uid': 'CHMA0000174718', 'name': '0718', 'gender': 'M', 'yearOfBirth': 2259, 'monthOfBirth': None, 'dayOfBirth': None, 'placeOfBirth': None, 'yearOfDeath': None, 'monthOfDeath': None, 'dayOfDeath': None, 'placeOfDeath': None, 'height': None, 'weight': None, 'deceased': None, 'bloodType': None, 'maritalStatus': None, 'serialNumber': None, 'hologramActivationDate': None, 'hologramStatus': None, 'hologramDateStatus': None, 'hologram': False, 'fictionalCharacter': False, 'mirror': False, 'alternateReality': True}, {'uid': 'CHMA0000283851', 'name': '10111', 'gender': None, 'yearOfBirth': None, 'monthOfBirth': None, 'dayOfBirth': None, 'placeOfBirth': None, 'yearOfDeath': None, 'monthOfDeath': None, 'dayOfDeath': None, 'placeOfDeath': None, 'height': None, 'weight': None, 'deceased': None, 'bloodType': None, 'maritalStatus': None, 'serialNumber': None, 'hologramActivationDate': None, 'hologramStatus': None, 'hologramDateStatus': None, 'hologram': False, 'fictionalCharacter': False, 'mirror': False, 'alternateReality': False}, {'uid': 'CHMA0000278055', 'name': '335', 'gender': None, 'yearOfBirth': None, 'monthOfBirth': None, 'dayOfBirth': None, 'placeOfBirth': None, 'yearOfDeath': None, 'monthOfDeath': None, 'dayOfDeath': None, 'placeOfDeath': None, 'height': None, 'weight': None, 'deceased': None, 'bloodType': None, 'maritalStatus': None, 'serialNumber': None, 'hologramActivationDate': None, 'hologramStatus': None, 'hologramDateStatus': None, 'hologram': False, 'fictionalCharacter': False, 'mirror': False, 'alternateReality': False}, {'uid': 'CHMA0000282741', 'name': '355', 'gender': None, 'yearOfBirth': None, 'monthOfBirth': None, 'dayOfBirth': None, 'placeOfBirth': None, 'yearOfDeath': None, 'monthOfDeath': None, 'dayOfDeath': None, 'placeOfDeath': None, 'height': None, 'weight': None, 'deceased': None, 'bloodType': None, 'maritalStatus': None, 'serialNumber': None, 'hologramActivationDate': None, 'hologramStatus': None, 'hologramDateStatus': None, 'hologram': False, 'fictionalCharacter': False, 'mirror': False, 'alternateReality': False}, {'uid': 'CHMA0000026532', 'name': \"A'trom\", 'gender': None, 'yearOfBirth': None, 'monthOfBirth': None, 'dayOfBirth': None, 'placeOfBirth': None, 'yearOfDeath': None, 'monthOfDeath': None, 'dayOfDeath': None, 'placeOfDeath': None, 'height': None, 'weight': None, 'deceased': None, 'bloodType': None, 'maritalStatus': None, 'serialNumber': None, 'hologramActivationDate': None, 'hologramStatus': None, 'hologramDateStatus': None, 'hologram': False, 'fictionalCharacter': False, 'mirror': False, 'alternateReality': False}, {'uid': 'CHMA0000280385', 'name': 'A. Armaganian', 'gender': None, 'yearOfBirth': None, 'monthOfBirth': None, 'dayOfBirth': None, 'placeOfBirth': None, 'yearOfDeath': None, 'monthOfDeath': None, 'dayOfDeath': None, 'placeOfDeath': None, 'height': None, 'weight': None, 'deceased': None, 'bloodType': None, 'maritalStatus': None, 'serialNumber': None, 'hologramActivationDate': None, 'hologramStatus': None, 'hologramDateStatus': None, 'hologram': False, 'fictionalCharacter': False, 'mirror': False, 'alternateReality': False}, {'uid': 'CHMA0000226457', 'name': 'A. Baiers', 'gender': None, 'yearOfBirth': None, 'monthOfBirth': None, 'dayOfBirth': None, 'placeOfBirth': None, 'yearOfDeath': None, 'monthOfDeath': None, 'dayOfDeath': None, 'placeOfDeath': None, 'height': None, 'weight': None, 'deceased': None, 'bloodType': None, 'maritalStatus': None, 'serialNumber': None, 'hologramActivationDate': None, 'hologramStatus': None, 'hologramDateStatus': None, 'hologram': False, 'fictionalCharacter': False, 'mirror': False, 'alternateReality': False}, {'uid': 'CHMA0000232390', 'name': 'A. Baiers', 'gender': None, 'yearOfBirth': None, 'monthOfBirth': None, 'dayOfBirth': None, 'placeOfBirth': None, 'yearOfDeath': None, 'monthOfDeath': None, 'dayOfDeath': None, 'placeOfDeath': None, 'height': None, 'weight': None, 'deceased': None, 'bloodType': None, 'maritalStatus': None, 'serialNumber': None, 'hologramActivationDate': None, 'hologramStatus': None, 'hologramDateStatus': None, 'hologram': False, 'fictionalCharacter': False, 'mirror': True, 'alternateReality': False}, {'uid': 'CHMA0000068580', 'name': 'A. Banda', 'gender': None, 'yearOfBirth': None, 'monthOfBirth': None, 'dayOfBirth': None, 'placeOfBirth': None, 'yearOfDeath': None, 'monthOfDeath': None, 'dayOfDeath': None, 'placeOfDeath': None, 'height': None, 'weight': None, 'deceased': None, 'bloodType': None, 'maritalStatus': None, 'serialNumber': None, 'hologramActivationDate': None, 'hologramStatus': None, 'hologramDateStatus': None, 'hologram': False, 'fictionalCharacter': False, 'mirror': False, 'alternateReality': False}, {'uid': 'CHMA0000053843', 'name': 'A. Bormanis', 'gender': None, 'yearOfBirth': None, 'monthOfBirth': None, 'dayOfBirth': None, 'placeOfBirth': None, 'yearOfDeath': None, 'monthOfDeath': None, 'dayOfDeath': None, 'placeOfDeath': None, 'height': None, 'weight': None, 'deceased': None, 'bloodType': None, 'maritalStatus': None, 'serialNumber': None, 'hologramActivationDate': None, 'hologramStatus': None, 'hologramDateStatus': None, 'hologram': False, 'fictionalCharacter': False, 'mirror': False, 'alternateReality': False}, {'uid': 'CHMA0000069222', 'name': 'A. Bro', 'gender': None, 'yearOfBirth': None, 'monthOfBirth': None, 'dayOfBirth': None, 'placeOfBirth': None, 'yearOfDeath': None, 'monthOfDeath': None, 'dayOfDeath': None, 'placeOfDeath': None, 'height': None, 'weight': None, 'deceased': None, 'bloodType': None, 'maritalStatus': None, 'serialNumber': None, 'hologramActivationDate': None, 'hologramStatus': None, 'hologramDateStatus': None, 'hologram': False, 'fictionalCharacter': False, 'mirror': False, 'alternateReality': False}, {'uid': 'CHMA0000280434', 'name': 'A. Brock', 'gender': None, 'yearOfBirth': None, 'monthOfBirth': None, 'dayOfBirth': None, 'placeOfBirth': None, 'yearOfDeath': None, 'monthOfDeath': None, 'dayOfDeath': None, 'placeOfDeath': None, 'height': None, 'weight': None, 'deceased': None, 'bloodType': None, 'maritalStatus': None, 'serialNumber': None, 'hologramActivationDate': None, 'hologramStatus': None, 'hologramDateStatus': None, 'hologram': False, 'fictionalCharacter': False, 'mirror': False, 'alternateReality': False}, {'uid': 'CHMA0000069227', 'name': 'A. Codron', 'gender': None, 'yearOfBirth': None, 'monthOfBirth': None, 'dayOfBirth': None, 'placeOfBirth': None, 'yearOfDeath': None, 'monthOfDeath': None, 'dayOfDeath': None, 'placeOfDeath': None, 'height': None, 'weight': None, 'deceased': None, 'bloodType': None, 'maritalStatus': None, 'serialNumber': None, 'hologramActivationDate': None, 'hologramStatus': None, 'hologramDateStatus': None, 'hologram': False, 'fictionalCharacter': False, 'mirror': False, 'alternateReality': False}, {'uid': 'CHMA0000226461', 'name': 'A. Coleite', 'gender': None, 'yearOfBirth': None, 'monthOfBirth': None, 'dayOfBirth': None, 'placeOfBirth': None, 'yearOfDeath': None, 'monthOfDeath': None, 'dayOfDeath': None, 'placeOfDeath': None, 'height': None, 'weight': None, 'deceased': None, 'bloodType': None, 'maritalStatus': None, 'serialNumber': None, 'hologramActivationDate': None, 'hologramStatus': None, 'hologramDateStatus': None, 'hologram': False, 'fictionalCharacter': False, 'mirror': False, 'alternateReality': False}, {'uid': 'CHMA0000232387', 'name': 'A. Coleite', 'gender': None, 'yearOfBirth': None, 'monthOfBirth': None, 'dayOfBirth': None, 'placeOfBirth': None, 'yearOfDeath': None, 'monthOfDeath': None, 'dayOfDeath': None, 'placeOfDeath': None, 'height': None, 'weight': None, 'deceased': None, 'bloodType': None, 'maritalStatus': None, 'serialNumber': None, 'hologramActivationDate': None, 'hologramStatus': None, 'hologramDateStatus': None, 'hologram': False, 'fictionalCharacter': False, 'mirror': True, 'alternateReality': False}, {'uid': 'CHMA0000245906', 'name': 'A. Colville', 'gender': None, 'yearOfBirth': None, 'monthOfBirth': None, 'dayOfBirth': None, 'placeOfBirth': None, 'yearOfDeath': None, 'monthOfDeath': None, 'dayOfDeath': None, 'placeOfDeath': None, 'height': None, 'weight': None, 'deceased': None, 'bloodType': None, 'maritalStatus': None, 'serialNumber': None, 'hologramActivationDate': None, 'hologramStatus': None, 'hologramDateStatus': None, 'hologram': False, 'fictionalCharacter': False, 'mirror': False, 'alternateReality': False}, {'uid': 'CHMA0000280373', 'name': 'A. Cooper', 'gender': None, 'yearOfBirth': None, 'monthOfBirth': None, 'dayOfBirth': None, 'placeOfBirth': None, 'yearOfDeath': None, 'monthOfDeath': None, 'dayOfDeath': None, 'placeOfDeath': None, 'height': None, 'weight': None, 'deceased': None, 'bloodType': None, 'maritalStatus': None, 'serialNumber': None, 'hologramActivationDate': None, 'hologramStatus': None, 'hologramDateStatus': None, 'hologram': False, 'fictionalCharacter': False, 'mirror': False, 'alternateReality': False}, {'uid': 'CHMA0000143026', 'name': 'A. Deguzman', 'gender': None, 'yearOfBirth': None, 'monthOfBirth': None, 'dayOfBirth': None, 'placeOfBirth': None, 'yearOfDeath': None, 'monthOfDeath': None, 'dayOfDeath': None, 'placeOfDeath': None, 'height': None, 'weight': None, 'deceased': None, 'bloodType': None, 'maritalStatus': None, 'serialNumber': None, 'hologramActivationDate': None, 'hologramStatus': None, 'hologramDateStatus': None, 'hologram': False, 'fictionalCharacter': False, 'mirror': False, 'alternateReality': False}, {'uid': 'CHMA0000250125', 'name': 'A. Dekovic', 'gender': None, 'yearOfBirth': None, 'monthOfBirth': None, 'dayOfBirth': None, 'placeOfBirth': None, 'yearOfDeath': None, 'monthOfDeath': None, 'dayOfDeath': None, 'placeOfDeath': None, 'height': None, 'weight': None, 'deceased': None, 'bloodType': None, 'maritalStatus': None, 'serialNumber': None, 'hologramActivationDate': None, 'hologramStatus': None, 'hologramDateStatus': None, 'hologram': False, 'fictionalCharacter': False, 'mirror': False, 'alternateReality': False}, {'uid': 'CHMA0000139474', 'name': 'A. Dominguez', 'gender': None, 'yearOfBirth': None, 'monthOfBirth': None, 'dayOfBirth': None, 'placeOfBirth': None, 'yearOfDeath': None, 'monthOfDeath': None, 'dayOfDeath': None, 'placeOfDeath': None, 'height': None, 'weight': None, 'deceased': None, 'bloodType': None, 'maritalStatus': None, 'serialNumber': None, 'hologramActivationDate': None, 'hologramStatus': None, 'hologramDateStatus': None, 'hologram': False, 'fictionalCharacter': False, 'mirror': False, 'alternateReality': False}, {'uid': 'CHMA0000110557', 'name': 'A. Eastman', 'gender': None, 'yearOfBirth': None, 'monthOfBirth': None, 'dayOfBirth': None, 'placeOfBirth': None, 'yearOfDeath': None, 'monthOfDeath': None, 'dayOfDeath': None, 'placeOfDeath': None, 'height': None, 'weight': None, 'deceased': None, 'bloodType': None, 'maritalStatus': None, 'serialNumber': None, 'hologramActivationDate': None, 'hologramStatus': None, 'hologramDateStatus': None, 'hologram': False, 'fictionalCharacter': False, 'mirror': False, 'alternateReality': False}, {'uid': 'CHMA0000068579', 'name': 'A. Estradajem', 'gender': None, 'yearOfBirth': None, 'monthOfBirth': None, 'dayOfBirth': None, 'placeOfBirth': None, 'yearOfDeath': None, 'monthOfDeath': None, 'dayOfDeath': None, 'placeOfDeath': None, 'height': None, 'weight': None, 'deceased': None, 'bloodType': None, 'maritalStatus': None, 'serialNumber': None, 'hologramActivationDate': None, 'hologramStatus': None, 'hologramDateStatus': None, 'hologram': False, 'fictionalCharacter': False, 'mirror': False, 'alternateReality': False}, {'uid': 'CHMA0000279362', 'name': 'A. Finch', 'gender': None, 'yearOfBirth': None, 'monthOfBirth': None, 'dayOfBirth': None, 'placeOfBirth': None, 'yearOfDeath': None, 'monthOfDeath': None, 'dayOfDeath': None, 'placeOfDeath': None, 'height': None, 'weight': None, 'deceased': None, 'bloodType': None, 'maritalStatus': None, 'serialNumber': None, 'hologramActivationDate': None, 'hologramStatus': None, 'hologramDateStatus': None, 'hologram': False, 'fictionalCharacter': False, 'mirror': False, 'alternateReality': False}, {'uid': 'CHMA0000055407', 'name': 'A. Fredrickson', 'gender': None, 'yearOfBirth': None, 'monthOfBirth': None, 'dayOfBirth': None, 'placeOfBirth': None, 'yearOfDeath': None, 'monthOfDeath': None, 'dayOfDeath': None, 'placeOfDeath': None, 'height': None, 'weight': None, 'deceased': None, 'bloodType': None, 'maritalStatus': None, 'serialNumber': None, 'hologramActivationDate': None, 'hologramStatus': None, 'hologramDateStatus': None, 'hologram': False, 'fictionalCharacter': False, 'mirror': False, 'alternateReality': False}, {'uid': 'CHMA0000069363', 'name': 'A. Fredrickson', 'gender': None, 'yearOfBirth': None, 'monthOfBirth': None, 'dayOfBirth': None, 'placeOfBirth': None, 'yearOfDeath': None, 'monthOfDeath': None, 'dayOfDeath': None, 'placeOfDeath': None, 'height': None, 'weight': None, 'deceased': None, 'bloodType': None, 'maritalStatus': None, 'serialNumber': None, 'hologramActivationDate': None, 'hologramStatus': None, 'hologramDateStatus': None, 'hologram': False, 'fictionalCharacter': False, 'mirror': False, 'alternateReality': False}, {'uid': 'CHMA0000052542', 'name': 'A. Fukai', 'gender': None, 'yearOfBirth': None, 'monthOfBirth': None, 'dayOfBirth': None, 'placeOfBirth': None, 'yearOfDeath': None, 'monthOfDeath': None, 'dayOfDeath': None, 'placeOfDeath': None, 'height': None, 'weight': None, 'deceased': None, 'bloodType': None, 'maritalStatus': None, 'serialNumber': None, 'hologramActivationDate': None, 'hologramStatus': None, 'hologramDateStatus': None, 'hologram': False, 'fictionalCharacter': False, 'mirror': False, 'alternateReality': False}, {'uid': 'CHMA0000190813', 'name': 'A. Geary', 'gender': None, 'yearOfBirth': None, 'monthOfBirth': None, 'dayOfBirth': None, 'placeOfBirth': None, 'yearOfDeath': None, 'monthOfDeath': None, 'dayOfDeath': None, 'placeOfDeath': None, 'height': None, 'weight': None, 'deceased': None, 'bloodType': None, 'maritalStatus': None, 'serialNumber': None, 'hologramActivationDate': None, 'hologramStatus': None, 'hologramDateStatus': None, 'hologram': False, 'fictionalCharacter': False, 'mirror': False, 'alternateReality': False}, {'uid': 'CHMA0000226465', 'name': 'A. Goldsman', 'gender': None, 'yearOfBirth': None, 'monthOfBirth': None, 'dayOfBirth': None, 'placeOfBirth': None, 'yearOfDeath': None, 'monthOfDeath': None, 'dayOfDeath': None, 'placeOfDeath': None, 'height': None, 'weight': None, 'deceased': None, 'bloodType': None, 'maritalStatus': None, 'serialNumber': None, 'hologramActivationDate': None, 'hologramStatus': None, 'hologramDateStatus': None, 'hologram': False, 'fictionalCharacter': False, 'mirror': False, 'alternateReality': False}, {'uid': 'CHMA0000232381', 'name': 'A. Goldsman', 'gender': None, 'yearOfBirth': None, 'monthOfBirth': None, 'dayOfBirth': None, 'placeOfBirth': None, 'yearOfDeath': None, 'monthOfDeath': None, 'dayOfDeath': None, 'placeOfDeath': None, 'height': None, 'weight': None, 'deceased': None, 'bloodType': None, 'maritalStatus': None, 'serialNumber': None, 'hologramActivationDate': None, 'hologramStatus': None, 'hologramDateStatus': None, 'hologram': False, 'fictionalCharacter': False, 'mirror': True, 'alternateReality': False}, {'uid': 'CHMA0000226466', 'name': 'A. Harberts', 'gender': None, 'yearOfBirth': None, 'monthOfBirth': None, 'dayOfBirth': None, 'placeOfBirth': None, 'yearOfDeath': None, 'monthOfDeath': None, 'dayOfDeath': None, 'placeOfDeath': None, 'height': None, 'weight': None, 'deceased': None, 'bloodType': None, 'maritalStatus': None, 'serialNumber': None, 'hologramActivationDate': None, 'hologramStatus': None, 'hologramDateStatus': None, 'hologram': False, 'fictionalCharacter': False, 'mirror': False, 'alternateReality': False}, {'uid': 'CHMA0000232380', 'name': 'A. Harberts', 'gender': None, 'yearOfBirth': None, 'monthOfBirth': None, 'dayOfBirth': None, 'placeOfBirth': None, 'yearOfDeath': None, 'monthOfDeath': None, 'dayOfDeath': None, 'placeOfDeath': None, 'height': None, 'weight': None, 'deceased': None, 'bloodType': None, 'maritalStatus': None, 'serialNumber': None, 'hologramActivationDate': None, 'hologramStatus': None, 'hologramDateStatus': None, 'hologram': False, 'fictionalCharacter': False, 'mirror': True, 'alternateReality': False}, {'uid': 'CHMA0000236588', 'name': 'A. Haye', 'gender': None, 'yearOfBirth': None, 'monthOfBirth': None, 'dayOfBirth': None, 'placeOfBirth': None, 'yearOfDeath': None, 'monthOfDeath': None, 'dayOfDeath': None, 'placeOfDeath': None, 'height': None, 'weight': None, 'deceased': None, 'bloodType': None, 'maritalStatus': None, 'serialNumber': None, 'hologramActivationDate': None, 'hologramStatus': None, 'hologramDateStatus': None, 'hologram': False, 'fictionalCharacter': False, 'mirror': False, 'alternateReality': False}, {'uid': 'CHMA0000093598', 'name': 'A. Henry', 'gender': None, 'yearOfBirth': None, 'monthOfBirth': None, 'dayOfBirth': None, 'placeOfBirth': None, 'yearOfDeath': None, 'monthOfDeath': None, 'dayOfDeath': None, 'placeOfDeath': None, 'height': None, 'weight': None, 'deceased': None, 'bloodType': None, 'maritalStatus': None, 'serialNumber': None, 'hologramActivationDate': None, 'hologramStatus': None, 'hologramDateStatus': None, 'hologram': False, 'fictionalCharacter': False, 'mirror': False, 'alternateReality': False}, {'uid': 'CHMA0000097273', 'name': 'A. Jacobson', 'gender': None, 'yearOfBirth': None, 'monthOfBirth': None, 'dayOfBirth': None, 'placeOfBirth': None, 'yearOfDeath': None, 'monthOfDeath': None, 'dayOfDeath': None, 'placeOfDeath': None, 'height': None, 'weight': None, 'deceased': None, 'bloodType': None, 'maritalStatus': None, 'serialNumber': None, 'hologramActivationDate': None, 'hologramStatus': None, 'hologramDateStatus': None, 'hologram': False, 'fictionalCharacter': False, 'mirror': False, 'alternateReality': False}, {'uid': 'CHMA0000278580', 'name': 'A. Jacobson', 'gender': None, 'yearOfBirth': None, 'monthOfBirth': None, 'dayOfBirth': None, 'placeOfBirth': None, 'yearOfDeath': None, 'monthOfDeath': None, 'dayOfDeath': None, 'placeOfDeath': None, 'height': None, 'weight': None, 'deceased': None, 'bloodType': None, 'maritalStatus': None, 'serialNumber': None, 'hologramActivationDate': None, 'hologramStatus': None, 'hologramDateStatus': None, 'hologram': False, 'fictionalCharacter': False, 'mirror': True, 'alternateReality': False}, {'uid': 'CHMA0000069199', 'name': 'A. Jacque-Metton', 'gender': None, 'yearOfBirth': None, 'monthOfBirth': None, 'dayOfBirth': None, 'placeOfBirth': None, 'yearOfDeath': None, 'monthOfDeath': None, 'dayOfDeath': None, 'placeOfDeath': None, 'height': None, 'weight': None, 'deceased': None, 'bloodType': None, 'maritalStatus': None, 'serialNumber': None, 'hologramActivationDate': None, 'hologramStatus': None, 'hologramDateStatus': None, 'hologram': False, 'fictionalCharacter': False, 'mirror': False, 'alternateReality': False}, {'uid': 'CHMA0000069221', 'name': 'A. Kay', 'gender': None, 'yearOfBirth': None, 'monthOfBirth': None, 'dayOfBirth': None, 'placeOfBirth': None, 'yearOfDeath': None, 'monthOfDeath': None, 'dayOfDeath': None, 'placeOfDeath': None, 'height': None, 'weight': None, 'deceased': None, 'bloodType': None, 'maritalStatus': None, 'serialNumber': None, 'hologramActivationDate': None, 'hologramStatus': None, 'hologramDateStatus': None, 'hologram': False, 'fictionalCharacter': False, 'mirror': False, 'alternateReality': False}, {'uid': 'CHMA0000139668', 'name': 'A. Kobayashi', 'gender': None, 'yearOfBirth': None, 'monthOfBirth': None, 'dayOfBirth': None, 'placeOfBirth': None, 'yearOfDeath': None, 'monthOfDeath': None, 'dayOfDeath': None, 'placeOfDeath': None, 'height': None, 'weight': None, 'deceased': None, 'bloodType': None, 'maritalStatus': None, 'serialNumber': None, 'hologramActivationDate': None, 'hologramStatus': None, 'hologramDateStatus': None, 'hologram': False, 'fictionalCharacter': False, 'mirror': False, 'alternateReality': False}, {'uid': 'CHMA0000245733', 'name': 'A. Kochoska', 'gender': None, 'yearOfBirth': None, 'monthOfBirth': None, 'dayOfBirth': None, 'placeOfBirth': None, 'yearOfDeath': None, 'monthOfDeath': None, 'dayOfDeath': None, 'placeOfDeath': None, 'height': None, 'weight': None, 'deceased': None, 'bloodType': None, 'maritalStatus': None, 'serialNumber': None, 'hologramActivationDate': None, 'hologramStatus': None, 'hologramDateStatus': None, 'hologram': False, 'fictionalCharacter': False, 'mirror': False, 'alternateReality': False}, {'uid': 'CHMA0000190736', 'name': 'A. Kroeker', 'gender': None, 'yearOfBirth': None, 'monthOfBirth': None, 'dayOfBirth': None, 'placeOfBirth': None, 'yearOfDeath': None, 'monthOfDeath': None, 'dayOfDeath': None, 'placeOfDeath': None, 'height': None, 'weight': None, 'deceased': None, 'bloodType': None, 'maritalStatus': None, 'serialNumber': None, 'hologramActivationDate': None, 'hologramStatus': None, 'hologramDateStatus': None, 'hologram': False, 'fictionalCharacter': False, 'mirror': False, 'alternateReality': False}, {'uid': 'CHMA0000226470', 'name': 'A. Kurtzman', 'gender': None, 'yearOfBirth': None, 'monthOfBirth': None, 'dayOfBirth': None, 'placeOfBirth': None, 'yearOfDeath': None, 'monthOfDeath': None, 'dayOfDeath': None, 'placeOfDeath': None, 'height': None, 'weight': None, 'deceased': None, 'bloodType': None, 'maritalStatus': None, 'serialNumber': None, 'hologramActivationDate': None, 'hologramStatus': None, 'hologramDateStatus': None, 'hologram': False, 'fictionalCharacter': False, 'mirror': False, 'alternateReality': False}, {'uid': 'CHMA0000232377', 'name': 'A. Kurtzman', 'gender': None, 'yearOfBirth': None, 'monthOfBirth': None, 'dayOfBirth': None, 'placeOfBirth': None, 'yearOfDeath': None, 'monthOfDeath': None, 'dayOfDeath': None, 'placeOfDeath': None, 'height': None, 'weight': None, 'deceased': None, 'bloodType': None, 'maritalStatus': None, 'serialNumber': None, 'hologramActivationDate': None, 'hologramStatus': None, 'hologramDateStatus': None, 'hologram': False, 'fictionalCharacter': False, 'mirror': True, 'alternateReality': False}, {'uid': 'CHMA0000167481', 'name': 'A. Lambert', 'gender': None, 'yearOfBirth': None, 'monthOfBirth': None, 'dayOfBirth': None, 'placeOfBirth': None, 'yearOfDeath': None, 'monthOfDeath': None, 'dayOfDeath': None, 'placeOfDeath': None, 'height': None, 'weight': None, 'deceased': None, 'bloodType': None, 'maritalStatus': None, 'serialNumber': None, 'hologramActivationDate': None, 'hologramStatus': None, 'hologramDateStatus': None, 'hologram': False, 'fictionalCharacter': False, 'mirror': False, 'alternateReality': False}, {'uid': 'CHMA0000139320', 'name': 'A. Levy', 'gender': None, 'yearOfBirth': None, 'monthOfBirth': None, 'dayOfBirth': None, 'placeOfBirth': None, 'yearOfDeath': None, 'monthOfDeath': None, 'dayOfDeath': None, 'placeOfDeath': None, 'height': None, 'weight': None, 'deceased': None, 'bloodType': None, 'maritalStatus': None, 'serialNumber': None, 'hologramActivationDate': None, 'hologramStatus': None, 'hologramDateStatus': None, 'hologram': False, 'fictionalCharacter': False, 'mirror': False, 'alternateReality': False}, {'uid': 'CHMA0000280429', 'name': 'A. Li', 'gender': None, 'yearOfBirth': None, 'monthOfBirth': None, 'dayOfBirth': None, 'placeOfBirth': None, 'yearOfDeath': None, 'monthOfDeath': None, 'dayOfDeath': None, 'placeOfDeath': None, 'height': None, 'weight': None, 'deceased': None, 'bloodType': None, 'maritalStatus': None, 'serialNumber': None, 'hologramActivationDate': None, 'hologramStatus': None, 'hologramDateStatus': None, 'hologram': False, 'fictionalCharacter': False, 'mirror': False, 'alternateReality': False}, {'uid': 'CHMA0000250123', 'name': 'A. Loo', 'gender': None, 'yearOfBirth': None, 'monthOfBirth': None, 'dayOfBirth': None, 'placeOfBirth': None, 'yearOfDeath': None, 'monthOfDeath': None, 'dayOfDeath': None, 'placeOfDeath': None, 'height': None, 'weight': None, 'deceased': None, 'bloodType': None, 'maritalStatus': None, 'serialNumber': None, 'hologramActivationDate': None, 'hologramStatus': None, 'hologramDateStatus': None, 'hologram': False, 'fictionalCharacter': False, 'mirror': False, 'alternateReality': False}, {'uid': 'CHMA0000280401', 'name': 'A. Ma', 'gender': None, 'yearOfBirth': None, 'monthOfBirth': None, 'dayOfBirth': None, 'placeOfBirth': None, 'yearOfDeath': None, 'monthOfDeath': None, 'dayOfDeath': None, 'placeOfDeath': None, 'height': None, 'weight': None, 'deceased': None, 'bloodType': None, 'maritalStatus': None, 'serialNumber': None, 'hologramActivationDate': None, 'hologramStatus': None, 'hologramDateStatus': None, 'hologram': False, 'fictionalCharacter': False, 'mirror': False, 'alternateReality': False}, {'uid': 'CHMA0000280441', 'name': 'A. MacKenzie', 'gender': None, 'yearOfBirth': None, 'monthOfBirth': None, 'dayOfBirth': None, 'placeOfBirth': None, 'yearOfDeath': None, 'monthOfDeath': None, 'dayOfDeath': None, 'placeOfDeath': None, 'height': None, 'weight': None, 'deceased': None, 'bloodType': None, 'maritalStatus': None, 'serialNumber': None, 'hologramActivationDate': None, 'hologramStatus': None, 'hologramDateStatus': None, 'hologram': False, 'fictionalCharacter': False, 'mirror': False, 'alternateReality': False}, {'uid': 'CHMA0000280396', 'name': 'A. Malee Van Koeverden', 'gender': None, 'yearOfBirth': None, 'monthOfBirth': None, 'dayOfBirth': None, 'placeOfBirth': None, 'yearOfDeath': None, 'monthOfDeath': None, 'dayOfDeath': None, 'placeOfDeath': None, 'height': None, 'weight': None, 'deceased': None, 'bloodType': None, 'maritalStatus': None, 'serialNumber': None, 'hologramActivationDate': None, 'hologramStatus': None, 'hologramDateStatus': None, 'hologram': False, 'fictionalCharacter': False, 'mirror': False, 'alternateReality': False}]}\n"
     ]
    }
   ],
   "source": [
    "# try search for characters\n",
    "\n",
    "criteria = stapi.search_criteria.CharacterSearchCriteria(pageNumber=0, pageSize=500, sort=\"\")\n",
    "response = stapi.RestClient().character.search(criteria)\n",
    "print(response)"
   ]
  },
  {
   "cell_type": "code",
   "execution_count": 7,
   "metadata": {},
   "outputs": [],
   "source": [
    "# creating a loop to run continuously to pull all characters to a dictionary\n",
    "\n",
    "characters = {}\n",
    "page_number = 0\n",
    "page_size = 1000\n",
    "\n",
    "while True:\n",
    "    criteria = stapi.search_criteria.CharacterSearchCriteria(pageNumber=page_number, pageSize=page_size, sort=\"\")\n",
    "    response = stapi.RestClient().character.search(criteria)\n",
    "    if not response['characters']:\n",
    "        break\n",
    "    for character in response['characters']:\n",
    "        characters[character['uid']] = {\n",
    "            'name': character['name'],\n",
    "            'gender': character.get('gender'),\n",
    "            'height': character.get('height'),\n",
    "            'weight': character.get('weight'),\n",
    "            'bloodType': character.get('bloodType'),\n",
    "            'maritalStatus': character.get('maritalStatus')\n",
    "        }\n",
    "    page_number += 1"
   ]
  },
  {
   "cell_type": "code",
   "execution_count": 8,
   "metadata": {},
   "outputs": [],
   "source": [
    "# create a dataframe from the star trek character dictionary\n",
    "st_chars = pd.DataFrame(characters)\n",
    "\n",
    "# transpose dataframe\n",
    "st_chars = st_chars.T"
   ]
  },
  {
   "cell_type": "code",
   "execution_count": 9,
   "metadata": {},
   "outputs": [
    {
     "data": {
      "text/html": [
       "<div>\n",
       "<style scoped>\n",
       "    .dataframe tbody tr th:only-of-type {\n",
       "        vertical-align: middle;\n",
       "    }\n",
       "\n",
       "    .dataframe tbody tr th {\n",
       "        vertical-align: top;\n",
       "    }\n",
       "\n",
       "    .dataframe thead th {\n",
       "        text-align: right;\n",
       "    }\n",
       "</style>\n",
       "<table border=\"1\" class=\"dataframe\">\n",
       "  <thead>\n",
       "    <tr style=\"text-align: right;\">\n",
       "      <th></th>\n",
       "      <th>name</th>\n",
       "      <th>gender</th>\n",
       "      <th>height</th>\n",
       "      <th>weight</th>\n",
       "      <th>bloodType</th>\n",
       "      <th>maritalStatus</th>\n",
       "    </tr>\n",
       "  </thead>\n",
       "  <tbody>\n",
       "    <tr>\n",
       "      <th>CHMA0000215045</th>\n",
       "      <td>0413 Theta</td>\n",
       "      <td>None</td>\n",
       "      <td>None</td>\n",
       "      <td>None</td>\n",
       "      <td>None</td>\n",
       "      <td>None</td>\n",
       "    </tr>\n",
       "    <tr>\n",
       "      <th>CHMA0000174718</th>\n",
       "      <td>0718</td>\n",
       "      <td>M</td>\n",
       "      <td>None</td>\n",
       "      <td>None</td>\n",
       "      <td>None</td>\n",
       "      <td>None</td>\n",
       "    </tr>\n",
       "    <tr>\n",
       "      <th>CHMA0000283851</th>\n",
       "      <td>10111</td>\n",
       "      <td>None</td>\n",
       "      <td>None</td>\n",
       "      <td>None</td>\n",
       "      <td>None</td>\n",
       "      <td>None</td>\n",
       "    </tr>\n",
       "    <tr>\n",
       "      <th>CHMA0000278055</th>\n",
       "      <td>335</td>\n",
       "      <td>None</td>\n",
       "      <td>None</td>\n",
       "      <td>None</td>\n",
       "      <td>None</td>\n",
       "      <td>None</td>\n",
       "    </tr>\n",
       "    <tr>\n",
       "      <th>CHMA0000282741</th>\n",
       "      <td>355</td>\n",
       "      <td>None</td>\n",
       "      <td>None</td>\n",
       "      <td>None</td>\n",
       "      <td>None</td>\n",
       "      <td>None</td>\n",
       "    </tr>\n",
       "    <tr>\n",
       "      <th>...</th>\n",
       "      <td>...</td>\n",
       "      <td>...</td>\n",
       "      <td>...</td>\n",
       "      <td>...</td>\n",
       "      <td>...</td>\n",
       "      <td>...</td>\n",
       "    </tr>\n",
       "    <tr>\n",
       "      <th>CHMA0000011445</th>\n",
       "      <td>Zorn</td>\n",
       "      <td>M</td>\n",
       "      <td>None</td>\n",
       "      <td>None</td>\n",
       "      <td>None</td>\n",
       "      <td>None</td>\n",
       "    </tr>\n",
       "    <tr>\n",
       "      <th>CHMA0000128774</th>\n",
       "      <td>Zoumas</td>\n",
       "      <td>M</td>\n",
       "      <td>None</td>\n",
       "      <td>None</td>\n",
       "      <td>None</td>\n",
       "      <td>None</td>\n",
       "    </tr>\n",
       "    <tr>\n",
       "      <th>CHMA0000281049</th>\n",
       "      <td>Zuniga</td>\n",
       "      <td>None</td>\n",
       "      <td>None</td>\n",
       "      <td>None</td>\n",
       "      <td>None</td>\n",
       "      <td>None</td>\n",
       "    </tr>\n",
       "    <tr>\n",
       "      <th>CHMA0000006133</th>\n",
       "      <td>Zyree</td>\n",
       "      <td>F</td>\n",
       "      <td>None</td>\n",
       "      <td>None</td>\n",
       "      <td>None</td>\n",
       "      <td>None</td>\n",
       "    </tr>\n",
       "    <tr>\n",
       "      <th>CHMA0000278244</th>\n",
       "      <td>Édith Piaf</td>\n",
       "      <td>None</td>\n",
       "      <td>None</td>\n",
       "      <td>None</td>\n",
       "      <td>None</td>\n",
       "      <td>None</td>\n",
       "    </tr>\n",
       "  </tbody>\n",
       "</table>\n",
       "<p>7571 rows × 6 columns</p>\n",
       "</div>"
      ],
      "text/plain": [
       "                      name gender height weight bloodType maritalStatus\n",
       "CHMA0000215045  0413 Theta   None   None   None      None          None\n",
       "CHMA0000174718        0718      M   None   None      None          None\n",
       "CHMA0000283851       10111   None   None   None      None          None\n",
       "CHMA0000278055         335   None   None   None      None          None\n",
       "CHMA0000282741         355   None   None   None      None          None\n",
       "...                    ...    ...    ...    ...       ...           ...\n",
       "CHMA0000011445        Zorn      M   None   None      None          None\n",
       "CHMA0000128774      Zoumas      M   None   None      None          None\n",
       "CHMA0000281049      Zuniga   None   None   None      None          None\n",
       "CHMA0000006133       Zyree      F   None   None      None          None\n",
       "CHMA0000278244  Édith Piaf   None   None   None      None          None\n",
       "\n",
       "[7571 rows x 6 columns]"
      ]
     },
     "execution_count": 9,
     "metadata": {},
     "output_type": "execute_result"
    }
   ],
   "source": [
    "# view dataframe\n",
    "st_chars"
   ]
  },
  {
   "cell_type": "code",
   "execution_count": 10,
   "metadata": {},
   "outputs": [
    {
     "name": "stdout",
     "output_type": "stream",
     "text": [
      "<class 'pandas.core.frame.DataFrame'>\n",
      "Index: 7571 entries, CHMA0000215045 to CHMA0000278244\n",
      "Data columns (total 6 columns):\n",
      " #   Column         Non-Null Count  Dtype \n",
      "---  ------         --------------  ----- \n",
      " 0   name           7571 non-null   object\n",
      " 1   gender         1146 non-null   object\n",
      " 2   height         66 non-null     object\n",
      " 3   weight         49 non-null     object\n",
      " 4   bloodType      9 non-null      object\n",
      " 5   maritalStatus  366 non-null    object\n",
      "dtypes: object(6)\n",
      "memory usage: 414.0+ KB\n"
     ]
    }
   ],
   "source": [
    "# view dataframe info\n",
    "st_chars.info()"
   ]
  },
  {
   "cell_type": "code",
   "execution_count": 11,
   "metadata": {},
   "outputs": [],
   "source": [
    "# save star trek characters to parquet\n",
    "\n",
    "st_chars.to_parquet('../WPscraped/StarTrek_Characters.parquet', index=False)"
   ]
  },
  {
   "cell_type": "code",
   "execution_count": 12,
   "metadata": {},
   "outputs": [
    {
     "name": "stdout",
     "output_type": "stream",
     "text": [
      "{'page': {'pageNumber': 0, 'pageSize': 50, 'numberOfElements': 50, 'totalElements': 2404, 'totalPages': 49, 'firstPage': True, 'lastPage': False}, 'sort': {'clauses': []}, 'astronomicalObjects': [{'uid': 'ASMA0000015822', 'name': \"'aucdet IX\", 'astronomicalObjectType': 'PLANET', 'location': {'uid': 'ASMA0000025892', 'name': 'Alpha Quadrant'}}, {'uid': 'ASMA0000264696', 'name': \"'etnap Nebula\", 'astronomicalObjectType': 'NEBULA', 'location': {'uid': 'ASMA0000002015', 'name': 'Beta Quadrant'}}, {'uid': 'ASMA0000289027', 'name': '1 Centauri', 'astronomicalObjectType': 'STAR_SYSTEM', 'location': {'uid': 'ASMA0000002015', 'name': 'Beta Quadrant'}}, {'uid': 'ASMA0000229695', 'name': '11 Leonis Minoris', 'astronomicalObjectType': 'STAR_SYSTEM', 'location': {'uid': 'ASMA0000025892', 'name': 'Alpha Quadrant'}}, {'uid': 'ASMA0000177695', 'name': '1889 V', 'astronomicalObjectType': 'COMET', 'location': {'uid': 'ASMA0000020577', 'name': 'Earth'}}, {'uid': 'ASMA0000174468', 'name': '1892 III Holmes', 'astronomicalObjectType': 'COMET', 'location': {'uid': 'ASMA0000020577', 'name': 'Earth'}}, {'uid': 'ASMA0000174419', 'name': '1892 V', 'astronomicalObjectType': 'COMET', 'location': {'uid': 'ASMA0000020577', 'name': 'Earth'}}, {'uid': 'ASMA0000065314', 'name': '2279 PL', 'astronomicalObjectType': 'REGION', 'location': None}, {'uid': 'ASMA0000065315', 'name': '2466 PM', 'astronomicalObjectType': 'REGION', 'location': None}, {'uid': 'ASMA0000189720', 'name': '3 kpc Arm', 'astronomicalObjectType': 'REGION', 'location': {'uid': 'ASMA0000000662', 'name': 'Delta Quadrant'}}, {'uid': 'ASMA0000288988', 'name': '39 Serpentis', 'astronomicalObjectType': 'STAR_SYSTEM', 'location': {'uid': 'ASMA0000025892', 'name': 'Alpha Quadrant'}}, {'uid': 'ASMA0000001073', 'name': '40 Eridani A', 'astronomicalObjectType': 'STAR', 'location': {'uid': 'ASMA0000229674', 'name': 'Vulcan system'}}, {'uid': 'ASMA0000068435', 'name': '47 Tucanae', 'astronomicalObjectType': 'CLUSTER', 'location': None}, {'uid': 'ASMA0000288983', 'name': '58 Ophiuchi', 'astronomicalObjectType': 'STAR_SYSTEM', 'location': {'uid': 'ASMA0000025892', 'name': 'Alpha Quadrant'}}, {'uid': 'ASMA0000052604', 'name': '61 Cygni', 'astronomicalObjectType': 'STAR_SYSTEM', 'location': {'uid': 'ASMA0000025892', 'name': 'Alpha Quadrant'}}, {'uid': 'ASMA0000032818', 'name': '61 Ursae Majoris', 'astronomicalObjectType': 'STAR', 'location': {'uid': 'ASMA0000025892', 'name': 'Alpha Quadrant'}}, {'uid': 'ASMA0000264532', 'name': '81 Cancri', 'astronomicalObjectType': 'STAR_SYSTEM', 'location': {'uid': 'ASMA0000002015', 'name': 'Beta Quadrant'}}, {'uid': 'ASMA0000015188', 'name': '892-IV', 'astronomicalObjectType': 'M_CLASS_PLANET', 'location': {'uid': 'ASMA0000018602', 'name': 'System 892'}}, {'uid': 'ASMA0000248899', 'name': '99 Pegasi', 'astronomicalObjectType': 'STAR', 'location': None}, {'uid': 'ASMA0000003232', 'name': 'AR-558', 'astronomicalObjectType': 'PLANET', 'location': {'uid': 'ASMA0000091061', 'name': \"Chin'toka system\"}}, {'uid': 'ASMA0000093814', 'name': 'Aaamazzara', 'astronomicalObjectType': 'PLANET', 'location': {'uid': 'ASMA0000025892', 'name': 'Alpha Quadrant'}}, {'uid': 'ASMA0000274753', 'name': 'Abronian homeworld', 'astronomicalObjectType': 'PLANET', 'location': {'uid': 'ASMA0000002775', 'name': 'Milky Way Galaxy'}}, {'uid': 'ASMA0000219455', 'name': 'Acamar', 'astronomicalObjectType': 'STAR', 'location': {'uid': 'ASMA0000019864', 'name': 'Acamar system'}}, {'uid': 'ASMA0000009835', 'name': 'Acamar III', 'astronomicalObjectType': 'PLANET', 'location': {'uid': 'ASMA0000019864', 'name': 'Acamar system'}}, {'uid': 'ASMA0000019864', 'name': 'Acamar system', 'astronomicalObjectType': 'STAR_SYSTEM', 'location': {'uid': 'ASMA0000002015', 'name': 'Beta Quadrant'}}, {'uid': 'ASMA0000264533', 'name': 'Achernar', 'astronomicalObjectType': 'STAR_SYSTEM', 'location': {'uid': 'ASMA0000002015', 'name': 'Beta Quadrant'}}, {'uid': 'ASMA0000014071', 'name': 'Achrady VII', 'astronomicalObjectType': 'PLANET', 'location': {'uid': 'ASMA0000025892', 'name': 'Alpha Quadrant'}}, {'uid': 'ASMA0000273602', 'name': 'Actium sector', 'astronomicalObjectType': 'SECTOR', 'location': {'uid': 'ASMA0000025892', 'name': 'Alpha Quadrant'}}, {'uid': 'ASMA0000007891', 'name': 'Adarak Prime', 'astronomicalObjectType': 'PLANET', 'location': {'uid': 'ASMA0000025892', 'name': 'Alpha Quadrant'}}, {'uid': 'ASMA0000228528', 'name': 'Adelphous', 'astronomicalObjectType': 'STAR_SYSTEM', 'location': {'uid': 'ASMA0000002015', 'name': 'Beta Quadrant'}}, {'uid': 'ASMA0000012121', 'name': 'Adelphous IV', 'astronomicalObjectType': 'PLANET', 'location': {'uid': 'ASMA0000228528', 'name': 'Adelphous'}}, {'uid': 'ASMA0000012208', 'name': 'Adigeon Prime', 'astronomicalObjectType': 'PLANET', 'location': {'uid': 'ASMA0000025892', 'name': 'Alpha Quadrant'}}, {'uid': 'ASMA0000080805', 'name': 'Agaron', 'astronomicalObjectType': 'PLANET', 'location': {'uid': 'ASMA0000025892', 'name': 'Alpha Quadrant'}}, {'uid': 'ASMA0000008432', 'name': 'Agrat-mot Nebula', 'astronomicalObjectType': 'NEBULA', 'location': {'uid': 'ASMA0000000662', 'name': 'Delta Quadrant'}}, {'uid': 'ASMA0000080756', 'name': 'Ahmedeen', 'astronomicalObjectType': 'PLANET', 'location': {'uid': 'ASMA0000002775', 'name': 'Milky Way Galaxy'}}, {'uid': 'ASMA0000253590', 'name': 'Aia', 'astronomicalObjectType': 'PLANET', 'location': {'uid': 'ASMA0000253878', 'name': 'Eightfold Stars'}}, {'uid': 'ASMA0000239778', 'name': 'Ajilon', 'astronomicalObjectType': 'STAR_SYSTEM', 'location': {'uid': 'ASMA0000262940', 'name': 'Klingon Zone'}}, {'uid': 'ASMA0000229643', 'name': 'Ajilon Prime', 'astronomicalObjectType': 'PLANET', 'location': {'uid': 'ASMA0000239778', 'name': 'Ajilon'}}, {'uid': 'ASMA0000060555', 'name': 'Akaali homeworld', 'astronomicalObjectType': 'M_CLASS_PLANET', 'location': {'uid': 'ASMA0000264535', 'name': 'Akaali system'}}, {'uid': 'ASMA0000264535', 'name': 'Akaali system', 'astronomicalObjectType': 'STAR_SYSTEM', 'location': {'uid': 'ASMA0000025892', 'name': 'Alpha Quadrant'}}, {'uid': 'ASMA0000288807', 'name': 'Aklion VII', 'astronomicalObjectType': 'PLANET', 'location': None}, {'uid': 'ASMA0000274325', 'name': 'Akoszonam homeworld', 'astronomicalObjectType': 'PLANET', 'location': {'uid': 'ASMA0000025892', 'name': 'Alpha Quadrant'}}, {'uid': 'ASMA0000009021', 'name': 'Akritiri', 'astronomicalObjectType': 'PLANET', 'location': {'uid': 'ASMA0000000662', 'name': 'Delta Quadrant'}}, {'uid': 'ASMA0000006114', 'name': 'Alastria', 'astronomicalObjectType': 'PLANET', 'location': {'uid': 'ASMA0000196014', 'name': 'Alastria system'}}, {'uid': 'ASMA0000196014', 'name': 'Alastria system', 'astronomicalObjectType': 'STAR_SYSTEM', 'location': {'uid': 'ASMA0000000662', 'name': 'Delta Quadrant'}}, {'uid': 'ASMA0000240554', 'name': 'Alcor IV', 'astronomicalObjectType': 'PLANET', 'location': {'uid': 'ASMA0000240588', 'name': 'Alcor system'}}, {'uid': 'ASMA0000240588', 'name': 'Alcor system', 'astronomicalObjectType': 'STAR_SYSTEM', 'location': {'uid': 'ASMA0000025892', 'name': 'Alpha Quadrant'}}, {'uid': 'ASMA0000012212', 'name': 'Aldea', 'astronomicalObjectType': 'PLANET', 'location': {'uid': 'ASMA0000037360', 'name': 'Epsilon Mynos system'}}, {'uid': 'ASMA0000009474', 'name': 'Aldebaran', 'astronomicalObjectType': 'STAR_SYSTEM', 'location': {'uid': 'ASMA0000025892', 'name': 'Alpha Quadrant'}}, {'uid': 'ASMA0000009476', 'name': 'Aldebaran III', 'astronomicalObjectType': 'PLANET', 'location': {'uid': 'ASMA0000009474', 'name': 'Aldebaran'}}]}\n"
     ]
    }
   ],
   "source": [
    "# try search for astronomical objects\n",
    "\n",
    "criteria = stapi.search_criteria.AstronomicalObjectSearchCriteria(pageNumber=0, pageSize=500, sort=\"\")\n",
    "response = stapi.RestClient().astronomicalObject.search(criteria)\n",
    "print(response)"
   ]
  },
  {
   "cell_type": "code",
   "execution_count": 13,
   "metadata": {},
   "outputs": [],
   "source": [
    "# creating a loop to run continuously to pull all astronomical objects to a dictionary\n",
    "\n",
    "astronomical_objects = {}\n",
    "page_number = 0\n",
    "page_size = 100\n",
    "\n",
    "while True:\n",
    "    criteria = stapi.search_criteria.AstronomicalObjectSearchCriteria(pageNumber=page_number, pageSize=page_size, sort=\"\")\n",
    "    response = stapi.RestClient().astronomicalObject.search(criteria)\n",
    "    if not response['astronomicalObjects']:\n",
    "        break\n",
    "    for astronomical_object in response['astronomicalObjects']:\n",
    "        astronomical_objects[astronomical_object['uid']] = {\n",
    "            'name': astronomical_object['name'],\n",
    "            'astronomicalObjectType': astronomical_object.get('astronomicalObjectType')\n",
    "        }\n",
    "    page_number += 1"
   ]
  },
  {
   "cell_type": "code",
   "execution_count": 14,
   "metadata": {},
   "outputs": [],
   "source": [
    "# create a dataframe from the star trek astronomical dictionary\n",
    "st_astro = pd.DataFrame(astronomical_objects)\n",
    "\n",
    "# transpose dataframe\n",
    "st_astro = st_astro.T"
   ]
  },
  {
   "cell_type": "code",
   "execution_count": 15,
   "metadata": {},
   "outputs": [
    {
     "data": {
      "text/html": [
       "<div>\n",
       "<style scoped>\n",
       "    .dataframe tbody tr th:only-of-type {\n",
       "        vertical-align: middle;\n",
       "    }\n",
       "\n",
       "    .dataframe tbody tr th {\n",
       "        vertical-align: top;\n",
       "    }\n",
       "\n",
       "    .dataframe thead th {\n",
       "        text-align: right;\n",
       "    }\n",
       "</style>\n",
       "<table border=\"1\" class=\"dataframe\">\n",
       "  <thead>\n",
       "    <tr style=\"text-align: right;\">\n",
       "      <th></th>\n",
       "      <th>name</th>\n",
       "      <th>astronomicalObjectType</th>\n",
       "    </tr>\n",
       "  </thead>\n",
       "  <tbody>\n",
       "    <tr>\n",
       "      <th>ASMA0000015822</th>\n",
       "      <td>'aucdet IX</td>\n",
       "      <td>PLANET</td>\n",
       "    </tr>\n",
       "    <tr>\n",
       "      <th>ASMA0000264696</th>\n",
       "      <td>'etnap Nebula</td>\n",
       "      <td>NEBULA</td>\n",
       "    </tr>\n",
       "    <tr>\n",
       "      <th>ASMA0000289027</th>\n",
       "      <td>1 Centauri</td>\n",
       "      <td>STAR_SYSTEM</td>\n",
       "    </tr>\n",
       "    <tr>\n",
       "      <th>ASMA0000229695</th>\n",
       "      <td>11 Leonis Minoris</td>\n",
       "      <td>STAR_SYSTEM</td>\n",
       "    </tr>\n",
       "    <tr>\n",
       "      <th>ASMA0000177695</th>\n",
       "      <td>1889 V</td>\n",
       "      <td>COMET</td>\n",
       "    </tr>\n",
       "    <tr>\n",
       "      <th>...</th>\n",
       "      <td>...</td>\n",
       "      <td>...</td>\n",
       "    </tr>\n",
       "    <tr>\n",
       "      <th>ASMA0000254854</th>\n",
       "      <td>Zimja</td>\n",
       "      <td>PLANET</td>\n",
       "    </tr>\n",
       "    <tr>\n",
       "      <th>ASMA0000165865</th>\n",
       "      <td>Zimmerman's Star</td>\n",
       "      <td>STAR</td>\n",
       "    </tr>\n",
       "    <tr>\n",
       "      <th>ASMA0000249661</th>\n",
       "      <td>Zoraster II</td>\n",
       "      <td>PLANET</td>\n",
       "    </tr>\n",
       "    <tr>\n",
       "      <th>ASMA0000070738</th>\n",
       "      <td>Zozek system</td>\n",
       "      <td>STAR_SYSTEM</td>\n",
       "    </tr>\n",
       "    <tr>\n",
       "      <th>ASMA0000005665</th>\n",
       "      <td>Zytchin III</td>\n",
       "      <td>PLANET</td>\n",
       "    </tr>\n",
       "  </tbody>\n",
       "</table>\n",
       "<p>2404 rows × 2 columns</p>\n",
       "</div>"
      ],
      "text/plain": [
       "                             name astronomicalObjectType\n",
       "ASMA0000015822         'aucdet IX                 PLANET\n",
       "ASMA0000264696      'etnap Nebula                 NEBULA\n",
       "ASMA0000289027         1 Centauri            STAR_SYSTEM\n",
       "ASMA0000229695  11 Leonis Minoris            STAR_SYSTEM\n",
       "ASMA0000177695             1889 V                  COMET\n",
       "...                           ...                    ...\n",
       "ASMA0000254854              Zimja                 PLANET\n",
       "ASMA0000165865   Zimmerman's Star                   STAR\n",
       "ASMA0000249661        Zoraster II                 PLANET\n",
       "ASMA0000070738       Zozek system            STAR_SYSTEM\n",
       "ASMA0000005665        Zytchin III                 PLANET\n",
       "\n",
       "[2404 rows x 2 columns]"
      ]
     },
     "execution_count": 15,
     "metadata": {},
     "output_type": "execute_result"
    }
   ],
   "source": [
    "# view dataframe\n",
    "st_astro"
   ]
  },
  {
   "cell_type": "code",
   "execution_count": 16,
   "metadata": {},
   "outputs": [
    {
     "name": "stdout",
     "output_type": "stream",
     "text": [
      "<class 'pandas.core.frame.DataFrame'>\n",
      "Index: 2404 entries, ASMA0000015822 to ASMA0000005665\n",
      "Data columns (total 2 columns):\n",
      " #   Column                  Non-Null Count  Dtype \n",
      "---  ------                  --------------  ----- \n",
      " 0   name                    2404 non-null   object\n",
      " 1   astronomicalObjectType  2363 non-null   object\n",
      "dtypes: object(2)\n",
      "memory usage: 56.3+ KB\n"
     ]
    }
   ],
   "source": [
    "# view dataframe info\n",
    "st_astro.info()"
   ]
  },
  {
   "cell_type": "code",
   "execution_count": 17,
   "metadata": {},
   "outputs": [],
   "source": [
    "# save star trek astronomical objects to parquet\n",
    "\n",
    "st_astro.to_parquet('../WPscraped/StarTrek_Astronomical_Objects.parquet', index=False)"
   ]
  },
  {
   "cell_type": "code",
   "execution_count": 18,
   "metadata": {},
   "outputs": [
    {
     "name": "stdout",
     "output_type": "stream",
     "text": [
      "{'page': {'pageNumber': 0, 'pageSize': 50, 'numberOfElements': 50, 'totalElements': 759, 'totalPages': 16, 'firstPage': True, 'lastPage': False}, 'sort': {'clauses': []}, 'species': [{'uid': 'SPMA0000041310', 'name': '892-IV native', 'homeworld': {'uid': 'ASMA0000015188', 'name': '892-IV'}, 'quadrant': None, 'extinctSpecies': False, 'warpCapableSpecies': False, 'extraGalacticSpecies': False, 'humanoidSpecies': True, 'reptilianSpecies': False, 'nonCorporealSpecies': False, 'shapeshiftingSpecies': False, 'spaceborneSpecies': False, 'telepathicSpecies': False, 'transDimensionalSpecies': False, 'unnamedSpecies': True, 'alternateReality': False}, {'uid': 'SPMA0000001088', 'name': 'Aaamazzarite', 'homeworld': None, 'quadrant': None, 'extinctSpecies': False, 'warpCapableSpecies': False, 'extraGalacticSpecies': False, 'humanoidSpecies': True, 'reptilianSpecies': False, 'nonCorporealSpecies': False, 'shapeshiftingSpecies': False, 'spaceborneSpecies': False, 'telepathicSpecies': False, 'transDimensionalSpecies': False, 'unnamedSpecies': False, 'alternateReality': False}, {'uid': 'SPMA0000212929', 'name': 'Aamaarazan', 'homeworld': None, 'quadrant': None, 'extinctSpecies': False, 'warpCapableSpecies': False, 'extraGalacticSpecies': False, 'humanoidSpecies': True, 'reptilianSpecies': False, 'nonCorporealSpecies': False, 'shapeshiftingSpecies': False, 'spaceborneSpecies': False, 'telepathicSpecies': False, 'transDimensionalSpecies': False, 'unnamedSpecies': False, 'alternateReality': False}, {'uid': 'SPMA0000064948', 'name': \"Abaddon's species\", 'homeworld': None, 'quadrant': {'uid': 'ASMA0000000662', 'name': 'Delta Quadrant'}, 'extinctSpecies': False, 'warpCapableSpecies': False, 'extraGalacticSpecies': False, 'humanoidSpecies': True, 'reptilianSpecies': False, 'nonCorporealSpecies': False, 'shapeshiftingSpecies': False, 'spaceborneSpecies': False, 'telepathicSpecies': False, 'transDimensionalSpecies': False, 'unnamedSpecies': True, 'alternateReality': False}, {'uid': 'SPMA0000224109', 'name': \"Abdon's species\", 'homeworld': None, 'quadrant': {'uid': 'ASMA0000025892', 'name': 'Alpha Quadrant'}, 'extinctSpecies': False, 'warpCapableSpecies': False, 'extraGalacticSpecies': False, 'humanoidSpecies': True, 'reptilianSpecies': False, 'nonCorporealSpecies': False, 'shapeshiftingSpecies': False, 'spaceborneSpecies': False, 'telepathicSpecies': False, 'transDimensionalSpecies': False, 'unnamedSpecies': True, 'alternateReality': False}, {'uid': 'SPMA0000274634', 'name': 'Abronian', 'homeworld': {'uid': 'ASMA0000274753', 'name': 'Abronian homeworld'}, 'quadrant': None, 'extinctSpecies': False, 'warpCapableSpecies': False, 'extraGalacticSpecies': False, 'humanoidSpecies': False, 'reptilianSpecies': False, 'nonCorporealSpecies': False, 'shapeshiftingSpecies': False, 'spaceborneSpecies': False, 'telepathicSpecies': True, 'transDimensionalSpecies': False, 'unnamedSpecies': False, 'alternateReality': False}, {'uid': 'SPMA0000002006', 'name': 'Acamarian', 'homeworld': {'uid': 'ASMA0000009835', 'name': 'Acamar III'}, 'quadrant': {'uid': 'ASMA0000002015', 'name': 'Beta Quadrant'}, 'extinctSpecies': False, 'warpCapableSpecies': True, 'extraGalacticSpecies': False, 'humanoidSpecies': True, 'reptilianSpecies': False, 'nonCorporealSpecies': False, 'shapeshiftingSpecies': False, 'spaceborneSpecies': False, 'telepathicSpecies': False, 'transDimensionalSpecies': False, 'unnamedSpecies': False, 'alternateReality': False}, {'uid': 'SPMA0000270808', 'name': \"Addix's species\", 'homeworld': None, 'quadrant': None, 'extinctSpecies': False, 'warpCapableSpecies': False, 'extraGalacticSpecies': False, 'humanoidSpecies': True, 'reptilianSpecies': False, 'nonCorporealSpecies': False, 'shapeshiftingSpecies': False, 'spaceborneSpecies': False, 'telepathicSpecies': False, 'transDimensionalSpecies': False, 'unnamedSpecies': True, 'alternateReality': False}, {'uid': 'SPMA0000015901', 'name': 'Aenar', 'homeworld': {'uid': 'ASMA0000000389', 'name': 'Andoria'}, 'quadrant': {'uid': 'ASMA0000025892', 'name': 'Alpha Quadrant'}, 'extinctSpecies': False, 'warpCapableSpecies': False, 'extraGalacticSpecies': False, 'humanoidSpecies': True, 'reptilianSpecies': False, 'nonCorporealSpecies': False, 'shapeshiftingSpecies': False, 'spaceborneSpecies': False, 'telepathicSpecies': True, 'transDimensionalSpecies': False, 'unnamedSpecies': False, 'alternateReality': False}, {'uid': 'SPMA0000253734', 'name': 'Aia native', 'homeworld': None, 'quadrant': None, 'extinctSpecies': False, 'warpCapableSpecies': False, 'extraGalacticSpecies': False, 'humanoidSpecies': False, 'reptilianSpecies': False, 'nonCorporealSpecies': False, 'shapeshiftingSpecies': False, 'spaceborneSpecies': False, 'telepathicSpecies': False, 'transDimensionalSpecies': False, 'unnamedSpecies': True, 'alternateReality': False}, {'uid': 'SPMA0000020499', 'name': 'Akaali', 'homeworld': {'uid': 'ASMA0000060555', 'name': 'Akaali homeworld'}, 'quadrant': {'uid': 'ASMA0000025892', 'name': 'Alpha Quadrant'}, 'extinctSpecies': False, 'warpCapableSpecies': False, 'extraGalacticSpecies': False, 'humanoidSpecies': True, 'reptilianSpecies': False, 'nonCorporealSpecies': False, 'shapeshiftingSpecies': False, 'spaceborneSpecies': False, 'telepathicSpecies': False, 'transDimensionalSpecies': False, 'unnamedSpecies': False, 'alternateReality': False}, {'uid': 'SPMA0000223141', 'name': \"Akima's species\", 'homeworld': None, 'quadrant': None, 'extinctSpecies': False, 'warpCapableSpecies': False, 'extraGalacticSpecies': False, 'humanoidSpecies': True, 'reptilianSpecies': False, 'nonCorporealSpecies': False, 'shapeshiftingSpecies': False, 'spaceborneSpecies': False, 'telepathicSpecies': False, 'transDimensionalSpecies': False, 'unnamedSpecies': True, 'alternateReality': False}, {'uid': 'SPMA0000258691', 'name': 'Akoszonam', 'homeworld': {'uid': 'ASMA0000274325', 'name': 'Akoszonam homeworld'}, 'quadrant': None, 'extinctSpecies': False, 'warpCapableSpecies': False, 'extraGalacticSpecies': False, 'humanoidSpecies': True, 'reptilianSpecies': False, 'nonCorporealSpecies': False, 'shapeshiftingSpecies': False, 'spaceborneSpecies': False, 'telepathicSpecies': False, 'transDimensionalSpecies': False, 'unnamedSpecies': False, 'alternateReality': False}, {'uid': 'SPMA0000002031', 'name': 'Akritirian', 'homeworld': {'uid': 'ASMA0000009021', 'name': 'Akritiri'}, 'quadrant': {'uid': 'ASMA0000000662', 'name': 'Delta Quadrant'}, 'extinctSpecies': False, 'warpCapableSpecies': True, 'extraGalacticSpecies': False, 'humanoidSpecies': True, 'reptilianSpecies': False, 'nonCorporealSpecies': False, 'shapeshiftingSpecies': False, 'spaceborneSpecies': False, 'telepathicSpecies': False, 'transDimensionalSpecies': False, 'unnamedSpecies': False, 'alternateReality': False}, {'uid': 'SPMA0000070806', 'name': 'Aksani', 'homeworld': None, 'quadrant': {'uid': 'ASMA0000000662', 'name': 'Delta Quadrant'}, 'extinctSpecies': False, 'warpCapableSpecies': True, 'extraGalacticSpecies': False, 'humanoidSpecies': True, 'reptilianSpecies': False, 'nonCorporealSpecies': False, 'shapeshiftingSpecies': False, 'spaceborneSpecies': False, 'telepathicSpecies': False, 'transDimensionalSpecies': False, 'unnamedSpecies': False, 'alternateReality': False}, {'uid': 'SPMA0000002032', 'name': 'Alcyone', 'homeworld': None, 'quadrant': None, 'extinctSpecies': False, 'warpCapableSpecies': False, 'extraGalacticSpecies': False, 'humanoidSpecies': False, 'reptilianSpecies': False, 'nonCorporealSpecies': False, 'shapeshiftingSpecies': False, 'spaceborneSpecies': False, 'telepathicSpecies': False, 'transDimensionalSpecies': False, 'unnamedSpecies': False, 'alternateReality': False}, {'uid': 'SPMA0000002033', 'name': 'Aldean', 'homeworld': {'uid': 'ASMA0000012212', 'name': 'Aldea'}, 'quadrant': None, 'extinctSpecies': False, 'warpCapableSpecies': False, 'extraGalacticSpecies': False, 'humanoidSpecies': True, 'reptilianSpecies': False, 'nonCorporealSpecies': False, 'shapeshiftingSpecies': False, 'spaceborneSpecies': False, 'telepathicSpecies': False, 'transDimensionalSpecies': False, 'unnamedSpecies': False, 'alternateReality': False}, {'uid': 'SPMA0000079701', 'name': 'Alfarian', 'homeworld': None, 'quadrant': None, 'extinctSpecies': False, 'warpCapableSpecies': False, 'extraGalacticSpecies': False, 'humanoidSpecies': False, 'reptilianSpecies': False, 'nonCorporealSpecies': False, 'shapeshiftingSpecies': False, 'spaceborneSpecies': False, 'telepathicSpecies': False, 'transDimensionalSpecies': False, 'unnamedSpecies': False, 'alternateReality': False}, {'uid': 'SPMA0000022150', 'name': 'Algolian', 'homeworld': None, 'quadrant': None, 'extinctSpecies': False, 'warpCapableSpecies': False, 'extraGalacticSpecies': False, 'humanoidSpecies': True, 'reptilianSpecies': False, 'nonCorporealSpecies': False, 'shapeshiftingSpecies': False, 'spaceborneSpecies': False, 'telepathicSpecies': False, 'transDimensionalSpecies': False, 'unnamedSpecies': False, 'alternateReality': False}, {'uid': 'SPMA0000010061', 'name': 'Allasomorph', 'homeworld': {'uid': 'ASMA0000027343', 'name': 'Daled IV'}, 'quadrant': None, 'extinctSpecies': False, 'warpCapableSpecies': False, 'extraGalacticSpecies': False, 'humanoidSpecies': True, 'reptilianSpecies': False, 'nonCorporealSpecies': False, 'shapeshiftingSpecies': True, 'spaceborneSpecies': False, 'telepathicSpecies': False, 'transDimensionalSpecies': False, 'unnamedSpecies': False, 'alternateReality': False}, {'uid': 'SPMA0000059428', 'name': \"Allos' species\", 'homeworld': {'uid': 'ASMA0000222565', 'name': \"Allos' homeworld\"}, 'quadrant': {'uid': 'ASMA0000000662', 'name': 'Delta Quadrant'}, 'extinctSpecies': False, 'warpCapableSpecies': False, 'extraGalacticSpecies': False, 'humanoidSpecies': True, 'reptilianSpecies': False, 'nonCorporealSpecies': False, 'shapeshiftingSpecies': False, 'spaceborneSpecies': False, 'telepathicSpecies': False, 'transDimensionalSpecies': False, 'unnamedSpecies': True, 'alternateReality': False}, {'uid': 'SPMA0000274152', 'name': 'Alshain', 'homeworld': {'uid': 'ASMA0000274106', 'name': 'Alshain IV'}, 'quadrant': None, 'extinctSpecies': False, 'warpCapableSpecies': False, 'extraGalacticSpecies': False, 'humanoidSpecies': True, 'reptilianSpecies': False, 'nonCorporealSpecies': False, 'shapeshiftingSpecies': False, 'spaceborneSpecies': False, 'telepathicSpecies': False, 'transDimensionalSpecies': False, 'unnamedSpecies': False, 'alternateReality': False}, {'uid': 'SPMA0000086682', 'name': 'Altoran', 'homeworld': None, 'quadrant': None, 'extinctSpecies': False, 'warpCapableSpecies': False, 'extraGalacticSpecies': False, 'humanoidSpecies': False, 'reptilianSpecies': False, 'nonCorporealSpecies': False, 'shapeshiftingSpecies': False, 'spaceborneSpecies': False, 'telepathicSpecies': False, 'transDimensionalSpecies': False, 'unnamedSpecies': False, 'alternateReality': False}, {'uid': 'SPMA0000258461', 'name': 'Anabaj', 'homeworld': None, 'quadrant': None, 'extinctSpecies': False, 'warpCapableSpecies': False, 'extraGalacticSpecies': False, 'humanoidSpecies': True, 'reptilianSpecies': False, 'nonCorporealSpecies': False, 'shapeshiftingSpecies': False, 'spaceborneSpecies': False, 'telepathicSpecies': True, 'transDimensionalSpecies': False, 'unnamedSpecies': False, 'alternateReality': False}, {'uid': 'SPMA0000210870', 'name': 'Ancient Ones', 'homeworld': None, 'quadrant': None, 'extinctSpecies': False, 'warpCapableSpecies': False, 'extraGalacticSpecies': False, 'humanoidSpecies': False, 'reptilianSpecies': False, 'nonCorporealSpecies': False, 'shapeshiftingSpecies': False, 'spaceborneSpecies': False, 'telepathicSpecies': False, 'transDimensionalSpecies': False, 'unnamedSpecies': True, 'alternateReality': False}, {'uid': 'SPMA0000003239', 'name': 'Ancient humanoid', 'homeworld': None, 'quadrant': None, 'extinctSpecies': False, 'warpCapableSpecies': False, 'extraGalacticSpecies': False, 'humanoidSpecies': True, 'reptilianSpecies': False, 'nonCorporealSpecies': False, 'shapeshiftingSpecies': False, 'spaceborneSpecies': False, 'telepathicSpecies': False, 'transDimensionalSpecies': False, 'unnamedSpecies': True, 'alternateReality': False}, {'uid': 'SPMA0000053328', 'name': 'Ancient insectoid', 'homeworld': None, 'quadrant': None, 'extinctSpecies': False, 'warpCapableSpecies': True, 'extraGalacticSpecies': False, 'humanoidSpecies': False, 'reptilianSpecies': False, 'nonCorporealSpecies': False, 'shapeshiftingSpecies': False, 'spaceborneSpecies': False, 'telepathicSpecies': False, 'transDimensionalSpecies': False, 'unnamedSpecies': True, 'alternateReality': False}, {'uid': 'SPMA0000052893', 'name': 'Andoran', 'homeworld': None, 'quadrant': None, 'extinctSpecies': False, 'warpCapableSpecies': False, 'extraGalacticSpecies': False, 'humanoidSpecies': True, 'reptilianSpecies': False, 'nonCorporealSpecies': False, 'shapeshiftingSpecies': False, 'spaceborneSpecies': False, 'telepathicSpecies': False, 'transDimensionalSpecies': False, 'unnamedSpecies': False, 'alternateReality': False}, {'uid': 'SPMA0000000131', 'name': 'Andorian', 'homeworld': {'uid': 'ASMA0000000389', 'name': 'Andoria'}, 'quadrant': {'uid': 'ASMA0000025892', 'name': 'Alpha Quadrant'}, 'extinctSpecies': False, 'warpCapableSpecies': True, 'extraGalacticSpecies': False, 'humanoidSpecies': True, 'reptilianSpecies': False, 'nonCorporealSpecies': False, 'shapeshiftingSpecies': False, 'spaceborneSpecies': False, 'telepathicSpecies': False, 'transDimensionalSpecies': False, 'unnamedSpecies': False, 'alternateReality': False}, {'uid': 'SPMA0000092383', 'name': 'Angel I native', 'homeworld': {'uid': 'ASMA0000001122', 'name': 'Angel I'}, 'quadrant': {'uid': 'ASMA0000002015', 'name': 'Beta Quadrant'}, 'extinctSpecies': False, 'warpCapableSpecies': False, 'extraGalacticSpecies': False, 'humanoidSpecies': True, 'reptilianSpecies': False, 'nonCorporealSpecies': False, 'shapeshiftingSpecies': False, 'spaceborneSpecies': False, 'telepathicSpecies': False, 'transDimensionalSpecies': False, 'unnamedSpecies': True, 'alternateReality': False}, {'uid': 'SPMA0000000132', 'name': 'Angosian', 'homeworld': {'uid': 'ASMA0000014019', 'name': 'Angosia III'}, 'quadrant': None, 'extinctSpecies': False, 'warpCapableSpecies': True, 'extraGalacticSpecies': False, 'humanoidSpecies': True, 'reptilianSpecies': False, 'nonCorporealSpecies': False, 'shapeshiftingSpecies': False, 'spaceborneSpecies': False, 'telepathicSpecies': False, 'transDimensionalSpecies': False, 'unnamedSpecies': False, 'alternateReality': False}, {'uid': 'SPMA0000059858', 'name': 'Ankari', 'homeworld': {'uid': 'ASMA0000222586', 'name': 'Ankari homeworld'}, 'quadrant': {'uid': 'ASMA0000000662', 'name': 'Delta Quadrant'}, 'extinctSpecies': False, 'warpCapableSpecies': False, 'extraGalacticSpecies': False, 'humanoidSpecies': True, 'reptilianSpecies': False, 'nonCorporealSpecies': False, 'shapeshiftingSpecies': False, 'spaceborneSpecies': False, 'telepathicSpecies': False, 'transDimensionalSpecies': False, 'unnamedSpecies': False, 'alternateReality': False}, {'uid': 'SPMA0000007587', 'name': 'Annari', 'homeworld': None, 'quadrant': {'uid': 'ASMA0000000662', 'name': 'Delta Quadrant'}, 'extinctSpecies': False, 'warpCapableSpecies': False, 'extraGalacticSpecies': False, 'humanoidSpecies': True, 'reptilianSpecies': False, 'nonCorporealSpecies': False, 'shapeshiftingSpecies': False, 'spaceborneSpecies': False, 'telepathicSpecies': False, 'transDimensionalSpecies': False, 'unnamedSpecies': False, 'alternateReality': False}, {'uid': 'SPMA0000017697', 'name': 'Antaran', 'homeworld': None, 'quadrant': None, 'extinctSpecies': False, 'warpCapableSpecies': False, 'extraGalacticSpecies': False, 'humanoidSpecies': True, 'reptilianSpecies': False, 'nonCorporealSpecies': False, 'shapeshiftingSpecies': False, 'spaceborneSpecies': False, 'telepathicSpecies': False, 'transDimensionalSpecies': False, 'unnamedSpecies': False, 'alternateReality': False}, {'uid': 'SPMA0000024513', 'name': 'Antarian', 'homeworld': None, 'quadrant': {'uid': 'ASMA0000000662', 'name': 'Delta Quadrant'}, 'extinctSpecies': False, 'warpCapableSpecies': True, 'extraGalacticSpecies': False, 'humanoidSpecies': True, 'reptilianSpecies': False, 'nonCorporealSpecies': False, 'shapeshiftingSpecies': False, 'spaceborneSpecies': False, 'telepathicSpecies': False, 'transDimensionalSpecies': False, 'unnamedSpecies': False, 'alternateReality': False}, {'uid': 'SPMA0000002040', 'name': 'Antedian', 'homeworld': {'uid': 'ASMA0000074445', 'name': 'Antede III'}, 'quadrant': None, 'extinctSpecies': False, 'warpCapableSpecies': True, 'extraGalacticSpecies': False, 'humanoidSpecies': True, 'reptilianSpecies': False, 'nonCorporealSpecies': False, 'shapeshiftingSpecies': False, 'spaceborneSpecies': False, 'telepathicSpecies': False, 'transDimensionalSpecies': False, 'unnamedSpecies': False, 'alternateReality': False}, {'uid': 'SPMA0000002041', 'name': 'Antican', 'homeworld': {'uid': 'ASMA0000000809', 'name': 'Antica'}, 'quadrant': None, 'extinctSpecies': False, 'warpCapableSpecies': False, 'extraGalacticSpecies': False, 'humanoidSpecies': True, 'reptilianSpecies': False, 'nonCorporealSpecies': False, 'shapeshiftingSpecies': False, 'spaceborneSpecies': False, 'telepathicSpecies': False, 'transDimensionalSpecies': False, 'unnamedSpecies': False, 'alternateReality': False}, {'uid': 'SPMA0000103822', 'name': 'Antidean', 'homeworld': None, 'quadrant': None, 'extinctSpecies': False, 'warpCapableSpecies': False, 'extraGalacticSpecies': False, 'humanoidSpecies': False, 'reptilianSpecies': False, 'nonCorporealSpecies': False, 'shapeshiftingSpecies': False, 'spaceborneSpecies': False, 'telepathicSpecies': False, 'transDimensionalSpecies': False, 'unnamedSpecies': False, 'alternateReality': False}, {'uid': 'SPMA0000078643', 'name': 'Antos native', 'homeworld': None, 'quadrant': None, 'extinctSpecies': False, 'warpCapableSpecies': False, 'extraGalacticSpecies': False, 'humanoidSpecies': False, 'reptilianSpecies': False, 'nonCorporealSpecies': False, 'shapeshiftingSpecies': True, 'spaceborneSpecies': False, 'telepathicSpecies': False, 'transDimensionalSpecies': False, 'unnamedSpecies': True, 'alternateReality': False}, {'uid': 'SPMA0000270387', 'name': 'Apergosian', 'homeworld': {'uid': 'ASMA0000270315', 'name': 'Apergos'}, 'quadrant': None, 'extinctSpecies': False, 'warpCapableSpecies': False, 'extraGalacticSpecies': False, 'humanoidSpecies': True, 'reptilianSpecies': False, 'nonCorporealSpecies': False, 'shapeshiftingSpecies': False, 'spaceborneSpecies': False, 'telepathicSpecies': False, 'transDimensionalSpecies': False, 'unnamedSpecies': False, 'alternateReality': False}, {'uid': 'SPMA0000019066', 'name': 'Aquan', 'homeworld': None, 'quadrant': None, 'extinctSpecies': False, 'warpCapableSpecies': False, 'extraGalacticSpecies': False, 'humanoidSpecies': True, 'reptilianSpecies': False, 'nonCorporealSpecies': False, 'shapeshiftingSpecies': False, 'spaceborneSpecies': False, 'telepathicSpecies': False, 'transDimensionalSpecies': False, 'unnamedSpecies': False, 'alternateReality': False}, {'uid': 'SPMA0000284560', 'name': 'Aquathawn homeworld native', 'homeworld': {'uid': 'ASMA0000284558', 'name': 'Aquathawn homeworld'}, 'quadrant': None, 'extinctSpecies': False, 'warpCapableSpecies': False, 'extraGalacticSpecies': False, 'humanoidSpecies': False, 'reptilianSpecies': False, 'nonCorporealSpecies': False, 'shapeshiftingSpecies': False, 'spaceborneSpecies': False, 'telepathicSpecies': False, 'transDimensionalSpecies': False, 'unnamedSpecies': True, 'alternateReality': False}, {'uid': 'SPMA0000022151', 'name': 'Arbazan', 'homeworld': None, 'quadrant': None, 'extinctSpecies': False, 'warpCapableSpecies': False, 'extraGalacticSpecies': False, 'humanoidSpecies': True, 'reptilianSpecies': False, 'nonCorporealSpecies': False, 'shapeshiftingSpecies': False, 'spaceborneSpecies': False, 'telepathicSpecies': False, 'transDimensionalSpecies': False, 'unnamedSpecies': False, 'alternateReality': False}, {'uid': 'SPMA0000036858', 'name': 'Arcadian', 'homeworld': None, 'quadrant': None, 'extinctSpecies': False, 'warpCapableSpecies': False, 'extraGalacticSpecies': False, 'humanoidSpecies': True, 'reptilianSpecies': False, 'nonCorporealSpecies': False, 'shapeshiftingSpecies': False, 'spaceborneSpecies': False, 'telepathicSpecies': False, 'transDimensionalSpecies': False, 'unnamedSpecies': False, 'alternateReality': False}, {'uid': 'SPMA0000000776', 'name': 'Arcturian', 'homeworld': None, 'quadrant': None, 'extinctSpecies': False, 'warpCapableSpecies': False, 'extraGalacticSpecies': False, 'humanoidSpecies': True, 'reptilianSpecies': False, 'nonCorporealSpecies': False, 'shapeshiftingSpecies': False, 'spaceborneSpecies': False, 'telepathicSpecies': False, 'transDimensionalSpecies': False, 'unnamedSpecies': False, 'alternateReality': False}, {'uid': 'SPMA0000023826', 'name': 'Ardanan', 'homeworld': {'uid': 'ASMA0000012543', 'name': 'Ardana'}, 'quadrant': {'uid': 'ASMA0000002015', 'name': 'Beta Quadrant'}, 'extinctSpecies': False, 'warpCapableSpecies': True, 'extraGalacticSpecies': False, 'humanoidSpecies': True, 'reptilianSpecies': False, 'nonCorporealSpecies': False, 'shapeshiftingSpecies': False, 'spaceborneSpecies': False, 'telepathicSpecies': False, 'transDimensionalSpecies': False, 'unnamedSpecies': False, 'alternateReality': False}, {'uid': 'SPMA0000283802', 'name': 'Areore', 'homeworld': {'uid': 'ASMA0000283811', 'name': 'Areolus'}, 'quadrant': {'uid': 'ASMA0000025892', 'name': 'Alpha Quadrant'}, 'extinctSpecies': False, 'warpCapableSpecies': False, 'extraGalacticSpecies': False, 'humanoidSpecies': True, 'reptilianSpecies': False, 'nonCorporealSpecies': False, 'shapeshiftingSpecies': False, 'spaceborneSpecies': False, 'telepathicSpecies': False, 'transDimensionalSpecies': False, 'unnamedSpecies': False, 'alternateReality': False}, {'uid': 'SPMA0000004887', 'name': 'Argelian', 'homeworld': {'uid': 'ASMA0000004884', 'name': 'Argelius II'}, 'quadrant': {'uid': 'ASMA0000002015', 'name': 'Beta Quadrant'}, 'extinctSpecies': False, 'warpCapableSpecies': False, 'extraGalacticSpecies': False, 'humanoidSpecies': True, 'reptilianSpecies': False, 'nonCorporealSpecies': False, 'shapeshiftingSpecies': False, 'spaceborneSpecies': False, 'telepathicSpecies': True, 'transDimensionalSpecies': False, 'unnamedSpecies': False, 'alternateReality': False}, {'uid': 'SPMA0000080301', 'name': 'Argosian', 'homeworld': None, 'quadrant': None, 'extinctSpecies': False, 'warpCapableSpecies': False, 'extraGalacticSpecies': False, 'humanoidSpecies': False, 'reptilianSpecies': False, 'nonCorporealSpecies': False, 'shapeshiftingSpecies': False, 'spaceborneSpecies': False, 'telepathicSpecies': False, 'transDimensionalSpecies': False, 'unnamedSpecies': False, 'alternateReality': False}, {'uid': 'SPMA0000015953', 'name': 'Argrathi', 'homeworld': {'uid': 'ASMA0000041004', 'name': 'Argratha'}, 'quadrant': {'uid': 'ASMA0000002016', 'name': 'Gamma Quadrant'}, 'extinctSpecies': False, 'warpCapableSpecies': False, 'extraGalacticSpecies': False, 'humanoidSpecies': True, 'reptilianSpecies': False, 'nonCorporealSpecies': False, 'shapeshiftingSpecies': False, 'spaceborneSpecies': False, 'telepathicSpecies': False, 'transDimensionalSpecies': False, 'unnamedSpecies': False, 'alternateReality': False}]}\n"
     ]
    }
   ],
   "source": [
    "# try search for different species\n",
    "\n",
    "criteria = stapi.search_criteria.SpeciesSearchCriteria(pageNumber=0, pageSize=500, sort=\"\")\n",
    "response = stapi.RestClient().species.search(criteria)\n",
    "print(response)"
   ]
  },
  {
   "cell_type": "code",
   "execution_count": 19,
   "metadata": {},
   "outputs": [],
   "source": [
    "# creating a loop to run continuously to pull all species to a dictionary\n",
    "\n",
    "species = {}\n",
    "page_number = 0\n",
    "page_size = 100\n",
    "\n",
    "while True:\n",
    "    criteria = stapi.search_criteria.SpeciesSearchCriteria(pageNumber=page_number, pageSize=page_size, sort=\"\")\n",
    "    response = stapi.RestClient().species.search(criteria)\n",
    "    if not response['species']:\n",
    "        break\n",
    "    for specie in response['species']:\n",
    "        species[specie['uid']] = {\n",
    "            'name': specie['name'],\n",
    "            'homeworld': specie.get('homeworld'),\n",
    "            'warpCapableSpecies' : specie.get('warpCapableSpecies'),\n",
    "            'humanoidSpecies' : specie.get('humanoidSpecies'),\n",
    "            'spaceborneSpecies' : specie.get('spaceborneSpecies')\n",
    "        }\n",
    "    page_number += 1"
   ]
  },
  {
   "cell_type": "code",
   "execution_count": 20,
   "metadata": {},
   "outputs": [],
   "source": [
    "# create a dataframe from the star trek species dictionary\n",
    "st_species = pd.DataFrame(species)\n",
    "\n",
    "# transpose dataframe\n",
    "st_species = st_species.T"
   ]
  },
  {
   "cell_type": "code",
   "execution_count": 21,
   "metadata": {},
   "outputs": [
    {
     "data": {
      "text/html": [
       "<div>\n",
       "<style scoped>\n",
       "    .dataframe tbody tr th:only-of-type {\n",
       "        vertical-align: middle;\n",
       "    }\n",
       "\n",
       "    .dataframe tbody tr th {\n",
       "        vertical-align: top;\n",
       "    }\n",
       "\n",
       "    .dataframe thead th {\n",
       "        text-align: right;\n",
       "    }\n",
       "</style>\n",
       "<table border=\"1\" class=\"dataframe\">\n",
       "  <thead>\n",
       "    <tr style=\"text-align: right;\">\n",
       "      <th></th>\n",
       "      <th>name</th>\n",
       "      <th>homeworld</th>\n",
       "      <th>warpCapableSpecies</th>\n",
       "      <th>humanoidSpecies</th>\n",
       "      <th>spaceborneSpecies</th>\n",
       "    </tr>\n",
       "  </thead>\n",
       "  <tbody>\n",
       "    <tr>\n",
       "      <th>SPMA0000041310</th>\n",
       "      <td>892-IV native</td>\n",
       "      <td>{'uid': 'ASMA0000015188', 'name': '892-IV'}</td>\n",
       "      <td>False</td>\n",
       "      <td>True</td>\n",
       "      <td>False</td>\n",
       "    </tr>\n",
       "    <tr>\n",
       "      <th>SPMA0000001088</th>\n",
       "      <td>Aaamazzarite</td>\n",
       "      <td>None</td>\n",
       "      <td>False</td>\n",
       "      <td>True</td>\n",
       "      <td>False</td>\n",
       "    </tr>\n",
       "    <tr>\n",
       "      <th>SPMA0000212929</th>\n",
       "      <td>Aamaarazan</td>\n",
       "      <td>None</td>\n",
       "      <td>False</td>\n",
       "      <td>True</td>\n",
       "      <td>False</td>\n",
       "    </tr>\n",
       "    <tr>\n",
       "      <th>SPMA0000064948</th>\n",
       "      <td>Abaddon's species</td>\n",
       "      <td>None</td>\n",
       "      <td>False</td>\n",
       "      <td>True</td>\n",
       "      <td>False</td>\n",
       "    </tr>\n",
       "    <tr>\n",
       "      <th>SPMA0000224109</th>\n",
       "      <td>Abdon's species</td>\n",
       "      <td>None</td>\n",
       "      <td>False</td>\n",
       "      <td>True</td>\n",
       "      <td>False</td>\n",
       "    </tr>\n",
       "    <tr>\n",
       "      <th>...</th>\n",
       "      <td>...</td>\n",
       "      <td>...</td>\n",
       "      <td>...</td>\n",
       "      <td>...</td>\n",
       "      <td>...</td>\n",
       "    </tr>\n",
       "    <tr>\n",
       "      <th>SPMA0000036040</th>\n",
       "      <td>Zevian</td>\n",
       "      <td>None</td>\n",
       "      <td>False</td>\n",
       "      <td>False</td>\n",
       "      <td>False</td>\n",
       "    </tr>\n",
       "    <tr>\n",
       "      <th>SPMA0000025179</th>\n",
       "      <td>Zibalian</td>\n",
       "      <td>{'uid': 'ASMA0000174564', 'name': 'Theta Zibal...</td>\n",
       "      <td>True</td>\n",
       "      <td>True</td>\n",
       "      <td>False</td>\n",
       "    </tr>\n",
       "    <tr>\n",
       "      <th>SPMA0000068170</th>\n",
       "      <td>Zobral's species</td>\n",
       "      <td>{'uid': 'ASMA0000023468', 'name': 'Torothan ho...</td>\n",
       "      <td>True</td>\n",
       "      <td>True</td>\n",
       "      <td>False</td>\n",
       "    </tr>\n",
       "    <tr>\n",
       "      <th>SPMA0000061959</th>\n",
       "      <td>Zolan's species</td>\n",
       "      <td>None</td>\n",
       "      <td>False</td>\n",
       "      <td>True</td>\n",
       "      <td>False</td>\n",
       "    </tr>\n",
       "    <tr>\n",
       "      <th>SPMA0000010630</th>\n",
       "      <td>Zora Fel</td>\n",
       "      <td>None</td>\n",
       "      <td>False</td>\n",
       "      <td>False</td>\n",
       "      <td>False</td>\n",
       "    </tr>\n",
       "  </tbody>\n",
       "</table>\n",
       "<p>759 rows × 5 columns</p>\n",
       "</div>"
      ],
      "text/plain": [
       "                             name  \\\n",
       "SPMA0000041310      892-IV native   \n",
       "SPMA0000001088       Aaamazzarite   \n",
       "SPMA0000212929         Aamaarazan   \n",
       "SPMA0000064948  Abaddon's species   \n",
       "SPMA0000224109    Abdon's species   \n",
       "...                           ...   \n",
       "SPMA0000036040             Zevian   \n",
       "SPMA0000025179           Zibalian   \n",
       "SPMA0000068170   Zobral's species   \n",
       "SPMA0000061959    Zolan's species   \n",
       "SPMA0000010630           Zora Fel   \n",
       "\n",
       "                                                        homeworld  \\\n",
       "SPMA0000041310        {'uid': 'ASMA0000015188', 'name': '892-IV'}   \n",
       "SPMA0000001088                                               None   \n",
       "SPMA0000212929                                               None   \n",
       "SPMA0000064948                                               None   \n",
       "SPMA0000224109                                               None   \n",
       "...                                                           ...   \n",
       "SPMA0000036040                                               None   \n",
       "SPMA0000025179  {'uid': 'ASMA0000174564', 'name': 'Theta Zibal...   \n",
       "SPMA0000068170  {'uid': 'ASMA0000023468', 'name': 'Torothan ho...   \n",
       "SPMA0000061959                                               None   \n",
       "SPMA0000010630                                               None   \n",
       "\n",
       "               warpCapableSpecies humanoidSpecies spaceborneSpecies  \n",
       "SPMA0000041310              False            True             False  \n",
       "SPMA0000001088              False            True             False  \n",
       "SPMA0000212929              False            True             False  \n",
       "SPMA0000064948              False            True             False  \n",
       "SPMA0000224109              False            True             False  \n",
       "...                           ...             ...               ...  \n",
       "SPMA0000036040              False           False             False  \n",
       "SPMA0000025179               True            True             False  \n",
       "SPMA0000068170               True            True             False  \n",
       "SPMA0000061959              False            True             False  \n",
       "SPMA0000010630              False           False             False  \n",
       "\n",
       "[759 rows x 5 columns]"
      ]
     },
     "execution_count": 21,
     "metadata": {},
     "output_type": "execute_result"
    }
   ],
   "source": [
    "# view dataframe\n",
    "st_species"
   ]
  },
  {
   "cell_type": "code",
   "execution_count": 22,
   "metadata": {},
   "outputs": [
    {
     "name": "stdout",
     "output_type": "stream",
     "text": [
      "<class 'pandas.core.frame.DataFrame'>\n",
      "Index: 759 entries, SPMA0000041310 to SPMA0000010630\n",
      "Data columns (total 5 columns):\n",
      " #   Column              Non-Null Count  Dtype \n",
      "---  ------              --------------  ----- \n",
      " 0   name                759 non-null    object\n",
      " 1   homeworld           286 non-null    object\n",
      " 2   warpCapableSpecies  759 non-null    object\n",
      " 3   humanoidSpecies     759 non-null    object\n",
      " 4   spaceborneSpecies   759 non-null    object\n",
      "dtypes: object(5)\n",
      "memory usage: 35.6+ KB\n"
     ]
    }
   ],
   "source": [
    "# view dataframe info\n",
    "st_species.info()"
   ]
  },
  {
   "cell_type": "code",
   "execution_count": 23,
   "metadata": {},
   "outputs": [],
   "source": [
    "# save star trek species to parquet\n",
    "\n",
    "st_species.to_parquet('../WPscraped/StarTrek_Species.parquet', index=False)"
   ]
  },
  {
   "cell_type": "code",
   "execution_count": 24,
   "metadata": {},
   "outputs": [
    {
     "name": "stdout",
     "output_type": "stream",
     "text": [
      "{'page': {'pageNumber': 0, 'pageSize': 50, 'numberOfElements': 50, 'totalElements': 1443, 'totalPages': 29, 'firstPage': True, 'lastPage': False}, 'sort': {'clauses': []}, 'spacecrafts': [{'uid': 'SRMA0000245113', 'name': '042', 'registry': '042', 'status': 'Active', 'dateStatus': '3189', 'spacecraftClass': {'uid': 'SCMA0000226396', 'name': 'Worker bee'}, 'owner': None, 'operator': None}, {'uid': 'SRMA0000174913', 'name': '208', 'registry': '208', 'status': 'Destroyed', 'dateStatus': '2259', 'spacecraftClass': {'uid': 'SCMA0000175103', 'name': 'Jumpship'}, 'owner': None, 'operator': None}, {'uid': 'SRMA0000152981', 'name': '313-C', 'registry': None, 'status': None, 'dateStatus': None, 'spacecraftClass': None, 'owner': None, 'operator': None}, {'uid': 'SRMA0000270891', 'name': '5', 'registry': '5', 'status': 'Active', 'dateStatus': '2381', 'spacecraftClass': None, 'owner': None, 'operator': None}, {'uid': 'SRMA0000276018', 'name': 'ATW-11', 'registry': 'ATW-11', 'status': 'Active', 'dateStatus': '3190', 'spacecraftClass': {'uid': 'SCMA0000276004', 'name': 'UFP-02 type'}, 'owner': None, 'operator': None}, {'uid': 'SRMA0000107693', 'name': \"Abaddon's space station\", 'registry': None, 'status': None, 'dateStatus': None, 'spacecraftClass': None, 'owner': None, 'operator': None}, {'uid': 'SRMA0000272948', 'name': 'Adonis', 'registry': 'NCC-83002', 'status': 'Active', 'dateStatus': '2381', 'spacecraftClass': {'uid': 'SCMA0000258298', 'name': 'Type 6A shuttlecraft'}, 'owner': None, 'operator': None}, {'uid': 'SRMA0000000637', 'name': 'Aeon', 'registry': None, 'status': 'Active', 'dateStatus': '29th century', 'spacecraftClass': None, 'owner': None, 'operator': None}, {'uid': 'SRMA0000040691', 'name': 'Akritirian maximum security detention facility', 'registry': None, 'status': 'Active', 'dateStatus': '2373', 'spacecraftClass': None, 'owner': None, 'operator': None}, {'uid': 'SRMA0000002998', 'name': 'Aldara', 'registry': None, 'status': 'Active', 'dateStatus': '2369', 'spacecraftClass': {'uid': 'SCMA0000002988', 'name': 'Galor class'}, 'owner': {'uid': 'ORMA0000000605', 'name': 'Cardassian Union'}, 'operator': {'uid': 'ORMA0000000285', 'name': 'Cardassian military'}}, {'uid': 'SRMA0000009476', 'name': 'Aldebaran III', 'registry': None, 'status': None, 'dateStatus': None, 'spacecraftClass': None, 'owner': None, 'operator': None}, {'uid': 'SRMA0000283171', 'name': 'Algonquin', 'registry': None, 'status': None, 'dateStatus': '2381', 'spacecraftClass': None, 'owner': None, 'operator': None}, {'uid': 'SRMA0000018259', 'name': 'Alice', 'registry': None, 'status': 'Destroyed', 'dateStatus': '2376', 'spacecraftClass': None, 'owner': None, 'operator': None}, {'uid': 'SRMA0000131282', 'name': 'Alpha Nine', 'registry': None, 'status': 'Active', 'dateStatus': '2370', 'spacecraftClass': None, 'owner': None, 'operator': None}, {'uid': 'SRMA0000131287', 'name': 'Alpha Seven', 'registry': None, 'status': 'Active', 'dateStatus': '2370', 'spacecraftClass': {'uid': 'SCMA0000153334', 'name': 'Maquis fighter'}, 'owner': None, 'operator': None}, {'uid': 'SRMA0000004103', 'name': 'Amargosa observatory', 'registry': None, 'status': 'Destroyed', 'dateStatus': '2371', 'spacecraftClass': None, 'owner': None, 'operator': None}, {'uid': 'SRMA0000216345', 'name': 'Andorian renegade ship', 'registry': None, 'status': None, 'dateStatus': None, 'spacecraftClass': None, 'owner': None, 'operator': None}, {'uid': 'SRMA0000013879', 'name': 'Ansel Adams', 'registry': '06', 'status': 'Active', 'dateStatus': '2366', 'spacecraftClass': {'uid': 'SCMA0000013859', 'name': 'Type 7 shuttlecraft'}, 'owner': None, 'operator': None}, {'uid': 'SRMA0000002819', 'name': 'Antares', 'registry': 'NCC-501', 'status': 'Destroyed', 'dateStatus': '2266', 'spacecraftClass': {'uid': 'SCMA0000093001', 'name': 'Antares type'}, 'owner': None, 'operator': None}, {'uid': 'SRMA0000004165', 'name': 'Apollo 11', 'registry': None, 'status': 'Active', 'dateStatus': '1969', 'spacecraftClass': None, 'owner': None, 'operator': {'uid': 'ORMA0000003958', 'name': 'National Aeronautics and Space Administration'}}, {'uid': 'SRMA0000214891', 'name': 'Archanis IV Research Outpost', 'registry': None, 'status': None, 'dateStatus': None, 'spacecraftClass': None, 'owner': None, 'operator': None}, {'uid': 'SRMA0000274023', 'name': 'Archer Spacedock', 'registry': None, 'status': 'Active', 'dateStatus': '3190', 'spacecraftClass': None, 'owner': None, 'operator': None}, {'uid': 'SRMA0000001944', 'name': 'Archon', 'registry': None, 'status': 'Destroyed', 'dateStatus': '2167', 'spacecraftClass': None, 'owner': None, 'operator': None}, {'uid': 'SRMA0000002828', 'name': 'Arcos', 'registry': None, 'status': 'Destroyed', 'dateStatus': '2367', 'spacecraftClass': {'uid': 'SCMA0000091404', 'name': 'Antares class'}, 'owner': None, 'operator': None}, {'uid': 'SRMA0000036784', 'name': 'Arctic One', 'registry': None, 'status': 'Destroyed', 'dateStatus': '2153', 'spacecraftClass': {'uid': 'SCMA0000033383', 'name': 'Arctic One type'}, 'owner': None, 'operator': {'uid': 'ORMA0000005972', 'name': 'Borg Collective'}}, {'uid': 'SRMA0000003696', 'name': 'Ares IV', 'registry': None, 'status': 'Derelict', 'dateStatus': '2376', 'spacecraftClass': None, 'owner': None, 'operator': None}, {'uid': 'SRMA0000003573', 'name': 'Argo', 'registry': None, 'status': 'Active', 'dateStatus': '2379', 'spacecraftClass': None, 'owner': None, 'operator': None}, {'uid': 'SRMA0000008210', 'name': 'Argus Array', 'registry': None, 'status': 'Active', 'dateStatus': '2401', 'spacecraftClass': None, 'owner': None, 'operator': None}, {'uid': 'SRMA0000116644', 'name': 'Ariane 1', 'registry': None, 'status': None, 'dateStatus': None, 'spacecraftClass': None, 'owner': None, 'operator': None}, {'uid': 'SRMA0000148870', 'name': 'Armstrong', 'registry': '15', 'status': 'Active', 'dateStatus': '2366', 'spacecraftClass': {'uid': 'SCMA0000005110', 'name': 'Type 15 shuttlepod'}, 'owner': None, 'operator': None}, {'uid': 'SRMA0000258741', 'name': \"Arridor's shuttle\", 'registry': None, 'status': 'Transported', 'dateStatus': '2373', 'spacecraftClass': {'uid': 'SCMA0000014440', 'name': 'Ferengi shuttle'}, 'owner': None, 'operator': None}, {'uid': 'SRMA0000251677', 'name': 'Artifact', 'registry': None, 'status': 'Crashed', 'dateStatus': '2399', 'spacecraftClass': {'uid': 'SCMA0000000415', 'name': 'Borg cube'}, 'owner': None, 'operator': None}, {'uid': 'SRMA0000146683', 'name': 'Assault probe', 'registry': None, 'status': None, 'dateStatus': None, 'spacecraftClass': None, 'owner': None, 'operator': None}, {'uid': 'SRMA0000008347', 'name': 'Astral Queen', 'registry': None, 'status': 'Active', 'dateStatus': '2328', 'spacecraftClass': None, 'owner': None, 'operator': None}, {'uid': 'SRMA0000143448', 'name': 'Atlantis', 'registry': 'OV-104', 'status': 'Retired', 'dateStatus': '2011', 'spacecraftClass': {'uid': 'SCMA0000125518', 'name': 'Space shuttle orbiter'}, 'owner': None, 'operator': {'uid': 'ORMA0000003958', 'name': 'National Aeronautics and Space Administration'}}, {'uid': 'SRMA0000271251', 'name': 'Atlantis', 'registry': None, 'status': None, 'dateStatus': '2370s', 'spacecraftClass': None, 'owner': None, 'operator': None}, {'uid': 'SRMA0000094221', 'name': 'Atmospheric probe', 'registry': None, 'status': None, 'dateStatus': None, 'spacecraftClass': None, 'owner': None, 'operator': None}, {'uid': 'SRMA0000008643', 'name': 'Aurora', 'registry': 'NC-17740', 'status': 'Destroyed', 'dateStatus': '2269', 'spacecraftClass': {'uid': 'SCMA0000092710', 'name': 'Class J starship'}, 'owner': None, 'operator': None}, {'uid': 'SRMA0000028145', 'name': 'Automated repair station', 'registry': None, 'status': 'Active', 'dateStatus': '2152', 'spacecraftClass': None, 'owner': None, 'operator': None}, {'uid': 'SRMA0000193529', 'name': 'Axanar Starbase Terminal', 'registry': None, 'status': 'Active', 'dateStatus': '2328', 'spacecraftClass': None, 'owner': None, 'operator': None}, {'uid': 'SRMA0000055240', 'name': 'B-24-CLN', 'registry': None, 'status': 'Decommissioned', 'dateStatus': '2368', 'spacecraftClass': None, 'owner': None, 'operator': None}, {'uid': 'SRMA0000179994', 'name': 'BA-36', 'registry': 'BA-36', 'status': 'Active', 'dateStatus': '2259', 'spacecraftClass': {'uid': 'SCMA0000175094', 'name': 'Takayama type shuttlecraft'}, 'owner': None, 'operator': None}, {'uid': 'SRMA0000102190', 'name': 'BCD-31775', 'registry': 'BCD-31775', 'status': 'Active', 'dateStatus': '2370', 'spacecraftClass': {'uid': 'SCMA0000050188', 'name': 'Iyaaran shuttle'}, 'owner': None, 'operator': None}, {'uid': 'SRMA0000222679', 'name': \"Ba'Neth space station\", 'registry': None, 'status': None, 'dateStatus': None, 'spacecraftClass': None, 'owner': None, 'operator': None}, {'uid': 'SRMA0000048753', 'name': \"Bahrat's space station\", 'registry': None, 'status': 'Active', 'dateStatus': '2373', 'spacecraftClass': None, 'owner': None, 'operator': None}, {'uid': 'SRMA0000057233', 'name': 'Bajoran science probe', 'registry': None, 'status': None, 'dateStatus': None, 'spacecraftClass': None, 'owner': None, 'operator': None}, {'uid': 'SRMA0000115443', 'name': 'Bardeen', 'registry': '70172', 'status': 'Active', 'dateStatus': '2255', 'spacecraftClass': {'uid': 'SCMA0000148267', 'name': 'Military shuttle'}, 'owner': None, 'operator': None}, {'uid': 'SRMA0000120686', 'name': 'Barkano', 'registry': None, 'status': 'Active', 'dateStatus': '2360s', 'spacecraftClass': None, 'owner': None, 'operator': None}, {'uid': 'SRMA0000008785', 'name': 'Barradas III', 'registry': None, 'status': None, 'dateStatus': None, 'spacecraftClass': None, 'owner': None, 'operator': None}, {'uid': 'SRMA0000010848', 'name': 'Barzai', 'registry': None, 'status': 'Recovered', 'dateStatus': '2154', 'spacecraftClass': {'uid': 'SCMA0000106373', 'name': 'Denobulan medical ship'}, 'owner': None, 'operator': None}]}\n"
     ]
    }
   ],
   "source": [
    "# try search for different spacecraft \n",
    "criteria = stapi.search_criteria.SpacecraftSearchCriteria(pageNumber=0, pageSize=500, sort=\"\")\n",
    "response = stapi.RestClient().spacecraft.search(criteria)\n",
    "print(response)"
   ]
  },
  {
   "cell_type": "code",
   "execution_count": 25,
   "metadata": {},
   "outputs": [],
   "source": [
    "# creating a loop to run continuously to pull all spacecraft to a dictionary\n",
    "\n",
    "spacecrafts = {}\n",
    "page_number = 0\n",
    "page_size = 100\n",
    "\n",
    "while True:\n",
    "    criteria = stapi.search_criteria.SpacecraftSearchCriteria(pageNumber=page_number, pageSize=page_size, sort=\"\")\n",
    "    response = stapi.RestClient().spacecraft.search(criteria)\n",
    "    if not response['spacecrafts']:\n",
    "        break\n",
    "    for spacecraft in response['spacecrafts']:\n",
    "        spacecrafts[spacecraft['uid']] = {\n",
    "            'name' : spacecraft['name'],\n",
    "            'spacecraftClass' : spacecraft.get('spacecraftClass')\n",
    "        }\n",
    "    page_number += 1"
   ]
  },
  {
   "cell_type": "code",
   "execution_count": 26,
   "metadata": {},
   "outputs": [],
   "source": [
    "# create a dataframe from the star trek spacecraft dictionary\n",
    "st_craft = pd.DataFrame(spacecrafts)\n",
    "\n",
    "# transpose dataframe\n",
    "st_craft = st_craft.T"
   ]
  },
  {
   "cell_type": "code",
   "execution_count": 27,
   "metadata": {},
   "outputs": [
    {
     "data": {
      "text/html": [
       "<div>\n",
       "<style scoped>\n",
       "    .dataframe tbody tr th:only-of-type {\n",
       "        vertical-align: middle;\n",
       "    }\n",
       "\n",
       "    .dataframe tbody tr th {\n",
       "        vertical-align: top;\n",
       "    }\n",
       "\n",
       "    .dataframe thead th {\n",
       "        text-align: right;\n",
       "    }\n",
       "</style>\n",
       "<table border=\"1\" class=\"dataframe\">\n",
       "  <thead>\n",
       "    <tr style=\"text-align: right;\">\n",
       "      <th></th>\n",
       "      <th>name</th>\n",
       "      <th>spacecraftClass</th>\n",
       "    </tr>\n",
       "  </thead>\n",
       "  <tbody>\n",
       "    <tr>\n",
       "      <th>SRMA0000245113</th>\n",
       "      <td>042</td>\n",
       "      <td>{'uid': 'SCMA0000226396', 'name': 'Worker bee'}</td>\n",
       "    </tr>\n",
       "    <tr>\n",
       "      <th>SRMA0000174913</th>\n",
       "      <td>208</td>\n",
       "      <td>{'uid': 'SCMA0000175103', 'name': 'Jumpship'}</td>\n",
       "    </tr>\n",
       "    <tr>\n",
       "      <th>SRMA0000152981</th>\n",
       "      <td>313-C</td>\n",
       "      <td>None</td>\n",
       "    </tr>\n",
       "    <tr>\n",
       "      <th>SRMA0000270891</th>\n",
       "      <td>5</td>\n",
       "      <td>None</td>\n",
       "    </tr>\n",
       "    <tr>\n",
       "      <th>SRMA0000276018</th>\n",
       "      <td>ATW-11</td>\n",
       "      <td>{'uid': 'SCMA0000276004', 'name': 'UFP-02 type'}</td>\n",
       "    </tr>\n",
       "    <tr>\n",
       "      <th>...</th>\n",
       "      <td>...</td>\n",
       "      <td>...</td>\n",
       "    </tr>\n",
       "    <tr>\n",
       "      <th>SRMA0000258112</th>\n",
       "      <td>Yosemite</td>\n",
       "      <td>{'uid': 'SCMA0000258298', 'name': 'Type 6A shu...</td>\n",
       "    </tr>\n",
       "    <tr>\n",
       "      <th>SRMA0000006653</th>\n",
       "      <td>Yosemite 3</td>\n",
       "      <td>None</td>\n",
       "    </tr>\n",
       "    <tr>\n",
       "      <th>SRMA0000282424</th>\n",
       "      <td>Yosemite II</td>\n",
       "      <td>{'uid': 'SCMA0000258298', 'name': 'Type 6A shu...</td>\n",
       "    </tr>\n",
       "    <tr>\n",
       "      <th>SRMA0000016523</th>\n",
       "      <td>Zayra IV</td>\n",
       "      <td>None</td>\n",
       "    </tr>\n",
       "    <tr>\n",
       "      <th>SRMA0000056150</th>\n",
       "      <td>Zek's personal shuttle</td>\n",
       "      <td>{'uid': 'SCMA0000014440', 'name': 'Ferengi shu...</td>\n",
       "    </tr>\n",
       "  </tbody>\n",
       "</table>\n",
       "<p>1443 rows × 2 columns</p>\n",
       "</div>"
      ],
      "text/plain": [
       "                                  name  \\\n",
       "SRMA0000245113                     042   \n",
       "SRMA0000174913                     208   \n",
       "SRMA0000152981                   313-C   \n",
       "SRMA0000270891                       5   \n",
       "SRMA0000276018                  ATW-11   \n",
       "...                                ...   \n",
       "SRMA0000258112                Yosemite   \n",
       "SRMA0000006653              Yosemite 3   \n",
       "SRMA0000282424             Yosemite II   \n",
       "SRMA0000016523                Zayra IV   \n",
       "SRMA0000056150  Zek's personal shuttle   \n",
       "\n",
       "                                                  spacecraftClass  \n",
       "SRMA0000245113    {'uid': 'SCMA0000226396', 'name': 'Worker bee'}  \n",
       "SRMA0000174913      {'uid': 'SCMA0000175103', 'name': 'Jumpship'}  \n",
       "SRMA0000152981                                               None  \n",
       "SRMA0000270891                                               None  \n",
       "SRMA0000276018   {'uid': 'SCMA0000276004', 'name': 'UFP-02 type'}  \n",
       "...                                                           ...  \n",
       "SRMA0000258112  {'uid': 'SCMA0000258298', 'name': 'Type 6A shu...  \n",
       "SRMA0000006653                                               None  \n",
       "SRMA0000282424  {'uid': 'SCMA0000258298', 'name': 'Type 6A shu...  \n",
       "SRMA0000016523                                               None  \n",
       "SRMA0000056150  {'uid': 'SCMA0000014440', 'name': 'Ferengi shu...  \n",
       "\n",
       "[1443 rows x 2 columns]"
      ]
     },
     "execution_count": 27,
     "metadata": {},
     "output_type": "execute_result"
    }
   ],
   "source": [
    "# view dataframe\n",
    "st_craft"
   ]
  },
  {
   "cell_type": "code",
   "execution_count": 28,
   "metadata": {},
   "outputs": [
    {
     "name": "stdout",
     "output_type": "stream",
     "text": [
      "<class 'pandas.core.frame.DataFrame'>\n",
      "Index: 1443 entries, SRMA0000245113 to SRMA0000056150\n",
      "Data columns (total 2 columns):\n",
      " #   Column           Non-Null Count  Dtype \n",
      "---  ------           --------------  ----- \n",
      " 0   name             1443 non-null   object\n",
      " 1   spacecraftClass  610 non-null    object\n",
      "dtypes: object(2)\n",
      "memory usage: 33.8+ KB\n"
     ]
    }
   ],
   "source": [
    "# view dataframe info\n",
    "st_craft.info()"
   ]
  },
  {
   "cell_type": "code",
   "execution_count": 29,
   "metadata": {},
   "outputs": [],
   "source": [
    "# save star trek spacecraft to parquet\n",
    "\n",
    "st_craft.to_parquet('../WPscraped/StarTrek_Spacecraft.parquet', index=False)"
   ]
  },
  {
   "cell_type": "code",
   "execution_count": 30,
   "metadata": {},
   "outputs": [
    {
     "name": "stdout",
     "output_type": "stream",
     "text": [
      "{'page': {'pageNumber': 0, 'pageSize': 50, 'numberOfElements': 50, 'totalElements': 727, 'totalPages': 15, 'firstPage': True, 'lastPage': False}, 'sort': {'clauses': []}, 'spacecraftClasses': [{'uid': 'SCMA0000284244', 'name': 'Abronian ship', 'numberOfDecks': None, 'warpCapable': False, 'alternateReality': False, 'activeFrom': None, 'activeTo': None, 'species': {'uid': 'SPMA0000274634', 'name': 'Abronian'}, 'owner': None, 'operator': None, 'affiliation': None}, {'uid': 'SCMA0000264229', 'name': 'Academy trainer craft', 'numberOfDecks': None, 'warpCapable': False, 'alternateReality': False, 'activeFrom': '24th century', 'activeTo': '24th century', 'species': None, 'owner': None, 'operator': None, 'affiliation': None}, {'uid': 'SCMA0000003735', 'name': 'Aeroshuttle', 'numberOfDecks': None, 'warpCapable': False, 'alternateReality': False, 'activeFrom': '2370s', 'activeTo': '2370s', 'species': None, 'owner': None, 'operator': None, 'affiliation': None}, {'uid': 'SCMA0000171321', 'name': 'Agena target vehicle', 'numberOfDecks': None, 'warpCapable': False, 'alternateReality': False, 'activeFrom': '20th century', 'activeTo': '20th century', 'species': None, 'owner': None, 'operator': None, 'affiliation': None}, {'uid': 'SCMA0000000216', 'name': 'Akira class', 'numberOfDecks': None, 'warpCapable': False, 'alternateReality': False, 'activeFrom': '2370s', 'activeTo': '2400s', 'species': None, 'owner': None, 'operator': None, 'affiliation': None}, {'uid': 'SCMA0000067253', 'name': 'Akritirian cargo vessel', 'numberOfDecks': None, 'warpCapable': False, 'alternateReality': False, 'activeFrom': None, 'activeTo': None, 'species': {'uid': 'SPMA0000002031', 'name': 'Akritirian'}, 'owner': None, 'operator': None, 'affiliation': None}, {'uid': 'SCMA0000040690', 'name': 'Akritirian patrol ship', 'numberOfDecks': None, 'warpCapable': False, 'alternateReality': False, 'activeFrom': None, 'activeTo': None, 'species': {'uid': 'SPMA0000002031', 'name': 'Akritirian'}, 'owner': None, 'operator': None, 'affiliation': None}, {'uid': 'SCMA0000067470', 'name': 'Aksani vessel', 'numberOfDecks': None, 'warpCapable': False, 'alternateReality': False, 'activeFrom': None, 'activeTo': None, 'species': {'uid': 'SPMA0000070806', 'name': 'Aksani'}, 'owner': None, 'operator': None, 'affiliation': None}, {'uid': 'SCMA0000035394', 'name': 'Al-Leyan transport', 'numberOfDecks': None, 'warpCapable': False, 'alternateReality': False, 'activeFrom': None, 'activeTo': None, 'species': None, 'owner': None, 'operator': None, 'affiliation': None}, {'uid': 'SCMA0000289355', 'name': 'Alita class', 'numberOfDecks': None, 'warpCapable': False, 'alternateReality': False, 'activeFrom': '2400s', 'activeTo': '2400s', 'species': None, 'owner': None, 'operator': None, 'affiliation': None}, {'uid': 'SCMA0000267708', 'name': 'Ambassador class', 'numberOfDecks': None, 'warpCapable': False, 'alternateReality': False, 'activeFrom': '24th century', 'activeTo': '24th century', 'species': None, 'owner': None, 'operator': None, 'affiliation': None}, {'uid': 'SCMA0000014778', 'name': 'Andorian battle cruiser', 'numberOfDecks': None, 'warpCapable': False, 'alternateReality': False, 'activeFrom': '2140s', 'activeTo': '2380s', 'species': {'uid': 'SPMA0000000131', 'name': 'Andorian'}, 'owner': None, 'operator': None, 'affiliation': None}, {'uid': 'SCMA0000082094', 'name': 'Andorian cruiser', 'numberOfDecks': None, 'warpCapable': False, 'alternateReality': False, 'activeFrom': '22nd century', 'activeTo': '22nd century', 'species': {'uid': 'SPMA0000000131', 'name': 'Andorian'}, 'owner': None, 'operator': None, 'affiliation': None}, {'uid': 'SCMA0000137513', 'name': 'Andorian escape pod', 'numberOfDecks': None, 'warpCapable': False, 'alternateReality': False, 'activeFrom': '2150s', 'activeTo': '2150s', 'species': {'uid': 'SPMA0000000131', 'name': 'Andorian'}, 'owner': None, 'operator': None, 'affiliation': None}, {'uid': 'SCMA0000064054', 'name': 'Andorian freighter', 'numberOfDecks': None, 'warpCapable': False, 'alternateReality': False, 'activeFrom': '22nd century', 'activeTo': '22nd century', 'species': {'uid': 'SPMA0000000131', 'name': 'Andorian'}, 'owner': None, 'operator': None, 'affiliation': None}, {'uid': 'SCMA0000064053', 'name': 'Andorian freighter', 'numberOfDecks': None, 'warpCapable': False, 'alternateReality': False, 'activeFrom': None, 'activeTo': None, 'species': {'uid': 'SPMA0000000131', 'name': 'Andorian'}, 'owner': None, 'operator': None, 'affiliation': None}, {'uid': 'SCMA0000242167', 'name': 'Andorian ship', 'numberOfDecks': None, 'warpCapable': False, 'alternateReality': False, 'activeFrom': None, 'activeTo': None, 'species': {'uid': 'SPMA0000000131', 'name': 'Andorian'}, 'owner': None, 'operator': None, 'affiliation': None}, {'uid': 'SCMA0000145194', 'name': 'Andorian shuttle', 'numberOfDecks': None, 'warpCapable': False, 'alternateReality': False, 'activeFrom': None, 'activeTo': None, 'species': {'uid': 'SPMA0000000131', 'name': 'Andorian'}, 'owner': None, 'operator': None, 'affiliation': None}, {'uid': 'SCMA0000271503', 'name': 'Andorian starship', 'numberOfDecks': None, 'warpCapable': False, 'alternateReality': False, 'activeFrom': None, 'activeTo': None, 'species': {'uid': 'SPMA0000000131', 'name': 'Andorian'}, 'owner': None, 'operator': None, 'affiliation': None}, {'uid': 'SCMA0000016973', 'name': 'Andorian transport', 'numberOfDecks': None, 'warpCapable': False, 'alternateReality': False, 'activeFrom': None, 'activeTo': None, 'species': {'uid': 'SPMA0000000131', 'name': 'Andorian'}, 'owner': None, 'operator': None, 'affiliation': None}, {'uid': 'SCMA0000281526', 'name': \"Angel's shuttle\", 'numberOfDecks': None, 'warpCapable': False, 'alternateReality': False, 'activeFrom': None, 'activeTo': None, 'species': None, 'owner': None, 'operator': None, 'affiliation': None}, {'uid': 'SCMA0000264738', 'name': 'Angelou class', 'numberOfDecks': None, 'warpCapable': False, 'alternateReality': False, 'activeFrom': '31st century', 'activeTo': '32nd century', 'species': None, 'owner': None, 'operator': None, 'affiliation': None}, {'uid': 'SCMA0000137512', 'name': 'Angosian escape pod', 'numberOfDecks': None, 'warpCapable': False, 'alternateReality': False, 'activeFrom': '2360s', 'activeTo': '2360s', 'species': {'uid': 'SPMA0000000132', 'name': 'Angosian'}, 'owner': None, 'operator': None, 'affiliation': None}, {'uid': 'SCMA0000025440', 'name': 'Angosian police shuttle', 'numberOfDecks': None, 'warpCapable': False, 'alternateReality': False, 'activeFrom': '2360s', 'activeTo': '2360s', 'species': {'uid': 'SPMA0000000132', 'name': 'Angosian'}, 'owner': None, 'operator': None, 'affiliation': None}, {'uid': 'SCMA0000145197', 'name': 'Ankari vessel', 'numberOfDecks': None, 'warpCapable': False, 'alternateReality': False, 'activeFrom': None, 'activeTo': None, 'species': {'uid': 'SPMA0000059858', 'name': 'Ankari'}, 'owner': None, 'operator': None, 'affiliation': None}, {'uid': 'SCMA0000118876', 'name': 'Annari warship', 'numberOfDecks': None, 'warpCapable': False, 'alternateReality': False, 'activeFrom': None, 'activeTo': None, 'species': {'uid': 'SPMA0000007587', 'name': 'Annari'}, 'owner': None, 'operator': None, 'affiliation': None}, {'uid': 'SCMA0000118877', 'name': 'Annari warship', 'numberOfDecks': None, 'warpCapable': False, 'alternateReality': False, 'activeFrom': None, 'activeTo': None, 'species': {'uid': 'SPMA0000007587', 'name': 'Annari'}, 'owner': None, 'operator': None, 'affiliation': None}, {'uid': 'SCMA0000091404', 'name': 'Antares class', 'numberOfDecks': None, 'warpCapable': False, 'alternateReality': False, 'activeFrom': '22nd century', 'activeTo': '2380s', 'species': None, 'owner': None, 'operator': None, 'affiliation': None}, {'uid': 'SCMA0000018495', 'name': 'Antares class', 'numberOfDecks': None, 'warpCapable': False, 'alternateReality': False, 'activeFrom': None, 'activeTo': None, 'species': None, 'owner': None, 'operator': None, 'affiliation': None}, {'uid': 'SCMA0000018440', 'name': 'Antares class', 'numberOfDecks': None, 'warpCapable': False, 'alternateReality': False, 'activeFrom': '24th century', 'activeTo': '24th century', 'species': {'uid': 'SPMA0000003915', 'name': 'Bajoran'}, 'owner': None, 'operator': None, 'affiliation': None}, {'uid': 'SCMA0000093001', 'name': 'Antares type', 'numberOfDecks': None, 'warpCapable': False, 'alternateReality': False, 'activeFrom': '23rd century', 'activeTo': '23rd century', 'species': None, 'owner': None, 'operator': None, 'affiliation': None}, {'uid': 'SCMA0000253758', 'name': 'Antares type escape pod', 'numberOfDecks': None, 'warpCapable': False, 'alternateReality': False, 'activeFrom': '2360s', 'activeTo': '2360s', 'species': None, 'owner': None, 'operator': None, 'affiliation': None}, {'uid': 'SCMA0000067468', 'name': 'Antarian starship', 'numberOfDecks': None, 'warpCapable': False, 'alternateReality': False, 'activeFrom': None, 'activeTo': None, 'species': {'uid': 'SPMA0000024513', 'name': 'Antarian'}, 'owner': None, 'operator': None, 'affiliation': None}, {'uid': 'SCMA0000053931', 'name': 'Antidean transport', 'numberOfDecks': None, 'warpCapable': False, 'alternateReality': False, 'activeFrom': None, 'activeTo': None, 'species': {'uid': 'SPMA0000103822', 'name': 'Antidean'}, 'owner': None, 'operator': None, 'affiliation': None}, {'uid': 'SCMA0000283771', 'name': 'Apergosian shuttle', 'numberOfDecks': None, 'warpCapable': False, 'alternateReality': False, 'activeFrom': None, 'activeTo': None, 'species': {'uid': 'SPMA0000270387', 'name': 'Apergosian'}, 'owner': None, 'operator': None, 'affiliation': None}, {'uid': 'SCMA0000129755', 'name': 'Apollo class', 'numberOfDecks': None, 'warpCapable': False, 'alternateReality': False, 'activeFrom': '24th century', 'activeTo': '24th century', 'species': {'uid': 'SPMA0000045069', 'name': 'Vulcan'}, 'owner': None, 'operator': None, 'affiliation': None}, {'uid': 'SCMA0000181329', 'name': 'Apollo spacecraft', 'numberOfDecks': None, 'warpCapable': False, 'alternateReality': False, 'activeFrom': None, 'activeTo': None, 'species': None, 'owner': None, 'operator': None, 'affiliation': None}, {'uid': 'SCMA0000015962', 'name': 'Aqua-shuttle', 'numberOfDecks': None, 'warpCapable': False, 'alternateReality': False, 'activeFrom': '23rd century', 'activeTo': '23rd century', 'species': None, 'owner': None, 'operator': None, 'affiliation': None}, {'uid': 'SCMA0000289562', 'name': 'Aquarius class', 'numberOfDecks': None, 'warpCapable': False, 'alternateReality': False, 'activeFrom': None, 'activeTo': None, 'species': None, 'owner': None, 'operator': None, 'affiliation': None}, {'uid': 'SCMA0000280618', 'name': 'Archer type', 'numberOfDecks': None, 'warpCapable': False, 'alternateReality': False, 'activeFrom': '2250s', 'activeTo': '2250s', 'species': None, 'owner': None, 'operator': None, 'affiliation': None}, {'uid': 'SCMA0000033383', 'name': 'Arctic One type', 'numberOfDecks': None, 'warpCapable': True, 'alternateReality': False, 'activeFrom': '2150s', 'activeTo': '2150s', 'species': {'uid': 'SPMA0000026314', 'name': 'Human'}, 'owner': None, 'operator': None, 'affiliation': None}, {'uid': 'SCMA0000031453', 'name': 'Ardanan shuttle', 'numberOfDecks': None, 'warpCapable': False, 'alternateReality': False, 'activeFrom': None, 'activeTo': None, 'species': {'uid': 'SPMA0000023826', 'name': 'Ardanan'}, 'owner': None, 'operator': None, 'affiliation': None}, {'uid': 'SCMA0000093410', 'name': \"Ardra's starship\", 'numberOfDecks': None, 'warpCapable': False, 'alternateReality': False, 'activeFrom': None, 'activeTo': None, 'species': None, 'owner': None, 'operator': None, 'affiliation': None}, {'uid': 'SCMA0000283870', 'name': 'Areore ship', 'numberOfDecks': None, 'warpCapable': False, 'alternateReality': False, 'activeFrom': None, 'activeTo': None, 'species': {'uid': 'SPMA0000283802', 'name': 'Areore'}, 'owner': None, 'operator': None, 'affiliation': None}, {'uid': 'SCMA0000283867', 'name': 'Areore ship', 'numberOfDecks': None, 'warpCapable': False, 'alternateReality': False, 'activeFrom': None, 'activeTo': None, 'species': {'uid': 'SPMA0000283802', 'name': 'Areore'}, 'owner': None, 'operator': None, 'affiliation': None}, {'uid': 'SCMA0000174998', 'name': 'Ares V', 'numberOfDecks': None, 'warpCapable': False, 'alternateReality': True, 'activeFrom': None, 'activeTo': None, 'species': None, 'owner': None, 'operator': None, 'affiliation': None}, {'uid': 'SCMA0000038822', 'name': 'Arkonian military vessel', 'numberOfDecks': None, 'warpCapable': False, 'alternateReality': False, 'activeFrom': None, 'activeTo': None, 'species': {'uid': 'SPMA0000028213', 'name': 'Arkonian'}, 'owner': None, 'operator': None, 'affiliation': None}, {'uid': 'SCMA0000038823', 'name': 'Arkonian patrol ship', 'numberOfDecks': None, 'warpCapable': False, 'alternateReality': False, 'activeFrom': None, 'activeTo': None, 'species': {'uid': 'SPMA0000028213', 'name': 'Arkonian'}, 'owner': None, 'operator': None, 'affiliation': None}, {'uid': 'SCMA0000127905', 'name': 'Armstrong type', 'numberOfDecks': None, 'warpCapable': False, 'alternateReality': True, 'activeFrom': '2250s', 'activeTo': '2260s', 'species': None, 'owner': None, 'operator': None, 'affiliation': None}, {'uid': 'SCMA0000240374', 'name': 'Arretan vessel', 'numberOfDecks': None, 'warpCapable': False, 'alternateReality': False, 'activeFrom': None, 'activeTo': None, 'species': {'uid': 'SPMA0000064936', 'name': 'Arretan'}, 'owner': None, 'operator': None, 'affiliation': None}]}\n"
     ]
    }
   ],
   "source": [
    "# try search for different spacecraft classes\n",
    "criteria = stapi.search_criteria.SpacecraftClassSearchCriteria(pageNumber=0, pageSize=500, sort=\"\")\n",
    "response = stapi.RestClient().spacecraftClass.search(criteria)\n",
    "print(response)\n"
   ]
  },
  {
   "cell_type": "code",
   "execution_count": 31,
   "metadata": {},
   "outputs": [],
   "source": [
    "# creating a loop to run continuously to pull all spacecraft classes to a dictionary\n",
    "\n",
    "spacecraft_classes = {}\n",
    "page_number = 0\n",
    "page_size = 50\n",
    "\n",
    "while True:\n",
    "    criteria = stapi.search_criteria.SpacecraftClassSearchCriteria(pageNumber=page_number, pageSize=page_size, sort=\"\")\n",
    "    response = stapi.RestClient().spacecraftClass.search(criteria)\n",
    "    if not response['spacecraftClasses']:\n",
    "        break\n",
    "    for spacecraft_class in response['spacecraftClasses']:\n",
    "        spacecraft_classes[spacecraft_class['uid']] = {\n",
    "            'name': spacecraft_class['name'],\n",
    "            'numberOfDecks': spacecraft_class.get('numberOfDecks'),\n",
    "            'warpCapable': spacecraft_class.get('warpCapable'),\n",
    "            'species': spacecraft_class.get('species')\n",
    "        }\n",
    "    page_number += 1"
   ]
  },
  {
   "cell_type": "code",
   "execution_count": 32,
   "metadata": {},
   "outputs": [],
   "source": [
    "# create a dataframe from the star trek spacecraft classes dictionary\n",
    "st_craft_classes = pd.DataFrame(spacecraft_classes)\n",
    "\n",
    "# transpose dataframe\n",
    "st_craft_classes = st_craft_classes.T"
   ]
  },
  {
   "cell_type": "code",
   "execution_count": 33,
   "metadata": {},
   "outputs": [
    {
     "data": {
      "text/html": [
       "<div>\n",
       "<style scoped>\n",
       "    .dataframe tbody tr th:only-of-type {\n",
       "        vertical-align: middle;\n",
       "    }\n",
       "\n",
       "    .dataframe tbody tr th {\n",
       "        vertical-align: top;\n",
       "    }\n",
       "\n",
       "    .dataframe thead th {\n",
       "        text-align: right;\n",
       "    }\n",
       "</style>\n",
       "<table border=\"1\" class=\"dataframe\">\n",
       "  <thead>\n",
       "    <tr style=\"text-align: right;\">\n",
       "      <th></th>\n",
       "      <th>name</th>\n",
       "      <th>numberOfDecks</th>\n",
       "      <th>warpCapable</th>\n",
       "      <th>species</th>\n",
       "    </tr>\n",
       "  </thead>\n",
       "  <tbody>\n",
       "    <tr>\n",
       "      <th>SCMA0000284244</th>\n",
       "      <td>Abronian ship</td>\n",
       "      <td>None</td>\n",
       "      <td>False</td>\n",
       "      <td>{'uid': 'SPMA0000274634', 'name': 'Abronian'}</td>\n",
       "    </tr>\n",
       "    <tr>\n",
       "      <th>SCMA0000264229</th>\n",
       "      <td>Academy trainer craft</td>\n",
       "      <td>None</td>\n",
       "      <td>False</td>\n",
       "      <td>None</td>\n",
       "    </tr>\n",
       "    <tr>\n",
       "      <th>SCMA0000003735</th>\n",
       "      <td>Aeroshuttle</td>\n",
       "      <td>None</td>\n",
       "      <td>False</td>\n",
       "      <td>None</td>\n",
       "    </tr>\n",
       "    <tr>\n",
       "      <th>SCMA0000171321</th>\n",
       "      <td>Agena target vehicle</td>\n",
       "      <td>None</td>\n",
       "      <td>False</td>\n",
       "      <td>None</td>\n",
       "    </tr>\n",
       "    <tr>\n",
       "      <th>SCMA0000000216</th>\n",
       "      <td>Akira class</td>\n",
       "      <td>None</td>\n",
       "      <td>False</td>\n",
       "      <td>None</td>\n",
       "    </tr>\n",
       "    <tr>\n",
       "      <th>...</th>\n",
       "      <td>...</td>\n",
       "      <td>...</td>\n",
       "      <td>...</td>\n",
       "      <td>...</td>\n",
       "    </tr>\n",
       "    <tr>\n",
       "      <th>SCMA0000043138</th>\n",
       "      <td>Zalkonian escape pod</td>\n",
       "      <td>None</td>\n",
       "      <td>False</td>\n",
       "      <td>{'uid': 'SPMA0000012656', 'name': 'Zalkonian'}</td>\n",
       "    </tr>\n",
       "    <tr>\n",
       "      <th>SCMA0000019156</th>\n",
       "      <td>Zalkonian warship</td>\n",
       "      <td>None</td>\n",
       "      <td>True</td>\n",
       "      <td>{'uid': 'SPMA0000012656', 'name': 'Zalkonian'}</td>\n",
       "    </tr>\n",
       "    <tr>\n",
       "      <th>SCMA0000231163</th>\n",
       "      <td>Zeon spacecraft</td>\n",
       "      <td>None</td>\n",
       "      <td>False</td>\n",
       "      <td>{'uid': 'SPMA0000070944', 'name': 'Zeon'}</td>\n",
       "    </tr>\n",
       "    <tr>\n",
       "      <th>SCMA0000145300</th>\n",
       "      <td>Zibalian escape pod</td>\n",
       "      <td>None</td>\n",
       "      <td>False</td>\n",
       "      <td>{'uid': 'SPMA0000025179', 'name': 'Zibalian'}</td>\n",
       "    </tr>\n",
       "    <tr>\n",
       "      <th>SCMA0000023469</th>\n",
       "      <td>Zobral's ship</td>\n",
       "      <td>None</td>\n",
       "      <td>False</td>\n",
       "      <td>None</td>\n",
       "    </tr>\n",
       "  </tbody>\n",
       "</table>\n",
       "<p>727 rows × 4 columns</p>\n",
       "</div>"
      ],
      "text/plain": [
       "                                 name numberOfDecks warpCapable  \\\n",
       "SCMA0000284244          Abronian ship          None       False   \n",
       "SCMA0000264229  Academy trainer craft          None       False   \n",
       "SCMA0000003735            Aeroshuttle          None       False   \n",
       "SCMA0000171321   Agena target vehicle          None       False   \n",
       "SCMA0000000216            Akira class          None       False   \n",
       "...                               ...           ...         ...   \n",
       "SCMA0000043138   Zalkonian escape pod          None       False   \n",
       "SCMA0000019156      Zalkonian warship          None        True   \n",
       "SCMA0000231163        Zeon spacecraft          None       False   \n",
       "SCMA0000145300    Zibalian escape pod          None       False   \n",
       "SCMA0000023469          Zobral's ship          None       False   \n",
       "\n",
       "                                                       species  \n",
       "SCMA0000284244   {'uid': 'SPMA0000274634', 'name': 'Abronian'}  \n",
       "SCMA0000264229                                            None  \n",
       "SCMA0000003735                                            None  \n",
       "SCMA0000171321                                            None  \n",
       "SCMA0000000216                                            None  \n",
       "...                                                        ...  \n",
       "SCMA0000043138  {'uid': 'SPMA0000012656', 'name': 'Zalkonian'}  \n",
       "SCMA0000019156  {'uid': 'SPMA0000012656', 'name': 'Zalkonian'}  \n",
       "SCMA0000231163       {'uid': 'SPMA0000070944', 'name': 'Zeon'}  \n",
       "SCMA0000145300   {'uid': 'SPMA0000025179', 'name': 'Zibalian'}  \n",
       "SCMA0000023469                                            None  \n",
       "\n",
       "[727 rows x 4 columns]"
      ]
     },
     "execution_count": 33,
     "metadata": {},
     "output_type": "execute_result"
    }
   ],
   "source": [
    "# view dataframe\n",
    "st_craft_classes"
   ]
  },
  {
   "cell_type": "code",
   "execution_count": 34,
   "metadata": {},
   "outputs": [
    {
     "name": "stdout",
     "output_type": "stream",
     "text": [
      "<class 'pandas.core.frame.DataFrame'>\n",
      "Index: 727 entries, SCMA0000284244 to SCMA0000023469\n",
      "Data columns (total 4 columns):\n",
      " #   Column         Non-Null Count  Dtype \n",
      "---  ------         --------------  ----- \n",
      " 0   name           727 non-null    object\n",
      " 1   numberOfDecks  33 non-null     object\n",
      " 2   warpCapable    727 non-null    object\n",
      " 3   species        412 non-null    object\n",
      "dtypes: object(4)\n",
      "memory usage: 28.4+ KB\n"
     ]
    }
   ],
   "source": [
    "# view dataframe info\n",
    "st_craft_classes.info()"
   ]
  },
  {
   "cell_type": "code",
   "execution_count": 35,
   "metadata": {},
   "outputs": [],
   "source": [
    "# save star trek spacecraft classes to parquet\n",
    "\n",
    "st_craft_classes.to_parquet('../WPscraped/StarTrek_Spacecraft_Classes.parquet', index=False)"
   ]
  },
  {
   "cell_type": "code",
   "execution_count": null,
   "metadata": {},
   "outputs": [],
   "source": []
  }
 ],
 "metadata": {
  "kernelspec": {
   "display_name": "base",
   "language": "python",
   "name": "python3"
  },
  "language_info": {
   "codemirror_mode": {
    "name": "ipython",
    "version": 3
   },
   "file_extension": ".py",
   "mimetype": "text/x-python",
   "name": "python",
   "nbconvert_exporter": "python",
   "pygments_lexer": "ipython3",
   "version": "3.10.9"
  },
  "orig_nbformat": 4
 },
 "nbformat": 4,
 "nbformat_minor": 2
}
