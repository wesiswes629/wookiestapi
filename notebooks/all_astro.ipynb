{
 "cells": [
  {
   "cell_type": "code",
   "execution_count": 2,
   "metadata": {},
   "outputs": [],
   "source": [
    "import pandas as pd\n",
    "import pyarrow\n",
    "import matplotlib.pyplot as plt\n",
    "import numpy as np\n",
    "import seaborn as sns"
   ]
  },
  {
   "cell_type": "code",
   "execution_count": 3,
   "metadata": {},
   "outputs": [],
   "source": [
    "# Read in the Star Trek Astronomical Objects\n",
    "\n",
    "sta = pd.read_parquet('../WPscraped/StarTrek_Astronomical_Objects.parquet')\n",
    "\n",
    "# Read in the Star Wars Astronomical Objects\n",
    "\n",
    "swa = pd.read_parquet('../WPscraped/StarWars_Planets.parquet')"
   ]
  },
  {
   "cell_type": "code",
   "execution_count": 4,
   "metadata": {},
   "outputs": [
    {
     "name": "stdout",
     "output_type": "stream",
     "text": [
      "<class 'pandas.core.frame.DataFrame'>\n",
      "RangeIndex: 2404 entries, 0 to 2403\n",
      "Data columns (total 2 columns):\n",
      " #   Column                  Non-Null Count  Dtype \n",
      "---  ------                  --------------  ----- \n",
      " 0   name                    2404 non-null   object\n",
      " 1   astronomicalObjectType  2363 non-null   object\n",
      "dtypes: object(2)\n",
      "memory usage: 37.7+ KB\n"
     ]
    },
    {
     "data": {
      "text/html": [
       "<div>\n",
       "<style scoped>\n",
       "    .dataframe tbody tr th:only-of-type {\n",
       "        vertical-align: middle;\n",
       "    }\n",
       "\n",
       "    .dataframe tbody tr th {\n",
       "        vertical-align: top;\n",
       "    }\n",
       "\n",
       "    .dataframe thead th {\n",
       "        text-align: right;\n",
       "    }\n",
       "</style>\n",
       "<table border=\"1\" class=\"dataframe\">\n",
       "  <thead>\n",
       "    <tr style=\"text-align: right;\">\n",
       "      <th></th>\n",
       "      <th>name</th>\n",
       "      <th>astronomicalObjectType</th>\n",
       "    </tr>\n",
       "  </thead>\n",
       "  <tbody>\n",
       "    <tr>\n",
       "      <th>0</th>\n",
       "      <td>'aucdet IX</td>\n",
       "      <td>PLANET</td>\n",
       "    </tr>\n",
       "    <tr>\n",
       "      <th>1</th>\n",
       "      <td>'etnap Nebula</td>\n",
       "      <td>NEBULA</td>\n",
       "    </tr>\n",
       "    <tr>\n",
       "      <th>2</th>\n",
       "      <td>1 Centauri</td>\n",
       "      <td>STAR_SYSTEM</td>\n",
       "    </tr>\n",
       "    <tr>\n",
       "      <th>3</th>\n",
       "      <td>11 Leonis Minoris</td>\n",
       "      <td>STAR_SYSTEM</td>\n",
       "    </tr>\n",
       "    <tr>\n",
       "      <th>4</th>\n",
       "      <td>1889 V</td>\n",
       "      <td>COMET</td>\n",
       "    </tr>\n",
       "  </tbody>\n",
       "</table>\n",
       "</div>"
      ],
      "text/plain": [
       "                name astronomicalObjectType\n",
       "0         'aucdet IX                 PLANET\n",
       "1      'etnap Nebula                 NEBULA\n",
       "2         1 Centauri            STAR_SYSTEM\n",
       "3  11 Leonis Minoris            STAR_SYSTEM\n",
       "4             1889 V                  COMET"
      ]
     },
     "execution_count": 4,
     "metadata": {},
     "output_type": "execute_result"
    }
   ],
   "source": [
    "# View sta info\n",
    "sta.info()\n",
    "\n",
    "# View sta\n",
    "sta.head()"
   ]
  },
  {
   "cell_type": "code",
   "execution_count": 5,
   "metadata": {},
   "outputs": [
    {
     "name": "stdout",
     "output_type": "stream",
     "text": [
      "<class 'pandas.core.frame.DataFrame'>\n",
      "RangeIndex: 2562 entries, 0 to 2561\n",
      "Data columns (total 11 columns):\n",
      " #   Column              Non-Null Count  Dtype \n",
      "---  ------              --------------  ----- \n",
      " 0   name                2562 non-null   object\n",
      " 1   suns                2562 non-null   object\n",
      " 2   moons               2562 non-null   object\n",
      " 3   atmosphere          2562 non-null   object\n",
      " 4   climate             2562 non-null   object\n",
      " 5   native_species      2562 non-null   object\n",
      " 6   immigrated_species  2562 non-null   object\n",
      " 7   population          2562 non-null   object\n",
      " 8   major_exports       2562 non-null   object\n",
      " 9   affiliation         2562 non-null   object\n",
      " 10  description         2562 non-null   object\n",
      "dtypes: object(11)\n",
      "memory usage: 220.3+ KB\n"
     ]
    },
    {
     "data": {
      "text/html": [
       "<div>\n",
       "<style scoped>\n",
       "    .dataframe tbody tr th:only-of-type {\n",
       "        vertical-align: middle;\n",
       "    }\n",
       "\n",
       "    .dataframe tbody tr th {\n",
       "        vertical-align: top;\n",
       "    }\n",
       "\n",
       "    .dataframe thead th {\n",
       "        text-align: right;\n",
       "    }\n",
       "</style>\n",
       "<table border=\"1\" class=\"dataframe\">\n",
       "  <thead>\n",
       "    <tr style=\"text-align: right;\">\n",
       "      <th></th>\n",
       "      <th>name</th>\n",
       "      <th>suns</th>\n",
       "      <th>moons</th>\n",
       "      <th>atmosphere</th>\n",
       "      <th>climate</th>\n",
       "      <th>native_species</th>\n",
       "      <th>immigrated_species</th>\n",
       "      <th>population</th>\n",
       "      <th>major_exports</th>\n",
       "      <th>affiliation</th>\n",
       "      <th>description</th>\n",
       "    </tr>\n",
       "  </thead>\n",
       "  <tbody>\n",
       "    <tr>\n",
       "      <th>0</th>\n",
       "      <td>3rd Moon</td>\n",
       "      <td>None</td>\n",
       "      <td>None</td>\n",
       "      <td>None</td>\n",
       "      <td>None</td>\n",
       "      <td>None</td>\n",
       "      <td>Various</td>\n",
       "      <td>None</td>\n",
       "      <td>None</td>\n",
       "      <td>None</td>\n",
       "      <td>The 3rd Moon was a terrestrial moon located in...</td>\n",
       "    </tr>\n",
       "    <tr>\n",
       "      <th>1</th>\n",
       "      <td>7G sector</td>\n",
       "      <td>None</td>\n",
       "      <td>None</td>\n",
       "      <td>None</td>\n",
       "      <td>None</td>\n",
       "      <td>None</td>\n",
       "      <td>None</td>\n",
       "      <td>None</td>\n",
       "      <td>None</td>\n",
       "      <td>Galactic Empire</td>\n",
       "      <td>The 7G sector was a sector of space located in...</td>\n",
       "    </tr>\n",
       "    <tr>\n",
       "      <th>2</th>\n",
       "      <td>Yasooska</td>\n",
       "      <td>None</td>\n",
       "      <td>None</td>\n",
       "      <td>None</td>\n",
       "      <td>None</td>\n",
       "      <td>None</td>\n",
       "      <td>None</td>\n",
       "      <td>None</td>\n",
       "      <td>None</td>\n",
       "      <td>None</td>\n",
       "      <td>Yasooska was one of the four moons of the plan...</td>\n",
       "    </tr>\n",
       "    <tr>\n",
       "      <th>3</th>\n",
       "      <td>Aakaash</td>\n",
       "      <td>None</td>\n",
       "      <td>None</td>\n",
       "      <td>None</td>\n",
       "      <td>None</td>\n",
       "      <td>None</td>\n",
       "      <td>None</td>\n",
       "      <td>None</td>\n",
       "      <td>None</td>\n",
       "      <td>None</td>\n",
       "      <td>Aakaash was a star of the star system of the s...</td>\n",
       "    </tr>\n",
       "    <tr>\n",
       "      <th>4</th>\n",
       "      <td>Aakaash system</td>\n",
       "      <td>Aakaash</td>\n",
       "      <td>None</td>\n",
       "      <td>None</td>\n",
       "      <td>None</td>\n",
       "      <td>None</td>\n",
       "      <td>Humans</td>\n",
       "      <td>174.2 billion</td>\n",
       "      <td>None</td>\n",
       "      <td>Land &amp; Sky Corporation</td>\n",
       "      <td>The Aakaash system was located in the Oplovis ...</td>\n",
       "    </tr>\n",
       "  </tbody>\n",
       "</table>\n",
       "</div>"
      ],
      "text/plain": [
       "             name     suns moons atmosphere climate native_species  \\\n",
       "0        3rd Moon     None  None       None    None           None   \n",
       "1       7G sector     None  None       None    None           None   \n",
       "2        Yasooska     None  None       None    None           None   \n",
       "3         Aakaash     None  None       None    None           None   \n",
       "4  Aakaash system  Aakaash  None       None    None           None   \n",
       "\n",
       "  immigrated_species     population major_exports             affiliation  \\\n",
       "0            Various           None          None                    None   \n",
       "1               None           None          None         Galactic Empire   \n",
       "2               None           None          None                    None   \n",
       "3               None           None          None                    None   \n",
       "4            Humans   174.2 billion          None  Land & Sky Corporation   \n",
       "\n",
       "                                         description  \n",
       "0  The 3rd Moon was a terrestrial moon located in...  \n",
       "1  The 7G sector was a sector of space located in...  \n",
       "2  Yasooska was one of the four moons of the plan...  \n",
       "3  Aakaash was a star of the star system of the s...  \n",
       "4  The Aakaash system was located in the Oplovis ...  "
      ]
     },
     "execution_count": 5,
     "metadata": {},
     "output_type": "execute_result"
    }
   ],
   "source": [
    "# View swa info\n",
    "swa.info()\n",
    "\n",
    "# View swa\n",
    "swa.head()"
   ]
  },
  {
   "cell_type": "code",
   "execution_count": 6,
   "metadata": {},
   "outputs": [
    {
     "data": {
      "text/plain": [
       "PLANET              1061\n",
       "STAR_SYSTEM          529\n",
       "SECTOR               190\n",
       "STAR                 125\n",
       "REGION               113\n",
       "M_CLASS_PLANET        95\n",
       "NEBULA                62\n",
       "CLUSTER               37\n",
       "CONSTELLATION         30\n",
       "MOON                  29\n",
       "COMET                 17\n",
       "PLANETOID             17\n",
       "ASTEROID_BELT         12\n",
       "GAS_GIANT_PLANET      11\n",
       "ASTEROID               8\n",
       "GALAXY                 8\n",
       "L_CLASS_PLANET         6\n",
       "M_CLASS_MOON           3\n",
       "QUASAR                 3\n",
       "ROGUE_PLANET           2\n",
       "Y_CLASS_PLANET         2\n",
       "K_CLASS_PLANET         2\n",
       "H_CLASS_PLANET         1\n",
       "Name: astronomicalObjectType, dtype: int64"
      ]
     },
     "execution_count": 6,
     "metadata": {},
     "output_type": "execute_result"
    }
   ],
   "source": [
    "# Let's look into the Star Trek astronomical objects\n",
    "\n",
    "stcount = sta['astronomicalObjectType'].value_counts()\n",
    "\n",
    "stcount"
   ]
  },
  {
   "attachments": {},
   "cell_type": "markdown",
   "metadata": {},
   "source": [
    "It looks like there are 23 types of astronomical objects listed in the Star Trek data.  We will combine some of the information into consolidated objects. All planets will be grouped together, all moons will be grouped together, and asteroids and asteroid belts will be grouped together."
   ]
  },
  {
   "cell_type": "code",
   "execution_count": 7,
   "metadata": {},
   "outputs": [
    {
     "data": {
      "text/html": [
       "<div>\n",
       "<style scoped>\n",
       "    .dataframe tbody tr th:only-of-type {\n",
       "        vertical-align: middle;\n",
       "    }\n",
       "\n",
       "    .dataframe tbody tr th {\n",
       "        vertical-align: top;\n",
       "    }\n",
       "\n",
       "    .dataframe thead th {\n",
       "        text-align: right;\n",
       "    }\n",
       "</style>\n",
       "<table border=\"1\" class=\"dataframe\">\n",
       "  <thead>\n",
       "    <tr style=\"text-align: right;\">\n",
       "      <th></th>\n",
       "      <th>name</th>\n",
       "      <th>astronomicalObjectType</th>\n",
       "      <th>planet</th>\n",
       "      <th>moon</th>\n",
       "      <th>asteroid</th>\n",
       "    </tr>\n",
       "  </thead>\n",
       "  <tbody>\n",
       "    <tr>\n",
       "      <th>0</th>\n",
       "      <td>'aucdet IX</td>\n",
       "      <td>PLANET</td>\n",
       "      <td>True</td>\n",
       "      <td>False</td>\n",
       "      <td>False</td>\n",
       "    </tr>\n",
       "    <tr>\n",
       "      <th>1</th>\n",
       "      <td>'etnap Nebula</td>\n",
       "      <td>NEBULA</td>\n",
       "      <td>False</td>\n",
       "      <td>False</td>\n",
       "      <td>False</td>\n",
       "    </tr>\n",
       "    <tr>\n",
       "      <th>2</th>\n",
       "      <td>1 Centauri</td>\n",
       "      <td>STAR_SYSTEM</td>\n",
       "      <td>False</td>\n",
       "      <td>False</td>\n",
       "      <td>False</td>\n",
       "    </tr>\n",
       "    <tr>\n",
       "      <th>3</th>\n",
       "      <td>11 Leonis Minoris</td>\n",
       "      <td>STAR_SYSTEM</td>\n",
       "      <td>False</td>\n",
       "      <td>False</td>\n",
       "      <td>False</td>\n",
       "    </tr>\n",
       "    <tr>\n",
       "      <th>4</th>\n",
       "      <td>1889 V</td>\n",
       "      <td>COMET</td>\n",
       "      <td>False</td>\n",
       "      <td>False</td>\n",
       "      <td>False</td>\n",
       "    </tr>\n",
       "  </tbody>\n",
       "</table>\n",
       "</div>"
      ],
      "text/plain": [
       "                name astronomicalObjectType planet   moon asteroid\n",
       "0         'aucdet IX                 PLANET   True  False    False\n",
       "1      'etnap Nebula                 NEBULA  False  False    False\n",
       "2         1 Centauri            STAR_SYSTEM  False  False    False\n",
       "3  11 Leonis Minoris            STAR_SYSTEM  False  False    False\n",
       "4             1889 V                  COMET  False  False    False"
      ]
     },
     "execution_count": 7,
     "metadata": {},
     "output_type": "execute_result"
    }
   ],
   "source": [
    "# We will start by creating a boolean column for all planets\n",
    "\n",
    "sta['planet'] = sta['astronomicalObjectType'].str.contains('PLANET')\n",
    "\n",
    "# We will create a boolean column for all moons\n",
    "\n",
    "sta['moon'] = sta['astronomicalObjectType'].str.contains('MOON')\n",
    "\n",
    "# We will create a boolean column for all asteroids\n",
    "\n",
    "sta['asteroid'] = sta['astronomicalObjectType'].str.contains('ASTEROID')\n",
    "\n",
    "# view updated dataframe\n",
    "\n",
    "sta.head()\n"
   ]
  },
  {
   "cell_type": "code",
   "execution_count": 8,
   "metadata": {},
   "outputs": [
    {
     "name": "stdout",
     "output_type": "stream",
     "text": [
      " There are 1197 planets listed\n",
      " There are 32 moons listed\n",
      " There are 20 asteroids listed\n",
      " There are 1155 other objects\n"
     ]
    }
   ],
   "source": [
    "# Create a count for # of planets\n",
    "\n",
    "stplanets = sta['planet'].sum()\n",
    "print(f' There are {stplanets} planets listed')\n",
    "\n",
    "# Create a count for # of moons\n",
    "stmoons = sta['moon'].sum()\n",
    "print(f' There are {stmoons} moons listed')\n",
    "\n",
    "# Create a count for # of asteroids\n",
    "stasteroid = sta['asteroid'].sum()\n",
    "print(f' There are {stasteroid} asteroids listed')\n",
    "\n",
    "# Create a count for # of other\n",
    "stother = (sta['name'].count() - stplanets - stmoons - stasteroid)\n",
    "print(f' There are {stother} other objects')"
   ]
  },
  {
   "attachments": {},
   "cell_type": "markdown",
   "metadata": {},
   "source": [
    "We have the Star Trek data, so let's work on the Star Wars data.  There are no fields which easily identify the type of astronomincal object.  There are a lot of columns and data for Star Wars' objects, so we will create a new dataframe and see if we can group items together through the description paragraph."
   ]
  },
  {
   "cell_type": "code",
   "execution_count": 9,
   "metadata": {},
   "outputs": [
    {
     "name": "stdout",
     "output_type": "stream",
     "text": [
      "<class 'pandas.core.frame.DataFrame'>\n",
      "RangeIndex: 2562 entries, 0 to 2561\n",
      "Data columns (total 2 columns):\n",
      " #   Column       Non-Null Count  Dtype \n",
      "---  ------       --------------  ----- \n",
      " 0   name         2562 non-null   object\n",
      " 1   description  2562 non-null   object\n",
      "dtypes: object(2)\n",
      "memory usage: 40.2+ KB\n"
     ]
    }
   ],
   "source": [
    "# Create a new dataframe with name and description\n",
    "\n",
    "swa_short = swa[['name', 'description']]\n",
    "\n",
    "# Test swa_short\n",
    "swa_short.info()"
   ]
  },
  {
   "cell_type": "code",
   "execution_count": 10,
   "metadata": {},
   "outputs": [],
   "source": [
    "# We will start by dropping items that have a name with sector or system\n",
    "\n",
    "# swa_2 = swa_short[swa_short['name'].str.contains('sector|system') == False]\n",
    "\n",
    "# swa_2.head(10)"
   ]
  },
  {
   "cell_type": "code",
   "execution_count": 11,
   "metadata": {},
   "outputs": [],
   "source": [
    "# We will drop items that have sun in the name\n",
    "\n",
    "#swa_2 = swa_2[swa_2['name'].str.contains('sun') == False]\n",
    "\n",
    "#swa_2.head(10)"
   ]
  },
  {
   "cell_type": "code",
   "execution_count": 12,
   "metadata": {},
   "outputs": [
    {
     "name": "stdout",
     "output_type": "stream",
     "text": [
      "<class 'pandas.core.frame.DataFrame'>\n",
      "RangeIndex: 2562 entries, 0 to 2561\n",
      "Data columns (total 5 columns):\n",
      " #   Column       Non-Null Count  Dtype \n",
      "---  ------       --------------  ----- \n",
      " 0   name         2562 non-null   object\n",
      " 1   description  2562 non-null   object\n",
      " 2   planet       2562 non-null   bool  \n",
      " 3   moon         2562 non-null   bool  \n",
      " 4   asteroid     2562 non-null   bool  \n",
      "dtypes: bool(3), object(2)\n",
      "memory usage: 47.7+ KB\n"
     ]
    },
    {
     "name": "stderr",
     "output_type": "stream",
     "text": [
      "C:\\Users\\musta\\AppData\\Local\\Temp\\ipykernel_8468\\217548197.py:3: SettingWithCopyWarning: \n",
      "A value is trying to be set on a copy of a slice from a DataFrame.\n",
      "Try using .loc[row_indexer,col_indexer] = value instead\n",
      "\n",
      "See the caveats in the documentation: https://pandas.pydata.org/pandas-docs/stable/user_guide/indexing.html#returning-a-view-versus-a-copy\n",
      "  swa_short['planet'] = swa_short['description'].str.contains('planet')\n",
      "C:\\Users\\musta\\AppData\\Local\\Temp\\ipykernel_8468\\217548197.py:7: SettingWithCopyWarning: \n",
      "A value is trying to be set on a copy of a slice from a DataFrame.\n",
      "Try using .loc[row_indexer,col_indexer] = value instead\n",
      "\n",
      "See the caveats in the documentation: https://pandas.pydata.org/pandas-docs/stable/user_guide/indexing.html#returning-a-view-versus-a-copy\n",
      "  swa_short['moon'] = swa_short['description'].str.contains('moon')\n",
      "C:\\Users\\musta\\AppData\\Local\\Temp\\ipykernel_8468\\217548197.py:11: SettingWithCopyWarning: \n",
      "A value is trying to be set on a copy of a slice from a DataFrame.\n",
      "Try using .loc[row_indexer,col_indexer] = value instead\n",
      "\n",
      "See the caveats in the documentation: https://pandas.pydata.org/pandas-docs/stable/user_guide/indexing.html#returning-a-view-versus-a-copy\n",
      "  swa_short['asteroid'] = swa_short['description'].str.contains('asteroid')\n"
     ]
    },
    {
     "data": {
      "text/html": [
       "<div>\n",
       "<style scoped>\n",
       "    .dataframe tbody tr th:only-of-type {\n",
       "        vertical-align: middle;\n",
       "    }\n",
       "\n",
       "    .dataframe tbody tr th {\n",
       "        vertical-align: top;\n",
       "    }\n",
       "\n",
       "    .dataframe thead th {\n",
       "        text-align: right;\n",
       "    }\n",
       "</style>\n",
       "<table border=\"1\" class=\"dataframe\">\n",
       "  <thead>\n",
       "    <tr style=\"text-align: right;\">\n",
       "      <th></th>\n",
       "      <th>name</th>\n",
       "      <th>description</th>\n",
       "      <th>planet</th>\n",
       "      <th>moon</th>\n",
       "      <th>asteroid</th>\n",
       "    </tr>\n",
       "  </thead>\n",
       "  <tbody>\n",
       "    <tr>\n",
       "      <th>0</th>\n",
       "      <td>3rd Moon</td>\n",
       "      <td>The 3rd Moon was a terrestrial moon located in...</td>\n",
       "      <td>False</td>\n",
       "      <td>True</td>\n",
       "      <td>False</td>\n",
       "    </tr>\n",
       "    <tr>\n",
       "      <th>1</th>\n",
       "      <td>7G sector</td>\n",
       "      <td>The 7G sector was a sector of space located in...</td>\n",
       "      <td>False</td>\n",
       "      <td>False</td>\n",
       "      <td>False</td>\n",
       "    </tr>\n",
       "    <tr>\n",
       "      <th>2</th>\n",
       "      <td>Yasooska</td>\n",
       "      <td>Yasooska was one of the four moons of the plan...</td>\n",
       "      <td>True</td>\n",
       "      <td>True</td>\n",
       "      <td>False</td>\n",
       "    </tr>\n",
       "    <tr>\n",
       "      <th>3</th>\n",
       "      <td>Aakaash</td>\n",
       "      <td>Aakaash was a star of the star system of the s...</td>\n",
       "      <td>False</td>\n",
       "      <td>False</td>\n",
       "      <td>False</td>\n",
       "    </tr>\n",
       "    <tr>\n",
       "      <th>4</th>\n",
       "      <td>Aakaash system</td>\n",
       "      <td>The Aakaash system was located in the Oplovis ...</td>\n",
       "      <td>False</td>\n",
       "      <td>False</td>\n",
       "      <td>False</td>\n",
       "    </tr>\n",
       "  </tbody>\n",
       "</table>\n",
       "</div>"
      ],
      "text/plain": [
       "             name                                        description  planet  \\\n",
       "0        3rd Moon  The 3rd Moon was a terrestrial moon located in...   False   \n",
       "1       7G sector  The 7G sector was a sector of space located in...   False   \n",
       "2        Yasooska  Yasooska was one of the four moons of the plan...    True   \n",
       "3         Aakaash  Aakaash was a star of the star system of the s...   False   \n",
       "4  Aakaash system  The Aakaash system was located in the Oplovis ...   False   \n",
       "\n",
       "    moon  asteroid  \n",
       "0   True     False  \n",
       "1  False     False  \n",
       "2   True     False  \n",
       "3  False     False  \n",
       "4  False     False  "
      ]
     },
     "execution_count": 12,
     "metadata": {},
     "output_type": "execute_result"
    }
   ],
   "source": [
    "# We will create a boolean column for all planets\n",
    "\n",
    "swa_short['planet'] = swa_short['description'].str.contains('planet')\n",
    "\n",
    "# We will create a boolean column for all moons\n",
    "\n",
    "swa_short['moon'] = swa_short['description'].str.contains('moon')\n",
    "\n",
    "# We will create a boolean column for all asteroids\n",
    "\n",
    "swa_short['asteroid'] = swa_short['description'].str.contains('asteroid')\n",
    "\n",
    "# view updated dataframe\n",
    "\n",
    "swa_short.info()\n",
    "swa_short.head()"
   ]
  },
  {
   "attachments": {},
   "cell_type": "markdown",
   "metadata": {},
   "source": [
    "We've created the subset for Star Wars astronomical objects, however, it appears that some of the descriptions may contain both planet and moon.  We will flag those and create a new dataframe for those to review to see how many there are to determine if there is a practical solution without reviewing each item."
   ]
  },
  {
   "cell_type": "code",
   "execution_count": 13,
   "metadata": {},
   "outputs": [
    {
     "name": "stdout",
     "output_type": "stream",
     "text": [
      "<class 'pandas.core.frame.DataFrame'>\n",
      "Int64Index: 264 entries, 2 to 2550\n",
      "Data columns (total 5 columns):\n",
      " #   Column       Non-Null Count  Dtype \n",
      "---  ------       --------------  ----- \n",
      " 0   name         264 non-null    object\n",
      " 1   description  264 non-null    object\n",
      " 2   planet       264 non-null    bool  \n",
      " 3   moon         264 non-null    bool  \n",
      " 4   asteroid     264 non-null    bool  \n",
      "dtypes: bool(3), object(2)\n",
      "memory usage: 7.0+ KB\n"
     ]
    },
    {
     "data": {
      "text/html": [
       "<div>\n",
       "<style scoped>\n",
       "    .dataframe tbody tr th:only-of-type {\n",
       "        vertical-align: middle;\n",
       "    }\n",
       "\n",
       "    .dataframe tbody tr th {\n",
       "        vertical-align: top;\n",
       "    }\n",
       "\n",
       "    .dataframe thead th {\n",
       "        text-align: right;\n",
       "    }\n",
       "</style>\n",
       "<table border=\"1\" class=\"dataframe\">\n",
       "  <thead>\n",
       "    <tr style=\"text-align: right;\">\n",
       "      <th></th>\n",
       "      <th>name</th>\n",
       "      <th>description</th>\n",
       "      <th>planet</th>\n",
       "      <th>moon</th>\n",
       "      <th>asteroid</th>\n",
       "    </tr>\n",
       "  </thead>\n",
       "  <tbody>\n",
       "    <tr>\n",
       "      <th>2</th>\n",
       "      <td>Yasooska</td>\n",
       "      <td>Yasooska was one of the four moons of the plan...</td>\n",
       "      <td>True</td>\n",
       "      <td>True</td>\n",
       "      <td>False</td>\n",
       "    </tr>\n",
       "    <tr>\n",
       "      <th>19</th>\n",
       "      <td>Abrion sector</td>\n",
       "      <td>The Abrion sector was a sector of the Outer Ri...</td>\n",
       "      <td>True</td>\n",
       "      <td>True</td>\n",
       "      <td>False</td>\n",
       "    </tr>\n",
       "    <tr>\n",
       "      <th>37</th>\n",
       "      <td>Agaris' moon</td>\n",
       "      <td>A moon orbited the planet Agaris in Wild Space.\\n</td>\n",
       "      <td>True</td>\n",
       "      <td>True</td>\n",
       "      <td>False</td>\n",
       "    </tr>\n",
       "    <tr>\n",
       "      <th>45</th>\n",
       "      <td>Ahch-To's second sun</td>\n",
       "      <td>Ahch-To's second sun was a binary star of the ...</td>\n",
       "      <td>True</td>\n",
       "      <td>True</td>\n",
       "      <td>False</td>\n",
       "    </tr>\n",
       "    <tr>\n",
       "      <th>49</th>\n",
       "      <td>Ajara</td>\n",
       "      <td>Ajara was a gas giant planet located in the Ca...</td>\n",
       "      <td>True</td>\n",
       "      <td>True</td>\n",
       "      <td>False</td>\n",
       "    </tr>\n",
       "    <tr>\n",
       "      <th>56</th>\n",
       "      <td>Alaris</td>\n",
       "      <td>Alaris was a planet of the Mytaranor sector's ...</td>\n",
       "      <td>True</td>\n",
       "      <td>True</td>\n",
       "      <td>False</td>\n",
       "    </tr>\n",
       "    <tr>\n",
       "      <th>57</th>\n",
       "      <td>Alaris Prime</td>\n",
       "      <td>Alaris Prime was one of the several moons that...</td>\n",
       "      <td>True</td>\n",
       "      <td>True</td>\n",
       "      <td>False</td>\n",
       "    </tr>\n",
       "    <tr>\n",
       "      <th>70</th>\n",
       "      <td>Aleen system</td>\n",
       "      <td>The Aleen system was a star system located in ...</td>\n",
       "      <td>True</td>\n",
       "      <td>True</td>\n",
       "      <td>False</td>\n",
       "    </tr>\n",
       "    <tr>\n",
       "      <th>86</th>\n",
       "      <td>Amloch system</td>\n",
       "      <td>The Amloch system was located on the Galactic ...</td>\n",
       "      <td>True</td>\n",
       "      <td>True</td>\n",
       "      <td>False</td>\n",
       "    </tr>\n",
       "    <tr>\n",
       "      <th>108</th>\n",
       "      <td>Antar 4</td>\n",
       "      <td>Antar 4, also known simply as Antar and the Go...</td>\n",
       "      <td>True</td>\n",
       "      <td>True</td>\n",
       "      <td>False</td>\n",
       "    </tr>\n",
       "    <tr>\n",
       "      <th>110</th>\n",
       "      <td>Anthan 1</td>\n",
       "      <td>Anthan 1 was a moon that orbited the planet An...</td>\n",
       "      <td>True</td>\n",
       "      <td>True</td>\n",
       "      <td>False</td>\n",
       "    </tr>\n",
       "    <tr>\n",
       "      <th>111</th>\n",
       "      <td>Anthan 12</td>\n",
       "      <td>Anthan 12 was a moon that orbited the planet A...</td>\n",
       "      <td>True</td>\n",
       "      <td>True</td>\n",
       "      <td>False</td>\n",
       "    </tr>\n",
       "    <tr>\n",
       "      <th>112</th>\n",
       "      <td>Anthan 13</td>\n",
       "      <td>Anthan 13 was a moon that orbited the planet A...</td>\n",
       "      <td>True</td>\n",
       "      <td>True</td>\n",
       "      <td>False</td>\n",
       "    </tr>\n",
       "    <tr>\n",
       "      <th>113</th>\n",
       "      <td>Anthan 14</td>\n",
       "      <td>Anthan 14 was a moon that orbited the planet A...</td>\n",
       "      <td>True</td>\n",
       "      <td>True</td>\n",
       "      <td>False</td>\n",
       "    </tr>\n",
       "    <tr>\n",
       "      <th>115</th>\n",
       "      <td>Anthan system</td>\n",
       "      <td>The Anthan system was a star system located in...</td>\n",
       "      <td>True</td>\n",
       "      <td>True</td>\n",
       "      <td>False</td>\n",
       "    </tr>\n",
       "  </tbody>\n",
       "</table>\n",
       "</div>"
      ],
      "text/plain": [
       "                     name                                        description  \\\n",
       "2                Yasooska  Yasooska was one of the four moons of the plan...   \n",
       "19          Abrion sector  The Abrion sector was a sector of the Outer Ri...   \n",
       "37           Agaris' moon  A moon orbited the planet Agaris in Wild Space.\\n   \n",
       "45   Ahch-To's second sun  Ahch-To's second sun was a binary star of the ...   \n",
       "49                  Ajara  Ajara was a gas giant planet located in the Ca...   \n",
       "56                 Alaris  Alaris was a planet of the Mytaranor sector's ...   \n",
       "57           Alaris Prime  Alaris Prime was one of the several moons that...   \n",
       "70           Aleen system  The Aleen system was a star system located in ...   \n",
       "86          Amloch system  The Amloch system was located on the Galactic ...   \n",
       "108               Antar 4  Antar 4, also known simply as Antar and the Go...   \n",
       "110              Anthan 1  Anthan 1 was a moon that orbited the planet An...   \n",
       "111             Anthan 12  Anthan 12 was a moon that orbited the planet A...   \n",
       "112             Anthan 13  Anthan 13 was a moon that orbited the planet A...   \n",
       "113             Anthan 14  Anthan 14 was a moon that orbited the planet A...   \n",
       "115         Anthan system  The Anthan system was a star system located in...   \n",
       "\n",
       "     planet  moon  asteroid  \n",
       "2      True  True     False  \n",
       "19     True  True     False  \n",
       "37     True  True     False  \n",
       "45     True  True     False  \n",
       "49     True  True     False  \n",
       "56     True  True     False  \n",
       "57     True  True     False  \n",
       "70     True  True     False  \n",
       "86     True  True     False  \n",
       "108    True  True     False  \n",
       "110    True  True     False  \n",
       "111    True  True     False  \n",
       "112    True  True     False  \n",
       "113    True  True     False  \n",
       "115    True  True     False  "
      ]
     },
     "execution_count": 13,
     "metadata": {},
     "output_type": "execute_result"
    }
   ],
   "source": [
    "# Create a dataframe with both planet and moon true booleans\n",
    "\n",
    "swa_true = swa_short[(swa_short['planet'] == True) & (swa_short['moon'] == True)]\n",
    "\n",
    "swa_true.info()\n",
    "swa_true.head(15)"
   ]
  },
  {
   "attachments": {},
   "cell_type": "markdown",
   "metadata": {},
   "source": [
    "There are 261 astronomical objects that cannot be easily categorized as moons or planets.  We will try to group these as best as we can using \"was a moon\" or \"was a planet\".  This will skip some items, but we will try first.    "
   ]
  },
  {
   "cell_type": "code",
   "execution_count": 14,
   "metadata": {},
   "outputs": [
    {
     "name": "stderr",
     "output_type": "stream",
     "text": [
      "C:\\Users\\musta\\AppData\\Local\\Temp\\ipykernel_8468\\2978645257.py:3: SettingWithCopyWarning: \n",
      "A value is trying to be set on a copy of a slice from a DataFrame.\n",
      "Try using .loc[row_indexer,col_indexer] = value instead\n",
      "\n",
      "See the caveats in the documentation: https://pandas.pydata.org/pandas-docs/stable/user_guide/indexing.html#returning-a-view-versus-a-copy\n",
      "  swa_true['moon2'] = swa_true['description'].str.contains('was a moon')\n",
      "C:\\Users\\musta\\AppData\\Local\\Temp\\ipykernel_8468\\2978645257.py:7: SettingWithCopyWarning: \n",
      "A value is trying to be set on a copy of a slice from a DataFrame.\n",
      "Try using .loc[row_indexer,col_indexer] = value instead\n",
      "\n",
      "See the caveats in the documentation: https://pandas.pydata.org/pandas-docs/stable/user_guide/indexing.html#returning-a-view-versus-a-copy\n",
      "  swa_true['planet2'] = swa_true['description'].str.contains('was a planet')\n"
     ]
    },
    {
     "data": {
      "text/html": [
       "<div>\n",
       "<style scoped>\n",
       "    .dataframe tbody tr th:only-of-type {\n",
       "        vertical-align: middle;\n",
       "    }\n",
       "\n",
       "    .dataframe tbody tr th {\n",
       "        vertical-align: top;\n",
       "    }\n",
       "\n",
       "    .dataframe thead th {\n",
       "        text-align: right;\n",
       "    }\n",
       "</style>\n",
       "<table border=\"1\" class=\"dataframe\">\n",
       "  <thead>\n",
       "    <tr style=\"text-align: right;\">\n",
       "      <th></th>\n",
       "      <th>name</th>\n",
       "      <th>description</th>\n",
       "      <th>planet</th>\n",
       "      <th>moon</th>\n",
       "      <th>asteroid</th>\n",
       "      <th>moon2</th>\n",
       "      <th>planet2</th>\n",
       "    </tr>\n",
       "  </thead>\n",
       "  <tbody>\n",
       "    <tr>\n",
       "      <th>2</th>\n",
       "      <td>Yasooska</td>\n",
       "      <td>Yasooska was one of the four moons of the plan...</td>\n",
       "      <td>True</td>\n",
       "      <td>True</td>\n",
       "      <td>False</td>\n",
       "      <td>False</td>\n",
       "      <td>False</td>\n",
       "    </tr>\n",
       "    <tr>\n",
       "      <th>19</th>\n",
       "      <td>Abrion sector</td>\n",
       "      <td>The Abrion sector was a sector of the Outer Ri...</td>\n",
       "      <td>True</td>\n",
       "      <td>True</td>\n",
       "      <td>False</td>\n",
       "      <td>False</td>\n",
       "      <td>False</td>\n",
       "    </tr>\n",
       "    <tr>\n",
       "      <th>37</th>\n",
       "      <td>Agaris' moon</td>\n",
       "      <td>A moon orbited the planet Agaris in Wild Space.\\n</td>\n",
       "      <td>True</td>\n",
       "      <td>True</td>\n",
       "      <td>False</td>\n",
       "      <td>False</td>\n",
       "      <td>False</td>\n",
       "    </tr>\n",
       "    <tr>\n",
       "      <th>45</th>\n",
       "      <td>Ahch-To's second sun</td>\n",
       "      <td>Ahch-To's second sun was a binary star of the ...</td>\n",
       "      <td>True</td>\n",
       "      <td>True</td>\n",
       "      <td>False</td>\n",
       "      <td>False</td>\n",
       "      <td>False</td>\n",
       "    </tr>\n",
       "    <tr>\n",
       "      <th>49</th>\n",
       "      <td>Ajara</td>\n",
       "      <td>Ajara was a gas giant planet located in the Ca...</td>\n",
       "      <td>True</td>\n",
       "      <td>True</td>\n",
       "      <td>False</td>\n",
       "      <td>False</td>\n",
       "      <td>False</td>\n",
       "    </tr>\n",
       "  </tbody>\n",
       "</table>\n",
       "</div>"
      ],
      "text/plain": [
       "                    name                                        description  \\\n",
       "2               Yasooska  Yasooska was one of the four moons of the plan...   \n",
       "19         Abrion sector  The Abrion sector was a sector of the Outer Ri...   \n",
       "37          Agaris' moon  A moon orbited the planet Agaris in Wild Space.\\n   \n",
       "45  Ahch-To's second sun  Ahch-To's second sun was a binary star of the ...   \n",
       "49                 Ajara  Ajara was a gas giant planet located in the Ca...   \n",
       "\n",
       "    planet  moon  asteroid  moon2  planet2  \n",
       "2     True  True     False  False    False  \n",
       "19    True  True     False  False    False  \n",
       "37    True  True     False  False    False  \n",
       "45    True  True     False  False    False  \n",
       "49    True  True     False  False    False  "
      ]
     },
     "execution_count": 14,
     "metadata": {},
     "output_type": "execute_result"
    }
   ],
   "source": [
    "# We will try to see if we can find moons with \"was a moon\" \n",
    "\n",
    "swa_true['moon2'] = swa_true['description'].str.contains('was a moon')\n",
    "\n",
    "# We will try to see if we can find planets with \"was a planet\"ArithmeticError\n",
    " \n",
    "swa_true['planet2'] = swa_true['description'].str.contains('was a planet')\n",
    "\n",
    "# view updated dataframe\n",
    "swa_true.head()"
   ]
  },
  {
   "cell_type": "code",
   "execution_count": 15,
   "metadata": {},
   "outputs": [
    {
     "name": "stdout",
     "output_type": "stream",
     "text": [
      "<class 'pandas.core.frame.DataFrame'>\n",
      "Int64Index: 0 entries\n",
      "Data columns (total 7 columns):\n",
      " #   Column       Non-Null Count  Dtype \n",
      "---  ------       --------------  ----- \n",
      " 0   name         0 non-null      object\n",
      " 1   description  0 non-null      object\n",
      " 2   planet       0 non-null      bool  \n",
      " 3   moon         0 non-null      bool  \n",
      " 4   asteroid     0 non-null      bool  \n",
      " 5   moon2        0 non-null      bool  \n",
      " 6   planet2      0 non-null      bool  \n",
      "dtypes: bool(5), object(2)\n",
      "memory usage: 0.0+ bytes\n"
     ]
    },
    {
     "data": {
      "text/html": [
       "<div>\n",
       "<style scoped>\n",
       "    .dataframe tbody tr th:only-of-type {\n",
       "        vertical-align: middle;\n",
       "    }\n",
       "\n",
       "    .dataframe tbody tr th {\n",
       "        vertical-align: top;\n",
       "    }\n",
       "\n",
       "    .dataframe thead th {\n",
       "        text-align: right;\n",
       "    }\n",
       "</style>\n",
       "<table border=\"1\" class=\"dataframe\">\n",
       "  <thead>\n",
       "    <tr style=\"text-align: right;\">\n",
       "      <th></th>\n",
       "      <th>name</th>\n",
       "      <th>description</th>\n",
       "      <th>planet</th>\n",
       "      <th>moon</th>\n",
       "      <th>asteroid</th>\n",
       "      <th>moon2</th>\n",
       "      <th>planet2</th>\n",
       "    </tr>\n",
       "  </thead>\n",
       "  <tbody>\n",
       "  </tbody>\n",
       "</table>\n",
       "</div>"
      ],
      "text/plain": [
       "Empty DataFrame\n",
       "Columns: [name, description, planet, moon, asteroid, moon2, planet2]\n",
       "Index: []"
      ]
     },
     "execution_count": 15,
     "metadata": {},
     "output_type": "execute_result"
    }
   ],
   "source": [
    "# Create a dataframe with both planet2 and moon2 true booleans\n",
    "\n",
    "swa_true2 = swa_true[(swa_true['moon2'] == True) & (swa_true['planet2'] == True)]\n",
    "\n",
    "swa_true2.info()\n",
    "swa_true2.head(15)"
   ]
  },
  {
   "cell_type": "code",
   "execution_count": 16,
   "metadata": {},
   "outputs": [
    {
     "name": "stdout",
     "output_type": "stream",
     "text": [
      "There are 32 planets in the combined results\n",
      "There are 27 moons in the combined results\n"
     ]
    }
   ],
   "source": [
    "# count of planet2 \n",
    "\n",
    "swp2 = swa_true['planet2'].sum()\n",
    "\n",
    "# count of moon2\n",
    "\n",
    "swm2 = swa_true['moon2'].sum()\n",
    "\n",
    "# create f strings for count\n",
    "print(f'There are {swp2} planets in the combined results')\n",
    "print(f'There are {swm2} moons in the combined results')"
   ]
  },
  {
   "attachments": {},
   "cell_type": "markdown",
   "metadata": {},
   "source": [
    "This means that out of the 201 unknown objects, 57 have been identified leaving 144 objects.  We will classify these as NEI, or \"Not Easily Identifiable\".  We will Update the numbers of planets and moons for to account for these."
   ]
  },
  {
   "cell_type": "code",
   "execution_count": 17,
   "metadata": {},
   "outputs": [
    {
     "name": "stdout",
     "output_type": "stream",
     "text": [
      "There are 1352 planets identified\n",
      "There are 145 moons identified\n",
      "There are 73 asteroids identified\n",
      "There are 205 Not Easily Identified objects\n"
     ]
    }
   ],
   "source": [
    "# Create a new star wars count that has the original counts, minus the \"trued\" count, plus the updates\n",
    "\n",
    "swa_planets = (swa_short['planet'].sum() - swa_true['planet'].sum() + swp2)\n",
    "\n",
    "swa_moons = (swa_short['moon'].sum() - swa_true['moon'].sum() + swm2)\n",
    "\n",
    "swa_asteroids = (swa_short['asteroid'].sum())\n",
    "\n",
    "swa_nei = (swa_true['planet'].sum() - swp2 - swm2)\n",
    "\n",
    "# Print the totals\n",
    "print(f'There are {swa_planets} planets identified')\n",
    "print(f'There are {swa_moons} moons identified')\n",
    "print(f'There are {swa_asteroids} asteroids identified')\n",
    "print(f'There are {swa_nei} Not Easily Identified objects')\n",
    "\n"
   ]
  },
  {
   "attachments": {},
   "cell_type": "markdown",
   "metadata": {},
   "source": [
    "We have only pulled 1350 objects, so 633 are missing.  We will check to see if they are not ringing true for any booleans and we will add those to the NEIs."
   ]
  },
  {
   "cell_type": "code",
   "execution_count": 18,
   "metadata": {},
   "outputs": [
    {
     "name": "stdout",
     "output_type": "stream",
     "text": [
      "There are 827 unidentified objects\n"
     ]
    }
   ],
   "source": [
    "# We will create a count of all previously unidentified objects.  \n",
    "sw_noid = swa_short[(swa_short['planet'] == False) & (swa_short['moon'] == False) & (swa_short['asteroid'] == False)].count()\n",
    "\n",
    "# Create a count for just unidentified objects\n",
    "sw_unidentified = sw_noid['name'].sum()\n",
    "\n",
    "\n",
    "print(f'There are {sw_unidentified} unidentified objects')"
   ]
  },
  {
   "attachments": {},
   "cell_type": "markdown",
   "metadata": {},
   "source": [
    "We will add the unidentified objects to the NEI and print the results"
   ]
  },
  {
   "cell_type": "code",
   "execution_count": 19,
   "metadata": {},
   "outputs": [
    {
     "name": "stdout",
     "output_type": "stream",
     "text": [
      "There are 1352 planets identified\n",
      "There are 145 moons identified\n",
      "There are 73 asteroids identified\n",
      "There are 1032 Not Easily Identified objects\n"
     ]
    }
   ],
   "source": [
    "# Combine NEI and Unidentifed into an update NEI\n",
    "\n",
    "sw_nei = (swa_nei + sw_unidentified) #duplication somewhere with the unidentified and not easily identifiable\n",
    "\n",
    "# Create updated numbers\n",
    "print(f'There are {swa_planets} planets identified')\n",
    "print(f'There are {swa_moons} moons identified')\n",
    "print(f'There are {swa_asteroids} asteroids identified')\n",
    "print(f'There are {sw_nei} Not Easily Identified objects')"
   ]
  },
  {
   "cell_type": "code",
   "execution_count": 20,
   "metadata": {},
   "outputs": [
    {
     "name": "stdout",
     "output_type": "stream",
     "text": [
      "1197\n",
      "32\n",
      "20\n",
      "1155\n",
      "1352\n",
      "145\n",
      "73\n",
      "1032\n"
     ]
    }
   ],
   "source": [
    "print(stplanets)\n",
    "print(stmoons)\n",
    "print(stasteroid)\n",
    "print(stother)\n",
    "print(swa_planets)\n",
    "print(swa_moons)\n",
    "print(swa_asteroids)\n",
    "print(sw_nei)"
   ]
  },
  {
   "attachments": {},
   "cell_type": "markdown",
   "metadata": {},
   "source": [
    "After all the cleaning and stripping, we are left with 2404 Astronomical Objects for Star Trek and 2562 for Star Wars. We will create some graphs to look at the differences."
   ]
  },
  {
   "cell_type": "code",
   "execution_count": 21,
   "metadata": {},
   "outputs": [
    {
     "name": "stdout",
     "output_type": "stream",
     "text": [
      "    Universe  Planets  Moons  Asteroids  Other\n",
      "0  Star Trek     1197     32         20   1155\n",
      "1  Star Wars     1352    145         73   1032\n"
     ]
    },
    {
     "data": {
      "image/png": "[encoded data removed]",
      "text/plain": [
       "<Figure size 640x480 with 1 Axes>"
      ]
     },
     "metadata": {},
     "output_type": "display_data"
    }
   ],
   "source": [
    "# Create stacked barcharts to show the differences between Star Trek and Star Wars\n",
    "\n",
    "# Create data\n",
    "ao = pd.DataFrame([['Star Trek', stplanets, stmoons, stasteroid, stother], ['Star Wars', swa_planets, swa_moons, swa_asteroids, sw_nei]],\n",
    "                  columns=['Universe', 'Planets', 'Moons', 'Asteroids', 'Other'])\n",
    "\n",
    "# View Data\n",
    "print(ao)\n",
    "\n",
    "# Plot data in stacked bar chart\n",
    "ao.plot(x='Universe', kind='bar', stacked=True,\n",
    "        title=\"Astronomical Objects by Universe\")\n",
    "plt.show()"
   ]
  },
  {
   "cell_type": "code",
   "execution_count": 22,
   "metadata": {},
   "outputs": [
    {
     "name": "stdout",
     "output_type": "stream",
     "text": [
      "Planets make up 50.91889732321214 percent\n",
      "Moons make up 3.5357570914902117 percent\n",
      "Asteroids make up 1.8577706751897725 percent\n"
     ]
    },
    {
     "data": {
      "image/png": "[encoded data removed]",
      "text/plain": [
       "<Figure size 640x480 with 1 Axes>"
      ]
     },
     "metadata": {},
     "output_type": "display_data"
    }
   ],
   "source": [
    "# Create a Pie Chart to show percentage of total planets, moons, asteroids and other\n",
    "\n",
    "planets = stplanets + swa_planets\n",
    "moons = stmoons + swa_moons\n",
    "asteroids = stasteroid + swa_asteroids\n",
    "other = stother + sw_nei\n",
    "all_ao = planets + moons + asteroids + other\n",
    "\n",
    "# Create percentages\n",
    "\n",
    "# Planet percent\n",
    "p_pct = (planets / all_ao * 100)\n",
    "m_pct = (moons / all_ao * 100)\n",
    "a_pct = (asteroids / all_ao * 100)\n",
    "ao_pct = (100 - p_pct - m_pct - a_pct)\n",
    "\n",
    "# Print Percentages\n",
    "print(f'Planets make up {p_pct} percent')\n",
    "print(f'Moons make up {m_pct} percent')\n",
    "print(f'Asteroids make up {a_pct} percent')\n",
    "\n",
    "# Create the pie chart\n",
    "labels = ['Planets', 'Moons', 'Asteroids', 'Other']\n",
    "sizes = [p_pct, m_pct, a_pct, ao_pct]\n",
    "\n",
    "# Plot pie chart\n",
    "plt.pie(sizes, labels=labels)\n",
    "plt.title('Astronomical Objects Breakdowns')\n",
    "plt.show()"
   ]
  },
  {
   "attachments": {},
   "cell_type": "markdown",
   "metadata": {},
   "source": [
    "Looking into the Astronomical Objects for both universes, and you see that both are very similar.  Around 50% of both universes deal with planets.  Asteroids and Moons complete around 5%, and everything else is the remaining 45%. Star Wars has a great amount of Moons, but two of its most famous battles occur on moons (Yavin 4/New Hope and Endor/Return of the Jedi).\n"
   ]
  },
  {
   "cell_type": "code",
   "execution_count": null,
   "metadata": {},
   "outputs": [],
   "source": []
  }
 ],
 "metadata": {
  "kernelspec": {
   "display_name": "base",
   "language": "python",
   "name": "python3"
  },
  "language_info": {
   "codemirror_mode": {
    "name": "ipython",
    "version": 3
   },
   "file_extension": ".py",
   "mimetype": "text/x-python",
   "name": "python",
   "nbconvert_exporter": "python",
   "pygments_lexer": "ipython3",
   "version": "3.10.9"
  },
  "orig_nbformat": 4
 },
 "nbformat": 4,
 "nbformat_minor": 2
}
