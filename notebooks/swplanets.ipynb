{
 "cells": [
  {
   "cell_type": "code",
   "execution_count": 2,
   "metadata": {},
   "outputs": [],
   "source": [
    "import requests\n",
    "from bs4 import BeautifulSoup as BS\n",
    "import pandas as pd\n",
    "import pickle\n",
    "import re\n",
    "from tqdm import tqdm\n",
    "from pathlib import Path\n",
    "import urllib\n",
    "import pyarrow"
   ]
  },
  {
   "attachments": {},
   "cell_type": "markdown",
   "metadata": {},
   "source": [
    "We will pull the Star Wars pickles to extract just the planets/locales information"
   ]
  },
  {
   "cell_type": "code",
   "execution_count": 3,
   "metadata": {},
   "outputs": [
    {
     "data": {
      "text/plain": [
       "[WindowsPath('../WPscraped/starwars_all_canon_data_1.pickle'),\n",
       " WindowsPath('../WPscraped/starwars_all_canon_data_2.pickle'),\n",
       " WindowsPath('../WPscraped/starwars_all_canon_data_3.pickle'),\n",
       " WindowsPath('../WPscraped/starwars_all_canon_data_4.pickle'),\n",
       " WindowsPath('../WPscraped/starwars_all_canon_data_5.pickle'),\n",
       " WindowsPath('../WPscraped/starwars_all_canon_data_6.pickle'),\n",
       " WindowsPath('../WPscraped/starwars_all_canon_data_7.pickle'),\n",
       " WindowsPath('../WPscraped/starwars_all_canon_data_8.pickle')]"
      ]
     },
     "execution_count": 3,
     "metadata": {},
     "output_type": "execute_result"
    }
   ],
   "source": [
    "files = sorted(Path('../WPscraped').glob('*.pickle'))\n",
    "files"
   ]
  },
  {
   "cell_type": "code",
   "execution_count": 4,
   "metadata": {},
   "outputs": [
    {
     "data": {
      "text/plain": [
       "39460"
      ]
     },
     "execution_count": 4,
     "metadata": {},
     "output_type": "execute_result"
    }
   ],
   "source": [
    "#create the dictionary to run\n",
    "data = {}\n",
    "for fn in files:\n",
    "    with open(fn, 'rb') as f:\n",
    "        part = pickle.load(f)\n",
    "    data.update(part)\n",
    "\n",
    "# The code is to open the data and to count to make sure all files in the .pickles are carried over\n",
    "len(data)"
   ]
  },
  {
   "cell_type": "code",
   "execution_count": 5,
   "metadata": {},
   "outputs": [],
   "source": [
    "#find the key in the dictionary\n",
    "def find_key(key_name, data):\n",
    "    for key, value in data.items():\n",
    "        if key_name == key:\n",
    "            return value\n",
    "        if isinstance(value, dict):\n",
    "            value = find_key(key_name, value)\n",
    "            if value is not None:\n",
    "                return value\n",
    "    return None\n",
    "\n",
    "def get_first(key_name, data):\n",
    "    result = find_key(key_name, data)\n",
    "    if isinstance(result, list):\n",
    "        result = result[0]\n",
    "    return result"
   ]
  },
  {
   "cell_type": "code",
   "execution_count": 6,
   "metadata": {},
   "outputs": [
    {
     "name": "stdout",
     "output_type": "stream",
     "text": [
      "{'url': 'https://starwars.fandom.com/wiki/Ilum', 'title': '\\n\\t\\t\\t\\t\\tIlum\\t\\t\\t\\t', 'is_character': False, 'side_bar': {'Astrographical information': {'Region': 'Unknown Regions', 'Sector': '7G sector', 'System': ['Ilum system', 'Starkiller Base system'], 'Suns': ['Asar', 'Unidentified star'], 'Orbital position': '5', 'Moons': ['2', '0'], 'Grid square': ['G-7'], 'Trade routes': 'Metellos-Ilum hyperspace route', 'Rotation period': '66 hours', 'Orbital period': ['301 days', 'Variable']}, 'Physical information': {'Diameter': '660 kilometers', 'Atmosphere': ['Breathable'], 'Climate': 'Frigid', 'Primary terrain': ['Crystallized glaciers', 'Ice plains', 'Mountains', 'Forests'], 'Points of interest': ['Jedi Temple', 'Crystal Cave', 'Imperial Trench', 'Starkiller Base'], 'Flora': 'Trees', 'Fauna': ['Asharl panther', 'Blismal', 'Gorgodon', 'Razhak', 'Snowfeather bird', 'Unidentified creature']}, 'Societal information': {'Immigrated species': 'Human', 'Population': ['5', '200'], 'Major exports': 'Kyber crystals', 'Affiliation': ['Jedi Order', 'Sith', 'Galactic Empire', 'First Order']}}, 'paragraph': \"Ilum was a snow-covered planet located in the 7G sector of the Unknown Regions, within the Ilum system. Ilum was the fifth planet from its parent star Asar, a blue dwarf, located roughly equidistant from Asar and the system's cometary cloud. Ilum had a kyber crystalline core, and had been utilized by the Jedi Order for the Gathering, a rite of passage in which Jedi younglings had to find and harvest kyber crystals for their lightsabers, which had existed for thousands of standard years.\\n\", 'crosslinks': ['Crystal', 'Solo_(star)', 'First_Order', 'Starkiller_Base', 'Jedi', 'Battle_of_Jakku', 'Thermal_oscillator', 'Standard_Galactic_Grid', 'Metellos', 'Gungi', 'Galactic_Empire', 'Jedi_Master', 'Resistance', 'Snowfeather_bird', 'Dark_energy', 'Zatt', 'Ahsoka_Tano', 'Magma', 'Jedi_Temple_(Ilum)', 'Superlaser', 'Cave', 'Kilometer', 'Ambush_at_Ilum', 'Imperial_Garrison_(Ilum)', 'Architect_droid', 'Stormtrooper_(First_Order)', 'Volcano', 'Hosnian_system', 'Oxygen', 'Forest', 'Geyser', 'Atmosphere', 'Orbit', 'Youngling', 'Planet', 'Crystal_Cave', 'D%27Qar', 'Standard_month', 'Realspace', 'Ilum_mission', '481st_Legion', 'Hyperspace_route', 'Standard_day', 'Battle_of_Hoth', 'Order_66', 'Scientist', 'Imperial_Trench', 'Lightsaber', 'DS-2_Death_Star_II_Mobile_Battle_Station', 'Katooni', '7G_sector', 'Clone_trooper', 'Chameleon_droid', 'Asharl_panther', 'Kyber_crystal', 'Luminara_Unduli', 'Human', 'Tree', 'Starkiller_Base_system', 'Sith', 'Mineral', 'Barriss_Offee', 'Hosnian_Cataclysm', 'Jedi_temple', 'Mephite_crystal', 'Jaro_Tapal%27s_lightsaber', 'Ahch-To', 'Luke_Skywalker', 'Smuggler', 'Cal_Kestis%27_second_lightsaber', 'Yoda', 'Cold_War', 'Metellos-Ilum_hyperspace_route', 'Great_Jedi_Purge', 'Millennium', 'Standard_year', 'Byph', 'Clone_Wars', 'Unidentified_Jedi_scout', 'Jedi_Order', 'Death_Star', 'Han_Solo', 'Ilum_system_cometary_cloud', 'Huyang', 'Asar', 'Poe_Dameron', 'Finn', 'Standard_hour', 'Sentience', 'Proclamation_of_the_New_Order', 'Star_Destroyer', 'The_Gathering_(Clone_Wars)', 'The_Force', 'Mining', 'Water', 'The_Gathering', 'Artisan', 'Mountain', 'Canon', 'New_Republic', '20_BBY', 'Blue_dwarf', '18_BBY', 'Unknown_Regions', 'Superweapon', 'Battle_of_Starkiller_Base', 'Siege_of_Ilum', 'Star_system', 'Hyperspace', 'Gender', 'Padawan', 'Crucible', 'Starship', 'Barriss_Offee%27s_lightsaber', 'Ganodi', 'Jedi_High_Council', 'DS-1_Death_Star_Mobile_Battle_Station', 'Nitrogen', 'Gorgodon', 'Star', 'Species', 'Unidentified_creature_(Ilum)', '6_BBY', '34_ABY', 'Mission_to_Ilum', 'Star_map', 'Dwarf_planet', 'Unidentified_star_(Starkiller_Base)', 'Grand_Master', 'Sector', 'Blismal', 'The_galaxy', 'Petro', 'Chewbacca', 'Pontite_crystal', 'Razhak', 'Ilum_crystal', 'Cal_Kestis', 'Jedi_Initiate', 'Ilum_system', '%27ABY-BBY%27_dating_system', 'Scholar', 'Core_Worlds', 'Darth_Sidious', 'Hyperspace_surveyor']}\n"
     ]
    }
   ],
   "source": [
    "# test on the planet Ilum\n",
    "\n",
    "print(data['Ilum'])"
   ]
  },
  {
   "cell_type": "code",
   "execution_count": 7,
   "metadata": {},
   "outputs": [
    {
     "name": "stdout",
     "output_type": "stream",
     "text": [
      "{'url': 'https://starwars.fandom.com/wiki/Corellia', 'title': '\\n\\t\\t\\t\\t\\tCorellia\\t\\t\\t\\t', 'is_character': False, 'side_bar': {'Astrographical information': {'Region': 'Core Worlds', 'Sector': 'Corellian sector', 'System': 'Corellia system', 'Suns': ['1:', 'Corell'], 'Moons': ['Multiple:', \"Corellia's nearest moon\", 'Gus', 'Gus Talon'], 'Grid square': 'M-11', 'Trade routes': ['Corellian Run', 'Corellian Trade Spine'], 'Rotation period': '25 standard hours', 'Orbital period': '329 standard days'}, 'Physical information': {'Class': 'Terrestrial', 'Diameter': ['11', '000 kilometers'], 'Atmosphere': 'Breathable', 'Climate': 'Temperate', 'Primary terrain': ['Forests', 'Jungles', 'Oceans', 'Industrial urban'], 'Points of interest': ['Bottoms', 'Gilded Descent Casino', 'Imperial training center', 'Navigation institute', 'Santhe Shipyards'], 'Flora': 'Tree', 'Fauna': ['Bluevev glider', 'Coppergrin', 'Corellian hound', 'Creedok', 'Corellian sand panther', 'Fingerlip garpon', 'Fleek eel', 'Garsmelt', 'Lancepyke', 'Mottled hexskip paddler', 'Needlegawp', 'Night fisher', 'Pulsar skate', 'Scalefin fish', 'Screerat', 'Snomat', 'Spukami']}, 'Societal information': {'Native species': ['Human', 'Corellian'], 'Immigrated species': ['Arcona', 'Barbadelan', 'Besalisk', 'Bonbrak', 'Czerialan', 'Dowutin', 'Grindalid', 'Kel Dor', 'Kubaz', 'Lasat', 'Mantellian Savrip', \"Pa'lowick\", 'Rodian', 'Sullustan', \"Twi'lek\", 'Ugor', 'Weequay', 'Wookiee'], 'Population': '3 billion', 'Demonym': 'Corellian', 'Major cities': ['Coronet City', 'Kor Vella', 'Tyrena', 'Bela Vistal', 'Doaba Guerfel'], 'Major exports': 'Starships', 'Affiliation': ['Galactic Republic', 'Galactic Empire', 'New Republic', 'First Order']}}, 'paragraph': \"Corellia was a planet located in the galaxy's Core Worlds known for its ace pilots and large starships. The planet's vast shipyards produced many vessels over hundreds of years, including starfighters and Star Destroyers for the Galactic Empire as well as other famous models, such as the YT-1300 light freighter.\\n\", 'crosslinks': ['Corell', 'City', 'Galactic_Republic', 'Starfighter', 'First_Order', 'Coronet_City', '35_ABY', 'Jedi', 'Sullustan', 'Miru_Nadrinakar', 'Standard_Galactic_Grid', 'Jungle', 'Battle_of_Jakku', 'Coaxium', 'Screerat', 'Galactic_Empire', 'Occupation_of_Corellia', 'Capital', 'Alliance_to_Restore_the_Republic', 'Executive_Records_Officer', 'Nihil', 'Resistance', 'Sarkin_Enneb', 'Kiza%27s_lightsaber', 'Corellian_sector', 'Battle_of_Batuu', 'Prince-Admiral', 'Capture_of_Mercurial_Swift', 'Kilometer', 'Mimban', 'Kel_Dor', 'Hovertrain', 'Qi%27ra', 'Doaba_Guerfel', 'Homeworld', 'Bounty', 'Norra_Wexley%27s_team', 'Rodian', 'Dismemberment', 'Swamp_trooper', 'Galaxy', 'Forest', 'DK-RA-43', 'Destruction_of_Starlight_Beacon', 'Falthina_Sharest', 'Norra_Wexley', 'Coronet_City_Peace_and_Security', 'Winshur_Bratt', 'Death', 'Atmosphere', 'Garm_Bel_Iblis', 'Bluevev_glider', 'Arcona', 'Millennium_Falcon', 'Battle_of_Yavin', 'Imperial_Emigration_Officer', 'Gus_(moon)', 'Planet', 'White_Worms', 'Gilded_Descent_Casino', 'Standard_month', 'Scalefin_fish', 'Bottoms', 'Needlegawp', 'Bela_Vistal', 'Standard_day', 'Hyperspace_route', 'Cad_Bane', 'Coronet_Spaceport', 'Corellian_hound', 'Corellia_for_Corellians', 'Corellian_Merchants%27_Guild', 'Pa%27lowick', '5_ABY', 'Dowutin', 'Barbadelan', 'Politics', 'Spukami', 'Battle_of_Endor', 'Time', 'Human', 'Tree', 'Mottled_hexskip_paddler', 'Sith', 'Garsmelt', 'Pulsar_skate', 'Hosnian_Cataclysm', 'Grindalid', 'Dengar', 'Corellian_Security_Forces', 'Jonashe_Solo', 'Battle_of_Exegol', 'Santhe_Shipyards', 'Corellian_sand_panther', 'BoShek', 'Erno', 'Peace_and_Security_Headquarters', 'Tivoche_Bilure', 'Remi', '4_ABY', 'Weequay', 'Smuggler', 'Gus_Talon', 'Carida_Academy', 'Wookiee', 'Coronet_City_revolution', 'Besalisk', 'Ugor', 'Lancepyke', 'Millennium', 'Standard_year', 'Coppergrin', 'Ocean', 'Clone_Wars', 'Tyrena', 'Galactic_Senate', 'Crimson_Dawn', 'Alien', 'Lieutenant', 'Pantoran', 'Kor_Vella', 'Han_Solo', 'Mantellian_Savrip', 'Corellian_Trade_Spine', 'Mission_to_Corellia', 'Dark_side_of_the_Force', 'Acolytes_of_the_Beyond', 'Temperature', 'Standard_hour', 'Navigation_institute', 'Wedge_Antilles', 'Star_Destroyer', 'Kalifa', 'Thieves%27_Quarter', 'Imperial_Army', 'Shipyard', 'Battle_of_Crait', 'Czerialan', 'Kijimi', 'Corellia%27s_nearest_moon', 'Fish', 'Fleek_eel', 'Infiltration_on_Corellia', 'Imperial_cadet', 'Canon', 'New_Republic', 'Supreme_Chancellor', 'Galactic_Explorer%27s_Guide', 'Law_enforcement_agency', 'Cloud_City', 'Night_fisher', 'Kubaz', 'Snomat', 'Twi%27lek', 'Uprising_on_Corellia', 'Corellian_Resistance', 'Scrumrat', 'Corellian_Run', 'Hyperspace', 'Bounty_hunter', 'Train', 'Scout', 'Gender', 'Imperial_Era', 'Fingerlip_garpon', 'Creedok', 'Crix_Madine', 'Proxima', 'Starship', 'Imperial_training_center', 'Corellia_system', 'High_Republic_Era', 'DS-1_Death_Star_Mobile_Battle_Station', 'Bonbrak', 'Star', 'Species', 'Corellian_insurgency', 'Pilot', 'Hondo_Ohnaka', '34_ABY', 'Lord', 'Lasat', 'TIE_line', 'Patrol_trooper', 'Blaster', 'Color', 'Senator', 'The_galaxy', 'Petro', 'Imperial_Navy', 'Den_of_the_White_Worms', 'Corellian', 'Dryden_Vos', 'YT-1300_light_freighter', 'Mercurial_Swift', 'Jedi_Initiate', '13_BBY', 'Kiza', 'Detective', 'Heist_on_a_First_Order_train', '%27ABY-BBY%27_dating_system', 'Core_Worlds', 'Gadren', 'Darth_Sidious', 'ln_space_superiority_starfighter']}\n"
     ]
    }
   ],
   "source": [
    "# test on the planet Corellia\n",
    "\n",
    "print(data['Corellia'])"
   ]
  },
  {
   "cell_type": "code",
   "execution_count": 8,
   "metadata": {},
   "outputs": [
    {
     "name": "stdout",
     "output_type": "stream",
     "text": [
      "{'url': 'https://starwars.fandom.com/wiki/Coruscant', 'title': '\\n\\t\\t\\t\\t\\tCoruscant\\t\\t\\t\\t', 'is_character': False, 'side_bar': {'Astrographical information': {'Region': ['Core Worlds', 'The Interior'], 'Sector': ['Corusca sector', 'Coruscant subsector'], 'System': 'Coruscant system', 'Suns': '1: Coruscant Prime', 'Moons': ['4', 'Centax-1', 'Centax-2', 'Centax-3', 'Hesperidium'], 'Grid square': 'L-9', 'XYZ coordinates': ['0', '0', '0'], 'Trade routes': ['Corellian Run', 'Koros Trunk Line', 'Metellos Trade Route', 'Namadii Corridor', 'Nexus Route', 'Perlemian Trade Route'], 'Rotation period': '24 standard hours', 'Orbital period': '365 standard days'}, 'Physical information': {'Diameter': ['12', '240 kilometers'], 'Atmosphere': 'Breathable', 'Climate': 'Temperate ', 'Primary terrain': ['Ecumenopolis', 'Dense', 'planetwide multilevel urban city'], 'Points of interest': ['Bureau of Ships and Services Heritage Museum', 'CoCo Town', 'Coruscant spaceport', 'Coruscant Imperial shipyard', 'Federal District', '500 Republica', 'Galactic Courts of Justice', 'Imperial Palace', 'Imperial Inspectorate HQ', 'Coruscant cruiser staging area', 'Galactic Senate Building', 'Imperial Executive Building', 'COMPNOR arcology', 'Commission for the Preservation of the New Order', 'Ubiqtorate', 'ISB Central Office', 'Forbidden levels', 'Grand Republic Medical Facility', 'Lost Museum', 'Lower market districts', 'Military District', 'Republic Judiciary Central Detention Center', 'Monument Plaza', 'Manarai range', 'Museum of Multispecies Sciences', 'Port Quarter', 'Eastern spaceport', 'Western spaceport', 'Republic Science and Technical Center', 'Coruscant Underworld', 'Uscru District', 'Galaxies Opera House', 'Outlander Club', 'The Works', 'Imperial Bureau of Standards Coruscant office', 'Verity District', 'Hall of Imperial Register'], 'Fauna': ['Conduit worm', 'Crown finch', 'Duracrete slug', 'Granite slug', 'Pikobi', 'Song sparrow', 'Stone mite', 'Tooka'], 'Other lifeforms': ['Droids', 'Protocol droid', 'Astromech droid', 'Analysis droid', 'SP-4 ISC', 'JN-66 analysis droid', '2-1B-series medical droid', 'DD-13 medical assistant droid', 'PLNK-series power droid', 'Secretary droid', 'LEP-series service droid', 'FA-5 valet droid', 'BD-3000 luxury droid', 'GU-series Guardian police droid', 'MSE-6 series repair droid']}, 'Societal information': {'Native species': ['Human', 'Taung', 'Zhell'], 'Immigrated species': ['Besalisk', 'Balosar', 'Bith', 'Cerean', 'Cosian', 'Gran', 'Iktotchi', 'Iridonian', 'Kel Dor', 'Lannik', 'Nautolan', 'Ongree', 'Patrolian', 'Quermian', 'Salenga', 'Thisspiasian', 'Tholothian', 'Togruta', 'Trandoshan', \"Twi'lek\", 'Vurk', \"Yoda's species\"], 'Primary language(s)': ['Galactic Basic Standard', 'Thousands of others'], 'Government': ['Representative Republic', 'Galactic Senate', 'Coruscanti government', 'Coruscant provisional government'], 'Population': ['Trillions', '78% humans', '22% other'], 'Demonym': 'Coruscanti', 'Major cities': 'Imperial City', 'Major imports': ['Foodstuffs', 'medical goods'], 'Major exports': 'Culture', 'Affiliation': ['Dai Bendu', 'Galactic Republic', 'Jedi Order', 'Sith Order', 'Galactic Empire', 'New Republic', 'First Order']}}, 'paragraph': \"Coruscant , also known as Imperial Center during the rule of the Galactic Empire, was an ecumenopolis—a city-covered planet, collectively known as Imperial City— in the Coruscant system of the Core Worlds. Though debated by historians, it was generally believed that Coruscant was the original homeworld of humanity. Coruscant was at one point also historically the home of the ancient Taung and Zhell. Noted for its cosmopolitan culture and towering skyscrapers, Coruscant's population consisted of trillions of citizens hailing from a vast array of both humanoid and alien species. In addition, Coruscant's strategic location at the end of several major trade routes enabled it to grow in power and influence, causing the city-planet to surpass its early rivals and become the hub of galactic culture, education, finance, fine arts, politics and technology. It was the location of several major landmarks, including the Jedi Temple, Monument Plaza, and the Senate Building.\\n\", 'crosslinks': ['Moon', 'Invasion_of_Naboo', 'Poggle_the_Lesser', 'Military_Creation_Act', 'Clone_template', 'Iggs', 'Level_5127', 'Kilometer', 'Democracy', 'Battle_of_Coruscant', 'Padm%C3%A9_Amidala', 'General', 'NM-K_reconstitutor', 'Song_sparrow', 'Foodstuff', 'Iridonian', '500_Republica', 'Throneworld', 'Coruscant_Underworld', 'Mas_Amedda', 'Mon_Mothma', 'Jedi_Archives', 'Galaxy', 'Geonosis', 'Tholothian', 'Manarai_range', 'Atmosphere', 'Duracrete', 'ISB_Central_Office', 'Office_of_the_Chancellor', 'Grand_Admiral', 'Military_rank', 'Level_5,216', 'Protocol_droid', 'Nix_Card', 'Battle_of_Kashyyyk', 'Republic_Science_and_Technical_Center', 'Taung', 'Grievous', 'Imperial_Senate', 'Standard_day', 'Umate', 'Kit_Fisto', '41st_Scout_Battalion', 'Bith', 'Nexus_Route', 'Imperial_Palace', 'Droid', 'DS-2_Death_Star_II_Mobile_Battle_Station', 'Senate_Guard', 'Unidentified_protocol_droid_teacher', 'Battle_of_Endor', 'Time', 'Centax-1', 'Fall_of_the_Old_Republic', 'Stormtrooper', 'Wookiee', 'Streaks', 'Yoda%27s_species', 'Yoda', 'Bombing_of_Coruscant%27s_central_power_distribution_grid', 'JN-66_analysis_droid', 'Treason', 'Outer_Rim_Sieges', 'Galactic_Civil_War', 'Mouse', 'Chosen_One', 'Trandoshan', 'Fleet_Admiral', 'Skyscraper', 'Imperial_Inspectorate_HQ', 'Dark_side_of_the_Force', 'Galactic_Republic_Customs_of_Coruscant', 'Queen', 'Plot_to_assassinate_Senator_Amidala', 'Battle_of_Crait', 'Republic_Judiciary_Central_Detention_Center', 'The_Works', 'Saesee_Tiin', 'Law_enforcement_agency', 'Gungan', 'Army', 'Thief', 'Conduit_worm', 'Corellian_Run', '501st_Legion', 'Spy', 'City_Municipal_Authorities_Building', 'Amaxine_warrior_crisis', 'Padawan', 'Chandrila', 'Stone_mite', 'Galactic_Emperor', 'Galactic_Senate_Chamber', 'Imperial_City', 'Level_3204', 'DS-1_Death_Star_Mobile_Battle_Station', 'Jedi-Sith_War', 'Hondo_Ohnaka', 'Skylane', 'Star_map', 'Rule_of_Two', 'Patrolian', 'Galaxies_Opera_House', 'Gang_war_on_Coruscant', 'Grand_Master', 'Coruscant_Home_Defense_Fleet', 'Hermione_Bagwa', 'Whorm_Loathsom', 'Bureau_of_Ships_and_Services_Heritage_Museum', 'Uprising_against_the_First_Order', 'Zillo_Beast', 'Bombing_of_the_Jedi_Temple_hangar', 'Coruscant_system', 'Centax-3', 'Anklebiter_Brigade', 'Arbo', 'Duel_on_Mustafar', 'GU-series_Guardian_police_droid', 'Crystal_Crisis', 'Lannik_(species)', 'Imperial_shock_trooper', 'Museum_of_Multispecies_Sciences', '35_ABY', 'Perlemian_Trade_Route', 'Military_District', 'Coruscant_Ministry_of_Ingress', 'Galactic_Empire', 'Hesperidium', 'Capital', 'Jedi_Master', 'Kel_Dor', 'Nala_Se', 'Analysis_droid', 'Outer_Rim_Territories', 'First_Battle_Memorial', 'Russo-ISC', 'Assassin', 'Namadii_Corridor', 'Factory', 'Coruscant_civil_war', 'Extragalactic', 'Imperial_officer', 'Obi-Wan_Kenobi', 'Junior_senator', 'Cloning', 'Transparisteel', 'Planet', 'Prince', 'Advanced_Recon_Commando', 'Coruscant_elevated_maglev_train', 'Western_spaceport', 'Realspace', 'Dedication_of_the_Starlight_Beacon', 'ISB_Academy_and_Offices', 'Alderaanian', 'Metellos_Trade_Route', 'New_Republic_Defense_Force', 'The_Disaster', 'Level_1', 'Clone_trooper', 'Mitth%27raw%27nuruodo', 'Historian', 'Loyalist_Committee', 'Human', 'Coruscant_spaceport', 'Sith', 'Ongree', 'Artist', 'New_Republic_Era', 'Barriss_Offee', 'Wullf_Yularen', 'Vurk', 'Monument_Plaza', 'Coruscanti', 'Republic_financial_reform_bill', 'Populists', 'New_Republic_Senate', 'Besalisk', 'Great_Jedi_Purge', 'Wat_Tambor', 'Commission_for_the_Preservation_of_the_New_Order', 'Standard_year', 'Tagge_Corporation', 'Clone_Wars', 'Tooka', 'Granite_slug', 'Qui-Gon_Jinn', 'Imperial_Instruments_of_Surrender', 'Sentience', '0-0-0', 'Mustafar', 'Trade_Federation', 'Star_Destroyer', 'Special_session_of_Congress', 'Mace_Windu', 'Liberation_of_Coruscant', 'Supreme_Chancellor', 'Galactic_Explorer%27s_Guide', 'Count', 'Darth_Bane', 'Hall_of_Imperial_Register', 'Lizard', 'Naval_Intelligence_Agency', '2-1B-series_medical_droid', 'Iktotchi', 'Imperial_Era', 'Alderaan', 'First_Senator', 'Chancellor_(New_Republic)', 'Lightsaber_duel', 'BD-3000_luxury_droid', 'Jedi_High_Council', 'Chesna_Braker', 'The_Interior', 'Star', 'Riot_in_Monument_Plaza', 'CoCo_Town', 'Lord', 'Lott_Dod', 'Coruscant_subsector', 'Behavioral_modification_biochip', 'Verity_District', 'Old_Market_Sector', 'Separatist_Droid_Army', 'Standard_week', 'Dark_Lord_of_the_Sith', 'Cerean', 'Duel_in_the_Galactic_Senate', '19_BBY', 'Ardees', 'Air_taxi', 'Koros_Trunk_Line', 'Advisor', 'Galactic_Republic', 'Cybernetics', 'Jedi', 'Battle_of_Jakku', 'Standard_Galactic_Grid', 'Confederacy_of_Independent_Systems', 'Balosar_(species)', 'Alliance_to_Restore_the_Republic', 'Secretary_droid', 'Hall_of_Adjudication', 'Dai_Bendu', 'Port_Quarter', 'Dooku', 'Separatist_Crisis', 'Cyborg', 'CT-5385', 'Counselor_to_the_Empire', '0_BBY', 'Homeworld', 'Reptile', 'Kashyyyk', 'Oxygen', 'Mon_Calamari', 'Darth', 'Trooper', 'Shadow_Council', 'Orris_Madmund', 'Orbit', 'Inspectorate', 'Galactic_Concordance', 'Slavery', 'Dagobah', 'Propaganda', 'Ric_Oli%C3%A9', 'Imperial_Executive_Building', 'Tatooine', 'Level_1392', 'Finis_Valorum', 'Salenga', '5_ABY', 'Politics', 'HAVw_A6_Juggernaut', 'Utapau', 'Coruscant_Prime', 'Old_Market_Sector_riots', 'Tree', 'Jedi_temple', 'Rogue_Inquisitor_chase', 'Jango_Fett', 'Mission_to_Kamino_(Separatist_Crisis)', 'Republic_Military', 'Venator-class_Star_Destroyer', 'Jedi_Knight', 'Marriage', 'Cosian', 'Raik%27s_Parlor', 'Cold_War', 'Emperor', 'Airspeeder', 'Malastare', 'Invisible_Hand', 'Rae_Sloane', 'Duel_in_Palpatine%27s_office', 'Level_2623', 'Axel_Greylark', 'Plant', 'Galactic_Republic_Navy', 'Exile_(punishment)', 'Republic_Era', 'Uscru_District', 'Nautolan', 'New_Order', '32_BBY', 'Gran', 'Mountain', 'Janyor', 'New_Republic', 'Cybot_Galactica', 'Blockade', 'Uprising_on_Coruscant', 'COMPNOR_arcology', 'Letta_Turmond', '212th_Attack_Battalion', 'Galactic_Senate_Building', 'Zhell', 'Jedi_General', 'Gender', 'Agen_Kolar', 'Poison_gas', 'Eastern_spaceport', 'Duracrete_slug', '382_BBY', 'High_Republic_Era', 'Battle_of_Coruscant_(Jedi-Sith_War)', 'Terrorist', 'Sith_artifact', 'Species', '34_ABY', 'Astromech_droid', 'Bri%27n', 'Grand_Vizier', 'Senator', 'Corusca_sector', 'Grand_Army_of_the_Republic', 'Kyong_Greylark', 'Anakin_Skywalker', 'Junior_Representative', 'Kaminoan', 'Vote_of_No_Confidence', 'Coruscant_Guard', 'First_Order_military', 'Flagship', 'Senior_senator', 'Orson_Callan_Krennic', 'City', 'Grand_Republic_Medical_Facility', 'Centax-2', 'First_Order', 'Forbidden_levels', 'Coruscant_Security_Force', 'Hosnian_Prime', 'Dictatorship', 'Centrists', 'Galactic_Basic_Standard', 'First_Battle_of_Geonosis', 'Timeline_of_galactic_history', 'Jackar_Bowmani', 'Bank_of_the_Core', 'Monarch_of_Naboo', '22_BBY', 'DK-RA-43', 'Emperor%27s_Royal_Guard', 'InterGalactic_Banking_Clan', 'MSE-6_series_repair_droid', 'Togruta', 'Sah%27c_family', 'DD-13_medical_assistant_droid', 'FA-5_valet_droid', 'Darth_Plagueis', 'Humanoid', 'Toydarian', 'Supreme_Chancellor_Election,_32_BBY', 'Federal_District', 'Soldier', 'Exegol', 'Pirate', 'Quermian', 'Hyperspace_route', 'SP-4_ISC', 'Order_66', 'RA-7_protocol_droid', 'Zam_Wesell', 'Coruscant_Freighter', 'Coruscant_Health_Office', 'Meter', 'Jar_Jar_Binks', 'Arihnda_Pryce', 'CT-5555', 'Commander', 'Galen_Walton_Erso', 'Emperor%27s_office', 'Hosnian_Cataclysm', 'Battle_of_Exegol', 'Shaak_Ti', 'Ecumenopolis', 'Lost_Museum', 'Outlander_Club', 'Imperial_Military', 'Central_power_distribution_grid', 'Sector_H-46', '4_ABY', 'Institute_to_Preserve_Imperial_History', 'Gallius_Rax', 'Governor', 'Luke_Skywalker', 'Minister_of_Information', 'Crown_finch', 'Supreme_Martial_Commander_of_the_Separatist_Droid_Armies', 'Sith_Lord', 'Millennium', 'Siege_of_the_Jedi_Temple', 'Galactic_Senate', 'Construction_droid', 'Jedi_Order', 'Alien', 'Leia_Skywalker_Organa_Solo', 'Force_choke', 'Imperial_Ruling_Council', 'Temperature', 'Standard_hour', 'Proclamation_of_the_New_Order', 'Level_5', 'The_Force', 'Water', 'Canon', 'Jedi_Council', 'Standard_century', 'Casino', 'Galactic_Courts_of_Justice', 'Twi%27lek', 'Trial_of_Ahsoka_Tano', 'Clone_Commander', 'Thisspiasian', 'Ubiqtorate', 'Bounty_hunter', 'Imperial_Security_Bureau', 'Priestess_of_Wood', 'Jyn_Erso', 'Pollux_Hax', 'Escape_from_the_Republic_military_base', 'Amilyn_Holdo', 'Emergency_Powers_Act', 'Starship', 'Th%27er', 'Doctor', 'Shrine_in_the_Depths', 'Coruscanti_government', 'HoloNet_News', 'Naboo', 'Zillo_Beast_incident', 'LEP-series_service_droid', 'PLNK-series_power_droid', 'The_galaxy', 'Pikobi', 'Capture_of_Ahsoka_Tano', 'Confederate%E2%80%93Republic_peace_initiative', 'Clone_Intelligence', 'Lower_market_districts', '232_BBY', '%27ABY-BBY%27_dating_system', 'Core_Worlds', 'Darth_Sidious', 'CC-1010', 'In_Search_of_the_Crystal', 'Imperial_Bureau_of_Standards_Coruscant_office']}\n"
     ]
    }
   ],
   "source": [
    "# test on the planet Coruscant\n",
    "\n",
    "print(data['Coruscant'])"
   ]
  },
  {
   "cell_type": "code",
   "execution_count": 9,
   "metadata": {},
   "outputs": [
    {
     "name": "stdout",
     "output_type": "stream",
     "text": [
      "{'url': 'https://starwars.fandom.com/wiki/Yavin_4', 'title': '\\n\\t\\t\\t\\t\\tYavin 4\\t\\t\\t\\t', 'is_character': False, 'side_bar': {'Astrographical information': {'Region(s)': 'Outer Rim Territories', 'Sector': 'Gordian Reach', 'System': 'Yavin system', 'Planet': 'Yavin Prime', 'Grid square': 'P-6', 'Orbital period': ['4', '818 days']}, 'Physical information': {'Diameter': ['10', '200 kilometers'], 'Atmosphere': 'Type I ', 'Climate': ['Temperate', 'to tropical'], 'Primary terrain': 'Jungles', 'Point(s) of interest': ['Ferra Groves', 'Flat Mountain of Yavin', 'Great Temple', 'Massassi Valley', 'Skygazer Hill', 'Yavin 4 Defense Force station'], 'Flora': ['Climbing fern', 'Bioluminescent orchids', 'Koyo', 'Massassi tree', 'Moss', 'Vines'], 'Fauna': ['Angler', 'Armored eel', 'Leviathan grub', 'Lizard crab', 'Piranha beetle', 'Runyip', 'Stintaril', 'Whisper bird', 'Woolamander', 'Unidentified worm'], 'Other lifeforms': ['Algae', 'Grenade fungi']}, 'Societal information': {'Immigrated species': ['Duros', 'Human', 'Formerly: Massassi'], 'Major cities': \"Wetyin's Colony\", 'Affiliation': ['Alliance to Restore the Republic', 'Galactic Empire', 'New Republic']}}, 'paragraph': 'Yavin 4, also known as Yavin, was the jungle-covered fourth moon in orbit around the red gas giant Yavin Prime. Prior to and during the Galactic Civil War, it hosted the headquarters of the Alliance to Restore the Republic, a group of resistance fighters that opposed the dominant Galactic Empire. Following a major battle that took place around Yavin, the Alliance went on the run, and eventually relocated its headquarters to Hoth.\\n', 'crosslinks': ['Massassi_Valley', 'Moon', 'Wetyin', 'Standard_Galactic_Grid', 'Jungle', 'Chelli_Lona_Aphra', 'Galactic_Empire', 'Dameron_family', 'Alliance_to_Restore_the_Republic', 'Garazeb_Orrelios', 'Runyip', 'Resistance', 'Koyo_(tree)', 'Hoth', 'Korin_Aphra', 'Yavin_system', 'Kilometer', 'New_Republic_Security_Bureau', '5000_BBY', 'Diet', 'Captain', 'Echo_Base', 'Outer_Rim_Territories', 'Ordu_Aspectu', 'Grenade_fungi', 'Woolamander', 'Forest', 'Starloft', 'Freighter', 'Atmosphere', 'Wetyin%27s_Colony', 'Battle_of_Yavin', 'Millennium_Falcon', 'Military_Disarmament_Act', 'Slavery', 'Snub-fighter', 'Unidentified_Special_Galaxy_Reporter', 'Standard_month', 'Stintaril', 'Soldier', 'Orchid', 'Standard_day', 'Great_Temple', 'Algae', 'Swamp', 'Battle_of_Hoth', 'Moss', 'Droid', 'Climbing_fern', 'Battle_of_Endor', 'Raid_at_the_Great_Temple', 'Time', 'Human', 'Parent', 'Mineral', 'Sith', 'New_Republic_Era', 'Tour_the_Great_Temple_on_Yavin_4', 'Imperial_Military', 'Stormtrooper', 'Armored_eel', 'Wookiee', 'Jedha', 'Gordian_Reach', 'Standard_year', 'Evacuation_of_Yavin_4', 'Yavin_4_Defense_Force_station', 'Great_Tree_(Coruscant)', 'L%27ulo_L%27ampar', 'Galactic_Civil_War', 'Plant', 'Massassi', 'Poe_Dameron', 'Leviathan_grub', 'Kes_Dameron', 'Unidentified_Yavin_4_worm', 'Temperature', 'Vine', '0-0-0', 'BT-1', 'Yavin_Prime', 'Canon', 'New_Republic', 'Gas_giant', 'Bounty_hunter', 'Krrsantan', 'Early_rebellion_against_the_Galactic_Empire', 'Civilian_Defense_Force', 'Operation_Fracture', 'Angler', 'Spice_Runners_of_Kijimi', 'Lizard_crab', 'Duros', 'DS-1_Death_Star_Mobile_Battle_Station', 'Shara_Bey%27s_A-wing', 'Species', 'Doctor', 'Pilot', 'Bioluminescence', 'Flat_Mountain_of_Yavin', 'Shara_Bey', 'Piranha_beetle', 'Color', 'Royal_Award_Ceremony', 'Dameron_homestead', 'Gully%27s', 'Ragged_Claw', 'Skygazer_Hill', 'New_Republic_Defense_Fleet', 'Whisper_bird', 'Massassi_tree']}\n"
     ]
    }
   ],
   "source": [
    "# test on the moon Yavin 4\n",
    "\n",
    "print(data['Yavin_4'])"
   ]
  },
  {
   "cell_type": "code",
   "execution_count": 15,
   "metadata": {},
   "outputs": [],
   "source": [
    "# Create an empty dictionary to store the planet data\n",
    "planet_dict = {}\n",
    "\n",
    "# Loop through each key in the dictionary\n",
    "for key in data:\n",
    "    # Check if the item contains \"Astrographical information\" in its side bar before extracting data\n",
    "    if \"Astrographical information\" in data[key][\"side_bar\"]:\n",
    "        # Extract the planet name from the title column\n",
    "        planet_name = data[key][\"title\"].strip()\n",
    "\n",
    "        # Extract the suns value from the Astrographical information section\n",
    "        suns = data[key][\"side_bar\"][\"Astrographical information\"].get(\"Suns\", None) \n",
    "\n",
    "        # Extract the moons value from the Astrographical information section\n",
    "        moons = data[key][\"side_bar\"][\"Astrographical information\"].get(\"Moons\", None)\n",
    "\n",
    "        # Extract the atmosphere value from the Physical information section\n",
    "        physical_info = data[key][\"side_bar\"].get(\"Physical information\", {})\n",
    "        atmosphere = physical_info.get(\"Atmosphere\", None)\n",
    "\n",
    "        # Extract the climate value from the Physical information section\n",
    "        climate = physical_info.get(\"Climate\", None)\n",
    "\n",
    "        # Extract the native species value from the Societal information section\n",
    "        societal_info = data[key][\"side_bar\"].get(\"Societal information\", {})\n",
    "        native_species = societal_info.get(\"Native species\", None) \n",
    "\n",
    "        # Extract the immigrated species value from the Societal information section\n",
    "        immigrated_species = societal_info.get(\"Immigrated species\", None)\n",
    "                      \n",
    "        # Extract the population value from the Societal information section\n",
    "        population = societal_info.get(\"Population\", None)\n",
    "            \n",
    "        # Extract the affiliation value from the Societal information section\n",
    "        affiliation = societal_info.get(\"Affiliation\", None)\n",
    "        \n",
    "        # Extract the major exports value from the Economic information section\n",
    "        economics = data[key][\"side_bar\"].get(\"Economic information\", {})\n",
    "        major_exports = economics.get(\"Major exports\", None)\n",
    "            \n",
    "        # Create a dictionary with all of the planets's data\n",
    "        planets = {\n",
    "                \"suns\": suns,\n",
    "                \"moons\": moons,\n",
    "                \"atmosphere\": atmosphere,\n",
    "                \"climate\": climate,\n",
    "                \"native_species\": native_species,\n",
    "                \"immigrated_species\": immigrated_species,\n",
    "                \"population\": population,\n",
    "                \"major_exports\": major_exports,\n",
    "                \"affiliation\": affiliation\n",
    "                }\n",
    "\n",
    "        # Add the planet's name and its corresponding dictionary to our main dictionary\n",
    "        planet_dict[planet_name] = planets"
   ]
  },
  {
   "cell_type": "code",
   "execution_count": 16,
   "metadata": {},
   "outputs": [],
   "source": [
    "# create a dataframe from the planet dictionary\n",
    "astro_df = pd.DataFrame(planet_dict)\n",
    "\n",
    "# transpose dataframe\n",
    "astro_df = astro_df.T"
   ]
  },
  {
   "cell_type": "code",
   "execution_count": 17,
   "metadata": {},
   "outputs": [
    {
     "data": {
      "text/html": [
       "<div>\n",
       "<style scoped>\n",
       "    .dataframe tbody tr th:only-of-type {\n",
       "        vertical-align: middle;\n",
       "    }\n",
       "\n",
       "    .dataframe tbody tr th {\n",
       "        vertical-align: top;\n",
       "    }\n",
       "\n",
       "    .dataframe thead th {\n",
       "        text-align: right;\n",
       "    }\n",
       "</style>\n",
       "<table border=\"1\" class=\"dataframe\">\n",
       "  <thead>\n",
       "    <tr style=\"text-align: right;\">\n",
       "      <th></th>\n",
       "      <th>suns</th>\n",
       "      <th>moons</th>\n",
       "      <th>atmosphere</th>\n",
       "      <th>climate</th>\n",
       "      <th>native_species</th>\n",
       "      <th>immigrated_species</th>\n",
       "      <th>population</th>\n",
       "      <th>major_exports</th>\n",
       "      <th>affiliation</th>\n",
       "    </tr>\n",
       "  </thead>\n",
       "  <tbody>\n",
       "    <tr>\n",
       "      <th>3rd Moon</th>\n",
       "      <td>None</td>\n",
       "      <td>None</td>\n",
       "      <td>None</td>\n",
       "      <td>None</td>\n",
       "      <td>None</td>\n",
       "      <td>Various</td>\n",
       "      <td>None</td>\n",
       "      <td>None</td>\n",
       "      <td>None</td>\n",
       "    </tr>\n",
       "    <tr>\n",
       "      <th>7G sector</th>\n",
       "      <td>None</td>\n",
       "      <td>None</td>\n",
       "      <td>None</td>\n",
       "      <td>None</td>\n",
       "      <td>None</td>\n",
       "      <td>None</td>\n",
       "      <td>None</td>\n",
       "      <td>None</td>\n",
       "      <td>Galactic Empire</td>\n",
       "    </tr>\n",
       "    <tr>\n",
       "      <th>Yasooska</th>\n",
       "      <td>None</td>\n",
       "      <td>None</td>\n",
       "      <td>None</td>\n",
       "      <td>None</td>\n",
       "      <td>None</td>\n",
       "      <td>None</td>\n",
       "      <td>None</td>\n",
       "      <td>None</td>\n",
       "      <td>None</td>\n",
       "    </tr>\n",
       "    <tr>\n",
       "      <th>Aakaash</th>\n",
       "      <td>None</td>\n",
       "      <td>None</td>\n",
       "      <td>None</td>\n",
       "      <td>None</td>\n",
       "      <td>None</td>\n",
       "      <td>None</td>\n",
       "      <td>None</td>\n",
       "      <td>None</td>\n",
       "      <td>None</td>\n",
       "    </tr>\n",
       "    <tr>\n",
       "      <th>Aakaash system</th>\n",
       "      <td>Aakaash</td>\n",
       "      <td>None</td>\n",
       "      <td>None</td>\n",
       "      <td>None</td>\n",
       "      <td>None</td>\n",
       "      <td>Humans</td>\n",
       "      <td>174.2 billion</td>\n",
       "      <td>None</td>\n",
       "      <td>Land &amp; Sky Corporation</td>\n",
       "    </tr>\n",
       "    <tr>\n",
       "      <th>...</th>\n",
       "      <td>...</td>\n",
       "      <td>...</td>\n",
       "      <td>...</td>\n",
       "      <td>...</td>\n",
       "      <td>...</td>\n",
       "      <td>...</td>\n",
       "      <td>...</td>\n",
       "      <td>...</td>\n",
       "      <td>...</td>\n",
       "    </tr>\n",
       "    <tr>\n",
       "      <th>Zorbia</th>\n",
       "      <td>None</td>\n",
       "      <td>None</td>\n",
       "      <td>None</td>\n",
       "      <td>None</td>\n",
       "      <td>None</td>\n",
       "      <td>None</td>\n",
       "      <td>None</td>\n",
       "      <td>None</td>\n",
       "      <td>None</td>\n",
       "    </tr>\n",
       "    <tr>\n",
       "      <th>Zygerria</th>\n",
       "      <td>1</td>\n",
       "      <td>1</td>\n",
       "      <td>Breathable</td>\n",
       "      <td>Temperate</td>\n",
       "      <td>Zygerrian</td>\n",
       "      <td>None</td>\n",
       "      <td>None</td>\n",
       "      <td>None</td>\n",
       "      <td>[Zygerrian Slave Empire, Confederacy of Indepe...</td>\n",
       "    </tr>\n",
       "    <tr>\n",
       "      <th>Zygerrian system</th>\n",
       "      <td>1</td>\n",
       "      <td>None</td>\n",
       "      <td>None</td>\n",
       "      <td>None</td>\n",
       "      <td>Zygerrian</td>\n",
       "      <td>None</td>\n",
       "      <td>None</td>\n",
       "      <td>None</td>\n",
       "      <td>None</td>\n",
       "    </tr>\n",
       "    <tr>\n",
       "      <th>Zyzek</th>\n",
       "      <td>None</td>\n",
       "      <td>None</td>\n",
       "      <td>None</td>\n",
       "      <td>None</td>\n",
       "      <td>None</td>\n",
       "      <td>None</td>\n",
       "      <td>None</td>\n",
       "      <td>None</td>\n",
       "      <td>None</td>\n",
       "    </tr>\n",
       "    <tr>\n",
       "      <th>Zyzek system</th>\n",
       "      <td>None</td>\n",
       "      <td>None</td>\n",
       "      <td>None</td>\n",
       "      <td>None</td>\n",
       "      <td>None</td>\n",
       "      <td>None</td>\n",
       "      <td>None</td>\n",
       "      <td>None</td>\n",
       "      <td>None</td>\n",
       "    </tr>\n",
       "  </tbody>\n",
       "</table>\n",
       "<p>2562 rows × 9 columns</p>\n",
       "</div>"
      ],
      "text/plain": [
       "                     suns moons  atmosphere    climate native_species  \\\n",
       "3rd Moon             None  None        None       None           None   \n",
       "7G sector            None  None        None       None           None   \n",
       "Yasooska             None  None        None       None           None   \n",
       "Aakaash              None  None        None       None           None   \n",
       "Aakaash system    Aakaash  None        None       None           None   \n",
       "...                   ...   ...         ...        ...            ...   \n",
       "Zorbia               None  None        None       None           None   \n",
       "Zygerria                1     1  Breathable  Temperate      Zygerrian   \n",
       "Zygerrian system        1  None        None       None      Zygerrian   \n",
       "Zyzek                None  None        None       None           None   \n",
       "Zyzek system         None  None        None       None           None   \n",
       "\n",
       "                 immigrated_species     population major_exports  \\\n",
       "3rd Moon                    Various           None          None   \n",
       "7G sector                      None           None          None   \n",
       "Yasooska                       None           None          None   \n",
       "Aakaash                        None           None          None   \n",
       "Aakaash system              Humans   174.2 billion          None   \n",
       "...                             ...            ...           ...   \n",
       "Zorbia                         None           None          None   \n",
       "Zygerria                       None           None          None   \n",
       "Zygerrian system               None           None          None   \n",
       "Zyzek                          None           None          None   \n",
       "Zyzek system                   None           None          None   \n",
       "\n",
       "                                                        affiliation  \n",
       "3rd Moon                                                       None  \n",
       "7G sector                                           Galactic Empire  \n",
       "Yasooska                                                       None  \n",
       "Aakaash                                                        None  \n",
       "Aakaash system                               Land & Sky Corporation  \n",
       "...                                                             ...  \n",
       "Zorbia                                                         None  \n",
       "Zygerria          [Zygerrian Slave Empire, Confederacy of Indepe...  \n",
       "Zygerrian system                                               None  \n",
       "Zyzek                                                          None  \n",
       "Zyzek system                                                   None  \n",
       "\n",
       "[2562 rows x 9 columns]"
      ]
     },
     "execution_count": 17,
     "metadata": {},
     "output_type": "execute_result"
    }
   ],
   "source": [
    "astro_df"
   ]
  },
  {
   "cell_type": "code",
   "execution_count": 18,
   "metadata": {},
   "outputs": [
    {
     "name": "stdout",
     "output_type": "stream",
     "text": [
      "<class 'pandas.core.frame.DataFrame'>\n",
      "Index: 2562 entries, 3rd Moon to Zyzek system\n",
      "Data columns (total 9 columns):\n",
      " #   Column              Non-Null Count  Dtype \n",
      "---  ------              --------------  ----- \n",
      " 0   suns                381 non-null    object\n",
      " 1   moons               250 non-null    object\n",
      " 2   atmosphere          403 non-null    object\n",
      " 3   climate             205 non-null    object\n",
      " 4   native_species      475 non-null    object\n",
      " 5   immigrated_species  395 non-null    object\n",
      " 6   population          102 non-null    object\n",
      " 7   major_exports       0 non-null      object\n",
      " 8   affiliation         789 non-null    object\n",
      "dtypes: object(9)\n",
      "memory usage: 200.2+ KB\n"
     ]
    }
   ],
   "source": [
    "astro_df.info()"
   ]
  },
  {
   "cell_type": "code",
   "execution_count": 19,
   "metadata": {},
   "outputs": [],
   "source": [
    "# convert columns with lists to string\n",
    "astro_df['suns'] = astro_df['suns'].astype('str')\n",
    "astro_df['moons'] = astro_df['moons'].astype('str')\n",
    "astro_df['atmosphere'] = astro_df['atmosphere'].astype('str')\n",
    "astro_df['climate'] = astro_df['climate'].astype('str')\n",
    "astro_df['native_species'] = astro_df['native_species'].astype('str')\n",
    "astro_df['immigrated_species'] = astro_df['immigrated_species'].astype('str')\n",
    "astro_df['population'] = astro_df['population'].astype('str')\n",
    "astro_df['major_exports'] = astro_df['major_exports'].astype('str')\n",
    "astro_df['affiliation'] = astro_df['affiliation'].astype('str')\n",
    "\n",
    "# create the Planets/Regions parquet\n",
    "\n",
    "astro_df.to_parquet('../WPscraped/StarWars_Planets.parquet', index=False)"
   ]
  },
  {
   "cell_type": "code",
   "execution_count": null,
   "metadata": {},
   "outputs": [],
   "source": []
  }
 ],
 "metadata": {
  "kernelspec": {
   "display_name": "base",
   "language": "python",
   "name": "python3"
  },
  "language_info": {
   "codemirror_mode": {
    "name": "ipython",
    "version": 3
   },
   "file_extension": ".py",
   "mimetype": "text/x-python",
   "name": "python",
   "nbconvert_exporter": "python",
   "pygments_lexer": "ipython3",
   "version": "3.10.9"
  },
  "orig_nbformat": 4
 },
 "nbformat": 4,
 "nbformat_minor": 2
}
