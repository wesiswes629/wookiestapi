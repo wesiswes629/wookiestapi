{
 "cells": [
  {
   "cell_type": "code",
   "execution_count": 2,
   "metadata": {},
   "outputs": [],
   "source": [
    "import pandas as pd\n",
    "import pyarrow\n",
    "import matplotlib.pyplot as plt\n",
    "import numpy as np\n",
    "import seaborn as sns"
   ]
  },
  {
   "attachments": {},
   "cell_type": "markdown",
   "metadata": {},
   "source": [
    "We will start comparing species of both universes in this notebook."
   ]
  },
  {
   "cell_type": "code",
   "execution_count": 3,
   "metadata": {},
   "outputs": [],
   "source": [
    "# Read in the characters from Star Trek\n",
    "\n",
    "sts = pd.read_parquet('../WPscraped/StarTrek_Species.parquet')\n",
    "\n",
    "# Read in the characters from Star Wars\n",
    "\n",
    "sws = pd.read_parquet('../WPscraped/StarWars_Species.parquet')"
   ]
  },
  {
   "cell_type": "code",
   "execution_count": 4,
   "metadata": {},
   "outputs": [
    {
     "data": {
      "text/html": [
       "<div>\n",
       "<style scoped>\n",
       "    .dataframe tbody tr th:only-of-type {\n",
       "        vertical-align: middle;\n",
       "    }\n",
       "\n",
       "    .dataframe tbody tr th {\n",
       "        vertical-align: top;\n",
       "    }\n",
       "\n",
       "    .dataframe thead th {\n",
       "        text-align: right;\n",
       "    }\n",
       "</style>\n",
       "<table border=\"1\" class=\"dataframe\">\n",
       "  <thead>\n",
       "    <tr style=\"text-align: right;\">\n",
       "      <th></th>\n",
       "      <th>name</th>\n",
       "      <th>homeworld</th>\n",
       "      <th>warpCapableSpecies</th>\n",
       "      <th>humanoidSpecies</th>\n",
       "      <th>spaceborneSpecies</th>\n",
       "    </tr>\n",
       "  </thead>\n",
       "  <tbody>\n",
       "    <tr>\n",
       "      <th>0</th>\n",
       "      <td>892-IV native</td>\n",
       "      <td>{'name': '892-IV', 'uid': 'ASMA0000015188'}</td>\n",
       "      <td>False</td>\n",
       "      <td>True</td>\n",
       "      <td>False</td>\n",
       "    </tr>\n",
       "    <tr>\n",
       "      <th>1</th>\n",
       "      <td>Aaamazzarite</td>\n",
       "      <td>None</td>\n",
       "      <td>False</td>\n",
       "      <td>True</td>\n",
       "      <td>False</td>\n",
       "    </tr>\n",
       "    <tr>\n",
       "      <th>2</th>\n",
       "      <td>Aamaarazan</td>\n",
       "      <td>None</td>\n",
       "      <td>False</td>\n",
       "      <td>True</td>\n",
       "      <td>False</td>\n",
       "    </tr>\n",
       "    <tr>\n",
       "      <th>3</th>\n",
       "      <td>Abaddon's species</td>\n",
       "      <td>None</td>\n",
       "      <td>False</td>\n",
       "      <td>True</td>\n",
       "      <td>False</td>\n",
       "    </tr>\n",
       "    <tr>\n",
       "      <th>4</th>\n",
       "      <td>Abdon's species</td>\n",
       "      <td>None</td>\n",
       "      <td>False</td>\n",
       "      <td>True</td>\n",
       "      <td>False</td>\n",
       "    </tr>\n",
       "  </tbody>\n",
       "</table>\n",
       "</div>"
      ],
      "text/plain": [
       "                name                                    homeworld  \\\n",
       "0      892-IV native  {'name': '892-IV', 'uid': 'ASMA0000015188'}   \n",
       "1       Aaamazzarite                                         None   \n",
       "2         Aamaarazan                                         None   \n",
       "3  Abaddon's species                                         None   \n",
       "4    Abdon's species                                         None   \n",
       "\n",
       "   warpCapableSpecies  humanoidSpecies  spaceborneSpecies  \n",
       "0               False             True              False  \n",
       "1               False             True              False  \n",
       "2               False             True              False  \n",
       "3               False             True              False  \n",
       "4               False             True              False  "
      ]
     },
     "execution_count": 4,
     "metadata": {},
     "output_type": "execute_result"
    }
   ],
   "source": [
    "# View sts\n",
    "\n",
    "sts.head()"
   ]
  },
  {
   "cell_type": "code",
   "execution_count": 5,
   "metadata": {},
   "outputs": [
    {
     "name": "stdout",
     "output_type": "stream",
     "text": [
      "<class 'pandas.core.frame.DataFrame'>\n",
      "RangeIndex: 759 entries, 0 to 758\n",
      "Data columns (total 5 columns):\n",
      " #   Column              Non-Null Count  Dtype \n",
      "---  ------              --------------  ----- \n",
      " 0   name                759 non-null    object\n",
      " 1   homeworld           286 non-null    object\n",
      " 2   warpCapableSpecies  759 non-null    bool  \n",
      " 3   humanoidSpecies     759 non-null    bool  \n",
      " 4   spaceborneSpecies   759 non-null    bool  \n",
      "dtypes: bool(3), object(2)\n",
      "memory usage: 14.2+ KB\n"
     ]
    }
   ],
   "source": [
    "# View sts info\n",
    "sts.info()"
   ]
  },
  {
   "cell_type": "code",
   "execution_count": 6,
   "metadata": {},
   "outputs": [
    {
     "data": {
      "text/html": [
       "<div>\n",
       "<style scoped>\n",
       "    .dataframe tbody tr th:only-of-type {\n",
       "        vertical-align: middle;\n",
       "    }\n",
       "\n",
       "    .dataframe tbody tr th {\n",
       "        vertical-align: top;\n",
       "    }\n",
       "\n",
       "    .dataframe thead th {\n",
       "        text-align: right;\n",
       "    }\n",
       "</style>\n",
       "<table border=\"1\" class=\"dataframe\">\n",
       "  <thead>\n",
       "    <tr style=\"text-align: right;\">\n",
       "      <th></th>\n",
       "      <th>name</th>\n",
       "      <th>designation</th>\n",
       "      <th>classification</th>\n",
       "      <th>height</th>\n",
       "      <th>skin_color</th>\n",
       "      <th>hair_color</th>\n",
       "      <th>distinctions</th>\n",
       "      <th>homeworld</th>\n",
       "      <th>language</th>\n",
       "    </tr>\n",
       "  </thead>\n",
       "  <tbody>\n",
       "    <tr>\n",
       "      <th>0</th>\n",
       "      <td>Abednedo</td>\n",
       "      <td>Sentient</td>\n",
       "      <td>None</td>\n",
       "      <td>None</td>\n",
       "      <td>['Brown', 'Cream', 'Gray', 'Orange', 'Pink', '...</td>\n",
       "      <td>['Blond', 'Brown', 'Gray', 'White']</td>\n",
       "      <td>Dangling mouth tendrils</td>\n",
       "      <td>Abednedo</td>\n",
       "      <td>Abednedish</td>\n",
       "    </tr>\n",
       "    <tr>\n",
       "      <th>1</th>\n",
       "      <td>Abersyn symbiote</td>\n",
       "      <td>Sentien</td>\n",
       "      <td>['Parasite', 'Symbiote']</td>\n",
       "      <td>None</td>\n",
       "      <td>['Brown', 'Cream', 'Gray', 'Orange', 'Pink', '...</td>\n",
       "      <td>['Blond', 'Brown', 'Gray', 'White']</td>\n",
       "      <td>Dangling mouth tendrils</td>\n",
       "      <td>None</td>\n",
       "      <td>None</td>\n",
       "    </tr>\n",
       "    <tr>\n",
       "      <th>2</th>\n",
       "      <td>Abyssin</td>\n",
       "      <td>Sentient</td>\n",
       "      <td>None</td>\n",
       "      <td>None</td>\n",
       "      <td>['Blue', 'Green']</td>\n",
       "      <td>Green and white</td>\n",
       "      <td>['Cycloptic', 'regenerative abilities']</td>\n",
       "      <td>Byss</td>\n",
       "      <td>None</td>\n",
       "    </tr>\n",
       "    <tr>\n",
       "      <th>3</th>\n",
       "      <td>Accipiptero</td>\n",
       "      <td>None</td>\n",
       "      <td>Reptavian</td>\n",
       "      <td>None</td>\n",
       "      <td>Brown</td>\n",
       "      <td>None</td>\n",
       "      <td>None</td>\n",
       "      <td>Dagobah</td>\n",
       "      <td>None</td>\n",
       "    </tr>\n",
       "    <tr>\n",
       "      <th>4</th>\n",
       "      <td>Acklay</td>\n",
       "      <td>Non-sentient</td>\n",
       "      <td>Amphibious crustacean</td>\n",
       "      <td>None</td>\n",
       "      <td>Green</td>\n",
       "      <td>None</td>\n",
       "      <td>['Grappling hands', 'Stretchy stomachs', 'Razo...</td>\n",
       "      <td>Vendaxa</td>\n",
       "      <td>None</td>\n",
       "    </tr>\n",
       "  </tbody>\n",
       "</table>\n",
       "</div>"
      ],
      "text/plain": [
       "               name   designation            classification height  \\\n",
       "0          Abednedo      Sentient                      None   None   \n",
       "1  Abersyn symbiote       Sentien  ['Parasite', 'Symbiote']   None   \n",
       "2           Abyssin      Sentient                      None   None   \n",
       "3       Accipiptero          None                 Reptavian   None   \n",
       "4            Acklay  Non-sentient     Amphibious crustacean   None   \n",
       "\n",
       "                                          skin_color  \\\n",
       "0  ['Brown', 'Cream', 'Gray', 'Orange', 'Pink', '...   \n",
       "1  ['Brown', 'Cream', 'Gray', 'Orange', 'Pink', '...   \n",
       "2                                  ['Blue', 'Green']   \n",
       "3                                              Brown   \n",
       "4                                              Green   \n",
       "\n",
       "                            hair_color  \\\n",
       "0  ['Blond', 'Brown', 'Gray', 'White']   \n",
       "1  ['Blond', 'Brown', 'Gray', 'White']   \n",
       "2                      Green and white   \n",
       "3                                 None   \n",
       "4                                 None   \n",
       "\n",
       "                                        distinctions homeworld    language  \n",
       "0                            Dangling mouth tendrils  Abednedo  Abednedish  \n",
       "1                            Dangling mouth tendrils      None        None  \n",
       "2            ['Cycloptic', 'regenerative abilities']      Byss        None  \n",
       "3                                               None   Dagobah        None  \n",
       "4  ['Grappling hands', 'Stretchy stomachs', 'Razo...   Vendaxa        None  "
      ]
     },
     "execution_count": 6,
     "metadata": {},
     "output_type": "execute_result"
    }
   ],
   "source": [
    "# View sws\n",
    "\n",
    "sws.head()"
   ]
  },
  {
   "cell_type": "code",
   "execution_count": 7,
   "metadata": {},
   "outputs": [
    {
     "name": "stdout",
     "output_type": "stream",
     "text": [
      "<class 'pandas.core.frame.DataFrame'>\n",
      "RangeIndex: 1051 entries, 0 to 1050\n",
      "Data columns (total 9 columns):\n",
      " #   Column          Non-Null Count  Dtype \n",
      "---  ------          --------------  ----- \n",
      " 0   name            1051 non-null   object\n",
      " 1   designation     1051 non-null   object\n",
      " 2   classification  1051 non-null   object\n",
      " 3   height          1051 non-null   object\n",
      " 4   skin_color      1051 non-null   object\n",
      " 5   hair_color      1051 non-null   object\n",
      " 6   distinctions    1051 non-null   object\n",
      " 7   homeworld       1051 non-null   object\n",
      " 8   language        1051 non-null   object\n",
      "dtypes: object(9)\n",
      "memory usage: 74.0+ KB\n"
     ]
    }
   ],
   "source": [
    "# View sws info\n",
    "\n",
    "sws.info()"
   ]
  },
  {
   "attachments": {},
   "cell_type": "markdown",
   "metadata": {},
   "source": [
    "The first thing to notice is there is more information available on Wookieepedia than STAPI.  We will clean up the species dataframes for both to be: Name and homeworld.  We will also try to determine sentient species in both."
   ]
  },
  {
   "cell_type": "code",
   "execution_count": 8,
   "metadata": {},
   "outputs": [
    {
     "name": "stdout",
     "output_type": "stream",
     "text": [
      "<class 'pandas.core.frame.DataFrame'>\n",
      "RangeIndex: 1051 entries, 0 to 1050\n",
      "Data columns (total 3 columns):\n",
      " #   Column       Non-Null Count  Dtype \n",
      "---  ------       --------------  ----- \n",
      " 0   name         1051 non-null   object\n",
      " 1   homeworld    1051 non-null   object\n",
      " 2   designation  1051 non-null   object\n",
      "dtypes: object(3)\n",
      "memory usage: 24.8+ KB\n"
     ]
    }
   ],
   "source": [
    "# Create consolidated Star Trek species dataframe\n",
    "\n",
    "sws_updated = sws[['name', 'homeworld', 'designation']]\n",
    "\n",
    "# Test sts_updated\n",
    "sws_updated.info()"
   ]
  },
  {
   "attachments": {},
   "cell_type": "markdown",
   "metadata": {},
   "source": [
    "We will start determining how many sentient species make up each dataset."
   ]
  },
  {
   "cell_type": "code",
   "execution_count": 9,
   "metadata": {},
   "outputs": [
    {
     "name": "stdout",
     "output_type": "stream",
     "text": [
      "sentient                              422\n",
      "none                                  318\n",
      "non-sentient                          279\n",
      "semi-sentient                          16\n",
      "bird                                    2\n",
      "crustacean                              1\n",
      "amphibian                               1\n",
      "fly                                     1\n",
      "fish                                    1\n",
      "mammal                                  1\n",
      "at least semi-sentient                  1\n",
      "primate                                 1\n",
      "cyborg jellyfish                        1\n",
      "zombie                                  1\n",
      "possibly semi-sentient or sentient      1\n",
      "insect                                  1\n",
      "coral                                   1\n",
      "reptilian                               1\n",
      "spider                                  1\n",
      "Name: designation, dtype: int64\n"
     ]
    }
   ],
   "source": [
    "# Start by grouping Star Wars designations to find out how many there are\n",
    "\n",
    "sws_des = sws_updated['designation']\n",
    "\n",
    "# Clean up dataset and make the same text and remove extra characters\n",
    "sws_des = sws_des.str.lower().str.strip()\n",
    "\n",
    "# Combine \"sentient\" and \"sentien\" together, and \"non-sentient\" and \"non-sentien\"\n",
    "sws_des = sws_des.replace(['sentien', 'non-sentien', 'human'], ['sentient', 'non-sentient', 'sentient'])\n",
    "\n",
    "# Create a count and group to see errors\n",
    "\n",
    "sws_des2 = sws_des.value_counts()\n",
    "\n",
    "# View list and count\n",
    "print(sws_des2)"
   ]
  },
  {
   "cell_type": "code",
   "execution_count": 10,
   "metadata": {},
   "outputs": [
    {
     "data": {
      "text/plain": [
       "422"
      ]
     },
     "execution_count": 10,
     "metadata": {},
     "output_type": "execute_result"
    }
   ],
   "source": [
    "# Create a variable for use in charts\n",
    "\n",
    "sw_sentient = sws_des2['sentient'].sum()\n",
    "sw_sentient"
   ]
  },
  {
   "cell_type": "code",
   "execution_count": 11,
   "metadata": {},
   "outputs": [
    {
     "name": "stdout",
     "output_type": "stream",
     "text": [
      "humanoidSpecies\n",
      "True     490\n",
      "False    269\n",
      "dtype: int64\n",
      "spaceborneSpecies\n",
      "False    744\n",
      "True      15\n",
      "dtype: int64\n",
      "warpCapableSpecies\n",
      "False    659\n",
      "True     100\n",
      "dtype: int64\n"
     ]
    }
   ],
   "source": [
    "# Star Trek does not have a \"sentience\" designation, so we will look into the count of humanoid, spaceborne, and warpcapable booleans\n",
    "\n",
    "# Create a count for humanoid\n",
    "sts_humanoid = sts.value_counts('humanoidSpecies')\n",
    "\n",
    "# Print humanoid count\n",
    "print(sts_humanoid)\n",
    "\n",
    "# Create a count for spaceborne\n",
    "sts_space = sts.value_counts('spaceborneSpecies')\n",
    "\n",
    "# Print spaceborne count\n",
    "print(sts_space)\n",
    "\n",
    "# Create a count for warp capable\n",
    "sts_warp = sts.value_counts('warpCapableSpecies')\n",
    "\n",
    "# Print warp capable count\n",
    "print(sts_warp)"
   ]
  },
  {
   "cell_type": "code",
   "execution_count": 12,
   "metadata": {},
   "outputs": [
    {
     "name": "stdout",
     "output_type": "stream",
     "text": [
      "4\n",
      "89\n"
     ]
    }
   ],
   "source": [
    "# Check to see if humanoid and spaceborne overlap\n",
    "\n",
    "sts['overlap'] = sts['humanoidSpecies'] & sts['spaceborneSpecies']\n",
    "\n",
    "# Count of overlap\n",
    "overlap_count = sts['overlap'].sum()\n",
    "\n",
    "# Check to see if humanoid and warp capable overlap\n",
    "sts['warp_overlap'] = sts['humanoidSpecies'] & sts['warpCapableSpecies']\n",
    "\n",
    "# Count of warp overlap\n",
    "warp_overlap = sts['warp_overlap'].sum()\n",
    "\n",
    "# Print counts\n",
    "print(overlap_count)\n",
    "print(warp_overlap)"
   ]
  },
  {
   "attachments": {},
   "cell_type": "markdown",
   "metadata": {},
   "source": [
    "There are 490 humanoid species, 100 warp capable species, and 15 spaceborne.  89 of the Warp Capable are humanoid, leaving 11 non-humanoid warp capable species. There are 15 spaceborne species, and 4 of those are humanoid.  We could combine those.  We will create a variable to add those together."
   ]
  },
  {
   "cell_type": "code",
   "execution_count": 13,
   "metadata": {},
   "outputs": [
    {
     "name": "stdout",
     "output_type": "stream",
     "text": [
      "501\n"
     ]
    }
   ],
   "source": [
    "# Create a variable to show the count of humanoid and warpcapable without the overlap\n",
    "\n",
    "warp_count = len(sts[sts['humanoidSpecies'] | sts['warpCapableSpecies']])\n",
    "\n",
    "# Print the warp_count\n",
    "print(warp_count)"
   ]
  },
  {
   "attachments": {},
   "cell_type": "markdown",
   "metadata": {},
   "source": [
    "Now we have what we can determine to be the sentient species of both universes.  Star Wars has 422 of its 1051 species designated as sentient. Star Trek has 501 of its 759 species where we can determine they are sentient. We will create graphs to show this."
   ]
  },
  {
   "cell_type": "code",
   "execution_count": 14,
   "metadata": {},
   "outputs": [
    {
     "data": {
      "image/png": "[encoded data removed]",
      "text/plain": [
       "<Figure size 640x480 with 1 Axes>"
      ]
     },
     "metadata": {},
     "output_type": "display_data"
    }
   ],
   "source": [
    "# Start creating variable for sentience\n",
    "sentience = [warp_count, sw_sentient]\n",
    "\n",
    "# Create bar chart\n",
    "plt.bar(['Star Trek', 'Star Wars'], sentience)\n",
    "\n",
    "# Add labels and title\n",
    "plt.ylabel('Count')\n",
    "plt.title('Count of Sentient Species')\n",
    "\n",
    "# Show Plot\n",
    "plt.show()\n"
   ]
  },
  {
   "cell_type": "code",
   "execution_count": 15,
   "metadata": {},
   "outputs": [
    {
     "name": "stdout",
     "output_type": "stream",
     "text": [
      "66.00790513833992\n"
     ]
    }
   ],
   "source": [
    "# We will create a pie graph for each to show percentages of sentient species compared to total species.\n",
    "\n",
    "# Start with Star Trek\n",
    "\n",
    "st_percent = warp_count / len(sts) * 100\n",
    "\n",
    "print(st_percent)"
   ]
  },
  {
   "cell_type": "code",
   "execution_count": 16,
   "metadata": {},
   "outputs": [
    {
     "data": {
      "image/png": "[encoded data removed]",
      "text/plain": [
       "<Figure size 640x480 with 1 Axes>"
      ]
     },
     "metadata": {},
     "output_type": "display_data"
    }
   ],
   "source": [
    "# Create the pie chart\n",
    "stlabels = ['Sentient', 'Non-Sentient']\n",
    "stsizes = [st_percent, (100-st_percent)]\n",
    "\n",
    "# Plot pie chart \n",
    "plt.pie(stsizes, labels=stlabels)\n",
    "plt.title('Star Trek Species Sentience')\n",
    "plt.show()"
   ]
  },
  {
   "cell_type": "code",
   "execution_count": 17,
   "metadata": {},
   "outputs": [
    {
     "name": "stdout",
     "output_type": "stream",
     "text": [
      "40.15223596574691\n"
     ]
    }
   ],
   "source": [
    "# We will find the percentage of sentient species in Star Wars\n",
    "\n",
    "sw_percent = sw_sentient / len(sws_updated) * 100\n",
    "print(sw_percent)"
   ]
  },
  {
   "cell_type": "code",
   "execution_count": 18,
   "metadata": {},
   "outputs": [
    {
     "data": {
      "image/png": "[encoded data removed]",
      "text/plain": [
       "<Figure size 640x480 with 1 Axes>"
      ]
     },
     "metadata": {},
     "output_type": "display_data"
    }
   ],
   "source": [
    "# Create the pie chart\n",
    "swlabels = ['Sentient', 'Non-Sentient']\n",
    "swsizes = [sw_percent, (100-sw_percent)]\n",
    "\n",
    "# Plot pie chart\n",
    "plt.pie(swsizes, labels=swlabels)\n",
    "plt.title('Star Wars Species Sentience')\n",
    "plt.show()"
   ]
  },
  {
   "attachments": {},
   "cell_type": "markdown",
   "metadata": {},
   "source": [
    "We have completed some species comparisons between the two universes. \n",
    "\n",
    "Both universes have diverse species ranging from humanoid to various creatures.  In looking into the number of sentient species in both universes, Star Trek has more sentient species (501) and a higher percentage of sentient to total (66%).  \n",
    "\n",
    "Meanwhile, Star Wars has 422 sentient species, or 40% of its identified species. While there are less sentient species, it shows more interaction and observation of non-sentient creatures.  Likewise, it could be argued that the Star Trek universe has more evolved species that have become sentient.  \n",
    "\n"
   ]
  },
  {
   "cell_type": "code",
   "execution_count": 19,
   "metadata": {},
   "outputs": [
    {
     "data": {
      "image/png": "[encoded data removed]",
      "text/plain": [
       "<Figure size 640x480 with 1 Axes>"
      ]
     },
     "metadata": {},
     "output_type": "display_data"
    }
   ],
   "source": [
    "# Data to plot Star Trek \n",
    "data = [66, 34]\n",
    "labels = ['Sentient', 'Non-Sentient']\n",
    "\n",
    "# Plot the pie chart\n",
    "plt.pie(data, labels=labels, autopct='%1.1f%%')\n",
    "\n",
    "# Add a title\n",
    "plt.title('Star Trek Species Sentience')\n",
    "\n",
    "# Show the plot\n",
    "plt.show()"
   ]
  },
  {
   "cell_type": "code",
   "execution_count": 21,
   "metadata": {},
   "outputs": [
    {
     "data": {
      "image/png": "[encoded data removed]",
      "text/plain": [
       "<Figure size 640x480 with 1 Axes>"
      ]
     },
     "metadata": {},
     "output_type": "display_data"
    }
   ],
   "source": [
    "# Data to plot Star Wars \n",
    "data = [40.1, 59.9]\n",
    "labels = ['Sentient', 'Non-Sentient']\n",
    "\n",
    "# Plot the pie chart\n",
    "plt.pie(data, labels=labels, autopct='%1.1f%%')\n",
    "\n",
    "# Add a title\n",
    "plt.title('Star Wars Species Sentience')\n",
    "\n",
    "# Show the plot\n",
    "plt.show()"
   ]
  },
  {
   "cell_type": "code",
   "execution_count": null,
   "metadata": {},
   "outputs": [],
   "source": []
  }
 ],
 "metadata": {
  "kernelspec": {
   "display_name": "base",
   "language": "python",
   "name": "python3"
  },
  "language_info": {
   "codemirror_mode": {
    "name": "ipython",
    "version": 3
   },
   "file_extension": ".py",
   "mimetype": "text/x-python",
   "name": "python",
   "nbconvert_exporter": "python",
   "pygments_lexer": "ipython3",
   "version": "3.10.9"
  },
  "orig_nbformat": 4
 },
 "nbformat": 4,
 "nbformat_minor": 2
}
