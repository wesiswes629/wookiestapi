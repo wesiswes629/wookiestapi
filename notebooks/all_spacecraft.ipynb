{
 "cells": [
  {
   "cell_type": "code",
   "execution_count": 1,
   "metadata": {},
   "outputs": [],
   "source": [
    "import pandas as pd\n",
    "import pyarrow\n",
    "import matplotlib.pyplot as plt\n",
    "import numpy as np\n",
    "import seaborn as sns\n",
    "import ast"
   ]
  },
  {
   "attachments": {},
   "cell_type": "markdown",
   "metadata": {},
   "source": [
    "We will start comparing spacecraft from both universes with this notebook.  "
   ]
  },
  {
   "cell_type": "code",
   "execution_count": 2,
   "metadata": {},
   "outputs": [],
   "source": [
    "# Read in spacecraft from Star Trek\n",
    "\n",
    "sts = pd.read_parquet('../WPscraped/StarTrek_Spacecraft.parquet')\n",
    "\n",
    "# Read in spacecraft classes for Star Trek to add to the spacecraft\n",
    "\n",
    "stsc = pd.read_parquet('../WPscraped/StarTrek_Spacecraft_Classes.parquet')\n",
    "\n",
    "# Read in spacecraft from Star Wars which will need to be cleaned to only spacecrafts\n",
    "\n",
    "sws = pd.read_parquet('../WPscraped/StarWars_Vehicles.parquet')"
   ]
  },
  {
   "cell_type": "code",
   "execution_count": 3,
   "metadata": {},
   "outputs": [
    {
     "name": "stdout",
     "output_type": "stream",
     "text": [
      "<class 'pandas.core.frame.DataFrame'>\n",
      "RangeIndex: 1443 entries, 0 to 1442\n",
      "Data columns (total 2 columns):\n",
      " #   Column           Non-Null Count  Dtype \n",
      "---  ------           --------------  ----- \n",
      " 0   name             1443 non-null   object\n",
      " 1   spacecraftClass  610 non-null    object\n",
      "dtypes: object(2)\n",
      "memory usage: 22.7+ KB\n"
     ]
    },
    {
     "data": {
      "text/html": [
       "<div>\n",
       "<style scoped>\n",
       "    .dataframe tbody tr th:only-of-type {\n",
       "        vertical-align: middle;\n",
       "    }\n",
       "\n",
       "    .dataframe tbody tr th {\n",
       "        vertical-align: top;\n",
       "    }\n",
       "\n",
       "    .dataframe thead th {\n",
       "        text-align: right;\n",
       "    }\n",
       "</style>\n",
       "<table border=\"1\" class=\"dataframe\">\n",
       "  <thead>\n",
       "    <tr style=\"text-align: right;\">\n",
       "      <th></th>\n",
       "      <th>name</th>\n",
       "      <th>spacecraftClass</th>\n",
       "    </tr>\n",
       "  </thead>\n",
       "  <tbody>\n",
       "    <tr>\n",
       "      <th>0</th>\n",
       "      <td>042</td>\n",
       "      <td>{'name': 'Worker bee', 'uid': 'SCMA0000226396'}</td>\n",
       "    </tr>\n",
       "    <tr>\n",
       "      <th>1</th>\n",
       "      <td>208</td>\n",
       "      <td>{'name': 'Jumpship', 'uid': 'SCMA0000175103'}</td>\n",
       "    </tr>\n",
       "    <tr>\n",
       "      <th>2</th>\n",
       "      <td>313-C</td>\n",
       "      <td>None</td>\n",
       "    </tr>\n",
       "    <tr>\n",
       "      <th>3</th>\n",
       "      <td>5</td>\n",
       "      <td>None</td>\n",
       "    </tr>\n",
       "    <tr>\n",
       "      <th>4</th>\n",
       "      <td>ATW-11</td>\n",
       "      <td>{'name': 'UFP-02 type', 'uid': 'SCMA0000276004'}</td>\n",
       "    </tr>\n",
       "  </tbody>\n",
       "</table>\n",
       "</div>"
      ],
      "text/plain": [
       "     name                                   spacecraftClass\n",
       "0     042   {'name': 'Worker bee', 'uid': 'SCMA0000226396'}\n",
       "1     208     {'name': 'Jumpship', 'uid': 'SCMA0000175103'}\n",
       "2   313-C                                              None\n",
       "3       5                                              None\n",
       "4  ATW-11  {'name': 'UFP-02 type', 'uid': 'SCMA0000276004'}"
      ]
     },
     "execution_count": 3,
     "metadata": {},
     "output_type": "execute_result"
    }
   ],
   "source": [
    "# view sts\n",
    "sts.info()\n",
    "sts.head()"
   ]
  },
  {
   "cell_type": "code",
   "execution_count": 4,
   "metadata": {},
   "outputs": [
    {
     "name": "stdout",
     "output_type": "stream",
     "text": [
      "<class 'pandas.core.frame.DataFrame'>\n",
      "RangeIndex: 727 entries, 0 to 726\n",
      "Data columns (total 4 columns):\n",
      " #   Column         Non-Null Count  Dtype  \n",
      "---  ------         --------------  -----  \n",
      " 0   name           727 non-null    object \n",
      " 1   numberOfDecks  33 non-null     float64\n",
      " 2   warpCapable    727 non-null    bool   \n",
      " 3   species        412 non-null    object \n",
      "dtypes: bool(1), float64(1), object(2)\n",
      "memory usage: 17.9+ KB\n"
     ]
    },
    {
     "data": {
      "text/html": [
       "<div>\n",
       "<style scoped>\n",
       "    .dataframe tbody tr th:only-of-type {\n",
       "        vertical-align: middle;\n",
       "    }\n",
       "\n",
       "    .dataframe tbody tr th {\n",
       "        vertical-align: top;\n",
       "    }\n",
       "\n",
       "    .dataframe thead th {\n",
       "        text-align: right;\n",
       "    }\n",
       "</style>\n",
       "<table border=\"1\" class=\"dataframe\">\n",
       "  <thead>\n",
       "    <tr style=\"text-align: right;\">\n",
       "      <th></th>\n",
       "      <th>name</th>\n",
       "      <th>numberOfDecks</th>\n",
       "      <th>warpCapable</th>\n",
       "      <th>species</th>\n",
       "    </tr>\n",
       "  </thead>\n",
       "  <tbody>\n",
       "    <tr>\n",
       "      <th>0</th>\n",
       "      <td>Abronian ship</td>\n",
       "      <td>NaN</td>\n",
       "      <td>False</td>\n",
       "      <td>{'name': 'Abronian', 'uid': 'SPMA0000274634'}</td>\n",
       "    </tr>\n",
       "    <tr>\n",
       "      <th>1</th>\n",
       "      <td>Academy trainer craft</td>\n",
       "      <td>NaN</td>\n",
       "      <td>False</td>\n",
       "      <td>None</td>\n",
       "    </tr>\n",
       "    <tr>\n",
       "      <th>2</th>\n",
       "      <td>Aeroshuttle</td>\n",
       "      <td>NaN</td>\n",
       "      <td>False</td>\n",
       "      <td>None</td>\n",
       "    </tr>\n",
       "    <tr>\n",
       "      <th>3</th>\n",
       "      <td>Agena target vehicle</td>\n",
       "      <td>NaN</td>\n",
       "      <td>False</td>\n",
       "      <td>None</td>\n",
       "    </tr>\n",
       "    <tr>\n",
       "      <th>4</th>\n",
       "      <td>Akira class</td>\n",
       "      <td>NaN</td>\n",
       "      <td>False</td>\n",
       "      <td>None</td>\n",
       "    </tr>\n",
       "  </tbody>\n",
       "</table>\n",
       "</div>"
      ],
      "text/plain": [
       "                    name  numberOfDecks  warpCapable  \\\n",
       "0          Abronian ship            NaN        False   \n",
       "1  Academy trainer craft            NaN        False   \n",
       "2            Aeroshuttle            NaN        False   \n",
       "3   Agena target vehicle            NaN        False   \n",
       "4            Akira class            NaN        False   \n",
       "\n",
       "                                         species  \n",
       "0  {'name': 'Abronian', 'uid': 'SPMA0000274634'}  \n",
       "1                                           None  \n",
       "2                                           None  \n",
       "3                                           None  \n",
       "4                                           None  "
      ]
     },
     "execution_count": 4,
     "metadata": {},
     "output_type": "execute_result"
    }
   ],
   "source": [
    "# view stsc\n",
    "stsc.info()\n",
    "stsc.head()"
   ]
  },
  {
   "cell_type": "code",
   "execution_count": 5,
   "metadata": {},
   "outputs": [
    {
     "name": "stdout",
     "output_type": "stream",
     "text": [
      "<class 'pandas.core.frame.DataFrame'>\n",
      "RangeIndex: 1049 entries, 0 to 1048\n",
      "Data columns (total 8 columns):\n",
      " #   Column        Non-Null Count  Dtype \n",
      "---  ------        --------------  ----- \n",
      " 0   vehicle_name  1049 non-null   object\n",
      " 1   manufacturer  1049 non-null   object\n",
      " 2   model         1049 non-null   object\n",
      " 3   class         1049 non-null   object\n",
      " 4   length        1049 non-null   object\n",
      " 5   crew          1049 non-null   object\n",
      " 6   owner(s)      1049 non-null   object\n",
      " 7   affiliation   1049 non-null   object\n",
      "dtypes: object(8)\n",
      "memory usage: 65.7+ KB\n"
     ]
    },
    {
     "data": {
      "text/html": [
       "<div>\n",
       "<style scoped>\n",
       "    .dataframe tbody tr th:only-of-type {\n",
       "        vertical-align: middle;\n",
       "    }\n",
       "\n",
       "    .dataframe tbody tr th {\n",
       "        vertical-align: top;\n",
       "    }\n",
       "\n",
       "    .dataframe thead th {\n",
       "        text-align: right;\n",
       "    }\n",
       "</style>\n",
       "<table border=\"1\" class=\"dataframe\">\n",
       "  <thead>\n",
       "    <tr style=\"text-align: right;\">\n",
       "      <th></th>\n",
       "      <th>vehicle_name</th>\n",
       "      <th>manufacturer</th>\n",
       "      <th>model</th>\n",
       "      <th>class</th>\n",
       "      <th>length</th>\n",
       "      <th>crew</th>\n",
       "      <th>owner(s)</th>\n",
       "      <th>affiliation</th>\n",
       "    </tr>\n",
       "  </thead>\n",
       "  <tbody>\n",
       "    <tr>\n",
       "      <th>0</th>\n",
       "      <td>\"Changeling\" Mark 71NB</td>\n",
       "      <td>Ravager Mechanics</td>\n",
       "      <td>\"Changeling\" Mark 71NB</td>\n",
       "      <td>Racing starfighter</td>\n",
       "      <td>None</td>\n",
       "      <td>2</td>\n",
       "      <td>None</td>\n",
       "      <td>['Ace Squadron', 'Colossus resistance']</td>\n",
       "    </tr>\n",
       "    <tr>\n",
       "      <th>1</th>\n",
       "      <td>125-Z treadspeeder bike</td>\n",
       "      <td>Aratech-Loratus Corporation</td>\n",
       "      <td>125-Z treadspeeder bik</td>\n",
       "      <td>Speeder</td>\n",
       "      <td>4.17 meters</td>\n",
       "      <td>1</td>\n",
       "      <td>None</td>\n",
       "      <td>['First Order', 'Resistance']</td>\n",
       "    </tr>\n",
       "    <tr>\n",
       "      <th>2</th>\n",
       "      <td>49AX3</td>\n",
       "      <td>None</td>\n",
       "      <td>Dreadnought-class heavy cruiser</td>\n",
       "      <td>Heavy cruiser</td>\n",
       "      <td>None</td>\n",
       "      <td>None</td>\n",
       "      <td>None</td>\n",
       "      <td>['Galactic Empire', 'Alliance to Restore the R...</td>\n",
       "    </tr>\n",
       "    <tr>\n",
       "      <th>3</th>\n",
       "      <td>614-AvA speeder bike</td>\n",
       "      <td>Aratech Repulsor Company</td>\n",
       "      <td>614-AvA</td>\n",
       "      <td>Speeder bike</td>\n",
       "      <td>4.4 meters</td>\n",
       "      <td>['Pilot']</td>\n",
       "      <td>None</td>\n",
       "      <td>['Galactic Empire', 'Lothal resistance group',...</td>\n",
       "    </tr>\n",
       "    <tr>\n",
       "      <th>4</th>\n",
       "      <td>712-AvA speeder bike</td>\n",
       "      <td>Aratech Repulsor Company</td>\n",
       "      <td>712-AvA</td>\n",
       "      <td>Speeder bike</td>\n",
       "      <td>None</td>\n",
       "      <td>None</td>\n",
       "      <td>None</td>\n",
       "      <td>None</td>\n",
       "    </tr>\n",
       "    <tr>\n",
       "      <th>5</th>\n",
       "      <td>720 light freighter</td>\n",
       "      <td>Ghtroc Industries</td>\n",
       "      <td>720</td>\n",
       "      <td>Light freighter</td>\n",
       "      <td>None</td>\n",
       "      <td>2</td>\n",
       "      <td>None</td>\n",
       "      <td>Citizens' Fleet</td>\n",
       "    </tr>\n",
       "    <tr>\n",
       "      <th>6</th>\n",
       "      <td>74-Z speeder bike</td>\n",
       "      <td>Aratech Repulsor Company</td>\n",
       "      <td>74-Z speeder bike</td>\n",
       "      <td>Speeder bike</td>\n",
       "      <td>3.3 meters</td>\n",
       "      <td>Pilot</td>\n",
       "      <td>None</td>\n",
       "      <td>['Galactic Republic', 'Galactic Empire', 'Impe...</td>\n",
       "    </tr>\n",
       "    <tr>\n",
       "      <th>7</th>\n",
       "      <td>773</td>\n",
       "      <td>Rothana Heavy Engineering</td>\n",
       "      <td>All Terrain Tactical Enforcer</td>\n",
       "      <td>Walker</td>\n",
       "      <td>22.02 meters</td>\n",
       "      <td>None</td>\n",
       "      <td>None</td>\n",
       "      <td>['Galactic Republic', 'Carnivore Battalion']</td>\n",
       "    </tr>\n",
       "    <tr>\n",
       "      <th>8</th>\n",
       "      <td>A-A4B truckspeeder</td>\n",
       "      <td>Trast Heavy Transports</td>\n",
       "      <td>A-A4B</td>\n",
       "      <td>['Landspeeder']</td>\n",
       "      <td>None</td>\n",
       "      <td>Pilot</td>\n",
       "      <td>None</td>\n",
       "      <td>White Worms</td>\n",
       "    </tr>\n",
       "    <tr>\n",
       "      <th>9</th>\n",
       "      <td>A/SF-01 B-wing starfighter</td>\n",
       "      <td>Slayn &amp; Korpil</td>\n",
       "      <td>A/SF-01 B-wing starfighter</td>\n",
       "      <td>Heavy assault starfighter</td>\n",
       "      <td>16.9 meters</td>\n",
       "      <td>Pilot</td>\n",
       "      <td>None</td>\n",
       "      <td>['Phoenix Cell', 'Alliance to Restore the Repu...</td>\n",
       "    </tr>\n",
       "    <tr>\n",
       "      <th>10</th>\n",
       "      <td>AA-9 Freighter-Liner</td>\n",
       "      <td>Botajef Shipyards</td>\n",
       "      <td>AA-9 Freighter-Liner</td>\n",
       "      <td>Freighter</td>\n",
       "      <td>390 meters</td>\n",
       "      <td>None</td>\n",
       "      <td>None</td>\n",
       "      <td>['Galactic Republic', 'Grand Army of the Repub...</td>\n",
       "    </tr>\n",
       "    <tr>\n",
       "      <th>11</th>\n",
       "      <td>AAL-1971/9.1 Troop Transport</td>\n",
       "      <td>Sienar-Jaemus Army Systems</td>\n",
       "      <td>AAL-1971/9.1</td>\n",
       "      <td>Troop transport</td>\n",
       "      <td>17.83 meters</td>\n",
       "      <td>['1 pilot', '1 gunner']</td>\n",
       "      <td>None</td>\n",
       "      <td>['First Order', 'First Order Navy', 'Resistanc...</td>\n",
       "    </tr>\n",
       "    <tr>\n",
       "      <th>12</th>\n",
       "      <td>Aayla Secura's Eta-2 Actis-class light interce...</td>\n",
       "      <td>Kuat Systems Engineering</td>\n",
       "      <td>Eta-2 Actis-class light interceptor</td>\n",
       "      <td>Starfighter</td>\n",
       "      <td>5.47 meters</td>\n",
       "      <td>['Pilot', 'Astromech droid']</td>\n",
       "      <td>Aayla Secura</td>\n",
       "      <td>None</td>\n",
       "    </tr>\n",
       "    <tr>\n",
       "      <th>13</th>\n",
       "      <td>Absolution</td>\n",
       "      <td>Kuat-Entralla Engineering</td>\n",
       "      <td>Resurgent-class Star Destroyer</td>\n",
       "      <td>['Battlecruiser', 'Star Destroyer']</td>\n",
       "      <td>['2', '915.81 meters']</td>\n",
       "      <td>['First Order officers', 'Enlisted', 'Stormtro...</td>\n",
       "      <td>None</td>\n",
       "      <td>['First Order', 'First Order Academy']</td>\n",
       "    </tr>\n",
       "    <tr>\n",
       "      <th>14</th>\n",
       "      <td>Acclamator I-class Assault Ship</td>\n",
       "      <td>None</td>\n",
       "      <td>Acclamator I-class Assault Ship</td>\n",
       "      <td>Assault ship</td>\n",
       "      <td>None</td>\n",
       "      <td>None</td>\n",
       "      <td>None</td>\n",
       "      <td>['Galactic Republic', 'Galactic Republic Navy']</td>\n",
       "    </tr>\n",
       "  </tbody>\n",
       "</table>\n",
       "</div>"
      ],
      "text/plain": [
       "                                         vehicle_name  \\\n",
       "0                              \"Changeling\" Mark 71NB   \n",
       "1                             125-Z treadspeeder bike   \n",
       "2                                               49AX3   \n",
       "3                                614-AvA speeder bike   \n",
       "4                                712-AvA speeder bike   \n",
       "5                                 720 light freighter   \n",
       "6                                   74-Z speeder bike   \n",
       "7                                                 773   \n",
       "8                                  A-A4B truckspeeder   \n",
       "9                          A/SF-01 B-wing starfighter   \n",
       "10                               AA-9 Freighter-Liner   \n",
       "11                       AAL-1971/9.1 Troop Transport   \n",
       "12  Aayla Secura's Eta-2 Actis-class light interce...   \n",
       "13                                         Absolution   \n",
       "14                    Acclamator I-class Assault Ship   \n",
       "\n",
       "                   manufacturer                                model  \\\n",
       "0             Ravager Mechanics               \"Changeling\" Mark 71NB   \n",
       "1   Aratech-Loratus Corporation               125-Z treadspeeder bik   \n",
       "2                          None      Dreadnought-class heavy cruiser   \n",
       "3      Aratech Repulsor Company                              614-AvA   \n",
       "4      Aratech Repulsor Company                              712-AvA   \n",
       "5             Ghtroc Industries                                  720   \n",
       "6      Aratech Repulsor Company                    74-Z speeder bike   \n",
       "7     Rothana Heavy Engineering        All Terrain Tactical Enforcer   \n",
       "8        Trast Heavy Transports                                A-A4B   \n",
       "9                Slayn & Korpil           A/SF-01 B-wing starfighter   \n",
       "10            Botajef Shipyards                 AA-9 Freighter-Liner   \n",
       "11   Sienar-Jaemus Army Systems                         AAL-1971/9.1   \n",
       "12     Kuat Systems Engineering  Eta-2 Actis-class light interceptor   \n",
       "13    Kuat-Entralla Engineering       Resurgent-class Star Destroyer   \n",
       "14                         None      Acclamator I-class Assault Ship   \n",
       "\n",
       "                                  class                  length  \\\n",
       "0                    Racing starfighter                    None   \n",
       "1                               Speeder             4.17 meters   \n",
       "2                         Heavy cruiser                    None   \n",
       "3                          Speeder bike              4.4 meters   \n",
       "4                          Speeder bike                    None   \n",
       "5                       Light freighter                    None   \n",
       "6                          Speeder bike              3.3 meters   \n",
       "7                                Walker            22.02 meters   \n",
       "8                       ['Landspeeder']                    None   \n",
       "9             Heavy assault starfighter            16.9 meters    \n",
       "10                            Freighter             390 meters    \n",
       "11                      Troop transport            17.83 meters   \n",
       "12                          Starfighter             5.47 meters   \n",
       "13  ['Battlecruiser', 'Star Destroyer']  ['2', '915.81 meters']   \n",
       "14                         Assault ship                    None   \n",
       "\n",
       "                                                 crew      owner(s)  \\\n",
       "0                                                  2           None   \n",
       "1                                                   1          None   \n",
       "2                                                None          None   \n",
       "3                                           ['Pilot']          None   \n",
       "4                                                None          None   \n",
       "5                                                   2          None   \n",
       "6                                              Pilot           None   \n",
       "7                                                None          None   \n",
       "8                                              Pilot           None   \n",
       "9                                              Pilot           None   \n",
       "10                                               None          None   \n",
       "11                            ['1 pilot', '1 gunner']          None   \n",
       "12                       ['Pilot', 'Astromech droid']  Aayla Secura   \n",
       "13  ['First Order officers', 'Enlisted', 'Stormtro...          None   \n",
       "14                                               None          None   \n",
       "\n",
       "                                          affiliation  \n",
       "0             ['Ace Squadron', 'Colossus resistance']  \n",
       "1                       ['First Order', 'Resistance']  \n",
       "2   ['Galactic Empire', 'Alliance to Restore the R...  \n",
       "3   ['Galactic Empire', 'Lothal resistance group',...  \n",
       "4                                                None  \n",
       "5                                     Citizens' Fleet  \n",
       "6   ['Galactic Republic', 'Galactic Empire', 'Impe...  \n",
       "7        ['Galactic Republic', 'Carnivore Battalion']  \n",
       "8                                         White Worms  \n",
       "9   ['Phoenix Cell', 'Alliance to Restore the Repu...  \n",
       "10  ['Galactic Republic', 'Grand Army of the Repub...  \n",
       "11  ['First Order', 'First Order Navy', 'Resistanc...  \n",
       "12                                               None  \n",
       "13             ['First Order', 'First Order Academy']  \n",
       "14    ['Galactic Republic', 'Galactic Republic Navy']  "
      ]
     },
     "execution_count": 5,
     "metadata": {},
     "output_type": "execute_result"
    }
   ],
   "source": [
    "# view sws\n",
    "sws.info()\n",
    "sws.head(15)"
   ]
  },
  {
   "attachments": {},
   "cell_type": "markdown",
   "metadata": {},
   "source": [
    "We've pulled in all spacecraft and spacecraft class information for the Star Trek, and we've pulled in all vehicles for Star Wars.  We will combine the Star Trek spacecraft with the classes where applicable.  We will then attempt to isolate only the spacecraft for Star Wars."
   ]
  },
  {
   "cell_type": "code",
   "execution_count": 6,
   "metadata": {},
   "outputs": [
    {
     "name": "stdout",
     "output_type": "stream",
     "text": [
      "<class 'pandas.core.frame.DataFrame'>\n",
      "RangeIndex: 1443 entries, 0 to 1442\n",
      "Data columns (total 3 columns):\n",
      " #   Column           Non-Null Count  Dtype \n",
      "---  ------           --------------  ----- \n",
      " 0   starship_name    1443 non-null   object\n",
      " 1   spacecraftClass  610 non-null    object\n",
      " 2   spc_updated      610 non-null    object\n",
      "dtypes: object(3)\n",
      "memory usage: 33.9+ KB\n"
     ]
    },
    {
     "data": {
      "text/html": [
       "<div>\n",
       "<style scoped>\n",
       "    .dataframe tbody tr th:only-of-type {\n",
       "        vertical-align: middle;\n",
       "    }\n",
       "\n",
       "    .dataframe tbody tr th {\n",
       "        vertical-align: top;\n",
       "    }\n",
       "\n",
       "    .dataframe thead th {\n",
       "        text-align: right;\n",
       "    }\n",
       "</style>\n",
       "<table border=\"1\" class=\"dataframe\">\n",
       "  <thead>\n",
       "    <tr style=\"text-align: right;\">\n",
       "      <th></th>\n",
       "      <th>starship_name</th>\n",
       "      <th>spacecraftClass</th>\n",
       "      <th>spc_updated</th>\n",
       "    </tr>\n",
       "  </thead>\n",
       "  <tbody>\n",
       "    <tr>\n",
       "      <th>0</th>\n",
       "      <td>042</td>\n",
       "      <td>{'name': 'Worker bee', 'uid': 'SCMA0000226396'}</td>\n",
       "      <td>Worker bee</td>\n",
       "    </tr>\n",
       "    <tr>\n",
       "      <th>1</th>\n",
       "      <td>208</td>\n",
       "      <td>{'name': 'Jumpship', 'uid': 'SCMA0000175103'}</td>\n",
       "      <td>Jumpship</td>\n",
       "    </tr>\n",
       "    <tr>\n",
       "      <th>2</th>\n",
       "      <td>313-C</td>\n",
       "      <td>None</td>\n",
       "      <td>None</td>\n",
       "    </tr>\n",
       "    <tr>\n",
       "      <th>3</th>\n",
       "      <td>5</td>\n",
       "      <td>None</td>\n",
       "      <td>None</td>\n",
       "    </tr>\n",
       "    <tr>\n",
       "      <th>4</th>\n",
       "      <td>ATW-11</td>\n",
       "      <td>{'name': 'UFP-02 type', 'uid': 'SCMA0000276004'}</td>\n",
       "      <td>UFP-02 type</td>\n",
       "    </tr>\n",
       "    <tr>\n",
       "      <th>5</th>\n",
       "      <td>Abaddon's space station</td>\n",
       "      <td>None</td>\n",
       "      <td>None</td>\n",
       "    </tr>\n",
       "    <tr>\n",
       "      <th>6</th>\n",
       "      <td>Adonis</td>\n",
       "      <td>{'name': 'Type 6A shuttlecraft', 'uid': 'SCMA0...</td>\n",
       "      <td>Type 6A shuttlecraft</td>\n",
       "    </tr>\n",
       "    <tr>\n",
       "      <th>7</th>\n",
       "      <td>Aeon</td>\n",
       "      <td>None</td>\n",
       "      <td>None</td>\n",
       "    </tr>\n",
       "    <tr>\n",
       "      <th>8</th>\n",
       "      <td>Akritirian maximum security detention facility</td>\n",
       "      <td>None</td>\n",
       "      <td>None</td>\n",
       "    </tr>\n",
       "    <tr>\n",
       "      <th>9</th>\n",
       "      <td>Aldara</td>\n",
       "      <td>{'name': 'Galor class', 'uid': 'SCMA0000002988'}</td>\n",
       "      <td>Galor class</td>\n",
       "    </tr>\n",
       "  </tbody>\n",
       "</table>\n",
       "</div>"
      ],
      "text/plain": [
       "                                    starship_name  \\\n",
       "0                                             042   \n",
       "1                                             208   \n",
       "2                                           313-C   \n",
       "3                                               5   \n",
       "4                                          ATW-11   \n",
       "5                         Abaddon's space station   \n",
       "6                                          Adonis   \n",
       "7                                            Aeon   \n",
       "8  Akritirian maximum security detention facility   \n",
       "9                                          Aldara   \n",
       "\n",
       "                                     spacecraftClass           spc_updated  \n",
       "0    {'name': 'Worker bee', 'uid': 'SCMA0000226396'}            Worker bee  \n",
       "1      {'name': 'Jumpship', 'uid': 'SCMA0000175103'}              Jumpship  \n",
       "2                                               None                  None  \n",
       "3                                               None                  None  \n",
       "4   {'name': 'UFP-02 type', 'uid': 'SCMA0000276004'}           UFP-02 type  \n",
       "5                                               None                  None  \n",
       "6  {'name': 'Type 6A shuttlecraft', 'uid': 'SCMA0...  Type 6A shuttlecraft  \n",
       "7                                               None                  None  \n",
       "8                                               None                  None  \n",
       "9   {'name': 'Galor class', 'uid': 'SCMA0000002988'}           Galor class  "
      ]
     },
     "execution_count": 6,
     "metadata": {},
     "output_type": "execute_result"
    }
   ],
   "source": [
    "# Start with renaming column names in both dataframes\n",
    "sts = sts.rename(columns={'name' : 'starship_name'})\n",
    "stsc = stsc.rename(columns= {'name' : 'starship_class'})\n",
    "\n",
    "# Start by pulling class name out of dictionary in Star Trek spacecraftClass\n",
    "\n",
    "sts['spc_updated'] = sts['spacecraftClass'].apply(lambda x: x.get('name') if isinstance(x,dict) else None)\n",
    "\n",
    "sts.info()\n",
    "sts.head(10)"
   ]
  },
  {
   "cell_type": "code",
   "execution_count": 7,
   "metadata": {},
   "outputs": [],
   "source": [
    "# Drop spacecraftClass from sts\n",
    "sts = sts[['starship_name', 'spc_updated']]\n",
    "\n",
    "# Drop species from stsc\n",
    "stsc = stsc[['starship_class', 'numberOfDecks', 'warpCapable']]"
   ]
  },
  {
   "cell_type": "code",
   "execution_count": 8,
   "metadata": {},
   "outputs": [],
   "source": [
    "# Add combine sts and stsc where applicable\n",
    "\n",
    "sts_merged = pd.merge(sts, stsc, how= 'left', left_on='spc_updated', right_on='starship_class')\n"
   ]
  },
  {
   "cell_type": "code",
   "execution_count": 9,
   "metadata": {},
   "outputs": [
    {
     "name": "stdout",
     "output_type": "stream",
     "text": [
      "<class 'pandas.core.frame.DataFrame'>\n",
      "Int64Index: 1503 entries, 0 to 1502\n",
      "Data columns (total 5 columns):\n",
      " #   Column          Non-Null Count  Dtype  \n",
      "---  ------          --------------  -----  \n",
      " 0   starship_name   1503 non-null   object \n",
      " 1   spc_updated     670 non-null    object \n",
      " 2   starship_class  670 non-null    object \n",
      " 3   numberOfDecks   113 non-null    float64\n",
      " 4   warpCapable     670 non-null    object \n",
      "dtypes: float64(1), object(4)\n",
      "memory usage: 70.5+ KB\n"
     ]
    },
    {
     "data": {
      "text/html": [
       "<div>\n",
       "<style scoped>\n",
       "    .dataframe tbody tr th:only-of-type {\n",
       "        vertical-align: middle;\n",
       "    }\n",
       "\n",
       "    .dataframe tbody tr th {\n",
       "        vertical-align: top;\n",
       "    }\n",
       "\n",
       "    .dataframe thead th {\n",
       "        text-align: right;\n",
       "    }\n",
       "</style>\n",
       "<table border=\"1\" class=\"dataframe\">\n",
       "  <thead>\n",
       "    <tr style=\"text-align: right;\">\n",
       "      <th></th>\n",
       "      <th>starship_name</th>\n",
       "      <th>spc_updated</th>\n",
       "      <th>starship_class</th>\n",
       "      <th>numberOfDecks</th>\n",
       "      <th>warpCapable</th>\n",
       "    </tr>\n",
       "  </thead>\n",
       "  <tbody>\n",
       "    <tr>\n",
       "      <th>0</th>\n",
       "      <td>042</td>\n",
       "      <td>Worker bee</td>\n",
       "      <td>Worker bee</td>\n",
       "      <td>NaN</td>\n",
       "      <td>False</td>\n",
       "    </tr>\n",
       "    <tr>\n",
       "      <th>1</th>\n",
       "      <td>042</td>\n",
       "      <td>Worker bee</td>\n",
       "      <td>Worker bee</td>\n",
       "      <td>NaN</td>\n",
       "      <td>False</td>\n",
       "    </tr>\n",
       "    <tr>\n",
       "      <th>2</th>\n",
       "      <td>208</td>\n",
       "      <td>Jumpship</td>\n",
       "      <td>Jumpship</td>\n",
       "      <td>NaN</td>\n",
       "      <td>False</td>\n",
       "    </tr>\n",
       "    <tr>\n",
       "      <th>3</th>\n",
       "      <td>313-C</td>\n",
       "      <td>None</td>\n",
       "      <td>NaN</td>\n",
       "      <td>NaN</td>\n",
       "      <td>NaN</td>\n",
       "    </tr>\n",
       "    <tr>\n",
       "      <th>4</th>\n",
       "      <td>5</td>\n",
       "      <td>None</td>\n",
       "      <td>NaN</td>\n",
       "      <td>NaN</td>\n",
       "      <td>NaN</td>\n",
       "    </tr>\n",
       "  </tbody>\n",
       "</table>\n",
       "</div>"
      ],
      "text/plain": [
       "  starship_name spc_updated starship_class  numberOfDecks warpCapable\n",
       "0           042  Worker bee     Worker bee            NaN       False\n",
       "1           042  Worker bee     Worker bee            NaN       False\n",
       "2           208    Jumpship       Jumpship            NaN       False\n",
       "3         313-C        None            NaN            NaN         NaN\n",
       "4             5        None            NaN            NaN         NaN"
      ]
     },
     "execution_count": 9,
     "metadata": {},
     "output_type": "execute_result"
    }
   ],
   "source": [
    "sts_merged.info()\n",
    "sts_merged.head()"
   ]
  },
  {
   "cell_type": "code",
   "execution_count": 10,
   "metadata": {},
   "outputs": [],
   "source": [
    "# Drop duplicate rows\n",
    "\n",
    "sts_updated = sts_merged.drop_duplicates(subset='starship_name')"
   ]
  },
  {
   "cell_type": "code",
   "execution_count": 11,
   "metadata": {},
   "outputs": [
    {
     "data": {
      "text/html": [
       "<div>\n",
       "<style scoped>\n",
       "    .dataframe tbody tr th:only-of-type {\n",
       "        vertical-align: middle;\n",
       "    }\n",
       "\n",
       "    .dataframe tbody tr th {\n",
       "        vertical-align: top;\n",
       "    }\n",
       "\n",
       "    .dataframe thead th {\n",
       "        text-align: right;\n",
       "    }\n",
       "</style>\n",
       "<table border=\"1\" class=\"dataframe\">\n",
       "  <thead>\n",
       "    <tr style=\"text-align: right;\">\n",
       "      <th></th>\n",
       "      <th>starship_name</th>\n",
       "      <th>spc_updated</th>\n",
       "      <th>starship_class</th>\n",
       "      <th>numberOfDecks</th>\n",
       "      <th>warpCapable</th>\n",
       "    </tr>\n",
       "  </thead>\n",
       "  <tbody>\n",
       "    <tr>\n",
       "      <th>0</th>\n",
       "      <td>042</td>\n",
       "      <td>Worker bee</td>\n",
       "      <td>Worker bee</td>\n",
       "      <td>NaN</td>\n",
       "      <td>False</td>\n",
       "    </tr>\n",
       "    <tr>\n",
       "      <th>2</th>\n",
       "      <td>208</td>\n",
       "      <td>Jumpship</td>\n",
       "      <td>Jumpship</td>\n",
       "      <td>NaN</td>\n",
       "      <td>False</td>\n",
       "    </tr>\n",
       "    <tr>\n",
       "      <th>3</th>\n",
       "      <td>313-C</td>\n",
       "      <td>None</td>\n",
       "      <td>NaN</td>\n",
       "      <td>NaN</td>\n",
       "      <td>NaN</td>\n",
       "    </tr>\n",
       "    <tr>\n",
       "      <th>4</th>\n",
       "      <td>5</td>\n",
       "      <td>None</td>\n",
       "      <td>NaN</td>\n",
       "      <td>NaN</td>\n",
       "      <td>NaN</td>\n",
       "    </tr>\n",
       "    <tr>\n",
       "      <th>5</th>\n",
       "      <td>ATW-11</td>\n",
       "      <td>UFP-02 type</td>\n",
       "      <td>UFP-02 type</td>\n",
       "      <td>NaN</td>\n",
       "      <td>False</td>\n",
       "    </tr>\n",
       "  </tbody>\n",
       "</table>\n",
       "</div>"
      ],
      "text/plain": [
       "  starship_name  spc_updated starship_class  numberOfDecks warpCapable\n",
       "0           042   Worker bee     Worker bee            NaN       False\n",
       "2           208     Jumpship       Jumpship            NaN       False\n",
       "3         313-C         None            NaN            NaN         NaN\n",
       "4             5         None            NaN            NaN         NaN\n",
       "5        ATW-11  UFP-02 type    UFP-02 type            NaN       False"
      ]
     },
     "execution_count": 11,
     "metadata": {},
     "output_type": "execute_result"
    }
   ],
   "source": [
    "sts_updated.head()"
   ]
  },
  {
   "cell_type": "code",
   "execution_count": 12,
   "metadata": {},
   "outputs": [],
   "source": [
    "# Reset index\n",
    "sts_updated = sts_updated.reset_index(drop=True)"
   ]
  },
  {
   "cell_type": "code",
   "execution_count": 13,
   "metadata": {},
   "outputs": [
    {
     "name": "stdout",
     "output_type": "stream",
     "text": [
      "<class 'pandas.core.frame.DataFrame'>\n",
      "RangeIndex: 1312 entries, 0 to 1311\n",
      "Data columns (total 5 columns):\n",
      " #   Column          Non-Null Count  Dtype  \n",
      "---  ------          --------------  -----  \n",
      " 0   starship_name   1312 non-null   object \n",
      " 1   spc_updated     527 non-null    object \n",
      " 2   starship_class  527 non-null    object \n",
      " 3   numberOfDecks   87 non-null     float64\n",
      " 4   warpCapable     527 non-null    object \n",
      "dtypes: float64(1), object(4)\n",
      "memory usage: 51.4+ KB\n"
     ]
    }
   ],
   "source": [
    "sts_updated.info()"
   ]
  },
  {
   "cell_type": "code",
   "execution_count": 14,
   "metadata": {},
   "outputs": [
    {
     "data": {
      "text/plain": [
       "California class        27\n",
       "Type 6A shuttlecraft    16\n",
       "Excelsior class         16\n",
       "Sovereign class         15\n",
       "Type 7 shuttlecraft     15\n",
       "                        ..\n",
       "Rev-12 type              1\n",
       "Ravinok type             1\n",
       "Kobheerian freighter     1\n",
       "Talarian warship         1\n",
       "Maymora class            1\n",
       "Name: starship_class, Length: 189, dtype: int64"
      ]
     },
     "execution_count": 14,
     "metadata": {},
     "output_type": "execute_result"
    }
   ],
   "source": [
    "# find out how many classes and counts of starships there are in star trek\n",
    "sts_count = sts_updated['starship_class'].value_counts()\n",
    "\n",
    "sts_count"
   ]
  },
  {
   "attachments": {},
   "cell_type": "markdown",
   "metadata": {},
   "source": [
    "It looks like there are 189 classes of starships in the Star Trek universe that have named ships.  The majority of those named ships are California Class, followed by smaller shuttlecraft."
   ]
  },
  {
   "cell_type": "code",
   "execution_count": 15,
   "metadata": {},
   "outputs": [
    {
     "data": {
      "text/html": [
       "<div>\n",
       "<style scoped>\n",
       "    .dataframe tbody tr th:only-of-type {\n",
       "        vertical-align: middle;\n",
       "    }\n",
       "\n",
       "    .dataframe tbody tr th {\n",
       "        vertical-align: top;\n",
       "    }\n",
       "\n",
       "    .dataframe thead th {\n",
       "        text-align: right;\n",
       "    }\n",
       "</style>\n",
       "<table border=\"1\" class=\"dataframe\">\n",
       "  <thead>\n",
       "    <tr style=\"text-align: right;\">\n",
       "      <th></th>\n",
       "      <th>vehicle_name</th>\n",
       "      <th>manufacturer</th>\n",
       "      <th>model</th>\n",
       "      <th>class</th>\n",
       "      <th>length</th>\n",
       "      <th>crew</th>\n",
       "      <th>owner(s)</th>\n",
       "      <th>affiliation</th>\n",
       "    </tr>\n",
       "  </thead>\n",
       "  <tbody>\n",
       "    <tr>\n",
       "      <th>0</th>\n",
       "      <td>\"Changeling\" Mark 71NB</td>\n",
       "      <td>Ravager Mechanics</td>\n",
       "      <td>\"Changeling\" Mark 71NB</td>\n",
       "      <td>Racing starfighter</td>\n",
       "      <td>None</td>\n",
       "      <td>2</td>\n",
       "      <td>None</td>\n",
       "      <td>['Ace Squadron', 'Colossus resistance']</td>\n",
       "    </tr>\n",
       "    <tr>\n",
       "      <th>1</th>\n",
       "      <td>125-Z treadspeeder bike</td>\n",
       "      <td>Aratech-Loratus Corporation</td>\n",
       "      <td>125-Z treadspeeder bik</td>\n",
       "      <td>Speeder</td>\n",
       "      <td>4.17 meters</td>\n",
       "      <td>1</td>\n",
       "      <td>None</td>\n",
       "      <td>['First Order', 'Resistance']</td>\n",
       "    </tr>\n",
       "    <tr>\n",
       "      <th>2</th>\n",
       "      <td>49AX3</td>\n",
       "      <td>None</td>\n",
       "      <td>Dreadnought-class heavy cruiser</td>\n",
       "      <td>Heavy cruiser</td>\n",
       "      <td>None</td>\n",
       "      <td>None</td>\n",
       "      <td>None</td>\n",
       "      <td>['Galactic Empire', 'Alliance to Restore the R...</td>\n",
       "    </tr>\n",
       "    <tr>\n",
       "      <th>3</th>\n",
       "      <td>614-AvA speeder bike</td>\n",
       "      <td>Aratech Repulsor Company</td>\n",
       "      <td>614-AvA</td>\n",
       "      <td>Speeder bike</td>\n",
       "      <td>4.4 meters</td>\n",
       "      <td>['Pilot']</td>\n",
       "      <td>None</td>\n",
       "      <td>['Galactic Empire', 'Lothal resistance group',...</td>\n",
       "    </tr>\n",
       "    <tr>\n",
       "      <th>4</th>\n",
       "      <td>712-AvA speeder bike</td>\n",
       "      <td>Aratech Repulsor Company</td>\n",
       "      <td>712-AvA</td>\n",
       "      <td>Speeder bike</td>\n",
       "      <td>None</td>\n",
       "      <td>None</td>\n",
       "      <td>None</td>\n",
       "      <td>None</td>\n",
       "    </tr>\n",
       "  </tbody>\n",
       "</table>\n",
       "</div>"
      ],
      "text/plain": [
       "              vehicle_name                 manufacturer  \\\n",
       "0   \"Changeling\" Mark 71NB            Ravager Mechanics   \n",
       "1  125-Z treadspeeder bike  Aratech-Loratus Corporation   \n",
       "2                    49AX3                         None   \n",
       "3     614-AvA speeder bike     Aratech Repulsor Company   \n",
       "4     712-AvA speeder bike     Aratech Repulsor Company   \n",
       "\n",
       "                             model               class       length  \\\n",
       "0           \"Changeling\" Mark 71NB  Racing starfighter         None   \n",
       "1           125-Z treadspeeder bik             Speeder  4.17 meters   \n",
       "2  Dreadnought-class heavy cruiser       Heavy cruiser         None   \n",
       "3                          614-AvA        Speeder bike   4.4 meters   \n",
       "4                          712-AvA        Speeder bike         None   \n",
       "\n",
       "        crew owner(s)                                        affiliation  \n",
       "0         2      None            ['Ace Squadron', 'Colossus resistance']  \n",
       "1          1     None                      ['First Order', 'Resistance']  \n",
       "2       None     None  ['Galactic Empire', 'Alliance to Restore the R...  \n",
       "3  ['Pilot']     None  ['Galactic Empire', 'Lothal resistance group',...  \n",
       "4       None     None                                               None  "
      ]
     },
     "execution_count": 15,
     "metadata": {},
     "output_type": "execute_result"
    }
   ],
   "source": [
    "sws.head()"
   ]
  },
  {
   "cell_type": "code",
   "execution_count": 16,
   "metadata": {},
   "outputs": [
    {
     "data": {
      "text/plain": [
       "Starfighter                               103\n",
       "Star Destroyer                             82\n",
       "Shuttle                                    62\n",
       "Frigate                                    49\n",
       "Transport                                  41\n",
       "                                         ... \n",
       "Purgill-class Star Cruiser                  1\n",
       "Drydock                                     1\n",
       "Warship                                     1\n",
       "['Armored transport', 'Repulsorcraft']      1\n",
       "['Repulsorcraft']                           1\n",
       "Name: class, Length: 240, dtype: int64"
      ]
     },
     "execution_count": 16,
     "metadata": {},
     "output_type": "execute_result"
    }
   ],
   "source": [
    "swscount = sws['class'].value_counts()\n",
    "swscount"
   ]
  },
  {
   "cell_type": "code",
   "execution_count": 17,
   "metadata": {},
   "outputs": [
    {
     "name": "stdout",
     "output_type": "stream",
     "text": [
      "<class 'pandas.core.frame.DataFrame'>\n",
      "Int64Index: 904 entries, 0 to 1048\n",
      "Data columns (total 8 columns):\n",
      " #   Column        Non-Null Count  Dtype \n",
      "---  ------        --------------  ----- \n",
      " 0   vehicle_name  904 non-null    object\n",
      " 1   manufacturer  904 non-null    object\n",
      " 2   model         904 non-null    object\n",
      " 3   class         904 non-null    object\n",
      " 4   length        904 non-null    object\n",
      " 5   crew          904 non-null    object\n",
      " 6   owner(s)      904 non-null    object\n",
      " 7   affiliation   904 non-null    object\n",
      "dtypes: object(8)\n",
      "memory usage: 63.6+ KB\n"
     ]
    },
    {
     "data": {
      "text/html": [
       "<div>\n",
       "<style scoped>\n",
       "    .dataframe tbody tr th:only-of-type {\n",
       "        vertical-align: middle;\n",
       "    }\n",
       "\n",
       "    .dataframe tbody tr th {\n",
       "        vertical-align: top;\n",
       "    }\n",
       "\n",
       "    .dataframe thead th {\n",
       "        text-align: right;\n",
       "    }\n",
       "</style>\n",
       "<table border=\"1\" class=\"dataframe\">\n",
       "  <thead>\n",
       "    <tr style=\"text-align: right;\">\n",
       "      <th></th>\n",
       "      <th>vehicle_name</th>\n",
       "      <th>manufacturer</th>\n",
       "      <th>model</th>\n",
       "      <th>class</th>\n",
       "      <th>length</th>\n",
       "      <th>crew</th>\n",
       "      <th>owner(s)</th>\n",
       "      <th>affiliation</th>\n",
       "    </tr>\n",
       "  </thead>\n",
       "  <tbody>\n",
       "    <tr>\n",
       "      <th>0</th>\n",
       "      <td>\"Changeling\" Mark 71NB</td>\n",
       "      <td>Ravager Mechanics</td>\n",
       "      <td>\"Changeling\" Mark 71NB</td>\n",
       "      <td>Racing starfighter</td>\n",
       "      <td>None</td>\n",
       "      <td>2</td>\n",
       "      <td>None</td>\n",
       "      <td>['Ace Squadron', 'Colossus resistance']</td>\n",
       "    </tr>\n",
       "    <tr>\n",
       "      <th>2</th>\n",
       "      <td>49AX3</td>\n",
       "      <td>None</td>\n",
       "      <td>Dreadnought-class heavy cruiser</td>\n",
       "      <td>Heavy cruiser</td>\n",
       "      <td>None</td>\n",
       "      <td>None</td>\n",
       "      <td>None</td>\n",
       "      <td>['Galactic Empire', 'Alliance to Restore the R...</td>\n",
       "    </tr>\n",
       "    <tr>\n",
       "      <th>5</th>\n",
       "      <td>720 light freighter</td>\n",
       "      <td>Ghtroc Industries</td>\n",
       "      <td>720</td>\n",
       "      <td>Light freighter</td>\n",
       "      <td>None</td>\n",
       "      <td>2</td>\n",
       "      <td>None</td>\n",
       "      <td>Citizens' Fleet</td>\n",
       "    </tr>\n",
       "    <tr>\n",
       "      <th>9</th>\n",
       "      <td>A/SF-01 B-wing starfighter</td>\n",
       "      <td>Slayn &amp; Korpil</td>\n",
       "      <td>A/SF-01 B-wing starfighter</td>\n",
       "      <td>Heavy assault starfighter</td>\n",
       "      <td>16.9 meters</td>\n",
       "      <td>Pilot</td>\n",
       "      <td>None</td>\n",
       "      <td>['Phoenix Cell', 'Alliance to Restore the Repu...</td>\n",
       "    </tr>\n",
       "    <tr>\n",
       "      <th>10</th>\n",
       "      <td>AA-9 Freighter-Liner</td>\n",
       "      <td>Botajef Shipyards</td>\n",
       "      <td>AA-9 Freighter-Liner</td>\n",
       "      <td>Freighter</td>\n",
       "      <td>390 meters</td>\n",
       "      <td>None</td>\n",
       "      <td>None</td>\n",
       "      <td>['Galactic Republic', 'Grand Army of the Repub...</td>\n",
       "    </tr>\n",
       "  </tbody>\n",
       "</table>\n",
       "</div>"
      ],
      "text/plain": [
       "                  vehicle_name       manufacturer  \\\n",
       "0       \"Changeling\" Mark 71NB  Ravager Mechanics   \n",
       "2                        49AX3               None   \n",
       "5          720 light freighter  Ghtroc Industries   \n",
       "9   A/SF-01 B-wing starfighter     Slayn & Korpil   \n",
       "10        AA-9 Freighter-Liner  Botajef Shipyards   \n",
       "\n",
       "                              model                      class        length  \\\n",
       "0            \"Changeling\" Mark 71NB         Racing starfighter          None   \n",
       "2   Dreadnought-class heavy cruiser              Heavy cruiser          None   \n",
       "5                               720            Light freighter          None   \n",
       "9        A/SF-01 B-wing starfighter  Heavy assault starfighter  16.9 meters    \n",
       "10             AA-9 Freighter-Liner                  Freighter   390 meters    \n",
       "\n",
       "      crew owner(s)                                        affiliation  \n",
       "0       2      None            ['Ace Squadron', 'Colossus resistance']  \n",
       "2     None     None  ['Galactic Empire', 'Alliance to Restore the R...  \n",
       "5        2     None                                    Citizens' Fleet  \n",
       "9   Pilot      None  ['Phoenix Cell', 'Alliance to Restore the Repu...  \n",
       "10    None     None  ['Galactic Republic', 'Grand Army of the Repub...  "
      ]
     },
     "execution_count": 17,
     "metadata": {},
     "output_type": "execute_result"
    }
   ],
   "source": [
    "# Let's start compiling and pulling out only spacecraft in star wars vehicles\n",
    "\n",
    "sws_1 = sws[sws['class'].str.contains('Speeder|speeder|Walker|walker|Submarine|submarine|Tank|tank|Landspeeder|landspeeder|Podracer|podracer|Skiff|skiff|Repulsorcraft|repulsorcraft') == False]\n",
    "\n",
    "sws_1.info()\n",
    "sws_1.head()"
   ]
  },
  {
   "cell_type": "code",
   "execution_count": 18,
   "metadata": {},
   "outputs": [
    {
     "data": {
      "text/plain": [
       "Starfighter                          103\n",
       "Star Destroyer                        82\n",
       "Shuttle                               62\n",
       "Frigate                               49\n",
       "Transport                             41\n",
       "                                    ... \n",
       "['Shuttle']                            1\n",
       "['Pursuit vessel', 'Starfighter']      1\n",
       "['Bulk freighter']                     1\n",
       "Swoop bike                             1\n",
       "['Racing', 'starfighter']              1\n",
       "Name: class, Length: 193, dtype: int64"
      ]
     },
     "execution_count": 18,
     "metadata": {},
     "output_type": "execute_result"
    }
   ],
   "source": [
    "# now let's get an updated count\n",
    "\n",
    "swscount2 = sws_1['class'].value_counts()\n",
    "\n",
    "swscount2"
   ]
  },
  {
   "attachments": {},
   "cell_type": "markdown",
   "metadata": {},
   "source": [
    "Let's take a look at how many classes each group has."
   ]
  },
  {
   "cell_type": "code",
   "execution_count": 19,
   "metadata": {},
   "outputs": [
    {
     "name": "stdout",
     "output_type": "stream",
     "text": [
      "<class 'pandas.core.series.Series'>\n",
      "Index: 189 entries, California class to Maymora class\n",
      "Series name: starship_class\n",
      "Non-Null Count  Dtype\n",
      "--------------  -----\n",
      "189 non-null    int64\n",
      "dtypes: int64(1)\n",
      "memory usage: 7.0+ KB\n",
      "<class 'pandas.core.series.Series'>\n",
      "Index: 193 entries, Starfighter to ['Racing', 'starfighter']\n",
      "Series name: class\n",
      "Non-Null Count  Dtype\n",
      "--------------  -----\n",
      "193 non-null    int64\n",
      "dtypes: int64(1)\n",
      "memory usage: 7.1+ KB\n"
     ]
    }
   ],
   "source": [
    "# Star Trek # of classes\n",
    "\n",
    "sts_count.info()\n",
    "\n",
    "# Star Wars # of classes\n",
    "\n",
    "swscount2.info()"
   ]
  },
  {
   "attachments": {},
   "cell_type": "markdown",
   "metadata": {},
   "source": [
    "Star Trek has 192 classes and Star Wars has 193.  Let's see if we can get breakdowns for top 10's"
   ]
  },
  {
   "cell_type": "code",
   "execution_count": 20,
   "metadata": {},
   "outputs": [
    {
     "name": "stdout",
     "output_type": "stream",
     "text": [
      "California class        27\n",
      "Type 6A shuttlecraft    16\n",
      "Excelsior class         16\n",
      "Sovereign class         15\n",
      "Type 7 shuttlecraft     15\n",
      "Class C shuttlecraft    14\n",
      "Type 15 shuttlepod      13\n",
      "Reliant class           11\n",
      "Type 6 shuttlecraft     10\n",
      "Constitution class      10\n",
      "Name: starship_class, dtype: int64\n",
      "Starfighter       103\n",
      "Star Destroyer     82\n",
      "Shuttle            62\n",
      "Frigate            49\n",
      "Transport          41\n",
      "Freighter          37\n",
      "Corvette           36\n",
      "Light cruiser      33\n",
      "Star Cruiser       32\n",
      "Cruiser            28\n",
      "Name: class, dtype: int64\n"
     ]
    }
   ],
   "source": [
    "# Star Trek top 10 spacecraft\n",
    "st_10 = sts_count.head(10)\n",
    "\n",
    "# Star Wars top 10 spacecraft\n",
    "sw_10 = swscount2.head(10)\n",
    "\n",
    "print(st_10)\n",
    "print(sw_10)"
   ]
  },
  {
   "cell_type": "code",
   "execution_count": 21,
   "metadata": {},
   "outputs": [
    {
     "data": {
      "image/png": "[encoded data removed]",
      "text/plain": [
       "<Figure size 640x480 with 1 Axes>"
      ]
     },
     "metadata": {},
     "output_type": "display_data"
    }
   ],
   "source": [
    "# Create bar chart for count of spacecraft classes Star Trek\n",
    "st_10.plot(kind='bar')\n",
    "plt.ylabel('Count of craft')\n",
    "plt.title('Top 10 Star Trek Spacecraft')\n",
    "plt.show()"
   ]
  },
  {
   "cell_type": "code",
   "execution_count": 22,
   "metadata": {},
   "outputs": [
    {
     "data": {
      "image/png": "[encoded data removed]",
      "text/plain": [
       "<Figure size 640x480 with 1 Axes>"
      ]
     },
     "metadata": {},
     "output_type": "display_data"
    }
   ],
   "source": [
    "# Create a bar chart for count of spacecraft for Star Wars\n",
    "sw_10.plot(kind='bar')\n",
    "plt.ylabel('Count of craft')\n",
    "plt.title('Top 10 Star Wars Spacecraft')\n",
    "plt.show()"
   ]
  },
  {
   "attachments": {},
   "cell_type": "markdown",
   "metadata": {},
   "source": [
    "The most common Star Trek class of spacecraft tend to be a class of large spacecraft, while the most promenient Star Wars spacecraft tend to be the smaller individual starfighters."
   ]
  },
  {
   "cell_type": "code",
   "execution_count": 23,
   "metadata": {},
   "outputs": [
    {
     "name": "stdout",
     "output_type": "stream",
     "text": [
      "<class 'pandas.core.frame.DataFrame'>\n",
      "RangeIndex: 1312 entries, 0 to 1311\n",
      "Data columns (total 5 columns):\n",
      " #   Column          Non-Null Count  Dtype  \n",
      "---  ------          --------------  -----  \n",
      " 0   starship_name   1312 non-null   object \n",
      " 1   spc_updated     527 non-null    object \n",
      " 2   starship_class  527 non-null    object \n",
      " 3   numberOfDecks   87 non-null     float64\n",
      " 4   warpCapable     527 non-null    object \n",
      "dtypes: float64(1), object(4)\n",
      "memory usage: 51.4+ KB\n",
      "<class 'pandas.core.frame.DataFrame'>\n",
      "Int64Index: 904 entries, 0 to 1048\n",
      "Data columns (total 8 columns):\n",
      " #   Column        Non-Null Count  Dtype \n",
      "---  ------        --------------  ----- \n",
      " 0   vehicle_name  904 non-null    object\n",
      " 1   manufacturer  904 non-null    object\n",
      " 2   model         904 non-null    object\n",
      " 3   class         904 non-null    object\n",
      " 4   length        904 non-null    object\n",
      " 5   crew          904 non-null    object\n",
      " 6   owner(s)      904 non-null    object\n",
      " 7   affiliation   904 non-null    object\n",
      "dtypes: object(8)\n",
      "memory usage: 63.6+ KB\n"
     ]
    }
   ],
   "source": [
    "# sts_updated and sws_1\n",
    "\n",
    "sts_updated.info()\n",
    "sws_1.info()"
   ]
  },
  {
   "cell_type": "code",
   "execution_count": 24,
   "metadata": {},
   "outputs": [
    {
     "name": "stdout",
     "output_type": "stream",
     "text": [
      "<class 'pandas.core.series.Series'>\n",
      "Float64Index: 14 entries, 34.0 to 11.0\n",
      "Series name: numberOfDecks\n",
      "Non-Null Count  Dtype\n",
      "--------------  -----\n",
      "14 non-null     int64\n",
      "dtypes: int64(1)\n",
      "memory usage: 224.0 bytes\n"
     ]
    },
    {
     "data": {
      "text/plain": [
       "34.0    16\n",
       "2.0     11\n",
       "22.0    11\n",
       "4.0     10\n",
       "13.0     8\n",
       "7.0      5\n",
       "5.0      5\n",
       "42.0     5\n",
       "8.0      4\n",
       "18.0     3\n",
       "Name: numberOfDecks, dtype: int64"
      ]
     },
     "execution_count": 24,
     "metadata": {},
     "output_type": "execute_result"
    }
   ],
   "source": [
    "# star trek spacecraft that have values in size \n",
    "st_deck = sts_updated['numberOfDecks'].value_counts()\n",
    "st_deck.info()\n",
    "st_deck.head(10)"
   ]
  },
  {
   "cell_type": "code",
   "execution_count": 25,
   "metadata": {},
   "outputs": [
    {
     "name": "stdout",
     "output_type": "stream",
     "text": [
      "The average number of decks is 16 in Star Trek\n",
      "The largest number of decks is 42 in Star Trek\n",
      "The smallest number of decks is 2 in Star Trek\n"
     ]
    }
   ],
   "source": [
    "# Star Trek sizes\n",
    "\n",
    "# Average\n",
    "st_deck_avg = sts_updated['numberOfDecks'].mean()\n",
    "print(f'The average number of decks is {st_deck_avg:.0f} in Star Trek')\n",
    "\n",
    "# Largest \n",
    "st_deck_large = sts_updated['numberOfDecks'].max()\n",
    "print(f'The largest number of decks is {st_deck_large:.0f} in Star Trek')\n",
    "\n",
    "# Smallest\n",
    "st_deck_small = sts_updated['numberOfDecks'].min()\n",
    "print(f'The smallest number of decks is {st_deck_small:.0f} in Star Trek')"
   ]
  },
  {
   "attachments": {},
   "cell_type": "markdown",
   "metadata": {},
   "source": [
    "87 Star Wars ships have sizes.  The sizes range from 2-42 decks.  Star Wars has 203 ships with sizes.  They are in length and not deck sizes. We will attempt to create a comparison."
   ]
  },
  {
   "cell_type": "code",
   "execution_count": 26,
   "metadata": {},
   "outputs": [],
   "source": [
    "# Create a kilometer to meter function\n",
    "\n",
    "def convert_to_meters(x):\n",
    "    if x == 'None':\n",
    "        return None\n",
    "    elif isinstance(x, str) and x.startswith('[') and x.endswith(']'):\n",
    "        x = ast.literal_eval(x)[-1]\n",
    "    elif 'dia' in x:\n",
    "        x = x.replace('dia', '')\n",
    "    elif 'long' in x:\n",
    "        x = x.replace('long', '')\n",
    "    elif '-' in x:\n",
    "        x = x.replace('—','')\n",
    "    if 'kilometer' in x:\n",
    "        return float(x.replace('kilometers', '').replace('kilometer', '')) * 1000\n",
    "    elif 'meter' in x:\n",
    "        return float(x.replace('meters', '').replace('meter', ''))\n",
    "    elif 'm' in x:\n",
    "        return (float(x.replace('m','')))\n",
    "    else:\n",
    "        return float(x)\n",
    "\n",
    "# Remove rows with \"just under\"\n",
    "sws_1 = sws_1[~sws_1['length'].str.contains('Just under 150')]\n",
    "sws_1 = sws_1[~sws_1['length'].str.contains('1250 ft')]\n",
    "sws_1 = sws_1[~sws_1['length'].str.contains('ca. 300')]\n",
    "sws_1 = sws_1[~sws_1['length'].str.contains('Around 50')]\n",
    "sws_1 = sws_1[~sws_1['length'].str.contains('with S-foils forward')]\n",
    "sws_1 = sws_1[~sws_1['length'].str.contains('500—600 ')]\n",
    "sws_1 = sws_1[~sws_1['length'].str.contains('–34.75 ')]\n",
    "sws_1 = sws_1[~sws_1['length'].str.contains('80 ft')]\n",
    "sws_1 = sws_1[~sws_1['length'].str.contains('Around 7.5 ')]\n",
    "# Run conversion\n",
    "sws_1['length2'] = sws_1['length'].apply(convert_to_meters)"
   ]
  },
  {
   "cell_type": "code",
   "execution_count": 36,
   "metadata": {},
   "outputs": [
    {
     "name": "stdout",
     "output_type": "stream",
     "text": [
      "<class 'pandas.core.series.Series'>\n",
      "Float64Index: 165 entries, 600.0 to 10.38\n",
      "Series name: length2\n",
      "Non-Null Count  Dtype\n",
      "--------------  -----\n",
      "165 non-null    int64\n",
      "dtypes: int64(1)\n",
      "memory usage: 2.6 KB\n"
     ]
    },
    {
     "data": {
      "text/plain": [
       "600.00    60\n",
       "20.00     19\n",
       "300.00    14\n",
       "29.67     13\n",
       "5.47      12\n",
       "Name: length2, dtype: int64"
      ]
     },
     "execution_count": 36,
     "metadata": {},
     "output_type": "execute_result"
    }
   ],
   "source": [
    "# Let's group together the sizes and see how many there are\n",
    "sw_sizes = sws_1['length2'].value_counts()\n",
    "sw_sizes.info()\n",
    "sw_sizes.head()"
   ]
  },
  {
   "cell_type": "code",
   "execution_count": 28,
   "metadata": {},
   "outputs": [
    {
     "name": "stdout",
     "output_type": "stream",
     "text": [
      "The average spaceship length is 233.88874626865672 meters in Star Wars\n",
      "The largest spaceship length is  2915.84 meters in Star Wars\n",
      "The smallest spaceship length is 2.6 meters in Star Wars\n"
     ]
    }
   ],
   "source": [
    "# Star Wars sizes\n",
    "\n",
    "# Average\n",
    "swsize_avg = sws_1['length2'].mean()\n",
    "print(f'The average spaceship length is {swsize_avg} meters in Star Wars')\n",
    "\n",
    "# Largest \n",
    "sw_large = sws_1['length2'].max()\n",
    "print(f'The largest spaceship length is  {sw_large} meters in Star Wars')\n",
    "\n",
    "# Smallest\n",
    "sw_min = (sws_1[sws_1['length2'] > 0.0]).min()\n",
    "sw_small = sw_min['length2']\n",
    "print(f'The smallest spaceship length is {sw_small} meters in Star Wars')"
   ]
  },
  {
   "cell_type": "code",
   "execution_count": 29,
   "metadata": {},
   "outputs": [
    {
     "data": {
      "image/png": "[encoded data removed]",
      "text/plain": [
       "<Figure size 640x480 with 1 Axes>"
      ]
     },
     "metadata": {},
     "output_type": "display_data"
    }
   ],
   "source": [
    "# Create graphs showing sizes for Star Trek\n",
    "\n",
    "# count number of decks\n",
    "\n",
    "st_deck.plot(kind='bar')\n",
    "plt.xlabel('Number of Decks')\n",
    "plt.ylabel('Count of Spaceships')\n",
    "plt.title('Star Trek Count of Spaceship Sizes')\n",
    "plt.show()"
   ]
  },
  {
   "cell_type": "code",
   "execution_count": 30,
   "metadata": {},
   "outputs": [
    {
     "data": {
      "image/png": "[encoded data removed]",
      "text/plain": [
       "<Figure size 640x480 with 1 Axes>"
      ]
     },
     "metadata": {},
     "output_type": "display_data"
    }
   ],
   "source": [
    "# Graph for Star Trek Mean, Max, and Min Deck Sizes\n",
    "\n",
    "plt.bar(['Average', 'Largest', 'Smallest'], [st_deck_avg, st_deck_large, st_deck_small])\n",
    "plt.ylabel('Number of Decks')\n",
    "plt.title('Star Trek Ship Sizes')\n",
    "plt.show()"
   ]
  },
  {
   "cell_type": "code",
   "execution_count": 31,
   "metadata": {},
   "outputs": [
    {
     "data": {
      "image/png": "[encoded data removed]",
      "text/plain": [
       "<Figure size 640x480 with 1 Axes>"
      ]
     },
     "metadata": {},
     "output_type": "display_data"
    }
   ],
   "source": [
    "# Create graphs for Star Wars sizes\n",
    "\n",
    "# Create a graph for head() counts\n",
    "sw_size_count = sw_sizes.head(10)\n",
    "\n",
    "sw_size_count.plot(kind='bar')\n",
    "plt.xlabel('Meters in Length')\n",
    "plt.ylabel('Count of Ships')\n",
    "plt.title('Star Wars Top 10 Ship Lengths')\n",
    "plt.show()\n",
    "\n",
    "\n"
   ]
  },
  {
   "cell_type": "code",
   "execution_count": 32,
   "metadata": {},
   "outputs": [
    {
     "data": {
      "image/png": "[encoded data removed]",
      "text/plain": [
       "<Figure size 640x480 with 1 Axes>"
      ]
     },
     "metadata": {},
     "output_type": "display_data"
    }
   ],
   "source": [
    "# Graph for Star Wars Mean, Max, Min\n",
    "\n",
    "plt.bar(['Average', 'Largest', 'Smallest'], [swsize_avg, sw_large, sw_small])\n",
    "plt.ylabel('Length in Meters')\n",
    "plt.title('Star Wars Ship Sizes')\n",
    "plt.show()\n"
   ]
  },
  {
   "cell_type": "code",
   "execution_count": 33,
   "metadata": {},
   "outputs": [
    {
     "data": {
      "text/html": [
       "<div>\n",
       "<style scoped>\n",
       "    .dataframe tbody tr th:only-of-type {\n",
       "        vertical-align: middle;\n",
       "    }\n",
       "\n",
       "    .dataframe tbody tr th {\n",
       "        vertical-align: top;\n",
       "    }\n",
       "\n",
       "    .dataframe thead th {\n",
       "        text-align: right;\n",
       "    }\n",
       "</style>\n",
       "<table border=\"1\" class=\"dataframe\">\n",
       "  <thead>\n",
       "    <tr style=\"text-align: right;\">\n",
       "      <th></th>\n",
       "      <th>starship_class</th>\n",
       "      <th>numberOfDecks</th>\n",
       "      <th>warpCapable</th>\n",
       "    </tr>\n",
       "  </thead>\n",
       "  <tbody>\n",
       "    <tr>\n",
       "      <th>235</th>\n",
       "      <td>Galaxy class</td>\n",
       "      <td>42.0</td>\n",
       "      <td>False</td>\n",
       "    </tr>\n",
       "    <tr>\n",
       "      <th>363</th>\n",
       "      <td>Malon export vessel</td>\n",
       "      <td>42.0</td>\n",
       "      <td>False</td>\n",
       "    </tr>\n",
       "  </tbody>\n",
       "</table>\n",
       "</div>"
      ],
      "text/plain": [
       "          starship_class  numberOfDecks  warpCapable\n",
       "235         Galaxy class           42.0        False\n",
       "363  Malon export vessel           42.0        False"
      ]
     },
     "execution_count": 33,
     "metadata": {},
     "output_type": "execute_result"
    }
   ],
   "source": [
    "decksize = 40\n",
    "\n",
    "largestdecks = stsc.loc[stsc['numberOfDecks'] >= decksize]\n",
    "\n",
    "largestdecks"
   ]
  },
  {
   "cell_type": "code",
   "execution_count": 34,
   "metadata": {},
   "outputs": [
    {
     "data": {
      "text/html": [
       "<div>\n",
       "<style scoped>\n",
       "    .dataframe tbody tr th:only-of-type {\n",
       "        vertical-align: middle;\n",
       "    }\n",
       "\n",
       "    .dataframe tbody tr th {\n",
       "        vertical-align: top;\n",
       "    }\n",
       "\n",
       "    .dataframe thead th {\n",
       "        text-align: right;\n",
       "    }\n",
       "</style>\n",
       "<table border=\"1\" class=\"dataframe\">\n",
       "  <thead>\n",
       "    <tr style=\"text-align: right;\">\n",
       "      <th></th>\n",
       "      <th>vehicle_name</th>\n",
       "      <th>manufacturer</th>\n",
       "      <th>model</th>\n",
       "      <th>class</th>\n",
       "      <th>length</th>\n",
       "      <th>crew</th>\n",
       "      <th>owner(s)</th>\n",
       "      <th>affiliation</th>\n",
       "      <th>length2</th>\n",
       "    </tr>\n",
       "  </thead>\n",
       "  <tbody>\n",
       "    <tr>\n",
       "      <th>298</th>\n",
       "      <td>Fellfire</td>\n",
       "      <td>None</td>\n",
       "      <td>Resurgent-class Star Destroyer</td>\n",
       "      <td>Star Destroyer</td>\n",
       "      <td>2915.84 meters</td>\n",
       "      <td>None</td>\n",
       "      <td>None</td>\n",
       "      <td>First Order</td>\n",
       "      <td>2915.84</td>\n",
       "    </tr>\n",
       "  </tbody>\n",
       "</table>\n",
       "</div>"
      ],
      "text/plain": [
       "    vehicle_name manufacturer                           model           class  \\\n",
       "298     Fellfire         None  Resurgent-class Star Destroyer  Star Destroyer   \n",
       "\n",
       "              length  crew owner(s)  affiliation  length2  \n",
       "298  2915.84 meters   None     None  First Order  2915.84  "
      ]
     },
     "execution_count": 34,
     "metadata": {},
     "output_type": "execute_result"
    }
   ],
   "source": [
    "biglength = 2800\n",
    "\n",
    "longestship = sws_1.loc[sws_1['length2'] >= biglength]\n",
    "\n",
    "longestship"
   ]
  },
  {
   "cell_type": "code",
   "execution_count": 37,
   "metadata": {},
   "outputs": [
    {
     "data": {
      "text/plain": [
       "5.47      12\n",
       "20.00     19\n",
       "29.67     13\n",
       "52.30     11\n",
       "90.00      8\n",
       "150.00     9\n",
       "300.00    14\n",
       "600.00    60\n",
       "825.00    10\n",
       "915.81    10\n",
       "Name: length2, dtype: int64"
      ]
     },
     "execution_count": 37,
     "metadata": {},
     "output_type": "execute_result"
    }
   ],
   "source": [
    "# Sort by size\n",
    "\n",
    "sw_size_order = sw_size_count.sort_index()\n",
    "sw_size_order"
   ]
  },
  {
   "cell_type": "code",
   "execution_count": 40,
   "metadata": {},
   "outputs": [
    {
     "data": {
      "image/png": "[encoded data removed]",
      "text/plain": [
       "<Figure size 640x480 with 1 Axes>"
      ]
     },
     "metadata": {},
     "output_type": "display_data"
    }
   ],
   "source": [
    "# Plot the updated graph\n",
    "\n",
    "sw_size_order.plot(kind='bar')\n",
    "plt.xlabel('Meters in Length')\n",
    "plt.ylabel('Count of Spaceships')\n",
    "plt.title('Star Wars Top 10 Spaceship Lengths')\n",
    "plt.show()"
   ]
  },
  {
   "cell_type": "code",
   "execution_count": 41,
   "metadata": {},
   "outputs": [
    {
     "data": {
      "image/png": "[encoded data removed]",
      "text/plain": [
       "<Figure size 640x480 with 1 Axes>"
      ]
     },
     "metadata": {},
     "output_type": "display_data"
    }
   ],
   "source": [
    "# Create update graphs showing sizes for Star Trek\n",
    "\n",
    "# Top 10 \n",
    "\n",
    "st_deck_10 = st_deck.head(10)\n",
    "\n",
    "# Sort by size\n",
    "\n",
    "st_deck_order = st_deck_10.sort_index()\n",
    "\n",
    "# count number of decks\n",
    "\n",
    "st_deck_order.plot(kind='bar')\n",
    "plt.xlabel('Number of Decks')\n",
    "plt.ylabel('Count of Spaceships')\n",
    "plt.title('Star Trek Top 10 Spaceship Sizes')\n",
    "plt.show()"
   ]
  },
  {
   "cell_type": "code",
   "execution_count": null,
   "metadata": {},
   "outputs": [],
   "source": []
  }
 ],
 "metadata": {
  "kernelspec": {
   "display_name": "base",
   "language": "python",
   "name": "python3"
  },
  "language_info": {
   "codemirror_mode": {
    "name": "ipython",
    "version": 3
   },
   "file_extension": ".py",
   "mimetype": "text/x-python",
   "name": "python",
   "nbconvert_exporter": "python",
   "pygments_lexer": "ipython3",
   "version": "3.10.9"
  },
  "orig_nbformat": 4
 },
 "nbformat": 4,
 "nbformat_minor": 2
}
