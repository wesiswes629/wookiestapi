{
 "cells": [
  {
   "cell_type": "code",
   "execution_count": 1,
   "metadata": {},
   "outputs": [],
   "source": [
    "import requests\n",
    "from bs4 import BeautifulSoup as BS\n",
    "import pandas as pd\n",
    "import pickle\n",
    "import re\n",
    "from tqdm import tqdm\n",
    "from pathlib import Path\n",
    "import urllib\n",
    "import pyarrow"
   ]
  },
  {
   "cell_type": "code",
   "execution_count": 2,
   "metadata": {},
   "outputs": [
    {
     "data": {
      "text/plain": [
       "[WindowsPath('../WPscraped/starwars_all_canon_data_1.pickle'),\n",
       " WindowsPath('../WPscraped/starwars_all_canon_data_2.pickle'),\n",
       " WindowsPath('../WPscraped/starwars_all_canon_data_3.pickle'),\n",
       " WindowsPath('../WPscraped/starwars_all_canon_data_4.pickle'),\n",
       " WindowsPath('../WPscraped/starwars_all_canon_data_5.pickle'),\n",
       " WindowsPath('../WPscraped/starwars_all_canon_data_6.pickle'),\n",
       " WindowsPath('../WPscraped/starwars_all_canon_data_7.pickle'),\n",
       " WindowsPath('../WPscraped/starwars_all_canon_data_8.pickle')]"
      ]
     },
     "execution_count": 2,
     "metadata": {},
     "output_type": "execute_result"
    }
   ],
   "source": [
    "files = sorted(Path('../WPscraped').glob('*.pickle'))\n",
    "files"
   ]
  },
  {
   "cell_type": "code",
   "execution_count": 3,
   "metadata": {},
   "outputs": [
    {
     "data": {
      "text/plain": [
       "39460"
      ]
     },
     "execution_count": 3,
     "metadata": {},
     "output_type": "execute_result"
    }
   ],
   "source": [
    "#create the dictionary to run\n",
    "data = {}\n",
    "for fn in files:\n",
    "    with open(fn, 'rb') as f:\n",
    "        part = pickle.load(f)\n",
    "    data.update(part)\n",
    "\n",
    "# The code is to open the data and to count to make sure all files in the .pickles are carried over\n",
    "len(data)"
   ]
  },
  {
   "cell_type": "code",
   "execution_count": 4,
   "metadata": {},
   "outputs": [],
   "source": [
    "#find the key in the dictionary\n",
    "def find_key(key_name, data):\n",
    "    for key, value in data.items():\n",
    "        if key_name == key:\n",
    "            return value\n",
    "        if isinstance(value, dict):\n",
    "            value = find_key(key_name, value)\n",
    "            if value is not None:\n",
    "                return value\n",
    "    return None\n",
    "\n",
    "def get_first(key_name, data):\n",
    "    result = find_key(key_name, data)\n",
    "    if isinstance(result, list):\n",
    "        result = result[0]\n",
    "    return result"
   ]
  },
  {
   "cell_type": "code",
   "execution_count": 5,
   "metadata": {},
   "outputs": [
    {
     "name": "stdout",
     "output_type": "stream",
     "text": [
      "{'url': 'https://starwars.fandom.com/wiki/Weequay', 'title': '\\n\\t\\t\\t\\t\\tWeequay\\t\\t\\t\\t', 'is_character': False, 'side_bar': {'Biological classification': {'Designation': 'Sentient'}, 'Physical characteristics': {'Average height': '1.89 meters', 'Skin color': ['Blue', 'Brown', 'Gray', 'Pink', 'Red', 'Yellow'], 'Hair color': ['Black', 'Blond', 'Gray'], 'Eye color': ['Black', 'Gold', 'Gray'], 'Distinctions': ['Tough', 'leathery skin', 'that provided resistance to blasterfire']}, 'Sociocultural characteristics': {'Homeworld': 'Sriluur', 'Habitat': 'Deserts'}}, 'paragraph': 'Weequays were a sentient species from the planet Sriluur common throughout the galaxy. Weequay possessed tough, leathery skin resistant to desert environments and blaster fire. Many Weequay were mercenaries, pirates, and bodyguards for the Hutt Clan. Notable Weequays included Hondo Ohnaka, who led the Ohnaka Gang, and the Jedi Sora Bulq.\\n', 'crosslinks': ['Hutt_Clan', 'Bodyguard', 'Bounty_hunter', 'Leather', 'Galactic_Republic', 'Jiro', 'Batuu', 'Ohnaka_Gang', 'Slavery', 'Gender', 'Houk', 'Skragg', 'Jedi', 'Ohnaka_Transport_Solutions', 'Rescue_of_Han_Solo', 'Planet', 'Confederacy_of_Independent_Systems', 'Imperial_Era', 'Clone_Wars', 'Galactic_Empire', 'Liberation_of_Lothal', 'Jedi_Order', 'Grievous', 'Alliance_to_Restore_the_Republic', 'Tempest_Runner', 'Mercenary', 'Nihil', 'Desert', 'Great_Pit_of_Carkoon', 'Pirate', 'High_Republic_Era', 'Spectres', 'Sora_Bulq', 'Kassav_Milliko', 'Gwarm', 'Species', 'Turk_Falso', 'Hondo_Ohnaka', 'Lothal', 'Sentience', 'Jabba_Desilijic_Tiure', 'Sriluur', 'General', 'Meter', 'Blaster', 'Color', 'Battle_of_Kur', 'Homeworld', 'The_galaxy', 'Pagetti_Rook', 'Canon', 'Mos_Pelgo_saloon', 'Houk%E2%80%93Weequay_wars', 'Que-Mars_Redath-Gom', 'Florrum', 'Taanti', 'Rintel_Aren', 'Death', 'Luke_Skywalker', 'Jedi_Knight', 'Force-sensitive']}\n"
     ]
    }
   ],
   "source": [
    "# test on the species Weequay\n",
    "\n",
    "print(data['Weequay'])"
   ]
  },
  {
   "cell_type": "code",
   "execution_count": 8,
   "metadata": {},
   "outputs": [
    {
     "name": "stdout",
     "output_type": "stream",
     "text": [
      "{'url': 'https://starwars.fandom.com/wiki/Rodian', 'title': '\\n\\t\\t\\t\\t\\tRodian\\t\\t\\t\\t', 'is_character': False, 'side_bar': {'Biological classification': {'Designation': 'Sentien', 'Classification': 'Reptilian'}, 'Physical characteristics': {'Average height': '1.75 meters', 'Skin color': ['Usually green', 'sometimes yellow', 'red', 'or turquoise'], 'Eye color': ['Usually blue', 'black or purple', 'sometimes red', 'or green'], 'Distinctions': ['Large and round pupil-less eyes', 'snouts', 'pointed ears', 'antennae', 'scaled and usually green skin']}, 'Sociocultural characteristics': {'Homeworld': 'Rodia', 'Habitat': 'Swamps', 'Language': ['Galactic Basic Standard', 'Rodian']}}, 'paragraph': \"Rodians were green-skinned reptilian humanoids native to the planet Rodia. During the Clone Wars, Rodia was represented by Senator Onaconda Farr in the Galactic Republic's senate. He briefly sided with the Trade Federation during the war, under the promise of food and protection from pirates. Rodia was betrayed, and fell back in line with the Republic. A number of Rodians acted as bounty hunters, including Greedo and Jakoli. Greedo was an amateur eventually killed by the smuggler Han Solo, while Jakoli was a skilled bounty hunter who only killed his targets. Some Rodians also worked as informants, such as Tsoklo, who worked for the Galactic Empire.\\n\", 'crosslinks': ['Galactic_Republic', 'Cybernetics', 'Jedi', 'Jungle', 'Galactic_Empire', 'Hunting', 'Mission_to_Rodia_(Luke_Skywalker)', 'Language', 'Infrared', 'Alliance_to_Restore_the_Republic', 'Jedi_Master', 'Spectres', 'Littles', 'Dooku', 'Crime_lord', 'Galactic_Basic_Standard', 'Padm%C3%A9_Amidala', 'Yogar_Lyste', 'Qi%27ra', 'Foodstuff', 'Homeworld', 'Bounty', 'Blood', 'Reptile', 'Oxygen', 'Hallisara', 'Box', 'Marda_Ro', 'Factory', 'Ferdan', 'Death', 'Battle_of_Yavin', 'Lothal_re-settlement_camp_43', 'Savareen', 'Poe_Dameron_6', 'Chekkoo_clan', 'Youngling', 'Farmer', 'Planet', 'Humanoid', 'Realspace', 'Pirate', 'Tatooine', 'AppSci_SaberCats', 'Swamp', 'Cad_Bane', 'Order_66', 'Lightsaber', 'Home_One', 'Eye', 'Meter', 'Imperial_Information_Office', 'Jar_Jar_Binks', 'Human', 'Rescue_of_Tseebo', 'Rodia', 'Tournament_on_Serenno', 'Luke_Skywalker', 'Smuggler', 'Viceroy', 'Enfys_Nest', 'Yoda', 'Breath_mask', 'Chattza_clan', 'Kevmo_Zink', 'Clone_Wars', 'Tsoklo', 'Galactic_Senate', 'Alien', 'Pantoran', 'Galactic_Civil_War', 'Path_of_the_Open_Hand', 'Han_Solo', 'Chalmun%27s_Spaceport_Cantina', 'Plant', 'Bone', 'Huulik', 'Hutt', 'Lothal', 'Sentience', 'Ghest', 'Trade_Federation', 'Tseebo', 'Rodian_(language)', 'Hair', 'The_Force', 'Limb', 'Tapir', 'Information_broker', 'Canon', 'Clouzon-36', 'Gungan', 'Antenna', 'Count', 'Greeata_Jendowanian', 'Bounty_hunter', 'Cloud-Riders', 'Gender', 'Betu', 'Battle_droid', 'Tsuulo', 'Aide', 'Onaconda_Farr', 'Padawan', 'Lolo_Purs', 'Ear', 'High_Republic_Era', 'Ruwee_Naberrie', 'Kyber_memory_crystal', 'Flestic_Crupp', 'Star', 'Species', 'Jakoli', 'Chussido', 'Morseerian', 'Jabba_Desilijic_Tiure', 'Nute_Gunray', 'Naboo', 'Color', 'Senator', 'Perfume', 'The_galaxy', 'Dalna', 'Mission_to_Rodia', 'Bolla_Ropal', 'Grav-ball', 'Anakin_Skywalker', 'Supply_Master', 'Greedo', 'Frid_Kelio', 'Capital_City', 'Nose', 'Force-sensitive']}\n"
     ]
    }
   ],
   "source": [
    "# test on the species Rodian\n",
    "\n",
    "print(data['Rodian'])"
   ]
  },
  {
   "cell_type": "code",
   "execution_count": 9,
   "metadata": {},
   "outputs": [
    {
     "name": "stdout",
     "output_type": "stream",
     "text": [
      "{'url': 'https://starwars.fandom.com/wiki/Zabrak', 'title': '\\n\\t\\t\\t\\t\\tZabrak\\t\\t\\t\\t', 'is_character': False, 'side_bar': {'Biological classification': {'Designation': 'Sentient', 'Classification': 'Near-human', 'Subspecies': ['Dathomirian', 'Iridonian']}, 'Physical characteristics': {'Skin color': ['Light to dark tones', 'orange', 'red', 'yellow'], 'Hair color': ['Black', 'Dark blue', 'Purple'], 'Distinctions': ['Vestigial horns', 'two hearts', 'facial tattoo']}, 'Sociocultural characteristics': {'Homeworld': ['Iridonia', 'Dathomir'], 'Diet': 'Carnivorous', 'Language': 'Zabraki'}}, 'paragraph': 'Zabraks were a near-human carnivorous species native to the planets Iridonia and Dathomir. Most members of the species had distinctive horns atop their heads, as well as two hearts. Although most Zabraks lived on Iridonia, some settled on the planet Dathomir, where the females of the species, known as Nightsisters, ruled over the Nightbrother males and practiced powerful dark side magick. Notably, female Dathomirian Zabraks lacked the cranial horns shared by the rest of the species.\\n', 'crosslinks': ['Yoda', 'Bounty_hunter', 'Galactic_Republic', 'Tattoo', 'Scout', 'First_Order', 'Gender', 'Agen_Kolar', 'Jedi', 'Zabraki', 'Planet', 'Bounty_Hunters%27_Guild', 'Clone_Wars', 'Nevarro', 'Shadow_Collective', 'Sorgan', 'Galactic_Empire', 'Jedi_Order', 'Dok-Ondar%27s_Den_of_Antiquities', 'Deva_Lompop', 'Alliance_to_Restore_the_Republic', 'Jedi_Master', 'Mercenary', 'Leia_Skywalker_Organa_Solo', 'Maul', 'Resistance', 'Nightsisters', 'Mandalore', 'Jedi_High_Council', 'Near-human', '9_ABY', 'Species', 'Republic_Era', 'Uprising', 'Dark_side_of_the_Force', 'Eeth_Koth', 'Diet', 'Gor_Koresh', 'Sentience', 'Proclamation_of_the_New_Order', 'Savage_Opress', 'Magick', 'Qui-Gon_Jinn', 'Zubain_Ankonori', 'Color', 'Anoat_sector', 'Iridonian', 'Homeworld', 'The_galaxy', 'The_Force', 'Heart', 'Nightbrothers', 'Dathomir', 'Dathomirian', 'Canon', 'New_Republic', 'Blood', 'Blockade', 'Sith', 'Anakin_Skywalker', 'Hosnian_Cataclysm', 'Oxygen', 'Sugi_(bounty_hunter)', 'Iron_Blockade', 'The_Smuggler', 'Unidentified_Zabrak_bartender%27s_father', 'Hologram', 'Jas_Emari', 'Iridonia', 'Force-sensitive']}\n"
     ]
    }
   ],
   "source": [
    "# test on the species Zabrak\n",
    "\n",
    "print(data['Zabrak'])"
   ]
  },
  {
   "cell_type": "code",
   "execution_count": 23,
   "metadata": {},
   "outputs": [],
   "source": [
    "# Create an empty dictionary to store the species data\n",
    "species_dict = {}\n",
    "\n",
    "# Loop through each key in the dictionary\n",
    "for key in data:\n",
    "    # Check if the item contains \"Biological classification\" in its side bar before extracting data\n",
    "    if \"Biological classification\" in data[key][\"side_bar\"]:\n",
    "        # Extract the planet name from the title column\n",
    "        species_name = data[key][\"title\"].strip()\n",
    "\n",
    "        # Extract the Designation value from the Biological classification section\n",
    "        designation = data[key][\"side_bar\"][\"Biological classification\"].get(\"Designation\", None) \n",
    "\n",
    "        # Extract the Classification value from the Biological classification section\n",
    "        classification = data[key][\"side_bar\"][\"Biological classification\"].get(\"Classification\", None)\n",
    "\n",
    "        # Check if \"Physical characteristics\" exists in side_bar before trying to access it\n",
    "        if \"Physical characteristics\" in data[key][\"side_bar\"]:\n",
    "            # Extract the Height value from the Physical characteristics section\n",
    "            height = data[key][\"side_bar\"][\"Physical characteristics\"].get(\"Height\", None) \n",
    "\n",
    "            # Extract the Skin color value from the Biological classification section\n",
    "            skin_color = data[key][\"side_bar\"][\"Physical characteristics\"].get(\"Skin color\", None)\n",
    "\n",
    "            # Extract the Hair color value from the Biological classification section\n",
    "            hair_color = data[key][\"side_bar\"][\"Physical characteristics\"].get(\"Hair color\", None)\n",
    "\n",
    "            # Extract the Distinctions value from the Biological classification section\n",
    "            distinctions = data[key][\"side_bar\"][\"Physical characteristics\"].get(\"Distinctions\", None)\n",
    "\n",
    "        # Check if \"Sociocultural characteristics\" exists in side_bar before trying to access it\n",
    "        if \"Sociocultural characteristics\" in data[key][\"side_bar\"]:\n",
    "            # Extract the Homeworld value from the Sociocultural characteristics section\n",
    "            homeworld = data[key][\"side_bar\"][\"Sociocultural characteristics\"].get(\"Homeworld\", None)\n",
    "\n",
    "            # Extract the Language value from the Sociocultural characteristics section\n",
    "            language = data[key][\"side_bar\"][\"Sociocultural characteristics\"].get(\"Language\", None)\n",
    "\n",
    "            # Create a dictionary with all of the species's data\n",
    "            species = {\n",
    "                \"designation\": designation,\n",
    "                \"classification\": classification,\n",
    "                \"height\": height,\n",
    "                \"skin_color\": skin_color,\n",
    "                \"hair_color\": hair_color,\n",
    "                \"distinctions\": distinctions,\n",
    "                \"homeworld\": homeworld,\n",
    "                \"language\": language\n",
    "                }\n",
    "\n",
    "            # Add the planet's name and its corresponding dictionary to our main dictionary\n",
    "            species_dict[species_name] = species\n"
   ]
  },
  {
   "attachments": {},
   "cell_type": "markdown",
   "metadata": {},
   "source": [
    "Go back and check designation for \"sentient\".  there is a sentien.  update."
   ]
  },
  {
   "cell_type": "code",
   "execution_count": 26,
   "metadata": {},
   "outputs": [],
   "source": [
    "# create a dataframe from the species dictionary\n",
    "species_df = pd.DataFrame(species_dict)\n",
    "\n",
    "# transpose dataframe\n",
    "species_df = species_df.T"
   ]
  },
  {
   "cell_type": "code",
   "execution_count": 27,
   "metadata": {},
   "outputs": [
    {
     "data": {
      "text/html": [
       "<div>\n",
       "<style scoped>\n",
       "    .dataframe tbody tr th:only-of-type {\n",
       "        vertical-align: middle;\n",
       "    }\n",
       "\n",
       "    .dataframe tbody tr th {\n",
       "        vertical-align: top;\n",
       "    }\n",
       "\n",
       "    .dataframe thead th {\n",
       "        text-align: right;\n",
       "    }\n",
       "</style>\n",
       "<table border=\"1\" class=\"dataframe\">\n",
       "  <thead>\n",
       "    <tr style=\"text-align: right;\">\n",
       "      <th></th>\n",
       "      <th>designation</th>\n",
       "      <th>classification</th>\n",
       "      <th>height</th>\n",
       "      <th>skin_color</th>\n",
       "      <th>hair_color</th>\n",
       "      <th>distinctions</th>\n",
       "      <th>homeworld</th>\n",
       "      <th>language</th>\n",
       "    </tr>\n",
       "  </thead>\n",
       "  <tbody>\n",
       "    <tr>\n",
       "      <th>Abednedo</th>\n",
       "      <td>Sentient</td>\n",
       "      <td>None</td>\n",
       "      <td>None</td>\n",
       "      <td>[Brown, Cream, Gray, Orange, Pink, Tan]</td>\n",
       "      <td>[Blond, Brown, Gray, White]</td>\n",
       "      <td>Dangling mouth tendrils</td>\n",
       "      <td>Abednedo</td>\n",
       "      <td>Abednedish</td>\n",
       "    </tr>\n",
       "    <tr>\n",
       "      <th>Abersyn symbiote</th>\n",
       "      <td>Sentien</td>\n",
       "      <td>[Parasite, Symbiote]</td>\n",
       "      <td>None</td>\n",
       "      <td>[Brown, Cream, Gray, Orange, Pink, Tan]</td>\n",
       "      <td>[Blond, Brown, Gray, White]</td>\n",
       "      <td>Dangling mouth tendrils</td>\n",
       "      <td>None</td>\n",
       "      <td>None</td>\n",
       "    </tr>\n",
       "    <tr>\n",
       "      <th>Abyssin</th>\n",
       "      <td>Sentient</td>\n",
       "      <td>None</td>\n",
       "      <td>None</td>\n",
       "      <td>[Blue, Green]</td>\n",
       "      <td>Green and white</td>\n",
       "      <td>[Cycloptic, regenerative abilities]</td>\n",
       "      <td>Byss</td>\n",
       "      <td>None</td>\n",
       "    </tr>\n",
       "    <tr>\n",
       "      <th>Accipiptero</th>\n",
       "      <td>None</td>\n",
       "      <td>Reptavian</td>\n",
       "      <td>None</td>\n",
       "      <td>Brown</td>\n",
       "      <td>None</td>\n",
       "      <td>None</td>\n",
       "      <td>Dagobah</td>\n",
       "      <td>None</td>\n",
       "    </tr>\n",
       "    <tr>\n",
       "      <th>Acklay</th>\n",
       "      <td>Non-sentient</td>\n",
       "      <td>Amphibious crustacean</td>\n",
       "      <td>None</td>\n",
       "      <td>Green</td>\n",
       "      <td>None</td>\n",
       "      <td>[Grappling hands, Stretchy stomachs, Razor-sha...</td>\n",
       "      <td>Vendaxa</td>\n",
       "      <td>None</td>\n",
       "    </tr>\n",
       "    <tr>\n",
       "      <th>...</th>\n",
       "      <td>...</td>\n",
       "      <td>...</td>\n",
       "      <td>...</td>\n",
       "      <td>...</td>\n",
       "      <td>...</td>\n",
       "      <td>...</td>\n",
       "      <td>...</td>\n",
       "      <td>...</td>\n",
       "    </tr>\n",
       "    <tr>\n",
       "      <th>Zhell</th>\n",
       "      <td>Sentient</td>\n",
       "      <td>None</td>\n",
       "      <td>None</td>\n",
       "      <td>Brown</td>\n",
       "      <td>None</td>\n",
       "      <td>None</td>\n",
       "      <td>Coruscant</td>\n",
       "      <td>None</td>\n",
       "    </tr>\n",
       "    <tr>\n",
       "      <th>Zillo Beast</th>\n",
       "      <td>Semi-sentient</td>\n",
       "      <td>Reptile</td>\n",
       "      <td>None</td>\n",
       "      <td>[Brown, Orange, Tan]</td>\n",
       "      <td>None</td>\n",
       "      <td>None</td>\n",
       "      <td>Malastare</td>\n",
       "      <td>None</td>\n",
       "    </tr>\n",
       "    <tr>\n",
       "      <th>Zixon</th>\n",
       "      <td>Sentient</td>\n",
       "      <td>None</td>\n",
       "      <td>None</td>\n",
       "      <td>None</td>\n",
       "      <td>Green</td>\n",
       "      <td>None</td>\n",
       "      <td>Minfar</td>\n",
       "      <td>Galactic Basic Standard</td>\n",
       "    </tr>\n",
       "    <tr>\n",
       "      <th>Zombie</th>\n",
       "      <td>None</td>\n",
       "      <td>None</td>\n",
       "      <td>None</td>\n",
       "      <td>None</td>\n",
       "      <td>Green</td>\n",
       "      <td>None</td>\n",
       "      <td>[Dandoran, Dathomir, Ktath'atn, Geonosis, Gloam]</td>\n",
       "      <td>None</td>\n",
       "    </tr>\n",
       "    <tr>\n",
       "      <th>Zygerrian</th>\n",
       "      <td>Sentient</td>\n",
       "      <td>Feline</td>\n",
       "      <td>None</td>\n",
       "      <td>None</td>\n",
       "      <td>[Blue, Brown, Gray, Pink, Red]</td>\n",
       "      <td>None</td>\n",
       "      <td>Zygerria</td>\n",
       "      <td>Galactic Basic Standard</td>\n",
       "    </tr>\n",
       "  </tbody>\n",
       "</table>\n",
       "<p>1051 rows × 8 columns</p>\n",
       "</div>"
      ],
      "text/plain": [
       "                    designation         classification height  \\\n",
       "Abednedo               Sentient                   None   None   \n",
       "Abersyn symbiote        Sentien   [Parasite, Symbiote]   None   \n",
       "Abyssin                Sentient                   None   None   \n",
       "Accipiptero                None              Reptavian   None   \n",
       "Acklay             Non-sentient  Amphibious crustacean   None   \n",
       "...                         ...                    ...    ...   \n",
       "Zhell                  Sentient                   None   None   \n",
       "Zillo Beast       Semi-sentient                Reptile   None   \n",
       "Zixon                  Sentient                   None   None   \n",
       "Zombie                     None                   None   None   \n",
       "Zygerrian              Sentient                 Feline   None   \n",
       "\n",
       "                                               skin_color  \\\n",
       "Abednedo          [Brown, Cream, Gray, Orange, Pink, Tan]   \n",
       "Abersyn symbiote  [Brown, Cream, Gray, Orange, Pink, Tan]   \n",
       "Abyssin                                     [Blue, Green]   \n",
       "Accipiptero                                         Brown   \n",
       "Acklay                                              Green   \n",
       "...                                                   ...   \n",
       "Zhell                                               Brown   \n",
       "Zillo Beast                          [Brown, Orange, Tan]   \n",
       "Zixon                                                None   \n",
       "Zombie                                               None   \n",
       "Zygerrian                                            None   \n",
       "\n",
       "                                      hair_color  \\\n",
       "Abednedo             [Blond, Brown, Gray, White]   \n",
       "Abersyn symbiote     [Blond, Brown, Gray, White]   \n",
       "Abyssin                          Green and white   \n",
       "Accipiptero                                 None   \n",
       "Acklay                                      None   \n",
       "...                                          ...   \n",
       "Zhell                                       None   \n",
       "Zillo Beast                                 None   \n",
       "Zixon                                      Green   \n",
       "Zombie                                     Green   \n",
       "Zygerrian         [Blue, Brown, Gray, Pink, Red]   \n",
       "\n",
       "                                                       distinctions  \\\n",
       "Abednedo                                    Dangling mouth tendrils   \n",
       "Abersyn symbiote                            Dangling mouth tendrils   \n",
       "Abyssin                         [Cycloptic, regenerative abilities]   \n",
       "Accipiptero                                                    None   \n",
       "Acklay            [Grappling hands, Stretchy stomachs, Razor-sha...   \n",
       "...                                                             ...   \n",
       "Zhell                                                          None   \n",
       "Zillo Beast                                                    None   \n",
       "Zixon                                                          None   \n",
       "Zombie                                                         None   \n",
       "Zygerrian                                                      None   \n",
       "\n",
       "                                                         homeworld  \\\n",
       "Abednedo                                                  Abednedo   \n",
       "Abersyn symbiote                                              None   \n",
       "Abyssin                                                       Byss   \n",
       "Accipiptero                                                Dagobah   \n",
       "Acklay                                                     Vendaxa   \n",
       "...                                                            ...   \n",
       "Zhell                                                    Coruscant   \n",
       "Zillo Beast                                              Malastare   \n",
       "Zixon                                                       Minfar   \n",
       "Zombie            [Dandoran, Dathomir, Ktath'atn, Geonosis, Gloam]   \n",
       "Zygerrian                                                 Zygerria   \n",
       "\n",
       "                                 language  \n",
       "Abednedo                       Abednedish  \n",
       "Abersyn symbiote                     None  \n",
       "Abyssin                              None  \n",
       "Accipiptero                          None  \n",
       "Acklay                               None  \n",
       "...                                   ...  \n",
       "Zhell                                None  \n",
       "Zillo Beast                          None  \n",
       "Zixon             Galactic Basic Standard  \n",
       "Zombie                               None  \n",
       "Zygerrian         Galactic Basic Standard  \n",
       "\n",
       "[1051 rows x 8 columns]"
      ]
     },
     "execution_count": 27,
     "metadata": {},
     "output_type": "execute_result"
    }
   ],
   "source": [
    "species_df"
   ]
  },
  {
   "cell_type": "code",
   "execution_count": 28,
   "metadata": {},
   "outputs": [
    {
     "name": "stdout",
     "output_type": "stream",
     "text": [
      "<class 'pandas.core.frame.DataFrame'>\n",
      "Index: 1051 entries, Abednedo to Zygerrian\n",
      "Data columns (total 8 columns):\n",
      " #   Column          Non-Null Count  Dtype \n",
      "---  ------          --------------  ----- \n",
      " 0   designation     733 non-null    object\n",
      " 1   classification  676 non-null    object\n",
      " 2   height          0 non-null      object\n",
      " 3   skin_color      688 non-null    object\n",
      " 4   hair_color      262 non-null    object\n",
      " 5   distinctions    701 non-null    object\n",
      " 6   homeworld       989 non-null    object\n",
      " 7   language        179 non-null    object\n",
      "dtypes: object(8)\n",
      "memory usage: 73.9+ KB\n"
     ]
    }
   ],
   "source": [
    "species_df.info()"
   ]
  },
  {
   "cell_type": "code",
   "execution_count": 30,
   "metadata": {},
   "outputs": [],
   "source": [
    "# convert columns with lists to string\n",
    "species_df['designation'] = species_df['designation'].astype('str')\n",
    "species_df['classification'] = species_df['classification'].astype('str')\n",
    "species_df['height'] = species_df['height'].astype('str')\n",
    "species_df['skin_color'] = species_df['skin_color'].astype('str')\n",
    "species_df['hair_color'] = species_df['hair_color'].astype('str')\n",
    "species_df['distinctions'] = species_df['distinctions'].astype('str')\n",
    "species_df['homeworld'] = species_df['homeworld'].astype('str')\n",
    "species_df['language'] = species_df['language'].astype('str')\n",
    "\n",
    "# create the Species parquet\n",
    "\n",
    "species_df.to_parquet('../WPscraped/StarWars_Species.parquet', index=False)"
   ]
  },
  {
   "cell_type": "code",
   "execution_count": null,
   "metadata": {},
   "outputs": [],
   "source": []
  }
 ],
 "metadata": {
  "kernelspec": {
   "display_name": "base",
   "language": "python",
   "name": "python3"
  },
  "language_info": {
   "codemirror_mode": {
    "name": "ipython",
    "version": 3
   },
   "file_extension": ".py",
   "mimetype": "text/x-python",
   "name": "python",
   "nbconvert_exporter": "python",
   "pygments_lexer": "ipython3",
   "version": "3.10.9"
  },
  "orig_nbformat": 4
 },
 "nbformat": 4,
 "nbformat_minor": 2
}
