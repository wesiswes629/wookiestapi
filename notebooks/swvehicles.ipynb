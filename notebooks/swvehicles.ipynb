{
 "cells": [
  {
   "cell_type": "code",
   "execution_count": 1,
   "metadata": {},
   "outputs": [],
   "source": [
    "import requests\n",
    "from bs4 import BeautifulSoup as BS\n",
    "import pandas as pd\n",
    "import pickle\n",
    "import re\n",
    "from tqdm import tqdm\n",
    "from pathlib import Path\n",
    "import urllib\n",
    "import pyarrow"
   ]
  },
  {
   "cell_type": "code",
   "execution_count": 2,
   "metadata": {},
   "outputs": [
    {
     "data": {
      "text/plain": [
       "[WindowsPath('../WPscraped/starwars_all_canon_data_1.pickle'),\n",
       " WindowsPath('../WPscraped/starwars_all_canon_data_2.pickle'),\n",
       " WindowsPath('../WPscraped/starwars_all_canon_data_3.pickle'),\n",
       " WindowsPath('../WPscraped/starwars_all_canon_data_4.pickle'),\n",
       " WindowsPath('../WPscraped/starwars_all_canon_data_5.pickle'),\n",
       " WindowsPath('../WPscraped/starwars_all_canon_data_6.pickle'),\n",
       " WindowsPath('../WPscraped/starwars_all_canon_data_7.pickle'),\n",
       " WindowsPath('../WPscraped/starwars_all_canon_data_8.pickle')]"
      ]
     },
     "execution_count": 2,
     "metadata": {},
     "output_type": "execute_result"
    }
   ],
   "source": [
    "files = sorted(Path('../WPscraped').glob('*.pickle'))\n",
    "files"
   ]
  },
  {
   "cell_type": "code",
   "execution_count": 3,
   "metadata": {},
   "outputs": [
    {
     "data": {
      "text/plain": [
       "39460"
      ]
     },
     "execution_count": 3,
     "metadata": {},
     "output_type": "execute_result"
    }
   ],
   "source": [
    "#create the dictionary to run\n",
    "data = {}\n",
    "for fn in files:\n",
    "    with open(fn, 'rb') as f:\n",
    "        part = pickle.load(f)\n",
    "    data.update(part)\n",
    "\n",
    "# The code is to open the data and to count to make sure all files in the .pickles are carried over\n",
    "len(data)"
   ]
  },
  {
   "cell_type": "code",
   "execution_count": 4,
   "metadata": {},
   "outputs": [],
   "source": [
    "#find the key in the dictionary\n",
    "def find_key(key_name, data):\n",
    "    for key, value in data.items():\n",
    "        if key_name == key:\n",
    "            return value\n",
    "        if isinstance(value, dict):\n",
    "            value = find_key(key_name, value)\n",
    "            if value is not None:\n",
    "                return value\n",
    "    return None\n",
    "\n",
    "def get_first(key_name, data):\n",
    "    result = find_key(key_name, data)\n",
    "    if isinstance(result, list):\n",
    "        result = result[0]\n",
    "    return result"
   ]
  },
  {
   "cell_type": "code",
   "execution_count": 5,
   "metadata": {},
   "outputs": [
    {
     "name": "stdout",
     "output_type": "stream",
     "text": [
      "{'url': 'https://starwars.fandom.com/wiki/Millennium_Falcon', 'title': '\\nMillennium Falcon ', 'is_character': False, 'side_bar': {'Production information': {'Manufacturer': 'Corellian Engineering Corporation', 'Product line': 'YT-series', 'Model': 'Heavily modified YT-1300fp light freighter', 'Class': 'Light freighter', 'Modified by': ['A technician', 'Lando Calrissian', 'Han Solo', 'Chewbacca', 'Gannis Ducain', 'Vanver and Toursant Irving', 'Unkar Plutt', 'Rey', 'Rose Tico', 'Klaus \"Doc\" Vandagante']}, 'Technical specifications': {'Length': ['c. 34.52', '–34.75 meters'], 'Width': ['25.61 meters'], 'Height/depth': ['7.8 meters'], 'MGLT': '75 MGLT', 'Maximum speed (atmosphere)': ['1', '200 kph', '1', '050 kph'], 'Engine unit(s)': ['Girodyne SRB42 sublight engines', 'Landing jets'], 'Hyperdrive rating': ['Class 1.0', 'Class 0.5', 'Class 10'], 'Hyperdrive system': ['Avatar-10 hyperdrive', 'Isu-Sim SSP05 hyperdrive', '401 series hyperdrive', 'Backup hyperdrive'], 'Power plant': ['Quadex power core', 'InCom N2I-4 power converter', 'Koensayr TLB power converter', 'CEC emergency power converter', 'Cryogenic reserve power cells'], 'Shielding': ['Torplex deflector shield projector', 'Nordoxicon Unlimited Anti-concussion field generator', 'Novaldex stasis-type shield generator', 'Kuat Drive Yards & Nordoxicon-38 deflector shield projector'], 'Hull': ['Torplex & Novaldex Durasteel shell', 'Duralloy and durasteel plating', 'Military-grade armor'], 'Sensor systems': ['Fabritech ANq-51 sensor array computer', 'Fabritech ANy-20 active sensor transceiver', 'Siep-Irol passive sensor antenna', 'Sienar Fleet Systems pulse generator'], 'Navigation system': 'Microaxial Rubicon navicomputer with HyD modular navicomputer backup ', 'Main computer': ['Hanx-Wargel SuperFlow IV computer', 'V-5 transport droid brain', 'Corporate espionage slicer droid brain', \"L3-37's droid brain\"], 'Countermeasures': 'Carbanti 29L electromagnetic countermeasures package with signal-augmented sensor jammer', 'Armament': ['Under Lando:Arakyd Tomral RM-76 heavy laser cannons', 'Later:CEC AG-2G quad laser cannons', 'Arakyd ST2 concussion missile tubes', 'Arakyd ST2 concussion missiles', 'Dymek concussion missiles', 'BlasTech Ax-108 \"Ground Buzzer\" blaster cannon', 'Phylon Transport C5 tractor beam emitters'], 'Complement': 'YT Dart ', 'Escape craft': 'Model CEC Class-1s ', 'Crew': ['Pilot', 'Co-pilot', 'Gunner'], 'Minimum crew': '1', 'Passengers': '6', 'Cargo capacity': '100 metric tons', 'Cargo handling systems': 'Freight elevator', 'Consumables': \"2 months' supply\", 'Life support': 'Equipped', 'Communication systems': ['Upgraded Chedak subspace radio', 'Chedak Frequency Agile subspace transceiver'], 'Other systems': ['Gelieg 20m-cp Strobe/C-Beam Lamps', 'Dejarik table', 'Autopilot', 'Flotation pontoons', 'Athakam II Med Unit', 'Thermal regulators', 'KapriCorp Acceleration compensator', 'Alluvial dampers']}, 'Usage': {'Role(s)': ['Freighter', 'Smuggling ship'], 'Commissioned': 'c. 60 BBY', 'Present for battles/events': ['First skirmish in the Mesulan Remnants Belt', 'Job on Kullgroon', 'Raid on Kessel', 'Heist on Galator III', 'Mission to Mollo Tanka', 'Recovery of the Millennium Falcon', 'Secret mission to Tatooine', 'Battle of Yavin', 'Cyrkon Extraction', 'Assault on Cymoon', 'Rescue of Luke Skywalker', 'Battle of Vrogas Vas', 'Hijacking of the Harbinger', 'Siege on Tureen VII', 'Escape from Skorii-Lei', 'Mission to Akiva', 'Mission to rescue C-3PO', 'Battle for Jedha', 'Mutiny on Mon Cala', 'Assault on the Mako-Ta Space Docks', 'Mission to Shu-Torun', 'Mission to K43', 'Escape from Cloud City', 'Battle at Rendezvous Point Delta-Three', 'Battle of Endor', 'Skirmish on Takodana', 'Liberation of Kashyyyk', 'Escape from Jakku', 'Skirmish aboard the Eravana', 'Battle of Starkiller Base', 'Battle of Crait', 'Mission to Mon Cala', 'Mission to Minfar', 'Mission to Sinta Glacier Colony', 'Mission to Pasaana', 'Mission to Kijimi', 'Mission to Kef Bir', 'Battle of Exegol'], 'Affiliation': ['Corell Industries Limited', 'Republic Group', 'Crimson Dawn', \"Jabba Desilijic Tiure's criminal empire\", 'Alliance to Restore the Republic', 'New Republic', 'Resistance', 'Ohnaka Transport Solutions'], 'Navy': ['Rebel Alliance Navy', 'New Republic Defense Fleet', 'Resistance navy'], 'Owner(s)': ['Lando Calrissian', 'Han Solo', 'Gannis Ducain', 'Vanver and Toursant Irving', 'Unkar Plutt', 'Chewbacca', 'Rey'], 'Commander(s)': ['Lando Calrissian', 'Han Solo', 'Chewbacca', 'Rey', 'Poe Dameron'], 'Crewmembers': ['R2-D2', 'C-3PO', 'Wedge Antilles', 'Tobias Beckett', 'Blount', 'Airen Cracken', 'Poe Dameron', 'Ubin Des', 'Caluan Ematt', 'Finn', 'Chulco Gi', 'L3-37', 'Nien Nunb', 'Leia Organa', \"Qi'ra\", 'Rey', 'Luke Skywalker', 'Sana Starros', 'Khel Tanna', 'Rose Tico', 'Evaan Verlaine', 'Klaud'], 'Registration number(s)': 'YT 492727ZED', 'Aliases': ['Broken Bell', 'Close Shave', 'Foul Matter', 'Graphite Skipper', 'Jin-Den Smoke', 'Longshot', 'Lost and Found', 'Star Princess', 'Stellar Envoy', 'Sunfighter Franchise', 'Sweet Surprise', 'Victory Ring']}}, 'paragraph': '\\n', 'crosslinks': ['Mission_to_rescue_C-3PO', 'Moon', 'Chulco_Gi', 'Reactor', '60_BBY', 'Caluan_Ematt', 'Backup_Rendezvous_Point_Gamma-Nine', 'Turbolaser', 'YT-2400_light_freighter', 'Baron_Administrator', 'Cave', 'J-Squadron', 'Battle_of_Coruscant', 'Quad_laser_cannon', 'General', 'Deflector_shield_generator', 'Prison', 'KapriCorp', 'First_Order-Resistance_War', 'Mon_Mothma', 'Temmin_Wexley', 'Frequency_Agile_subspace_transceiver', 'Avenger', 'Norra_Wexley', 'Nordoxicon_Unlimited', 'Jas_Emari', 'Atmosphere', 'Irving_Boys', 'Grand_Admiral', 'Irudiru', 'Battle_of_Yavin', 'Choss', 'Klaus_Vandangante', 'C-Beam_Lamp', 'Christophsis', 'Mission_to_Kef_Bir', 'V-5_transport_droid', 'Map_to_Skywalker', 'Tonnika_sisters', 'DS-2_Death_Star_II_Mobile_Battle_Station', 'Droid', 'vn_space_superiority_fighter', 'Lars_Homestead', 'Republic_Group', 'Torture', 'Ochi', 'Battle_of_Endor', 'Time', 'Megalight_per_hour', 'Life_support', 'Brentin_Lore_Wexley', 'Cruiser', 'Ralsius_Paldora', 'Girodyne', 'Warship', '29L_electromagnetic_countermeasures_package', 'Stormtrooper', 'Wookiee', 'Rectenna', 'ST2_concussion_missile', 'Batuu', 'Tobias_Beckett', 'Rescue_of_Han_Solo', 'Skywalker_family', 'Crait', 'YT-series', 'Hyperdrive', 'ST2_concussion_missile_tube', 'Galactic_Civil_War', 'BlasTech_Industries', 'Chalmun%27s_Spaceport_Cantina', 'Zabrak', 'Duralloy', 'Wedge_Antilles', 'Exogorth', 'Hanx-Wargel', 'Sensor', 'Imperial_Army', 'Battle_of_Crait', 'Kylo_Ren%27s_lightsaber', 'V5-T', 'Unkar_Plutt', 'Cockpit', 'Imperial_hunter', 'Battle_of_Takodana', 'Thief', 'Summa-verminoth', 'Light_freighter', 'Spy', 'Imperial_I-class_Star_Destroyer', 'Chandrila', 'Galactic_Emperor', 'Smuggling_compartment', 'Karr_Nuq_Sin', 'DS-1_Death_Star_Mobile_Battle_Station', 'Pilot', 'Hondo_Ohnaka', 'Laser', 'SuperFlow_IV', 'Tolwar_Wartol', 'Athakam_II_Med_Unit', 'Hyperspace_skipping', 'Mission_to_Sinta_Glacier_Colony', 'Gelieg', 'ln_space_superiority_starfighter', 'First_skirmish_in_the_Mesulan_Remnants_Belt', '35_ABY', 'Ohnaka_Transport_Solutions', 'Koensayr_Manufacturing', 'Conder_Kyl', 'T-65B_X-wing_starfighter', 'Kix', 'Galactic_Empire', 'Capital', 'Navigation_computer', 'Darth_Vader%27s_TIE_Advanced', 'Job_on_Kullgroon', 'Garrison', 'Hoth', 'Boolio', 'Klaud', 'Jannah', 'Kilometer_per_hour', 'Flotation_pontoon', 'Stormtrooper_(First_Order)', 'Mission_to_Minfar', 'Novaldex', 'Missile', 'Resistance_base_(Ajan_Kloss)', 'Kuat_Drive_Yards', 'Wingmate', 'Droid_brain', 'Carbanti', 'Quadex_power_core', 'Death', 'Torplex', 'Freighter', 'Jakku', 'R2-D2', 'Ubin_Des', 'Citizens%27_Fleet', 'Obi-Wan_Kenobi', 'Metric_ton', 'Transparisteel', 'Planet', 'Prince', 'D%27Qar', 'Concussion_missile_(Dymek)', 'Standard_month', 'Realspace', 'Unidentified_TIE_squadron', 'Great_Temple', 'Alderaanian', 'Skywalker_lightsaber', 'Slicer', 'Human', 'Sith', 'AG-2G_quad_laser_cannon', 'ANy-20_scan-mode_transceiver', 'Smuggler', 'Junk_boss', 'Mission_to_K43', 'Standard_year', 'Gold_Leader', 'Battle_for_Jedha', 'Clone_Wars', 'Crimson_Dawn', 'Nien_Nunb', 'Corellian_Spike', 'Han_Solo', 'New_Republic_pilot', 'Poe_Dameron', 'Mos_Eisley', 'Arakyd_Industries', 'Star_Destroyer', 'Sinjir_Rath_Velus', 'Gannis_Ducain', 'Passive_sensor_antenna', 'Heart', 'Anti-concussion_field_generator', 'Kessel', 'Yavin_Prime', 'Endor_system', 'Cloud_City', 'Ashmead%27s_Lock', 'Deflector_shield', 'Hull', 'Brea_Tonnika', 'Battle_of_Starkiller_Base', 'Kef_Bir', 'Blount', 'Hyperspace', 'New_Republic_Special_Forces', 'Nim_Tar%27s_child', 'Quadex', 'Alderaan', 'Chancellor_(New_Republic)', 'Rebel_Alliance_Navy', 'Star', 'Mission_to_Kijimi', 'Laser_cannon', 'Sana_Starros', 'Arquitens-class_command_cruiser', 'Homing_beacon', 'Corell_Industries_Limited', 'Chewbacca', 'Alderaanian_Graveyard', 'Imperial_Navy', 'Rey%27s_lightsaber', 'Endor', 'Model_CEC_Class-1', 'Raid_on_Kessel', 'Dark_Lord_of_the_Sith', 'Maize_Raynshi', 'wi_Interceptor', 'Battle_of_Jakku', 'Assault_on_the_Mako-Ta_Space_Docks', 'Rendezvous_Point_Delta-Three', 'Siege_on_Tureen_VII', 'Steadfast_(Resurgent-class)', 'Recovery_of_the_Millennium_Falcon', 'Alliance_to_Restore_the_Republic', 'L3-37', '31_ABY', 'Resistance', 'Liberation_of_Kashyyyk', 'Engine_coupling', 'Takodana_Castle', 'Escape_pod', 'Space_station', 'Ralltiir', 'Mutiny_on_Mon_Cala', 'Scavenger', '0_BBY', 'Homeworld', 'Rescue_of_Luke_Skywalker', 'Corellian_Engineering_Corporation', 'Sublight_engine', 'Kashyyyk', 'Mission_to_Akiva_(Han_Solo)', 'Red_Five_(T-65B_X-wing_starfighter)', 'Sith_Eternal_military', 'Dejarik', 'YT_Dart', 'Orbit', 'Sardis_Ramsin', 'Secret_mission_to_Tatooine', 'G_(unit)', 'Savareen', 'Dymek', 'R3-series_astromech_droid', 'C-3PO', 'Imra', 'Static_charge_dissipator', 'Senate_Guard_(New_Republic)', 'Imperial_Executive_Building', 'Escape_from_Jakku', 'Tatooine', 'Skirmish_on_Takodana', 'Sith_Eternal', 'Rubicon_navicomputer', 'Phylon_Transport', 'Landonis_Balthazar_Calrissian', 'Foot', '5_ABY', 'Mister_Bones', 'Nakadia', 'Millennium_Collective', 'Gas', 'Hologram', 'Ovissian', 'Gambler', 'Ahch-To', 'sf_space_superiority_fighter', 'Vanver_Irving', 'Marriage', 'HyD_modular_navicomputer', 'Mission_to_Nakadia', 'Rae_Sloane', 'Cyrkon_Extraction', 'Kashyyyk_system', 'Siep-Irol', 'Maz_Kanata', 'Rathtar', 'Battle_station', 'Rose_Tico', 'Exile_(punishment)', 'C5_tractor_beam_emitter', 'GR-75_medium_transport', 'Numidian_Prime', 'Shipyard', 'Scanning_crew', 'Takodana', 'New_Republic', 'Evaan_Verlaine', 'Blockade', 'Hijacking_of_the_Harbinger', 'Compressor', 'Western_Reaches', 'Carbonite', 'Star_system', 'Gender', 'Rescue_of_Princess_Leia', 'The_Maw', 'Jom_Barell', 'Phantom_Squadron', 'Warrin_Station', 'Mission_to_Mon_Cala', 'Concussion_missile', 'Orbital_Assembly_Facility_7', 'Ellian_Zahra', 'Skirmish_aboard_the_Eravana', 'TLB_power_converter', '34_ABY', 'Standard_minute', 'Siniteen', 'Chedak', 'Incom_Corporation', 'Sabacc', 'Senator', 'Corellian', 'YT-1300_light_freighter', 'Anakin_Skywalker', 'Boba_Fett', 'Moebin_Faltus', '19_ABY', 'Wild_Space', 'Niima_Outpost', 'Escape_from_Skorii-Lei', 'First_Order', 'Starfighter', 'Starkiller_Base', 'Sullustan', 'Light_side_of_the_Force', 'Sienar_Fleet_Systems', 'Viewport', 'Leia%27s_lightsaber', 'Dominion', 'Resistance_navy', 'Isu-Sim', 'Captain', 'Echo_Base', 'Mission_to_Shu-Torun_(Rebel_Alliance)', 'Qi%27ra', 'Slicer_droid', 'Kessel_Run', 'ANq-51_sensor_array_computer', 'Second', 'Mission_to_Pasaana_(Resistance)', 'Halo', 'Imperial-class_Star_Destroyer', 'Final_Order', 'Airen_Cracken', 'Togruta', 'Ax-108_%22Ground_Buzzer%22_blaster_cannon', 'Coruscant', 'Hyperspace_route', 'Battle_of_Hoth', 'Lightsaber', 'X-wing_starfighter', 'Meter', 'Commander', 'Power_converter', 'Alluvial_damper', 'Parent', 'Armor', 'Autopilot', 'V-4X-D_ski_speeder', 'SRB42_sublight_engine', 'Assault_on_Cymoon', 'Battle_of_Exegol', 'ED-4', 'Mission_to_Mollo_Tanka', 'Avatar-10', '4_ABY', 'Luke_Skywalker', 'BB-8', 'Fabritech', 'Golas_Aram', 'Rey_Skywalker', 'Jedi_Order', 'Jabba%27s_criminal_empire', 'New_Republic_soldier', 'Leia_Skywalker_Organa_Solo', 'Lightspeed', 'Nikto', 'Signal-augmented_sensor_jammer', 'Escape_from_Cloud_City', 'Finn', 'Standard_hour', 'Toursant_Irving', 'B1-series_battle_droid', 'Xyston-class_Star_Destroyer', 'Stasis-type_shield_generator', 'Water', 'Planetary_shield', 'Crait_outpost', 'Canon', 'Bespin', 'Superlaser_siege_cannon', 'Battle_at_Rendezvous_Point_Delta-Three', 'Tomral_RM-76_heavy_laser_cannon', 'Computer', 'Weather_scanner_vane', 'Yavin_4', 'Unidentified_technician_(Stellar_Envoy)', 'Supremacy', 'Bounty_hunter', 'Parsec', 'Durasteel', 'Ben_Solo', 'SSP05_hyperdrive', 'Death_Squadron', 'Orbital_bombardment', 'Snoke', 'Microaxial', 'Acceleration_compensator', 'Starship', 'Force_spirit', 'Ajan_Kloss', 'Bureau_of_Ships_and_Services', 'Tractor_beam', 'Palpatine%27s_broadcast', 'The_galaxy', 'Eravana', 'Capital_ship', 'Heist_on_Galator_III', '%27ABY-BBY%27_dating_system', 'Khel_Tanna', 'Battle_of_Vrogas_Vas', 'New_Republic_Defense_Fleet', 'Hangar', 'Slave_I', 'Darth_Sidious', 'Supreme_Leader', 'Force-sensitive']}\n"
     ]
    }
   ],
   "source": [
    "# test on the vehicle Millennium Falcon\n",
    "\n",
    "print(data['Millennium_Falcon'])"
   ]
  },
  {
   "cell_type": "code",
   "execution_count": 6,
   "metadata": {},
   "outputs": [
    {
     "name": "stdout",
     "output_type": "stream",
     "text": [
      "{'url': 'https://starwars.fandom.com/wiki/Lady_Luck', 'title': '\\nLady Luck ', 'is_character': False, 'side_bar': {'Production information': {'Manufacturer': 'SoroSuub Corporation', 'Model': 'Luxury 3000 space yacht', 'Class': 'Yacht'}, 'Technical specifications': {'Length': 'Around 50 meters', 'Crew': 'Pilot ', 'Other systems': 'First-class autopilot'}, 'Usage': {'Owner(s)': ['An Orthellin royal mistress', 'Landonis Balthazar Calrissian']}}, 'paragraph': '\\nThe Lady Luck was a Luxury 3000 space yacht belonging to Lando Calrissian, who bought it shortly after the Battle of Endor from an Orthellin royal mistress. Calrissian, Kaasha Bateen, Florx Biggles and Lobot used the ship to travel to Chandrila. Many years later, while living as a \"hermit\" on the planet Pasaana, he kept the Lady Luck under an unmarked tent owned by an intermediary group. Calrissian later traveled to the moon Ajan Kloss aboard the Lady Luck to help the Resistance.\\n', 'crosslinks': ['Moon', 'Yacht', 'Gender', 'Standard_year', 'Luxury_3000_space_yacht', 'Planet', 'Pasaana', 'Chandrila', 'SoroSuub_Corporation', 'Hermit', 'Starship', 'Resistance', 'Orthellin_royal_mistress', 'Ajan_Kloss', 'Landonis_Balthazar_Calrissian', 'Pilot', 'Lobot', 'Meter', 'Kaasha_Bateen', 'Battle_of_Endor', 'Canon', 'Autopilot', 'Florx_Biggles']}\n"
     ]
    }
   ],
   "source": [
    "# test on the vehicle Lady Luck\n",
    "\n",
    "print(data['Lady_Luck'])"
   ]
  },
  {
   "cell_type": "code",
   "execution_count": 7,
   "metadata": {},
   "outputs": [
    {
     "name": "stdout",
     "output_type": "stream",
     "text": [
      "{'url': 'https://starwars.fandom.com/wiki/All_Terrain_Armored_Transport', 'title': '\\n\\t\\t\\t\\t\\tAll Terrain Armored Transport\\t\\t\\t\\t', 'is_character': False, 'side_bar': {'Production information': {'Manufacturer': ['Kuat Drive Yards', 'Kuat-Entralla Drive Yards'], 'Line': 'All-terrain vehicle', 'Class': 'Combat walker', 'Models': ['All Terrain Armored Transport', 'All Terrain Armored Transport', 'All Terrain Armored Cargo Transport', 'Elite AT-AT', 'First Order All Terrain Armored Transport']}, 'Usage': {'Role(s)': ['Military Walker', 'Mechanized infantry', 'Self-propelled artillery', 'Troop transport'], 'Year introduced': 'During the Clone Wars', 'Affiliation': ['Galactic Republic', 'Galactic Empire', 'Mantis crew', 'Alliance to Restore the Republic', 'Imperial territory G5-623', 'New Republic', 'First Order']}}, 'paragraph': \"The All Terrain Armored Transport  was a four-legged combat walker of the All-terrain vehicle line used by the ground forces of the Galactic Republic, Galactic Empire, and the First Order. Along with the Imperial-class Star Destroyer, stormtroopers, and the TIE fighter, it was one of the most famous symbols of the Empire's military might.\\n\", 'crosslinks': ['Ghost', 'Moon', 'Galactic_Republic', 'Pyre', 'Turret', 'First_Order', 'AT-DP_Arc_Cannon_Prototype', 'Reactor', 'All_Terrain_Patrol_Droid', 'MS-1_fire-linked_heavy_laser_cannon', 'Jedi', 'Walker', 'Battle_of_Jakku', 'AT-ST_Mark_III', 'Weapons_factory', 'Cold-weather_Mobile_Heavy_Cannon', 'Thunderer', 'Galactic_Empire', 'Tatooine_rebel_cell', 'Alliance_to_Restore_the_Republic', 'Kanan_Jarrus%27_lightsaber', 'Balmorra', 'Stinger_Mantis_crew', 'Coruscant_reckoning_calendar', 'Liberation_of_Kashyyyk', 'Spectres', 'Yendor', 'Hoth', 'Elite_AT-TE', 'AT-MP_Mark_III', 'Black_Sun', 'CAP-2', 'General', 'Yogar_Lyste', 'Deflector_shield_generator', 'Echo_Base', 'All_Terrain_Heavy_Enforcer', 'Kirratha', 'Scavenger', '0_BBY', 'All_Terrain_Exploration_Transport', 'Kuat_Drive_Yards', 'All_Terrain_Heavy_Hauler', 'Ezra_Bridger', 'Morad_Sumar', 'Imperial_territory_G5-623', 'Kashyyyk', 'AT-KT', 'Alexsandr_Kallus', 'Darth', 'All_Terrain_Anti_Aircraft', 'Geonosis', 'All_Terrain_Mobile_Artillery', 'Weapons_Factory_Alpha', 'Imperial-class_Star_Destroyer', 'Siege_of_Lothal', 'Walker_216', 'Del_Meeko', 'Jakku', 'C1-10P', 'Grand_Admiral', 'Battle_of_Yavin', 'All_Terrain_Scout_Transport', 'Planet', 'Prince', 'Assault_on_Seelos', '3_BBY', 'Ryder_Azadi', 'Maximilian_Veers', 'Partisans', 'Mission_to_investigate_Geonosis', 'Mission_on_Lothal', 'Battle_of_Hoth', 'Kuat-Entralla_Drive_Yards', 'AT-AT_pilot', '2_BBY', 'Lightsaber', 'Bendu', 'Reproduction', 'Enhanced_AT-AP_Walker', 'All_Terrain_Construction_Transport', 'Assault', 'Kanan_Jarrus', 'New_Republic_Defense_Force', 'Transport', '5_ABY', 'Death_Star_plans', 'Mitth%27raw%27nuruodo', 'All_Terrain_Armored_Cargo_Transport', 'Agent', 'Taim_%26_Bak', 'Battle_of_Endor', 'HAVw_A6_Juggernaut', 'Urban_Assault_Triped_Transport', 'Commander', 'All_Terrain_Armored_Transport_(original)', 'Armor', 'Camp_Sardo', 'Assault_on_Cymoon', 'All_Terrain_Reconnaissance_Transport', 'Piperii-Cerlurn', 'First_Order_All_Terrain_Scout_Transport', 'AT-FRC_Force_Reconnaissance_Walker', 'R-90C_medium_blaster', 'Warship', 'Ketsu_Onyo', 'Imperial_Military', 'First_Order_All_Terrain_Armored_Transport', 'Enhanced_AT-MP_Walker', 'Luke_Skywalker', 'Inferno_Squad', 'Atollon', 'Stormtrooper', 'Wookiee', '4_BBY', 'All_Terrain_Open_Transport', 'All_Terrain_Missile_Platform', '14_BBY', 'Sith_Lord', 'Standard_year', 'Benathy', 'All_Terrain_MegaCaliber_Six', 'Clone_Wars', 'Seelos', 'Battle_against_the_Benathy_(First_Order)', 'Cymoon_1', 'Rey_Skywalker', 'Lieutenant', 'Leia_Skywalker_Organa_Solo', 'Thane_Kyrell', 'Galactic_Civil_War', 'Death_Star', 'Han_Solo', 'Elite_AT-AT', 'Cold_Weather_AT-MP_Mark_III', 'All-terrain_vehicle', 'All_Terrain_Defense_Pod', 'First_Order_Army', 'Lothal', 'Imperial_Army', 'Battle_of_Crait', 'All_Terrain_Defense_Turret', 'Vardos', 'New_Republic', 'Canon', 'Scuttler', 'Scoggan', 'All_Terrain_Personal_Transport', 'Battle_of_Atollon', 'Deflector_shield', 'Standard_decade', 'Rescue_of_Tamara_Ryvora', 'Thief', 'Walker_271', 'All_Terrain_Attack_Pod', 'Heavy_laser_cannon', 'All_Terrain_Combat_Excavator', 'Gender', 'Ben_Solo', 'Imperial_Security_Bureau', 'Early_rebellion_against_the_Galactic_Empire', 'Padawan', 'Jyn_Erso', 'All_Terrain_Tactical_Enforcer', 'Umbaran_mobile_heavy_cannon', 'Rebel_Alliance_Navy', 'DS-1_Death_Star_Mobile_Battle_Station', 'Enhanced_AT-ST_Walker', 'Lothal_resistance_group', 'Species', 'AT-ST_Raider', 'Iden_Versio', 'Laser_cannon', 'Laser', 'Imperial_Armory_Complex', 'Hellhound_Two', 'Sphyrna-class_Hammerhead_corvette', 'All_Terrain_Heavy_Scout', 'Blaster', 'Proton_torpedo', 'Davjan_Igo', 'Endor', 'Saw_Gerrera', 'Anakin_Skywalker', 'Master_of_the_Knights_of_Ren', 'Cal_Kestis', 'Battle_of_Scarif', 'Walker_414', '%27ABY-BBY%27_dating_system', 'All_Terrain_Armored_Transport_(Galactic_Civil_War)', '19_BBY', 'ln_space_superiority_starfighter']}\n"
     ]
    }
   ],
   "source": [
    "# test on the vehicle Lady Luck\n",
    "\n",
    "print(data['All_Terrain_Armored_Transport'])"
   ]
  },
  {
   "cell_type": "code",
   "execution_count": 23,
   "metadata": {},
   "outputs": [],
   "source": [
    "# Create an empty dictionary to store the vehicle data\n",
    "vehicle_dict = {}\n",
    "\n",
    "# Loop through each key in the dictionary\n",
    "for key in data:\n",
    "    # Check if the item contains \"Production information\" in its side bar before extracting data\n",
    "    if \"Production information\" in data[key][\"side_bar\"]:\n",
    "        # Extract the vehicle name from the title column\n",
    "        vehicle_name = data[key][\"title\"].strip()\n",
    "        \n",
    "        # Extract the manufacturer value from the Production information section\n",
    "        manufacturer = data[key][\"side_bar\"][\"Production information\"].get(\"Manufacturer\", None) \n",
    "\n",
    "        # Extract the model value from the Production information section\n",
    "        model = data[key][\"side_bar\"][\"Production information\"].get(\"Model\", None)\n",
    "\n",
    "        # Extract the class value from the Production information section\n",
    "        vclass = data[key][\"side_bar\"][\"Production information\"].get(\"Class\", None)\n",
    "\n",
    "        # Check if \"Technical specifications\" exists in side_bar before trying to access it\n",
    "        if \"Technical specifications\" in data[key][\"side_bar\"]:\n",
    "            # Extract the length value from the Technical specifications section\n",
    "            length = data[key][\"side_bar\"][\"Technical specifications\"].get(\"Length\", None)\n",
    "\n",
    "            # Extract the crew value from the Technical specifications section\n",
    "            crew = data[key][\"side_bar\"][\"Technical specifications\"].get(\"Crew\", None)\n",
    "\n",
    "        # Check if \"Usage\" exists in side_bar before trying to access it\n",
    "        if \"Usage\" in data[key][\"side_bar\"]:\n",
    "            # Extract the owners value from the Usage section\n",
    "            owners = data[key][\"side_bar\"][\"Usage\"].get(\"Owner(s)\", None)\n",
    "\n",
    "            # Extract the affiliation value from the Usage section\n",
    "            affiliation = data[key][\"side_bar\"][\"Usage\"].get(\"Affiliation\", None)\n",
    "\n",
    "            # Check if both model and class are not None and class does not contain \"droid\" before adding to vehicle_dict\n",
    "            if model is not None and vclass is not None and \"droid\" not in vclass:\n",
    "                # Create a dictionary with all of the vehicles' data\n",
    "                vehicles = {\n",
    "                \"vehicle_name\": vehicle_name,\n",
    "                \"manufacturer\": manufacturer,\n",
    "                \"model\": model,\n",
    "                \"class\": vclass,\n",
    "                \"length\": length,\n",
    "                \"crew\": crew,\n",
    "                \"owner(s)\": owners,\n",
    "                \"affiliation\": affiliation\n",
    "                }\n",
    "                \n",
    "            # Add the vehicle's name and its corresponding dictionary to the main dictionary\n",
    "                vehicle_dict[vehicle_name] = vehicles\n",
    "            \n",
    "    "
   ]
  },
  {
   "cell_type": "code",
   "execution_count": 25,
   "metadata": {},
   "outputs": [],
   "source": [
    "# create a dataframe from the vehicles dictionary\n",
    "vehicle_df = pd.DataFrame(vehicle_dict)\n",
    "\n",
    "# transpose dataframe\n",
    "vehicle_df = vehicle_df.T"
   ]
  },
  {
   "cell_type": "code",
   "execution_count": 26,
   "metadata": {},
   "outputs": [
    {
     "data": {
      "text/html": [
       "<div>\n",
       "<style scoped>\n",
       "    .dataframe tbody tr th:only-of-type {\n",
       "        vertical-align: middle;\n",
       "    }\n",
       "\n",
       "    .dataframe tbody tr th {\n",
       "        vertical-align: top;\n",
       "    }\n",
       "\n",
       "    .dataframe thead th {\n",
       "        text-align: right;\n",
       "    }\n",
       "</style>\n",
       "<table border=\"1\" class=\"dataframe\">\n",
       "  <thead>\n",
       "    <tr style=\"text-align: right;\">\n",
       "      <th></th>\n",
       "      <th>vehicle_name</th>\n",
       "      <th>manufacturer</th>\n",
       "      <th>model</th>\n",
       "      <th>class</th>\n",
       "      <th>length</th>\n",
       "      <th>crew</th>\n",
       "      <th>owner(s)</th>\n",
       "      <th>affiliation</th>\n",
       "    </tr>\n",
       "  </thead>\n",
       "  <tbody>\n",
       "    <tr>\n",
       "      <th>\"Changeling\" Mark 71NB</th>\n",
       "      <td>\"Changeling\" Mark 71NB</td>\n",
       "      <td>Ravager Mechanics</td>\n",
       "      <td>\"Changeling\" Mark 71NB</td>\n",
       "      <td>Racing starfighter</td>\n",
       "      <td>None</td>\n",
       "      <td>2</td>\n",
       "      <td>None</td>\n",
       "      <td>[Ace Squadron, Colossus resistance]</td>\n",
       "    </tr>\n",
       "    <tr>\n",
       "      <th>125-Z treadspeeder bike</th>\n",
       "      <td>125-Z treadspeeder bike</td>\n",
       "      <td>Aratech-Loratus Corporation</td>\n",
       "      <td>125-Z treadspeeder bik</td>\n",
       "      <td>Speeder</td>\n",
       "      <td>4.17 meters</td>\n",
       "      <td>1</td>\n",
       "      <td>None</td>\n",
       "      <td>[First Order, Resistance]</td>\n",
       "    </tr>\n",
       "    <tr>\n",
       "      <th>49AX3</th>\n",
       "      <td>49AX3</td>\n",
       "      <td>None</td>\n",
       "      <td>Dreadnought-class heavy cruiser</td>\n",
       "      <td>Heavy cruiser</td>\n",
       "      <td>None</td>\n",
       "      <td>None</td>\n",
       "      <td>None</td>\n",
       "      <td>[Galactic Empire, Alliance to Restore the Repu...</td>\n",
       "    </tr>\n",
       "    <tr>\n",
       "      <th>614-AvA speeder bike</th>\n",
       "      <td>614-AvA speeder bike</td>\n",
       "      <td>Aratech Repulsor Company</td>\n",
       "      <td>614-AvA</td>\n",
       "      <td>Speeder bike</td>\n",
       "      <td>4.4 meters</td>\n",
       "      <td>[Pilot]</td>\n",
       "      <td>None</td>\n",
       "      <td>[Galactic Empire, Lothal resistance group, Spe...</td>\n",
       "    </tr>\n",
       "    <tr>\n",
       "      <th>712-AvA speeder bike</th>\n",
       "      <td>712-AvA speeder bike</td>\n",
       "      <td>Aratech Repulsor Company</td>\n",
       "      <td>712-AvA</td>\n",
       "      <td>Speeder bike</td>\n",
       "      <td>None</td>\n",
       "      <td>None</td>\n",
       "      <td>None</td>\n",
       "      <td>None</td>\n",
       "    </tr>\n",
       "    <tr>\n",
       "      <th>...</th>\n",
       "      <td>...</td>\n",
       "      <td>...</td>\n",
       "      <td>...</td>\n",
       "      <td>...</td>\n",
       "      <td>...</td>\n",
       "      <td>...</td>\n",
       "      <td>...</td>\n",
       "      <td>...</td>\n",
       "    </tr>\n",
       "    <tr>\n",
       "      <th>Zephyr-G swoop</th>\n",
       "      <td>Zephyr-G swoop</td>\n",
       "      <td>Mobquet Swoops and Speeders</td>\n",
       "      <td>Zephyr-G</td>\n",
       "      <td>Repulsorcraft</td>\n",
       "      <td>3.68 meters</td>\n",
       "      <td>1 pilot</td>\n",
       "      <td>None</td>\n",
       "      <td>[Skywalker family, Lars family]</td>\n",
       "    </tr>\n",
       "    <tr>\n",
       "      <th>Zephyr-K</th>\n",
       "      <td>Zephyr-K</td>\n",
       "      <td>None</td>\n",
       "      <td>Zephyr-K</td>\n",
       "      <td>Repulsorcraft</td>\n",
       "      <td>None</td>\n",
       "      <td>1</td>\n",
       "      <td>None</td>\n",
       "      <td>None</td>\n",
       "    </tr>\n",
       "    <tr>\n",
       "      <th>Zeta-class Heavy Cargo Shuttle</th>\n",
       "      <td>Zeta-class Heavy Cargo Shuttle</td>\n",
       "      <td>[Sienar Fleet Systems, Telgorn Corporation]</td>\n",
       "      <td>Zeta-class cargo shuttle</td>\n",
       "      <td>[Cargo, shuttle]</td>\n",
       "      <td>35.50 meters</td>\n",
       "      <td>[Pilot, Co-pilot]</td>\n",
       "      <td>None</td>\n",
       "      <td>[Galactic Empire, Imperial Navy, Alliance to R...</td>\n",
       "    </tr>\n",
       "    <tr>\n",
       "      <th>Zeta-class shuttle</th>\n",
       "      <td>Zeta-class shuttle</td>\n",
       "      <td>None</td>\n",
       "      <td>Zeta-class shuttle</td>\n",
       "      <td>Shuttle</td>\n",
       "      <td>None</td>\n",
       "      <td>None</td>\n",
       "      <td>None</td>\n",
       "      <td>[Galactic Empire, Imperial Navy, Inquisitorius...</td>\n",
       "    </tr>\n",
       "    <tr>\n",
       "      <th>Zeva's ship</th>\n",
       "      <td>Zeva's ship</td>\n",
       "      <td>None</td>\n",
       "      <td>Centurion-class battlecruiser</td>\n",
       "      <td>Battlecruiser</td>\n",
       "      <td>None</td>\n",
       "      <td>None</td>\n",
       "      <td>Zeva Bliss</td>\n",
       "      <td>Spice Runners of Kijimi</td>\n",
       "    </tr>\n",
       "  </tbody>\n",
       "</table>\n",
       "<p>1049 rows × 8 columns</p>\n",
       "</div>"
      ],
      "text/plain": [
       "                                                  vehicle_name  \\\n",
       "\"Changeling\" Mark 71NB                  \"Changeling\" Mark 71NB   \n",
       "125-Z treadspeeder bike                125-Z treadspeeder bike   \n",
       "49AX3                                                    49AX3   \n",
       "614-AvA speeder bike                      614-AvA speeder bike   \n",
       "712-AvA speeder bike                      712-AvA speeder bike   \n",
       "...                                                        ...   \n",
       "Zephyr-G swoop                                  Zephyr-G swoop   \n",
       "Zephyr-K                                              Zephyr-K   \n",
       "Zeta-class Heavy Cargo Shuttle  Zeta-class Heavy Cargo Shuttle   \n",
       "Zeta-class shuttle                          Zeta-class shuttle   \n",
       "Zeva's ship                                        Zeva's ship   \n",
       "\n",
       "                                                               manufacturer  \\\n",
       "\"Changeling\" Mark 71NB                                    Ravager Mechanics   \n",
       "125-Z treadspeeder bike                         Aratech-Loratus Corporation   \n",
       "49AX3                                                                  None   \n",
       "614-AvA speeder bike                               Aratech Repulsor Company   \n",
       "712-AvA speeder bike                               Aratech Repulsor Company   \n",
       "...                                                                     ...   \n",
       "Zephyr-G swoop                                  Mobquet Swoops and Speeders   \n",
       "Zephyr-K                                                               None   \n",
       "Zeta-class Heavy Cargo Shuttle  [Sienar Fleet Systems, Telgorn Corporation]   \n",
       "Zeta-class shuttle                                                     None   \n",
       "Zeva's ship                                                            None   \n",
       "\n",
       "                                                          model  \\\n",
       "\"Changeling\" Mark 71NB                   \"Changeling\" Mark 71NB   \n",
       "125-Z treadspeeder bike                  125-Z treadspeeder bik   \n",
       "49AX3                           Dreadnought-class heavy cruiser   \n",
       "614-AvA speeder bike                                    614-AvA   \n",
       "712-AvA speeder bike                                    712-AvA   \n",
       "...                                                         ...   \n",
       "Zephyr-G swoop                                         Zephyr-G   \n",
       "Zephyr-K                                               Zephyr-K   \n",
       "Zeta-class Heavy Cargo Shuttle         Zeta-class cargo shuttle   \n",
       "Zeta-class shuttle                           Zeta-class shuttle   \n",
       "Zeva's ship                       Centurion-class battlecruiser   \n",
       "\n",
       "                                             class         length  \\\n",
       "\"Changeling\" Mark 71NB          Racing starfighter           None   \n",
       "125-Z treadspeeder bike                    Speeder    4.17 meters   \n",
       "49AX3                                Heavy cruiser           None   \n",
       "614-AvA speeder bike                  Speeder bike     4.4 meters   \n",
       "712-AvA speeder bike                  Speeder bike           None   \n",
       "...                                            ...            ...   \n",
       "Zephyr-G swoop                       Repulsorcraft    3.68 meters   \n",
       "Zephyr-K                             Repulsorcraft           None   \n",
       "Zeta-class Heavy Cargo Shuttle    [Cargo, shuttle]  35.50 meters    \n",
       "Zeta-class shuttle                         Shuttle           None   \n",
       "Zeva's ship                          Battlecruiser           None   \n",
       "\n",
       "                                             crew    owner(s)  \\\n",
       "\"Changeling\" Mark 71NB                         2         None   \n",
       "125-Z treadspeeder bike                         1        None   \n",
       "49AX3                                        None        None   \n",
       "614-AvA speeder bike                      [Pilot]        None   \n",
       "712-AvA speeder bike                         None        None   \n",
       "...                                           ...         ...   \n",
       "Zephyr-G swoop                            1 pilot        None   \n",
       "Zephyr-K                                       1         None   \n",
       "Zeta-class Heavy Cargo Shuttle  [Pilot, Co-pilot]        None   \n",
       "Zeta-class shuttle                           None        None   \n",
       "Zeva's ship                                  None  Zeva Bliss   \n",
       "\n",
       "                                                                      affiliation  \n",
       "\"Changeling\" Mark 71NB                        [Ace Squadron, Colossus resistance]  \n",
       "125-Z treadspeeder bike                                 [First Order, Resistance]  \n",
       "49AX3                           [Galactic Empire, Alliance to Restore the Repu...  \n",
       "614-AvA speeder bike            [Galactic Empire, Lothal resistance group, Spe...  \n",
       "712-AvA speeder bike                                                         None  \n",
       "...                                                                           ...  \n",
       "Zephyr-G swoop                                    [Skywalker family, Lars family]  \n",
       "Zephyr-K                                                                     None  \n",
       "Zeta-class Heavy Cargo Shuttle  [Galactic Empire, Imperial Navy, Alliance to R...  \n",
       "Zeta-class shuttle              [Galactic Empire, Imperial Navy, Inquisitorius...  \n",
       "Zeva's ship                                               Spice Runners of Kijimi  \n",
       "\n",
       "[1049 rows x 8 columns]"
      ]
     },
     "execution_count": 26,
     "metadata": {},
     "output_type": "execute_result"
    }
   ],
   "source": [
    "vehicle_df"
   ]
  },
  {
   "cell_type": "code",
   "execution_count": 27,
   "metadata": {},
   "outputs": [
    {
     "name": "stdout",
     "output_type": "stream",
     "text": [
      "<class 'pandas.core.frame.DataFrame'>\n",
      "Index: 1049 entries, \"Changeling\" Mark 71NB to Zeva's ship\n",
      "Data columns (total 8 columns):\n",
      " #   Column        Non-Null Count  Dtype \n",
      "---  ------        --------------  ----- \n",
      " 0   vehicle_name  1049 non-null   object\n",
      " 1   manufacturer  621 non-null    object\n",
      " 2   model         1049 non-null   object\n",
      " 3   class         1049 non-null   object\n",
      " 4   length        552 non-null    object\n",
      " 5   crew          618 non-null    object\n",
      " 6   owner(s)      180 non-null    object\n",
      " 7   affiliation   965 non-null    object\n",
      "dtypes: object(8)\n",
      "memory usage: 73.8+ KB\n"
     ]
    }
   ],
   "source": [
    "vehicle_df.info()"
   ]
  },
  {
   "cell_type": "code",
   "execution_count": 28,
   "metadata": {},
   "outputs": [],
   "source": [
    "# convert columns with lists to string\n",
    "vehicle_df['manufacturer'] = vehicle_df['manufacturer'].astype('str')\n",
    "vehicle_df['model'] = vehicle_df['model'].astype('str')\n",
    "vehicle_df['class'] = vehicle_df['class'].astype('str')\n",
    "vehicle_df['length'] = vehicle_df['length'].astype('str')\n",
    "vehicle_df['crew'] = vehicle_df['crew'].astype('str')\n",
    "vehicle_df['owner(s)'] = vehicle_df['owner(s)'].astype('str')\n",
    "vehicle_df['affiliation'] = vehicle_df['affiliation'].astype('str')\n",
    "\n",
    "\n",
    "# create the Vehicles parquet\n",
    "\n",
    "vehicle_df.to_parquet('../WPscraped/StarWars_Vehicles.parquet', index=False)"
   ]
  },
  {
   "cell_type": "code",
   "execution_count": null,
   "metadata": {},
   "outputs": [],
   "source": []
  }
 ],
 "metadata": {
  "kernelspec": {
   "display_name": "base",
   "language": "python",
   "name": "python3"
  },
  "language_info": {
   "codemirror_mode": {
    "name": "ipython",
    "version": 3
   },
   "file_extension": ".py",
   "mimetype": "text/x-python",
   "name": "python",
   "nbconvert_exporter": "python",
   "pygments_lexer": "ipython3",
   "version": "3.10.9"
  },
  "orig_nbformat": 4
 },
 "nbformat": 4,
 "nbformat_minor": 2
}
