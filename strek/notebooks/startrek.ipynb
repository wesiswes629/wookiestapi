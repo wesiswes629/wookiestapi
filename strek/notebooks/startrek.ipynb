{
 "cells": [
  {
   "cell_type": "code",
   "execution_count": 17,
   "metadata": {},
   "outputs": [],
   "source": [
    "import stapi\n",
    "import requests\n",
    "from bs4 import BeautifulSoup as BS\n",
    "import pandas as pd\n",
    "import pickle\n",
    "import re\n",
    "from tqdm import tqdm\n",
    "from pathlib import Path\n",
    "import urllib\n",
    "import pyarrow"
   ]
  },
  {
   "cell_type": "code",
   "execution_count": 2,
   "metadata": {},
   "outputs": [
    {
     "name": "stdout",
     "output_type": "stream",
     "text": [
      "{'page': {'pageNumber': 0, 'pageSize': 50, 'numberOfElements': 50, 'totalElements': 63, 'totalPages': 2, 'firstPage': True, 'lastPage': False}, 'sort': {'clauses': []}, 'animals': [{'uid': 'ANMA0000028273', 'name': 'Arbazan vulture', 'earthAnimal': False, 'earthInsect': False, 'avian': True, 'canine': False, 'feline': False}, {'uid': 'ANMA0000022561', 'name': 'Arcturian dog bird', 'earthAnimal': False, 'earthInsect': False, 'avian': True, 'canine': False, 'feline': False}, {'uid': 'ANMA0000039166', 'name': 'Arkarian horn fowl', 'earthAnimal': False, 'earthInsect': False, 'avian': True, 'canine': False, 'feline': False}, {'uid': 'ANMA0000000111', 'name': 'Aurelian', 'earthAnimal': False, 'earthInsect': False, 'avian': True, 'canine': False, 'feline': False}, {'uid': 'ANMA0000086683', 'name': 'Baneriam hawk', 'earthAnimal': False, 'earthInsect': False, 'avian': True, 'canine': False, 'feline': False}, {'uid': 'ANMA0000231825', 'name': 'Betelgeusian', 'earthAnimal': False, 'earthInsect': False, 'avian': True, 'canine': False, 'feline': False}, {'uid': 'ANMA0000044752', 'name': 'Blackbird', 'earthAnimal': True, 'earthInsect': False, 'avian': True, 'canine': False, 'feline': False}, {'uid': 'ANMA0000222207', 'name': 'Borogove', 'earthAnimal': False, 'earthInsect': False, 'avian': True, 'canine': False, 'feline': False}, {'uid': 'ANMA0000229045', 'name': 'Buzzard', 'earthAnimal': True, 'earthInsect': False, 'avian': True, 'canine': False, 'feline': False}, {'uid': 'ANMA0000083765', 'name': 'Canary', 'earthAnimal': True, 'earthInsect': False, 'avian': True, 'canine': False, 'feline': False}, {'uid': 'ANMA0000030561', 'name': 'Chicken', 'earthAnimal': True, 'earthInsect': False, 'avian': True, 'canine': False, 'feline': False}, {'uid': 'ANMA0000101498', 'name': 'Cockatoo', 'earthAnimal': True, 'earthInsect': False, 'avian': True, 'canine': False, 'feline': False}, {'uid': 'ANMA0000206790', 'name': 'Corvidae', 'earthAnimal': False, 'earthInsect': False, 'avian': True, 'canine': False, 'feline': False}, {'uid': 'ANMA0000051211', 'name': 'Crow', 'earthAnimal': True, 'earthInsect': False, 'avian': True, 'canine': False, 'feline': False}, {'uid': 'ANMA0000200109', 'name': 'Cuckoo', 'earthAnimal': True, 'earthInsect': False, 'avian': True, 'canine': False, 'feline': False}, {'uid': 'ANMA0000240595', 'name': 'Cyclops owl', 'earthAnimal': False, 'earthInsect': False, 'avian': True, 'canine': False, 'feline': False}, {'uid': 'ANMA0000254535', 'name': 'Dove', 'earthAnimal': True, 'earthInsect': False, 'avian': True, 'canine': False, 'feline': False}, {'uid': 'ANMA0000031999', 'name': 'Duck', 'earthAnimal': True, 'earthInsect': False, 'avian': True, 'canine': False, 'feline': False}, {'uid': 'ANMA0000079699', 'name': 'Dunghill bird', 'earthAnimal': False, 'earthInsect': False, 'avian': True, 'canine': False, 'feline': False}, {'uid': 'ANMA0000116671', 'name': 'Eagle', 'earthAnimal': True, 'earthInsect': False, 'avian': True, 'canine': False, 'feline': False}, {'uid': 'ANMA0000016802', 'name': 'Eel-bird', 'earthAnimal': False, 'earthInsect': False, 'avian': True, 'canine': False, 'feline': False}, {'uid': 'ANMA0000165880', 'name': 'Finch', 'earthAnimal': True, 'earthInsect': False, 'avian': True, 'canine': False, 'feline': False}, {'uid': 'ANMA0000028278', 'name': 'Flitterbird', 'earthAnimal': False, 'earthInsect': False, 'avian': True, 'canine': False, 'feline': False}, {'uid': 'ANMA0000240950', 'name': 'Fowl', 'earthAnimal': False, 'earthInsect': False, 'avian': True, 'canine': False, 'feline': False}, {'uid': 'ANMA0000028292', 'name': 'Goose', 'earthAnimal': True, 'earthInsect': False, 'avian': True, 'canine': False, 'feline': False}, {'uid': 'ANMA0000109389', 'name': 'Great Egret', 'earthAnimal': True, 'earthInsect': False, 'avian': True, 'canine': False, 'feline': False}, {'uid': 'ANMA0000089288', 'name': 'Great Horned Owl', 'earthAnimal': True, 'earthInsect': False, 'avian': True, 'canine': False, 'feline': False}, {'uid': 'ANMA0000031960', 'name': 'Gunji jackdaw', 'earthAnimal': False, 'earthInsect': False, 'avian': True, 'canine': False, 'feline': False}, {'uid': 'ANMA0000031955', 'name': 'Hawk', 'earthAnimal': True, 'earthInsect': False, 'avian': True, 'canine': False, 'feline': False}, {'uid': 'ANMA0000012913', 'name': 'Humanoid bird', 'earthAnimal': False, 'earthInsect': False, 'avian': True, 'canine': False, 'feline': False}, {'uid': 'ANMA0000075740', 'name': 'Joranian ostrich', 'earthAnimal': False, 'earthInsect': False, 'avian': True, 'canine': False, 'feline': False}, {'uid': 'ANMA0000083768', 'name': 'Loon', 'earthAnimal': True, 'earthInsect': False, 'avian': True, 'canine': False, 'feline': False}, {'uid': 'ANMA0000243933', 'name': 'Lovebirds', 'earthAnimal': False, 'earthInsect': False, 'avian': True, 'canine': False, 'feline': False}, {'uid': 'ANMA0000082695', 'name': 'Luhvian quail', 'earthAnimal': False, 'earthInsect': False, 'avian': True, 'canine': False, 'feline': False}, {'uid': 'ANMA0000044245', 'name': 'Macaw', 'earthAnimal': True, 'earthInsect': False, 'avian': True, 'canine': False, 'feline': False}, {'uid': 'ANMA0000012895', 'name': 'Norpin falcon', 'earthAnimal': False, 'earthInsect': False, 'avian': True, 'canine': False, 'feline': False}, {'uid': 'ANMA0000078336', 'name': 'Parrot', 'earthAnimal': True, 'earthInsect': False, 'avian': True, 'canine': False, 'feline': False}, {'uid': 'ANMA0000041332', 'name': 'Passenger pigeon', 'earthAnimal': True, 'earthInsect': False, 'avian': True, 'canine': False, 'feline': False}, {'uid': 'ANMA0000101497', 'name': 'Peacock', 'earthAnimal': True, 'earthInsect': False, 'avian': True, 'canine': False, 'feline': False}, {'uid': 'ANMA0000080768', 'name': 'Pigeon', 'earthAnimal': True, 'earthInsect': False, 'avian': True, 'canine': False, 'feline': False}, {'uid': 'ANMA0000031953', 'name': 'Pyrithian moon hawk', 'earthAnimal': False, 'earthInsect': False, 'avian': True, 'canine': False, 'feline': False}, {'uid': 'ANMA0000053355', 'name': 'Quail', 'earthAnimal': True, 'earthInsect': False, 'avian': True, 'canine': False, 'feline': False}, {'uid': 'ANMA0000068707', 'name': 'Raptor', 'earthAnimal': False, 'earthInsect': False, 'avian': True, 'canine': False, 'feline': False}, {'uid': 'ANMA0000031942', 'name': 'Raven', 'earthAnimal': True, 'earthInsect': False, 'avian': True, 'canine': False, 'feline': False}, {'uid': 'ANMA0000042248', 'name': 'Rectilian vulture', 'earthAnimal': False, 'earthInsect': False, 'avian': True, 'canine': False, 'feline': False}, {'uid': 'ANMA0000031951', 'name': 'Reeta-hawk', 'earthAnimal': False, 'earthInsect': False, 'avian': True, 'canine': False, 'feline': False}, {'uid': 'ANMA0000037173', 'name': 'Risian bird', 'earthAnimal': False, 'earthInsect': False, 'avian': True, 'canine': False, 'feline': False}, {'uid': 'ANMA0000036227', 'name': 'Seagull', 'earthAnimal': True, 'earthInsect': False, 'avian': True, 'canine': False, 'feline': False}, {'uid': 'ANMA0000287781', 'name': 'Shrike', 'earthAnimal': True, 'earthInsect': False, 'avian': True, 'canine': False, 'feline': False}, {'uid': 'ANMA0000028706', 'name': 'Skorr', 'earthAnimal': False, 'earthInsect': False, 'avian': True, 'canine': False, 'feline': False}]}\n"
     ]
    }
   ],
   "source": [
    "# these are tests for the stapi.search\n",
    "criteria = stapi.search_criteria.AnimalSearchCriteria(0, 50, \"\", avian=True)\n",
    "response = stapi.RestClient().animal.search(criteria)\n",
    "# response now contains results from the API, in this case the first fifty animals which are avians\n",
    "print(response)"
   ]
  },
  {
   "cell_type": "code",
   "execution_count": 3,
   "metadata": {},
   "outputs": [
    {
     "data": {
      "text/plain": [
       "3"
      ]
     },
     "execution_count": 3,
     "metadata": {},
     "output_type": "execute_result"
    }
   ],
   "source": [
    "# test with larger file read\n",
    "criteria = stapi.search_criteria.AnimalSearchCriteria(0, 100, \"\", avian=True)\n",
    "response = stapi.RestClient().animal.search(criteria)\n",
    "len(response)"
   ]
  },
  {
   "cell_type": "code",
   "execution_count": 4,
   "metadata": {},
   "outputs": [
    {
     "data": {
      "text/plain": [
       "'PLANET'"
      ]
     },
     "execution_count": 4,
     "metadata": {},
     "output_type": "execute_result"
    }
   ],
   "source": [
    "rest_client = stapi.RestClient()\n",
    "loracus = rest_client.astronomicalObject.get(\"ASMA0000012319\")\n",
    "loracus.astronomicalObjectType"
   ]
  },
  {
   "cell_type": "code",
   "execution_count": 5,
   "metadata": {},
   "outputs": [
    {
     "name": "stdout",
     "output_type": "stream",
     "text": [
      "<stapi.full.AstronomicalObjectFull object at 0x000002AFBCBAFD00>\n",
      "['__class__', '__delattr__', '__dict__', '__dir__', '__doc__', '__eq__', '__format__', '__ge__', '__getattribute__', '__gt__', '__hash__', '__init__', '__init_subclass__', '__le__', '__lt__', '__module__', '__ne__', '__new__', '__reduce__', '__reduce_ex__', '__repr__', '__setattr__', '__sizeof__', '__str__', '__subclasshook__', '__weakref__', 'astronomicalObjectType', 'astronomicalObjects', 'location', 'name', 'uid']\n",
      "Loracus Prime\n"
     ]
    }
   ],
   "source": [
    "rc = stapi.RestClient()\n",
    "loracus = rc.astronomicalObject.get(\"ASMA0000012319\")\n",
    "print(loracus)\n",
    "print(dir(loracus))\n",
    "print(loracus.name)"
   ]
  },
  {
   "attachments": {},
   "cell_type": "markdown",
   "metadata": {},
   "source": [
    "We see Stapi is working, so let's try running Characters, Planets/Places, Species, Vehicles/Starships"
   ]
  },
  {
   "cell_type": "code",
   "execution_count": 6,
   "metadata": {},
   "outputs": [
    {
     "name": "stdout",
     "output_type": "stream",
     "text": [
      "{'page': {'pageNumber': 0, 'pageSize': 50, 'numberOfElements': 50, 'totalElements': 7571, 'totalPages': 152, 'firstPage': True, 'lastPage': False}, 'sort': {'clauses': []}, 'characters': [{'uid': 'CHMA0000215045', 'name': '0413 Theta', 'gender': None, 'yearOfBirth': None, 'monthOfBirth': None, 'dayOfBirth': None, 'placeOfBirth': None, 'yearOfDeath': None, 'monthOfDeath': None, 'dayOfDeath': None, 'placeOfDeath': None, 'height': None, 'weight': None, 'deceased': None, 'bloodType': None, 'maritalStatus': None, 'serialNumber': None, 'hologramActivationDate': None, 'hologramStatus': None, 'hologramDateStatus': None, 'hologram': False, 'fictionalCharacter': False, 'mirror': True, 'alternateReality': False}, {'uid': 'CHMA0000174718', 'name': '0718', 'gender': 'M', 'yearOfBirth': 2259, 'monthOfBirth': None, 'dayOfBirth': None, 'placeOfBirth': None, 'yearOfDeath': None, 'monthOfDeath': None, 'dayOfDeath': None, 'placeOfDeath': None, 'height': None, 'weight': None, 'deceased': None, 'bloodType': None, 'maritalStatus': None, 'serialNumber': None, 'hologramActivationDate': None, 'hologramStatus': None, 'hologramDateStatus': None, 'hologram': False, 'fictionalCharacter': False, 'mirror': False, 'alternateReality': True}, {'uid': 'CHMA0000283851', 'name': '10111', 'gender': None, 'yearOfBirth': None, 'monthOfBirth': None, 'dayOfBirth': None, 'placeOfBirth': None, 'yearOfDeath': None, 'monthOfDeath': None, 'dayOfDeath': None, 'placeOfDeath': None, 'height': None, 'weight': None, 'deceased': None, 'bloodType': None, 'maritalStatus': None, 'serialNumber': None, 'hologramActivationDate': None, 'hologramStatus': None, 'hologramDateStatus': None, 'hologram': False, 'fictionalCharacter': False, 'mirror': False, 'alternateReality': False}, {'uid': 'CHMA0000278055', 'name': '335', 'gender': None, 'yearOfBirth': None, 'monthOfBirth': None, 'dayOfBirth': None, 'placeOfBirth': None, 'yearOfDeath': None, 'monthOfDeath': None, 'dayOfDeath': None, 'placeOfDeath': None, 'height': None, 'weight': None, 'deceased': None, 'bloodType': None, 'maritalStatus': None, 'serialNumber': None, 'hologramActivationDate': None, 'hologramStatus': None, 'hologramDateStatus': None, 'hologram': False, 'fictionalCharacter': False, 'mirror': False, 'alternateReality': False}, {'uid': 'CHMA0000282741', 'name': '355', 'gender': None, 'yearOfBirth': None, 'monthOfBirth': None, 'dayOfBirth': None, 'placeOfBirth': None, 'yearOfDeath': None, 'monthOfDeath': None, 'dayOfDeath': None, 'placeOfDeath': None, 'height': None, 'weight': None, 'deceased': None, 'bloodType': None, 'maritalStatus': None, 'serialNumber': None, 'hologramActivationDate': None, 'hologramStatus': None, 'hologramDateStatus': None, 'hologram': False, 'fictionalCharacter': False, 'mirror': False, 'alternateReality': False}, {'uid': 'CHMA0000026532', 'name': \"A'trom\", 'gender': None, 'yearOfBirth': None, 'monthOfBirth': None, 'dayOfBirth': None, 'placeOfBirth': None, 'yearOfDeath': None, 'monthOfDeath': None, 'dayOfDeath': None, 'placeOfDeath': None, 'height': None, 'weight': None, 'deceased': None, 'bloodType': None, 'maritalStatus': None, 'serialNumber': None, 'hologramActivationDate': None, 'hologramStatus': None, 'hologramDateStatus': None, 'hologram': False, 'fictionalCharacter': False, 'mirror': False, 'alternateReality': False}, {'uid': 'CHMA0000280385', 'name': 'A. Armaganian', 'gender': None, 'yearOfBirth': None, 'monthOfBirth': None, 'dayOfBirth': None, 'placeOfBirth': None, 'yearOfDeath': None, 'monthOfDeath': None, 'dayOfDeath': None, 'placeOfDeath': None, 'height': None, 'weight': None, 'deceased': None, 'bloodType': None, 'maritalStatus': None, 'serialNumber': None, 'hologramActivationDate': None, 'hologramStatus': None, 'hologramDateStatus': None, 'hologram': False, 'fictionalCharacter': False, 'mirror': False, 'alternateReality': False}, {'uid': 'CHMA0000226457', 'name': 'A. Baiers', 'gender': None, 'yearOfBirth': None, 'monthOfBirth': None, 'dayOfBirth': None, 'placeOfBirth': None, 'yearOfDeath': None, 'monthOfDeath': None, 'dayOfDeath': None, 'placeOfDeath': None, 'height': None, 'weight': None, 'deceased': None, 'bloodType': None, 'maritalStatus': None, 'serialNumber': None, 'hologramActivationDate': None, 'hologramStatus': None, 'hologramDateStatus': None, 'hologram': False, 'fictionalCharacter': False, 'mirror': False, 'alternateReality': False}, {'uid': 'CHMA0000232390', 'name': 'A. Baiers', 'gender': None, 'yearOfBirth': None, 'monthOfBirth': None, 'dayOfBirth': None, 'placeOfBirth': None, 'yearOfDeath': None, 'monthOfDeath': None, 'dayOfDeath': None, 'placeOfDeath': None, 'height': None, 'weight': None, 'deceased': None, 'bloodType': None, 'maritalStatus': None, 'serialNumber': None, 'hologramActivationDate': None, 'hologramStatus': None, 'hologramDateStatus': None, 'hologram': False, 'fictionalCharacter': False, 'mirror': True, 'alternateReality': False}, {'uid': 'CHMA0000068580', 'name': 'A. Banda', 'gender': None, 'yearOfBirth': None, 'monthOfBirth': None, 'dayOfBirth': None, 'placeOfBirth': None, 'yearOfDeath': None, 'monthOfDeath': None, 'dayOfDeath': None, 'placeOfDeath': None, 'height': None, 'weight': None, 'deceased': None, 'bloodType': None, 'maritalStatus': None, 'serialNumber': None, 'hologramActivationDate': None, 'hologramStatus': None, 'hologramDateStatus': None, 'hologram': False, 'fictionalCharacter': False, 'mirror': False, 'alternateReality': False}, {'uid': 'CHMA0000053843', 'name': 'A. Bormanis', 'gender': None, 'yearOfBirth': None, 'monthOfBirth': None, 'dayOfBirth': None, 'placeOfBirth': None, 'yearOfDeath': None, 'monthOfDeath': None, 'dayOfDeath': None, 'placeOfDeath': None, 'height': None, 'weight': None, 'deceased': None, 'bloodType': None, 'maritalStatus': None, 'serialNumber': None, 'hologramActivationDate': None, 'hologramStatus': None, 'hologramDateStatus': None, 'hologram': False, 'fictionalCharacter': False, 'mirror': False, 'alternateReality': False}, {'uid': 'CHMA0000069222', 'name': 'A. Bro', 'gender': None, 'yearOfBirth': None, 'monthOfBirth': None, 'dayOfBirth': None, 'placeOfBirth': None, 'yearOfDeath': None, 'monthOfDeath': None, 'dayOfDeath': None, 'placeOfDeath': None, 'height': None, 'weight': None, 'deceased': None, 'bloodType': None, 'maritalStatus': None, 'serialNumber': None, 'hologramActivationDate': None, 'hologramStatus': None, 'hologramDateStatus': None, 'hologram': False, 'fictionalCharacter': False, 'mirror': False, 'alternateReality': False}, {'uid': 'CHMA0000280434', 'name': 'A. Brock', 'gender': None, 'yearOfBirth': None, 'monthOfBirth': None, 'dayOfBirth': None, 'placeOfBirth': None, 'yearOfDeath': None, 'monthOfDeath': None, 'dayOfDeath': None, 'placeOfDeath': None, 'height': None, 'weight': None, 'deceased': None, 'bloodType': None, 'maritalStatus': None, 'serialNumber': None, 'hologramActivationDate': None, 'hologramStatus': None, 'hologramDateStatus': None, 'hologram': False, 'fictionalCharacter': False, 'mirror': False, 'alternateReality': False}, {'uid': 'CHMA0000069227', 'name': 'A. Codron', 'gender': None, 'yearOfBirth': None, 'monthOfBirth': None, 'dayOfBirth': None, 'placeOfBirth': None, 'yearOfDeath': None, 'monthOfDeath': None, 'dayOfDeath': None, 'placeOfDeath': None, 'height': None, 'weight': None, 'deceased': None, 'bloodType': None, 'maritalStatus': None, 'serialNumber': None, 'hologramActivationDate': None, 'hologramStatus': None, 'hologramDateStatus': None, 'hologram': False, 'fictionalCharacter': False, 'mirror': False, 'alternateReality': False}, {'uid': 'CHMA0000226461', 'name': 'A. Coleite', 'gender': None, 'yearOfBirth': None, 'monthOfBirth': None, 'dayOfBirth': None, 'placeOfBirth': None, 'yearOfDeath': None, 'monthOfDeath': None, 'dayOfDeath': None, 'placeOfDeath': None, 'height': None, 'weight': None, 'deceased': None, 'bloodType': None, 'maritalStatus': None, 'serialNumber': None, 'hologramActivationDate': None, 'hologramStatus': None, 'hologramDateStatus': None, 'hologram': False, 'fictionalCharacter': False, 'mirror': False, 'alternateReality': False}, {'uid': 'CHMA0000232387', 'name': 'A. Coleite', 'gender': None, 'yearOfBirth': None, 'monthOfBirth': None, 'dayOfBirth': None, 'placeOfBirth': None, 'yearOfDeath': None, 'monthOfDeath': None, 'dayOfDeath': None, 'placeOfDeath': None, 'height': None, 'weight': None, 'deceased': None, 'bloodType': None, 'maritalStatus': None, 'serialNumber': None, 'hologramActivationDate': None, 'hologramStatus': None, 'hologramDateStatus': None, 'hologram': False, 'fictionalCharacter': False, 'mirror': True, 'alternateReality': False}, {'uid': 'CHMA0000245906', 'name': 'A. Colville', 'gender': None, 'yearOfBirth': None, 'monthOfBirth': None, 'dayOfBirth': None, 'placeOfBirth': None, 'yearOfDeath': None, 'monthOfDeath': None, 'dayOfDeath': None, 'placeOfDeath': None, 'height': None, 'weight': None, 'deceased': None, 'bloodType': None, 'maritalStatus': None, 'serialNumber': None, 'hologramActivationDate': None, 'hologramStatus': None, 'hologramDateStatus': None, 'hologram': False, 'fictionalCharacter': False, 'mirror': False, 'alternateReality': False}, {'uid': 'CHMA0000280373', 'name': 'A. Cooper', 'gender': None, 'yearOfBirth': None, 'monthOfBirth': None, 'dayOfBirth': None, 'placeOfBirth': None, 'yearOfDeath': None, 'monthOfDeath': None, 'dayOfDeath': None, 'placeOfDeath': None, 'height': None, 'weight': None, 'deceased': None, 'bloodType': None, 'maritalStatus': None, 'serialNumber': None, 'hologramActivationDate': None, 'hologramStatus': None, 'hologramDateStatus': None, 'hologram': False, 'fictionalCharacter': False, 'mirror': False, 'alternateReality': False}, {'uid': 'CHMA0000143026', 'name': 'A. Deguzman', 'gender': None, 'yearOfBirth': None, 'monthOfBirth': None, 'dayOfBirth': None, 'placeOfBirth': None, 'yearOfDeath': None, 'monthOfDeath': None, 'dayOfDeath': None, 'placeOfDeath': None, 'height': None, 'weight': None, 'deceased': None, 'bloodType': None, 'maritalStatus': None, 'serialNumber': None, 'hologramActivationDate': None, 'hologramStatus': None, 'hologramDateStatus': None, 'hologram': False, 'fictionalCharacter': False, 'mirror': False, 'alternateReality': False}, {'uid': 'CHMA0000250125', 'name': 'A. Dekovic', 'gender': None, 'yearOfBirth': None, 'monthOfBirth': None, 'dayOfBirth': None, 'placeOfBirth': None, 'yearOfDeath': None, 'monthOfDeath': None, 'dayOfDeath': None, 'placeOfDeath': None, 'height': None, 'weight': None, 'deceased': None, 'bloodType': None, 'maritalStatus': None, 'serialNumber': None, 'hologramActivationDate': None, 'hologramStatus': None, 'hologramDateStatus': None, 'hologram': False, 'fictionalCharacter': False, 'mirror': False, 'alternateReality': False}, {'uid': 'CHMA0000139474', 'name': 'A. Dominguez', 'gender': None, 'yearOfBirth': None, 'monthOfBirth': None, 'dayOfBirth': None, 'placeOfBirth': None, 'yearOfDeath': None, 'monthOfDeath': None, 'dayOfDeath': None, 'placeOfDeath': None, 'height': None, 'weight': None, 'deceased': None, 'bloodType': None, 'maritalStatus': None, 'serialNumber': None, 'hologramActivationDate': None, 'hologramStatus': None, 'hologramDateStatus': None, 'hologram': False, 'fictionalCharacter': False, 'mirror': False, 'alternateReality': False}, {'uid': 'CHMA0000110557', 'name': 'A. Eastman', 'gender': None, 'yearOfBirth': None, 'monthOfBirth': None, 'dayOfBirth': None, 'placeOfBirth': None, 'yearOfDeath': None, 'monthOfDeath': None, 'dayOfDeath': None, 'placeOfDeath': None, 'height': None, 'weight': None, 'deceased': None, 'bloodType': None, 'maritalStatus': None, 'serialNumber': None, 'hologramActivationDate': None, 'hologramStatus': None, 'hologramDateStatus': None, 'hologram': False, 'fictionalCharacter': False, 'mirror': False, 'alternateReality': False}, {'uid': 'CHMA0000068579', 'name': 'A. Estradajem', 'gender': None, 'yearOfBirth': None, 'monthOfBirth': None, 'dayOfBirth': None, 'placeOfBirth': None, 'yearOfDeath': None, 'monthOfDeath': None, 'dayOfDeath': None, 'placeOfDeath': None, 'height': None, 'weight': None, 'deceased': None, 'bloodType': None, 'maritalStatus': None, 'serialNumber': None, 'hologramActivationDate': None, 'hologramStatus': None, 'hologramDateStatus': None, 'hologram': False, 'fictionalCharacter': False, 'mirror': False, 'alternateReality': False}, {'uid': 'CHMA0000279362', 'name': 'A. Finch', 'gender': None, 'yearOfBirth': None, 'monthOfBirth': None, 'dayOfBirth': None, 'placeOfBirth': None, 'yearOfDeath': None, 'monthOfDeath': None, 'dayOfDeath': None, 'placeOfDeath': None, 'height': None, 'weight': None, 'deceased': None, 'bloodType': None, 'maritalStatus': None, 'serialNumber': None, 'hologramActivationDate': None, 'hologramStatus': None, 'hologramDateStatus': None, 'hologram': False, 'fictionalCharacter': False, 'mirror': False, 'alternateReality': False}, {'uid': 'CHMA0000055407', 'name': 'A. Fredrickson', 'gender': None, 'yearOfBirth': None, 'monthOfBirth': None, 'dayOfBirth': None, 'placeOfBirth': None, 'yearOfDeath': None, 'monthOfDeath': None, 'dayOfDeath': None, 'placeOfDeath': None, 'height': None, 'weight': None, 'deceased': None, 'bloodType': None, 'maritalStatus': None, 'serialNumber': None, 'hologramActivationDate': None, 'hologramStatus': None, 'hologramDateStatus': None, 'hologram': False, 'fictionalCharacter': False, 'mirror': False, 'alternateReality': False}, {'uid': 'CHMA0000069363', 'name': 'A. Fredrickson', 'gender': None, 'yearOfBirth': None, 'monthOfBirth': None, 'dayOfBirth': None, 'placeOfBirth': None, 'yearOfDeath': None, 'monthOfDeath': None, 'dayOfDeath': None, 'placeOfDeath': None, 'height': None, 'weight': None, 'deceased': None, 'bloodType': None, 'maritalStatus': None, 'serialNumber': None, 'hologramActivationDate': None, 'hologramStatus': None, 'hologramDateStatus': None, 'hologram': False, 'fictionalCharacter': False, 'mirror': False, 'alternateReality': False}, {'uid': 'CHMA0000052542', 'name': 'A. Fukai', 'gender': None, 'yearOfBirth': None, 'monthOfBirth': None, 'dayOfBirth': None, 'placeOfBirth': None, 'yearOfDeath': None, 'monthOfDeath': None, 'dayOfDeath': None, 'placeOfDeath': None, 'height': None, 'weight': None, 'deceased': None, 'bloodType': None, 'maritalStatus': None, 'serialNumber': None, 'hologramActivationDate': None, 'hologramStatus': None, 'hologramDateStatus': None, 'hologram': False, 'fictionalCharacter': False, 'mirror': False, 'alternateReality': False}, {'uid': 'CHMA0000190813', 'name': 'A. Geary', 'gender': None, 'yearOfBirth': None, 'monthOfBirth': None, 'dayOfBirth': None, 'placeOfBirth': None, 'yearOfDeath': None, 'monthOfDeath': None, 'dayOfDeath': None, 'placeOfDeath': None, 'height': None, 'weight': None, 'deceased': None, 'bloodType': None, 'maritalStatus': None, 'serialNumber': None, 'hologramActivationDate': None, 'hologramStatus': None, 'hologramDateStatus': None, 'hologram': False, 'fictionalCharacter': False, 'mirror': False, 'alternateReality': False}, {'uid': 'CHMA0000226465', 'name': 'A. Goldsman', 'gender': None, 'yearOfBirth': None, 'monthOfBirth': None, 'dayOfBirth': None, 'placeOfBirth': None, 'yearOfDeath': None, 'monthOfDeath': None, 'dayOfDeath': None, 'placeOfDeath': None, 'height': None, 'weight': None, 'deceased': None, 'bloodType': None, 'maritalStatus': None, 'serialNumber': None, 'hologramActivationDate': None, 'hologramStatus': None, 'hologramDateStatus': None, 'hologram': False, 'fictionalCharacter': False, 'mirror': False, 'alternateReality': False}, {'uid': 'CHMA0000232381', 'name': 'A. Goldsman', 'gender': None, 'yearOfBirth': None, 'monthOfBirth': None, 'dayOfBirth': None, 'placeOfBirth': None, 'yearOfDeath': None, 'monthOfDeath': None, 'dayOfDeath': None, 'placeOfDeath': None, 'height': None, 'weight': None, 'deceased': None, 'bloodType': None, 'maritalStatus': None, 'serialNumber': None, 'hologramActivationDate': None, 'hologramStatus': None, 'hologramDateStatus': None, 'hologram': False, 'fictionalCharacter': False, 'mirror': True, 'alternateReality': False}, {'uid': 'CHMA0000226466', 'name': 'A. Harberts', 'gender': None, 'yearOfBirth': None, 'monthOfBirth': None, 'dayOfBirth': None, 'placeOfBirth': None, 'yearOfDeath': None, 'monthOfDeath': None, 'dayOfDeath': None, 'placeOfDeath': None, 'height': None, 'weight': None, 'deceased': None, 'bloodType': None, 'maritalStatus': None, 'serialNumber': None, 'hologramActivationDate': None, 'hologramStatus': None, 'hologramDateStatus': None, 'hologram': False, 'fictionalCharacter': False, 'mirror': False, 'alternateReality': False}, {'uid': 'CHMA0000232380', 'name': 'A. Harberts', 'gender': None, 'yearOfBirth': None, 'monthOfBirth': None, 'dayOfBirth': None, 'placeOfBirth': None, 'yearOfDeath': None, 'monthOfDeath': None, 'dayOfDeath': None, 'placeOfDeath': None, 'height': None, 'weight': None, 'deceased': None, 'bloodType': None, 'maritalStatus': None, 'serialNumber': None, 'hologramActivationDate': None, 'hologramStatus': None, 'hologramDateStatus': None, 'hologram': False, 'fictionalCharacter': False, 'mirror': True, 'alternateReality': False}, {'uid': 'CHMA0000236588', 'name': 'A. Haye', 'gender': None, 'yearOfBirth': None, 'monthOfBirth': None, 'dayOfBirth': None, 'placeOfBirth': None, 'yearOfDeath': None, 'monthOfDeath': None, 'dayOfDeath': None, 'placeOfDeath': None, 'height': None, 'weight': None, 'deceased': None, 'bloodType': None, 'maritalStatus': None, 'serialNumber': None, 'hologramActivationDate': None, 'hologramStatus': None, 'hologramDateStatus': None, 'hologram': False, 'fictionalCharacter': False, 'mirror': False, 'alternateReality': False}, {'uid': 'CHMA0000093598', 'name': 'A. Henry', 'gender': None, 'yearOfBirth': None, 'monthOfBirth': None, 'dayOfBirth': None, 'placeOfBirth': None, 'yearOfDeath': None, 'monthOfDeath': None, 'dayOfDeath': None, 'placeOfDeath': None, 'height': None, 'weight': None, 'deceased': None, 'bloodType': None, 'maritalStatus': None, 'serialNumber': None, 'hologramActivationDate': None, 'hologramStatus': None, 'hologramDateStatus': None, 'hologram': False, 'fictionalCharacter': False, 'mirror': False, 'alternateReality': False}, {'uid': 'CHMA0000097273', 'name': 'A. Jacobson', 'gender': None, 'yearOfBirth': None, 'monthOfBirth': None, 'dayOfBirth': None, 'placeOfBirth': None, 'yearOfDeath': None, 'monthOfDeath': None, 'dayOfDeath': None, 'placeOfDeath': None, 'height': None, 'weight': None, 'deceased': None, 'bloodType': None, 'maritalStatus': None, 'serialNumber': None, 'hologramActivationDate': None, 'hologramStatus': None, 'hologramDateStatus': None, 'hologram': False, 'fictionalCharacter': False, 'mirror': False, 'alternateReality': False}, {'uid': 'CHMA0000278580', 'name': 'A. Jacobson', 'gender': None, 'yearOfBirth': None, 'monthOfBirth': None, 'dayOfBirth': None, 'placeOfBirth': None, 'yearOfDeath': None, 'monthOfDeath': None, 'dayOfDeath': None, 'placeOfDeath': None, 'height': None, 'weight': None, 'deceased': None, 'bloodType': None, 'maritalStatus': None, 'serialNumber': None, 'hologramActivationDate': None, 'hologramStatus': None, 'hologramDateStatus': None, 'hologram': False, 'fictionalCharacter': False, 'mirror': True, 'alternateReality': False}, {'uid': 'CHMA0000069199', 'name': 'A. Jacque-Metton', 'gender': None, 'yearOfBirth': None, 'monthOfBirth': None, 'dayOfBirth': None, 'placeOfBirth': None, 'yearOfDeath': None, 'monthOfDeath': None, 'dayOfDeath': None, 'placeOfDeath': None, 'height': None, 'weight': None, 'deceased': None, 'bloodType': None, 'maritalStatus': None, 'serialNumber': None, 'hologramActivationDate': None, 'hologramStatus': None, 'hologramDateStatus': None, 'hologram': False, 'fictionalCharacter': False, 'mirror': False, 'alternateReality': False}, {'uid': 'CHMA0000069221', 'name': 'A. Kay', 'gender': None, 'yearOfBirth': None, 'monthOfBirth': None, 'dayOfBirth': None, 'placeOfBirth': None, 'yearOfDeath': None, 'monthOfDeath': None, 'dayOfDeath': None, 'placeOfDeath': None, 'height': None, 'weight': None, 'deceased': None, 'bloodType': None, 'maritalStatus': None, 'serialNumber': None, 'hologramActivationDate': None, 'hologramStatus': None, 'hologramDateStatus': None, 'hologram': False, 'fictionalCharacter': False, 'mirror': False, 'alternateReality': False}, {'uid': 'CHMA0000139668', 'name': 'A. Kobayashi', 'gender': None, 'yearOfBirth': None, 'monthOfBirth': None, 'dayOfBirth': None, 'placeOfBirth': None, 'yearOfDeath': None, 'monthOfDeath': None, 'dayOfDeath': None, 'placeOfDeath': None, 'height': None, 'weight': None, 'deceased': None, 'bloodType': None, 'maritalStatus': None, 'serialNumber': None, 'hologramActivationDate': None, 'hologramStatus': None, 'hologramDateStatus': None, 'hologram': False, 'fictionalCharacter': False, 'mirror': False, 'alternateReality': False}, {'uid': 'CHMA0000245733', 'name': 'A. Kochoska', 'gender': None, 'yearOfBirth': None, 'monthOfBirth': None, 'dayOfBirth': None, 'placeOfBirth': None, 'yearOfDeath': None, 'monthOfDeath': None, 'dayOfDeath': None, 'placeOfDeath': None, 'height': None, 'weight': None, 'deceased': None, 'bloodType': None, 'maritalStatus': None, 'serialNumber': None, 'hologramActivationDate': None, 'hologramStatus': None, 'hologramDateStatus': None, 'hologram': False, 'fictionalCharacter': False, 'mirror': False, 'alternateReality': False}, {'uid': 'CHMA0000190736', 'name': 'A. Kroeker', 'gender': None, 'yearOfBirth': None, 'monthOfBirth': None, 'dayOfBirth': None, 'placeOfBirth': None, 'yearOfDeath': None, 'monthOfDeath': None, 'dayOfDeath': None, 'placeOfDeath': None, 'height': None, 'weight': None, 'deceased': None, 'bloodType': None, 'maritalStatus': None, 'serialNumber': None, 'hologramActivationDate': None, 'hologramStatus': None, 'hologramDateStatus': None, 'hologram': False, 'fictionalCharacter': False, 'mirror': False, 'alternateReality': False}, {'uid': 'CHMA0000226470', 'name': 'A. Kurtzman', 'gender': None, 'yearOfBirth': None, 'monthOfBirth': None, 'dayOfBirth': None, 'placeOfBirth': None, 'yearOfDeath': None, 'monthOfDeath': None, 'dayOfDeath': None, 'placeOfDeath': None, 'height': None, 'weight': None, 'deceased': None, 'bloodType': None, 'maritalStatus': None, 'serialNumber': None, 'hologramActivationDate': None, 'hologramStatus': None, 'hologramDateStatus': None, 'hologram': False, 'fictionalCharacter': False, 'mirror': False, 'alternateReality': False}, {'uid': 'CHMA0000232377', 'name': 'A. Kurtzman', 'gender': None, 'yearOfBirth': None, 'monthOfBirth': None, 'dayOfBirth': None, 'placeOfBirth': None, 'yearOfDeath': None, 'monthOfDeath': None, 'dayOfDeath': None, 'placeOfDeath': None, 'height': None, 'weight': None, 'deceased': None, 'bloodType': None, 'maritalStatus': None, 'serialNumber': None, 'hologramActivationDate': None, 'hologramStatus': None, 'hologramDateStatus': None, 'hologram': False, 'fictionalCharacter': False, 'mirror': True, 'alternateReality': False}, {'uid': 'CHMA0000167481', 'name': 'A. Lambert', 'gender': None, 'yearOfBirth': None, 'monthOfBirth': None, 'dayOfBirth': None, 'placeOfBirth': None, 'yearOfDeath': None, 'monthOfDeath': None, 'dayOfDeath': None, 'placeOfDeath': None, 'height': None, 'weight': None, 'deceased': None, 'bloodType': None, 'maritalStatus': None, 'serialNumber': None, 'hologramActivationDate': None, 'hologramStatus': None, 'hologramDateStatus': None, 'hologram': False, 'fictionalCharacter': False, 'mirror': False, 'alternateReality': False}, {'uid': 'CHMA0000139320', 'name': 'A. Levy', 'gender': None, 'yearOfBirth': None, 'monthOfBirth': None, 'dayOfBirth': None, 'placeOfBirth': None, 'yearOfDeath': None, 'monthOfDeath': None, 'dayOfDeath': None, 'placeOfDeath': None, 'height': None, 'weight': None, 'deceased': None, 'bloodType': None, 'maritalStatus': None, 'serialNumber': None, 'hologramActivationDate': None, 'hologramStatus': None, 'hologramDateStatus': None, 'hologram': False, 'fictionalCharacter': False, 'mirror': False, 'alternateReality': False}, {'uid': 'CHMA0000280429', 'name': 'A. Li', 'gender': None, 'yearOfBirth': None, 'monthOfBirth': None, 'dayOfBirth': None, 'placeOfBirth': None, 'yearOfDeath': None, 'monthOfDeath': None, 'dayOfDeath': None, 'placeOfDeath': None, 'height': None, 'weight': None, 'deceased': None, 'bloodType': None, 'maritalStatus': None, 'serialNumber': None, 'hologramActivationDate': None, 'hologramStatus': None, 'hologramDateStatus': None, 'hologram': False, 'fictionalCharacter': False, 'mirror': False, 'alternateReality': False}, {'uid': 'CHMA0000250123', 'name': 'A. Loo', 'gender': None, 'yearOfBirth': None, 'monthOfBirth': None, 'dayOfBirth': None, 'placeOfBirth': None, 'yearOfDeath': None, 'monthOfDeath': None, 'dayOfDeath': None, 'placeOfDeath': None, 'height': None, 'weight': None, 'deceased': None, 'bloodType': None, 'maritalStatus': None, 'serialNumber': None, 'hologramActivationDate': None, 'hologramStatus': None, 'hologramDateStatus': None, 'hologram': False, 'fictionalCharacter': False, 'mirror': False, 'alternateReality': False}, {'uid': 'CHMA0000280401', 'name': 'A. Ma', 'gender': None, 'yearOfBirth': None, 'monthOfBirth': None, 'dayOfBirth': None, 'placeOfBirth': None, 'yearOfDeath': None, 'monthOfDeath': None, 'dayOfDeath': None, 'placeOfDeath': None, 'height': None, 'weight': None, 'deceased': None, 'bloodType': None, 'maritalStatus': None, 'serialNumber': None, 'hologramActivationDate': None, 'hologramStatus': None, 'hologramDateStatus': None, 'hologram': False, 'fictionalCharacter': False, 'mirror': False, 'alternateReality': False}, {'uid': 'CHMA0000280441', 'name': 'A. MacKenzie', 'gender': None, 'yearOfBirth': None, 'monthOfBirth': None, 'dayOfBirth': None, 'placeOfBirth': None, 'yearOfDeath': None, 'monthOfDeath': None, 'dayOfDeath': None, 'placeOfDeath': None, 'height': None, 'weight': None, 'deceased': None, 'bloodType': None, 'maritalStatus': None, 'serialNumber': None, 'hologramActivationDate': None, 'hologramStatus': None, 'hologramDateStatus': None, 'hologram': False, 'fictionalCharacter': False, 'mirror': False, 'alternateReality': False}, {'uid': 'CHMA0000280396', 'name': 'A. Malee Van Koeverden', 'gender': None, 'yearOfBirth': None, 'monthOfBirth': None, 'dayOfBirth': None, 'placeOfBirth': None, 'yearOfDeath': None, 'monthOfDeath': None, 'dayOfDeath': None, 'placeOfDeath': None, 'height': None, 'weight': None, 'deceased': None, 'bloodType': None, 'maritalStatus': None, 'serialNumber': None, 'hologramActivationDate': None, 'hologramStatus': None, 'hologramDateStatus': None, 'hologram': False, 'fictionalCharacter': False, 'mirror': False, 'alternateReality': False}]}\n"
     ]
    }
   ],
   "source": [
    "# try search for characters\n",
    "\n",
    "criteria = stapi.search_criteria.CharacterSearchCriteria(pageNumber=0, pageSize=500, sort=\"\")\n",
    "response = stapi.RestClient().character.search(criteria)\n",
    "print(response)"
   ]
  },
  {
   "cell_type": "code",
   "execution_count": 7,
   "metadata": {},
   "outputs": [],
   "source": [
    "# creating a loop to run continuously to pull all characters to a dictionary\n",
    "\n",
    "characters = {}\n",
    "page_number = 0\n",
    "page_size = 1000\n",
    "\n",
    "while True:\n",
    "    criteria = stapi.search_criteria.CharacterSearchCriteria(pageNumber=page_number, pageSize=page_size, sort=\"\")\n",
    "    response = stapi.RestClient().character.search(criteria)\n",
    "    if not response['characters']:\n",
    "        break\n",
    "    for character in response['characters']:\n",
    "        characters[character['uid']] = {\n",
    "            'name': character['name'],\n",
    "            'gender': character.get('gender'),\n",
    "            'height': character.get('height'),\n",
    "            'weight': character.get('weight'),\n",
    "            'bloodType': character.get('bloodType'),\n",
    "            'maritalStatus': character.get('maritalStatus')\n",
    "        }\n",
    "    page_number += 1"
   ]
  },
  {
   "cell_type": "code",
   "execution_count": 10,
   "metadata": {},
   "outputs": [],
   "source": [
    "# create a dataframe from the star trek character dictionary\n",
    "st_chars = pd.DataFrame(characters)\n",
    "\n",
    "# transpose dataframe\n",
    "st_chars = st_chars.T"
   ]
  },
  {
   "cell_type": "code",
   "execution_count": 11,
   "metadata": {},
   "outputs": [
    {
     "data": {
      "text/html": [
       "<div>\n",
       "<style scoped>\n",
       "    .dataframe tbody tr th:only-of-type {\n",
       "        vertical-align: middle;\n",
       "    }\n",
       "\n",
       "    .dataframe tbody tr th {\n",
       "        vertical-align: top;\n",
       "    }\n",
       "\n",
       "    .dataframe thead th {\n",
       "        text-align: right;\n",
       "    }\n",
       "</style>\n",
       "<table border=\"1\" class=\"dataframe\">\n",
       "  <thead>\n",
       "    <tr style=\"text-align: right;\">\n",
       "      <th></th>\n",
       "      <th>name</th>\n",
       "      <th>gender</th>\n",
       "      <th>height</th>\n",
       "      <th>weight</th>\n",
       "      <th>bloodType</th>\n",
       "      <th>maritalStatus</th>\n",
       "    </tr>\n",
       "  </thead>\n",
       "  <tbody>\n",
       "    <tr>\n",
       "      <th>CHMA0000215045</th>\n",
       "      <td>0413 Theta</td>\n",
       "      <td>None</td>\n",
       "      <td>None</td>\n",
       "      <td>None</td>\n",
       "      <td>None</td>\n",
       "      <td>None</td>\n",
       "    </tr>\n",
       "    <tr>\n",
       "      <th>CHMA0000174718</th>\n",
       "      <td>0718</td>\n",
       "      <td>M</td>\n",
       "      <td>None</td>\n",
       "      <td>None</td>\n",
       "      <td>None</td>\n",
       "      <td>None</td>\n",
       "    </tr>\n",
       "    <tr>\n",
       "      <th>CHMA0000283851</th>\n",
       "      <td>10111</td>\n",
       "      <td>None</td>\n",
       "      <td>None</td>\n",
       "      <td>None</td>\n",
       "      <td>None</td>\n",
       "      <td>None</td>\n",
       "    </tr>\n",
       "    <tr>\n",
       "      <th>CHMA0000278055</th>\n",
       "      <td>335</td>\n",
       "      <td>None</td>\n",
       "      <td>None</td>\n",
       "      <td>None</td>\n",
       "      <td>None</td>\n",
       "      <td>None</td>\n",
       "    </tr>\n",
       "    <tr>\n",
       "      <th>CHMA0000282741</th>\n",
       "      <td>355</td>\n",
       "      <td>None</td>\n",
       "      <td>None</td>\n",
       "      <td>None</td>\n",
       "      <td>None</td>\n",
       "      <td>None</td>\n",
       "    </tr>\n",
       "    <tr>\n",
       "      <th>...</th>\n",
       "      <td>...</td>\n",
       "      <td>...</td>\n",
       "      <td>...</td>\n",
       "      <td>...</td>\n",
       "      <td>...</td>\n",
       "      <td>...</td>\n",
       "    </tr>\n",
       "    <tr>\n",
       "      <th>CHMA0000011445</th>\n",
       "      <td>Zorn</td>\n",
       "      <td>M</td>\n",
       "      <td>None</td>\n",
       "      <td>None</td>\n",
       "      <td>None</td>\n",
       "      <td>None</td>\n",
       "    </tr>\n",
       "    <tr>\n",
       "      <th>CHMA0000128774</th>\n",
       "      <td>Zoumas</td>\n",
       "      <td>M</td>\n",
       "      <td>None</td>\n",
       "      <td>None</td>\n",
       "      <td>None</td>\n",
       "      <td>None</td>\n",
       "    </tr>\n",
       "    <tr>\n",
       "      <th>CHMA0000281049</th>\n",
       "      <td>Zuniga</td>\n",
       "      <td>None</td>\n",
       "      <td>None</td>\n",
       "      <td>None</td>\n",
       "      <td>None</td>\n",
       "      <td>None</td>\n",
       "    </tr>\n",
       "    <tr>\n",
       "      <th>CHMA0000006133</th>\n",
       "      <td>Zyree</td>\n",
       "      <td>F</td>\n",
       "      <td>None</td>\n",
       "      <td>None</td>\n",
       "      <td>None</td>\n",
       "      <td>None</td>\n",
       "    </tr>\n",
       "    <tr>\n",
       "      <th>CHMA0000278244</th>\n",
       "      <td>Édith Piaf</td>\n",
       "      <td>None</td>\n",
       "      <td>None</td>\n",
       "      <td>None</td>\n",
       "      <td>None</td>\n",
       "      <td>None</td>\n",
       "    </tr>\n",
       "  </tbody>\n",
       "</table>\n",
       "<p>7571 rows × 6 columns</p>\n",
       "</div>"
      ],
      "text/plain": [
       "                      name gender height weight bloodType maritalStatus\n",
       "CHMA0000215045  0413 Theta   None   None   None      None          None\n",
       "CHMA0000174718        0718      M   None   None      None          None\n",
       "CHMA0000283851       10111   None   None   None      None          None\n",
       "CHMA0000278055         335   None   None   None      None          None\n",
       "CHMA0000282741         355   None   None   None      None          None\n",
       "...                    ...    ...    ...    ...       ...           ...\n",
       "CHMA0000011445        Zorn      M   None   None      None          None\n",
       "CHMA0000128774      Zoumas      M   None   None      None          None\n",
       "CHMA0000281049      Zuniga   None   None   None      None          None\n",
       "CHMA0000006133       Zyree      F   None   None      None          None\n",
       "CHMA0000278244  Édith Piaf   None   None   None      None          None\n",
       "\n",
       "[7571 rows x 6 columns]"
      ]
     },
     "execution_count": 11,
     "metadata": {},
     "output_type": "execute_result"
    }
   ],
   "source": [
    "# view dataframe\n",
    "st_chars"
   ]
  },
  {
   "cell_type": "code",
   "execution_count": 13,
   "metadata": {},
   "outputs": [
    {
     "name": "stdout",
     "output_type": "stream",
     "text": [
      "<class 'pandas.core.frame.DataFrame'>\n",
      "Index: 7571 entries, CHMA0000215045 to CHMA0000278244\n",
      "Data columns (total 6 columns):\n",
      " #   Column         Non-Null Count  Dtype \n",
      "---  ------         --------------  ----- \n",
      " 0   name           7571 non-null   object\n",
      " 1   gender         1146 non-null   object\n",
      " 2   height         66 non-null     object\n",
      " 3   weight         49 non-null     object\n",
      " 4   bloodType      9 non-null      object\n",
      " 5   maritalStatus  366 non-null    object\n",
      "dtypes: object(6)\n",
      "memory usage: 414.0+ KB\n"
     ]
    }
   ],
   "source": [
    "# view dataframe info\n",
    "st_chars.info()"
   ]
  },
  {
   "cell_type": "code",
   "execution_count": 24,
   "metadata": {},
   "outputs": [],
   "source": [
    "# save star trek characters to parquet\n",
    "\n",
    "st_chars.to_parquet('C:/Users/musta/Documents/DA8/Capstone/wookiestapi/WPscraped/StarTrek_Characters.parquet', index=False)"
   ]
  },
  {
   "cell_type": "code",
   "execution_count": null,
   "metadata": {},
   "outputs": [],
   "source": []
  }
 ],
 "metadata": {
  "kernelspec": {
   "display_name": "base",
   "language": "python",
   "name": "python3"
  },
  "language_info": {
   "codemirror_mode": {
    "name": "ipython",
    "version": 3
   },
   "file_extension": ".py",
   "mimetype": "text/x-python",
   "name": "python",
   "nbconvert_exporter": "python",
   "pygments_lexer": "ipython3",
   "version": "3.10.9"
  },
  "orig_nbformat": 4
 },
 "nbformat": 4,
 "nbformat_minor": 2
}
