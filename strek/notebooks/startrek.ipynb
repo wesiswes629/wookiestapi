{
 "cells": [
  {
   "cell_type": "code",
   "execution_count": 1,
   "metadata": {},
   "outputs": [],
   "source": [
    "import stapi\n",
    "criteria = stapi.search_criteria.AnimalSearchCriteria(0, 50, \"\", avian=True)\n",
    "response = stapi.RestClient().animal.search(criteria)\n",
    "# response now contains results from the API, in this case the first fifty animals which are avians\n"
   ]
  },
  {
   "cell_type": "code",
   "execution_count": 2,
   "metadata": {},
   "outputs": [
    {
     "name": "stdout",
     "output_type": "stream",
     "text": [
      "<stapi.search_criteria.AnimalSearchCriteria object at 0x000002B4336E3610>\n"
     ]
    }
   ],
   "source": [
    "print(criteria)"
   ]
  },
  {
   "cell_type": "code",
   "execution_count": 3,
   "metadata": {},
   "outputs": [
    {
     "name": "stdout",
     "output_type": "stream",
     "text": [
      "{'page': {'pageNumber': 0, 'pageSize': 50, 'numberOfElements': 50, 'totalElements': 62, 'totalPages': 2, 'firstPage': True, 'lastPage': False}, 'sort': {'clauses': []}, 'animals': [{'uid': 'ANMA0000028273', 'name': 'Arbazan vulture', 'earthAnimal': False, 'earthInsect': False, 'avian': True, 'canine': False, 'feline': False}, {'uid': 'ANMA0000022561', 'name': 'Arcturian dog bird', 'earthAnimal': False, 'earthInsect': False, 'avian': True, 'canine': False, 'feline': False}, {'uid': 'ANMA0000039166', 'name': 'Arkarian horn fowl', 'earthAnimal': False, 'earthInsect': False, 'avian': True, 'canine': False, 'feline': False}, {'uid': 'ANMA0000000111', 'name': 'Aurelian', 'earthAnimal': False, 'earthInsect': False, 'avian': True, 'canine': False, 'feline': False}, {'uid': 'ANMA0000086683', 'name': 'Baneriam hawk', 'earthAnimal': False, 'earthInsect': False, 'avian': True, 'canine': False, 'feline': False}, {'uid': 'ANMA0000231825', 'name': 'Betelgeusian', 'earthAnimal': False, 'earthInsect': False, 'avian': True, 'canine': False, 'feline': False}, {'uid': 'ANMA0000044752', 'name': 'Blackbird', 'earthAnimal': True, 'earthInsect': False, 'avian': True, 'canine': False, 'feline': False}, {'uid': 'ANMA0000222207', 'name': 'Borogove', 'earthAnimal': False, 'earthInsect': False, 'avian': True, 'canine': False, 'feline': False}, {'uid': 'ANMA0000229045', 'name': 'Buzzard', 'earthAnimal': True, 'earthInsect': False, 'avian': True, 'canine': False, 'feline': False}, {'uid': 'ANMA0000083765', 'name': 'Canary', 'earthAnimal': True, 'earthInsect': False, 'avian': True, 'canine': False, 'feline': False}, {'uid': 'ANMA0000030561', 'name': 'Chicken', 'earthAnimal': True, 'earthInsect': False, 'avian': True, 'canine': False, 'feline': False}, {'uid': 'ANMA0000101498', 'name': 'Cockatoo', 'earthAnimal': True, 'earthInsect': False, 'avian': True, 'canine': False, 'feline': False}, {'uid': 'ANMA0000206790', 'name': 'Corvidae', 'earthAnimal': False, 'earthInsect': False, 'avian': True, 'canine': False, 'feline': False}, {'uid': 'ANMA0000051211', 'name': 'Crow', 'earthAnimal': True, 'earthInsect': False, 'avian': True, 'canine': False, 'feline': False}, {'uid': 'ANMA0000200109', 'name': 'Cuckoo', 'earthAnimal': True, 'earthInsect': False, 'avian': True, 'canine': False, 'feline': False}, {'uid': 'ANMA0000240595', 'name': 'Cyclops owl', 'earthAnimal': False, 'earthInsect': False, 'avian': True, 'canine': False, 'feline': False}, {'uid': 'ANMA0000254535', 'name': 'Dove', 'earthAnimal': True, 'earthInsect': False, 'avian': True, 'canine': False, 'feline': False}, {'uid': 'ANMA0000031999', 'name': 'Duck', 'earthAnimal': True, 'earthInsect': False, 'avian': True, 'canine': False, 'feline': False}, {'uid': 'ANMA0000079699', 'name': 'Dunghill bird', 'earthAnimal': False, 'earthInsect': False, 'avian': True, 'canine': False, 'feline': False}, {'uid': 'ANMA0000116671', 'name': 'Eagle', 'earthAnimal': True, 'earthInsect': False, 'avian': True, 'canine': False, 'feline': False}, {'uid': 'ANMA0000016802', 'name': 'Eel-bird', 'earthAnimal': False, 'earthInsect': False, 'avian': True, 'canine': False, 'feline': False}, {'uid': 'ANMA0000165880', 'name': 'Finch', 'earthAnimal': True, 'earthInsect': False, 'avian': True, 'canine': False, 'feline': False}, {'uid': 'ANMA0000028278', 'name': 'Flitterbird', 'earthAnimal': False, 'earthInsect': False, 'avian': True, 'canine': False, 'feline': False}, {'uid': 'ANMA0000240950', 'name': 'Fowl', 'earthAnimal': False, 'earthInsect': False, 'avian': True, 'canine': False, 'feline': False}, {'uid': 'ANMA0000028292', 'name': 'Goose', 'earthAnimal': True, 'earthInsect': False, 'avian': True, 'canine': False, 'feline': False}, {'uid': 'ANMA0000109389', 'name': 'Great Egret', 'earthAnimal': True, 'earthInsect': False, 'avian': True, 'canine': False, 'feline': False}, {'uid': 'ANMA0000089288', 'name': 'Great Horned Owl', 'earthAnimal': True, 'earthInsect': False, 'avian': True, 'canine': False, 'feline': False}, {'uid': 'ANMA0000031960', 'name': 'Gunji jackdaw', 'earthAnimal': False, 'earthInsect': False, 'avian': True, 'canine': False, 'feline': False}, {'uid': 'ANMA0000031955', 'name': 'Hawk', 'earthAnimal': True, 'earthInsect': False, 'avian': True, 'canine': False, 'feline': False}, {'uid': 'ANMA0000012913', 'name': 'Humanoid bird', 'earthAnimal': False, 'earthInsect': False, 'avian': True, 'canine': False, 'feline': False}, {'uid': 'ANMA0000075740', 'name': 'Joranian ostrich', 'earthAnimal': False, 'earthInsect': False, 'avian': True, 'canine': False, 'feline': False}, {'uid': 'ANMA0000083768', 'name': 'Loon', 'earthAnimal': True, 'earthInsect': False, 'avian': True, 'canine': False, 'feline': False}, {'uid': 'ANMA0000243933', 'name': 'Lovebirds', 'earthAnimal': False, 'earthInsect': False, 'avian': True, 'canine': False, 'feline': False}, {'uid': 'ANMA0000082695', 'name': 'Luhvian quail', 'earthAnimal': False, 'earthInsect': False, 'avian': True, 'canine': False, 'feline': False}, {'uid': 'ANMA0000044245', 'name': 'Macaw', 'earthAnimal': True, 'earthInsect': False, 'avian': True, 'canine': False, 'feline': False}, {'uid': 'ANMA0000012895', 'name': 'Norpin falcon', 'earthAnimal': False, 'earthInsect': False, 'avian': True, 'canine': False, 'feline': False}, {'uid': 'ANMA0000078336', 'name': 'Parrot', 'earthAnimal': True, 'earthInsect': False, 'avian': True, 'canine': False, 'feline': False}, {'uid': 'ANMA0000041332', 'name': 'Passenger pigeon', 'earthAnimal': True, 'earthInsect': False, 'avian': True, 'canine': False, 'feline': False}, {'uid': 'ANMA0000101497', 'name': 'Peacock', 'earthAnimal': True, 'earthInsect': False, 'avian': True, 'canine': False, 'feline': False}, {'uid': 'ANMA0000080768', 'name': 'Pigeon', 'earthAnimal': True, 'earthInsect': False, 'avian': True, 'canine': False, 'feline': False}, {'uid': 'ANMA0000031953', 'name': 'Pyrithian moon hawk', 'earthAnimal': False, 'earthInsect': False, 'avian': True, 'canine': False, 'feline': False}, {'uid': 'ANMA0000053355', 'name': 'Quail', 'earthAnimal': True, 'earthInsect': False, 'avian': True, 'canine': False, 'feline': False}, {'uid': 'ANMA0000068707', 'name': 'Raptor', 'earthAnimal': False, 'earthInsect': False, 'avian': True, 'canine': False, 'feline': False}, {'uid': 'ANMA0000031942', 'name': 'Raven', 'earthAnimal': True, 'earthInsect': False, 'avian': True, 'canine': False, 'feline': False}, {'uid': 'ANMA0000042248', 'name': 'Rectilian vulture', 'earthAnimal': False, 'earthInsect': False, 'avian': True, 'canine': False, 'feline': False}, {'uid': 'ANMA0000031951', 'name': 'Reeta-hawk', 'earthAnimal': False, 'earthInsect': False, 'avian': True, 'canine': False, 'feline': False}, {'uid': 'ANMA0000037173', 'name': 'Risian bird', 'earthAnimal': False, 'earthInsect': False, 'avian': True, 'canine': False, 'feline': False}, {'uid': 'ANMA0000036227', 'name': 'Seagull', 'earthAnimal': True, 'earthInsect': False, 'avian': True, 'canine': False, 'feline': False}, {'uid': 'ANMA0000287781', 'name': 'Shrike', 'earthAnimal': True, 'earthInsect': False, 'avian': True, 'canine': False, 'feline': False}, {'uid': 'ANMA0000028706', 'name': 'Skorr', 'earthAnimal': False, 'earthInsect': False, 'avian': True, 'canine': False, 'feline': False}]}\n"
     ]
    }
   ],
   "source": [
    "print(response)"
   ]
  },
  {
   "cell_type": "code",
   "execution_count": 4,
   "metadata": {},
   "outputs": [],
   "source": [
    "criteria = stapi.search_criteria.AnimalSearchCriteria(0, 100, \"\", avian=True)"
   ]
  },
  {
   "cell_type": "code",
   "execution_count": 5,
   "metadata": {},
   "outputs": [
    {
     "name": "stdout",
     "output_type": "stream",
     "text": [
      "{'page': {'pageNumber': 0, 'pageSize': 50, 'numberOfElements': 50, 'totalElements': 62, 'totalPages': 2, 'firstPage': True, 'lastPage': False}, 'sort': {'clauses': []}, 'animals': [{'uid': 'ANMA0000028273', 'name': 'Arbazan vulture', 'earthAnimal': False, 'earthInsect': False, 'avian': True, 'canine': False, 'feline': False}, {'uid': 'ANMA0000022561', 'name': 'Arcturian dog bird', 'earthAnimal': False, 'earthInsect': False, 'avian': True, 'canine': False, 'feline': False}, {'uid': 'ANMA0000039166', 'name': 'Arkarian horn fowl', 'earthAnimal': False, 'earthInsect': False, 'avian': True, 'canine': False, 'feline': False}, {'uid': 'ANMA0000000111', 'name': 'Aurelian', 'earthAnimal': False, 'earthInsect': False, 'avian': True, 'canine': False, 'feline': False}, {'uid': 'ANMA0000086683', 'name': 'Baneriam hawk', 'earthAnimal': False, 'earthInsect': False, 'avian': True, 'canine': False, 'feline': False}, {'uid': 'ANMA0000231825', 'name': 'Betelgeusian', 'earthAnimal': False, 'earthInsect': False, 'avian': True, 'canine': False, 'feline': False}, {'uid': 'ANMA0000044752', 'name': 'Blackbird', 'earthAnimal': True, 'earthInsect': False, 'avian': True, 'canine': False, 'feline': False}, {'uid': 'ANMA0000222207', 'name': 'Borogove', 'earthAnimal': False, 'earthInsect': False, 'avian': True, 'canine': False, 'feline': False}, {'uid': 'ANMA0000229045', 'name': 'Buzzard', 'earthAnimal': True, 'earthInsect': False, 'avian': True, 'canine': False, 'feline': False}, {'uid': 'ANMA0000083765', 'name': 'Canary', 'earthAnimal': True, 'earthInsect': False, 'avian': True, 'canine': False, 'feline': False}, {'uid': 'ANMA0000030561', 'name': 'Chicken', 'earthAnimal': True, 'earthInsect': False, 'avian': True, 'canine': False, 'feline': False}, {'uid': 'ANMA0000101498', 'name': 'Cockatoo', 'earthAnimal': True, 'earthInsect': False, 'avian': True, 'canine': False, 'feline': False}, {'uid': 'ANMA0000206790', 'name': 'Corvidae', 'earthAnimal': False, 'earthInsect': False, 'avian': True, 'canine': False, 'feline': False}, {'uid': 'ANMA0000051211', 'name': 'Crow', 'earthAnimal': True, 'earthInsect': False, 'avian': True, 'canine': False, 'feline': False}, {'uid': 'ANMA0000200109', 'name': 'Cuckoo', 'earthAnimal': True, 'earthInsect': False, 'avian': True, 'canine': False, 'feline': False}, {'uid': 'ANMA0000240595', 'name': 'Cyclops owl', 'earthAnimal': False, 'earthInsect': False, 'avian': True, 'canine': False, 'feline': False}, {'uid': 'ANMA0000254535', 'name': 'Dove', 'earthAnimal': True, 'earthInsect': False, 'avian': True, 'canine': False, 'feline': False}, {'uid': 'ANMA0000031999', 'name': 'Duck', 'earthAnimal': True, 'earthInsect': False, 'avian': True, 'canine': False, 'feline': False}, {'uid': 'ANMA0000079699', 'name': 'Dunghill bird', 'earthAnimal': False, 'earthInsect': False, 'avian': True, 'canine': False, 'feline': False}, {'uid': 'ANMA0000116671', 'name': 'Eagle', 'earthAnimal': True, 'earthInsect': False, 'avian': True, 'canine': False, 'feline': False}, {'uid': 'ANMA0000016802', 'name': 'Eel-bird', 'earthAnimal': False, 'earthInsect': False, 'avian': True, 'canine': False, 'feline': False}, {'uid': 'ANMA0000165880', 'name': 'Finch', 'earthAnimal': True, 'earthInsect': False, 'avian': True, 'canine': False, 'feline': False}, {'uid': 'ANMA0000028278', 'name': 'Flitterbird', 'earthAnimal': False, 'earthInsect': False, 'avian': True, 'canine': False, 'feline': False}, {'uid': 'ANMA0000240950', 'name': 'Fowl', 'earthAnimal': False, 'earthInsect': False, 'avian': True, 'canine': False, 'feline': False}, {'uid': 'ANMA0000028292', 'name': 'Goose', 'earthAnimal': True, 'earthInsect': False, 'avian': True, 'canine': False, 'feline': False}, {'uid': 'ANMA0000109389', 'name': 'Great Egret', 'earthAnimal': True, 'earthInsect': False, 'avian': True, 'canine': False, 'feline': False}, {'uid': 'ANMA0000089288', 'name': 'Great Horned Owl', 'earthAnimal': True, 'earthInsect': False, 'avian': True, 'canine': False, 'feline': False}, {'uid': 'ANMA0000031960', 'name': 'Gunji jackdaw', 'earthAnimal': False, 'earthInsect': False, 'avian': True, 'canine': False, 'feline': False}, {'uid': 'ANMA0000031955', 'name': 'Hawk', 'earthAnimal': True, 'earthInsect': False, 'avian': True, 'canine': False, 'feline': False}, {'uid': 'ANMA0000012913', 'name': 'Humanoid bird', 'earthAnimal': False, 'earthInsect': False, 'avian': True, 'canine': False, 'feline': False}, {'uid': 'ANMA0000075740', 'name': 'Joranian ostrich', 'earthAnimal': False, 'earthInsect': False, 'avian': True, 'canine': False, 'feline': False}, {'uid': 'ANMA0000083768', 'name': 'Loon', 'earthAnimal': True, 'earthInsect': False, 'avian': True, 'canine': False, 'feline': False}, {'uid': 'ANMA0000243933', 'name': 'Lovebirds', 'earthAnimal': False, 'earthInsect': False, 'avian': True, 'canine': False, 'feline': False}, {'uid': 'ANMA0000082695', 'name': 'Luhvian quail', 'earthAnimal': False, 'earthInsect': False, 'avian': True, 'canine': False, 'feline': False}, {'uid': 'ANMA0000044245', 'name': 'Macaw', 'earthAnimal': True, 'earthInsect': False, 'avian': True, 'canine': False, 'feline': False}, {'uid': 'ANMA0000012895', 'name': 'Norpin falcon', 'earthAnimal': False, 'earthInsect': False, 'avian': True, 'canine': False, 'feline': False}, {'uid': 'ANMA0000078336', 'name': 'Parrot', 'earthAnimal': True, 'earthInsect': False, 'avian': True, 'canine': False, 'feline': False}, {'uid': 'ANMA0000041332', 'name': 'Passenger pigeon', 'earthAnimal': True, 'earthInsect': False, 'avian': True, 'canine': False, 'feline': False}, {'uid': 'ANMA0000101497', 'name': 'Peacock', 'earthAnimal': True, 'earthInsect': False, 'avian': True, 'canine': False, 'feline': False}, {'uid': 'ANMA0000080768', 'name': 'Pigeon', 'earthAnimal': True, 'earthInsect': False, 'avian': True, 'canine': False, 'feline': False}, {'uid': 'ANMA0000031953', 'name': 'Pyrithian moon hawk', 'earthAnimal': False, 'earthInsect': False, 'avian': True, 'canine': False, 'feline': False}, {'uid': 'ANMA0000053355', 'name': 'Quail', 'earthAnimal': True, 'earthInsect': False, 'avian': True, 'canine': False, 'feline': False}, {'uid': 'ANMA0000068707', 'name': 'Raptor', 'earthAnimal': False, 'earthInsect': False, 'avian': True, 'canine': False, 'feline': False}, {'uid': 'ANMA0000031942', 'name': 'Raven', 'earthAnimal': True, 'earthInsect': False, 'avian': True, 'canine': False, 'feline': False}, {'uid': 'ANMA0000042248', 'name': 'Rectilian vulture', 'earthAnimal': False, 'earthInsect': False, 'avian': True, 'canine': False, 'feline': False}, {'uid': 'ANMA0000031951', 'name': 'Reeta-hawk', 'earthAnimal': False, 'earthInsect': False, 'avian': True, 'canine': False, 'feline': False}, {'uid': 'ANMA0000037173', 'name': 'Risian bird', 'earthAnimal': False, 'earthInsect': False, 'avian': True, 'canine': False, 'feline': False}, {'uid': 'ANMA0000036227', 'name': 'Seagull', 'earthAnimal': True, 'earthInsect': False, 'avian': True, 'canine': False, 'feline': False}, {'uid': 'ANMA0000287781', 'name': 'Shrike', 'earthAnimal': True, 'earthInsect': False, 'avian': True, 'canine': False, 'feline': False}, {'uid': 'ANMA0000028706', 'name': 'Skorr', 'earthAnimal': False, 'earthInsect': False, 'avian': True, 'canine': False, 'feline': False}]}\n"
     ]
    }
   ],
   "source": [
    "print(response)"
   ]
  },
  {
   "cell_type": "code",
   "execution_count": null,
   "metadata": {},
   "outputs": [],
   "source": []
  }
 ],
 "metadata": {
  "kernelspec": {
   "display_name": "base",
   "language": "python",
   "name": "python3"
  },
  "language_info": {
   "codemirror_mode": {
    "name": "ipython",
    "version": 3
   },
   "file_extension": ".py",
   "mimetype": "text/x-python",
   "name": "python",
   "nbconvert_exporter": "python",
   "pygments_lexer": "ipython3",
   "version": "3.10.9"
  },
  "orig_nbformat": 4
 },
 "nbformat": 4,
 "nbformat_minor": 2
}
